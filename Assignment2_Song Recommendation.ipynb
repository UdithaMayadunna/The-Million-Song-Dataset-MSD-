{
 "cells": [
  {
   "cell_type": "code",
   "execution_count": 1,
   "metadata": {},
   "outputs": [
    {
     "data": {
      "text/html": [
       "<style>pre { white-space: pre !important; }table.dataframe td { white-space: nowrap !important; }table.dataframe thead th:first-child, table.dataframe tbody th { display: none; }</style>"
      ],
      "text/plain": [
       "<IPython.core.display.HTML object>"
      ]
     },
     "metadata": {},
     "output_type": "display_data"
    }
   ],
   "source": [
    "# Run this cell to import pyspark and to define start_spark() and stop_spark()\n",
    "\n",
    "import findspark\n",
    "\n",
    "findspark.init()\n",
    "\n",
    "import getpass\n",
    "import pandas\n",
    "import pyspark\n",
    "import random\n",
    "import re\n",
    "\n",
    "from IPython.display import display, HTML\n",
    "from pyspark import SparkContext\n",
    "from pyspark.sql import SparkSession\n",
    "\n",
    "\n",
    "# Functions used below\n",
    "\n",
    "def username():\n",
    "    \"\"\"Get username with any domain information removed.\n",
    "    \"\"\"\n",
    "\n",
    "    return re.sub('@.*', '', getpass.getuser())\n",
    "\n",
    "\n",
    "def dict_to_html(d):\n",
    "    \"\"\"Convert a Python dictionary into a two column table for display.\n",
    "    \"\"\"\n",
    "\n",
    "    html = []\n",
    "\n",
    "    html.append(f'<table width=\"100%\" style=\"width:100%; font-family: monospace;\">')\n",
    "    for k, v in d.items():\n",
    "        html.append(f'<tr><td style=\"text-align:left;\">{k}</td><td>{v}</td></tr>')\n",
    "    html.append(f'</table>')\n",
    "\n",
    "    return ''.join(html)\n",
    "\n",
    "\n",
    "def show_as_html(df, n=20):\n",
    "    \"\"\"Leverage existing pandas jupyter integration to show a spark dataframe as html.\n",
    "    \n",
    "    Args:\n",
    "        n (int): number of rows to show (default: 20)\n",
    "    \"\"\"\n",
    "\n",
    "    display(df.limit(n).toPandas())\n",
    "\n",
    "    \n",
    "def display_spark():\n",
    "    \"\"\"Display the status of the active Spark session if one is currently running.\n",
    "    \"\"\"\n",
    "    \n",
    "    if 'spark' in globals() and 'sc' in globals():\n",
    "\n",
    "        name = sc.getConf().get(\"spark.app.name\")\n",
    "        \n",
    "        html = [\n",
    "            f'<p><b>Spark</b></p>',\n",
    "            f'<p>The spark session is <b><span style=\"color:green\">active</span></b>, look for <code>{name}</code> under the running applications section in the Spark UI.</p>',\n",
    "            f'<ul>',\n",
    "            f'<li><a href=\"http://mathmadslinux2p.canterbury.ac.nz:8080/\" target=\"_blank\">Spark UI</a></li>',\n",
    "            f'<li><a href=\"{sc.uiWebUrl}\" target=\"_blank\">Spark Application UI</a></li>',\n",
    "            f'</ul>',\n",
    "            f'<p><b>Config</b></p>',\n",
    "            dict_to_html(dict(sc.getConf().getAll())),\n",
    "            f'<p><b>Notes</b></p>',\n",
    "            f'<ul>',\n",
    "            f'<li>The spark session <code>spark</code> and spark context <code>sc</code> global variables have been defined by <code>start_spark()</code>.</li>',\n",
    "            f'<li>Please run <code>stop_spark()</code> before closing the notebook or restarting the kernel or kill <code>{name}</code> by hand using the link in the Spark UI.</li>',\n",
    "            f'</ul>',\n",
    "        ]\n",
    "        display(HTML(''.join(html)))\n",
    "        \n",
    "    else:\n",
    "        \n",
    "        html = [\n",
    "            f'<p><b>Spark</b></p>',\n",
    "            f'<p>The spark session is <b><span style=\"color:red\">stopped</span></b>, confirm that <code>{username() + \" (jupyter)\"}</code> is under the completed applications section in the Spark UI.</p>',\n",
    "            f'<ul>',\n",
    "            f'<li><a href=\"http://mathmadslinux2p.canterbury.ac.nz:8080/\" target=\"_blank\">Spark UI</a></li>',\n",
    "            f'</ul>',\n",
    "        ]\n",
    "        display(HTML(''.join(html)))\n",
    "\n",
    "\n",
    "# Functions to start and stop spark\n",
    "\n",
    "def start_spark(executor_instances=2, executor_cores=1, worker_memory=1, master_memory=1):\n",
    "    \"\"\"Start a new Spark session and define globals for SparkSession (spark) and SparkContext (sc).\n",
    "    \n",
    "    Args:\n",
    "        executor_instances (int): number of executors (default: 2)\n",
    "        executor_cores (int): number of cores per executor (default: 1)\n",
    "        worker_memory (float): worker memory (default: 1)\n",
    "        master_memory (float): master memory (default: 1)\n",
    "    \"\"\"\n",
    "\n",
    "    global spark\n",
    "    global sc\n",
    "\n",
    "    user = username()\n",
    "    \n",
    "    cores = executor_instances * executor_cores\n",
    "    partitions = cores * 4\n",
    "    port = 4000 + random.randint(1, 999)\n",
    "\n",
    "    spark = (\n",
    "        SparkSession.builder\n",
    "        .master(\"spark://masternode2:7077\")\n",
    "        .config(\"spark.driver.extraJavaOptions\", f\"-Dderby.system.home=/tmp/{user}/spark/\")\n",
    "        .config(\"spark.dynamicAllocation.enabled\", \"false\")\n",
    "        .config(\"spark.executor.instances\", str(executor_instances))\n",
    "        .config(\"spark.executor.cores\", str(executor_cores))\n",
    "        .config(\"spark.cores.max\", str(cores))\n",
    "        .config(\"spark.executor.memory\", f\"{worker_memory}g\")\n",
    "        .config(\"spark.driver.memory\", f\"{master_memory}g\")\n",
    "        .config(\"spark.driver.maxResultSize\", \"0\")\n",
    "        .config(\"spark.sql.shuffle.partitions\", str(partitions))\n",
    "        .config(\"spark.ui.port\", str(port))\n",
    "        .appName(user + \" (jupyter)\")\n",
    "        .getOrCreate()\n",
    "    )\n",
    "    sc = SparkContext.getOrCreate()\n",
    "    \n",
    "    display_spark()\n",
    "\n",
    "    \n",
    "def stop_spark():\n",
    "    \"\"\"Stop the active Spark session and delete globals for SparkSession (spark) and SparkContext (sc).\n",
    "    \"\"\"\n",
    "\n",
    "    global spark\n",
    "    global sc\n",
    "\n",
    "    if 'spark' in globals() and 'sc' in globals():\n",
    "\n",
    "        spark.stop()\n",
    "\n",
    "        del spark\n",
    "        del sc\n",
    "\n",
    "    display_spark()\n",
    "\n",
    "\n",
    "# Make css changes to improve spark output readability\n",
    "\n",
    "html = [\n",
    "    '<style>',\n",
    "    'pre { white-space: pre !important; }',\n",
    "    'table.dataframe td { white-space: nowrap !important; }',\n",
    "    'table.dataframe thead th:first-child, table.dataframe tbody th { display: none; }',\n",
    "    '</style>',\n",
    "]\n",
    "display(HTML(''.join(html)))"
   ]
  },
  {
   "cell_type": "code",
   "execution_count": 2,
   "metadata": {},
   "outputs": [
    {
     "data": {
      "text/html": [
       "<p><b>Spark</b></p><p>The spark session is <b><span style=\"color:green\">active</span></b>, look for <code>uwi14 (jupyter)</code> under the running applications section in the Spark UI.</p><ul><li><a href=\"http://mathmadslinux2p.canterbury.ac.nz:8080/\" target=\"_blank\">Spark UI</a></li><li><a href=\"http://mathmadslinux2p.canterbury.ac.nz:4931\" target=\"_blank\">Spark Application UI</a></li></ul><p><b>Config</b></p><table width=\"100%\" style=\"width:100%; font-family: monospace;\"><tr><td style=\"text-align:left;\">spark.dynamicAllocation.enabled</td><td>false</td></tr><tr><td style=\"text-align:left;\">spark.executor.instances</td><td>4</td></tr><tr><td style=\"text-align:left;\">spark.sql.warehouse.dir</td><td>file:/users/home/uwi14/Uditha/Assignment2/spark-warehouse</td></tr><tr><td style=\"text-align:left;\">spark.driver.memory</td><td>4g</td></tr><tr><td style=\"text-align:left;\">spark.executor.memory</td><td>4g</td></tr><tr><td style=\"text-align:left;\">spark.master</td><td>spark://masternode2:7077</td></tr><tr><td style=\"text-align:left;\">spark.executor.id</td><td>driver</td></tr><tr><td style=\"text-align:left;\">spark.executor.cores</td><td>2</td></tr><tr><td style=\"text-align:left;\">spark.driver.host</td><td>mathmadslinux2p.canterbury.ac.nz</td></tr><tr><td style=\"text-align:left;\">spark.sql.shuffle.partitions</td><td>32</td></tr><tr><td style=\"text-align:left;\">spark.app.startTime</td><td>1717461093155</td></tr><tr><td style=\"text-align:left;\">spark.app.id</td><td>app-20240604123134-0883</td></tr><tr><td style=\"text-align:left;\">spark.driver.port</td><td>41861</td></tr><tr><td style=\"text-align:left;\">spark.app.name</td><td>uwi14 (jupyter)</td></tr><tr><td style=\"text-align:left;\">spark.rdd.compress</td><td>True</td></tr><tr><td style=\"text-align:left;\">spark.serializer.objectStreamReset</td><td>100</td></tr><tr><td style=\"text-align:left;\">spark.driver.maxResultSize</td><td>0</td></tr><tr><td style=\"text-align:left;\">spark.cores.max</td><td>8</td></tr><tr><td style=\"text-align:left;\">spark.submit.pyFiles</td><td></td></tr><tr><td style=\"text-align:left;\">spark.submit.deployMode</td><td>client</td></tr><tr><td style=\"text-align:left;\">spark.ui.port</td><td>4931</td></tr><tr><td style=\"text-align:left;\">spark.ui.showConsoleProgress</td><td>true</td></tr><tr><td style=\"text-align:left;\">spark.driver.extraJavaOptions</td><td>-Dderby.system.home=/tmp/uwi14/spark/</td></tr></table><p><b>Notes</b></p><ul><li>The spark session <code>spark</code> and spark context <code>sc</code> global variables have been defined by <code>start_spark()</code>.</li><li>Please run <code>stop_spark()</code> before closing the notebook or restarting the kernel or kill <code>uwi14 (jupyter)</code> by hand using the link in the Spark UI.</li></ul>"
      ],
      "text/plain": [
       "<IPython.core.display.HTML object>"
      ]
     },
     "metadata": {},
     "output_type": "display_data"
    }
   ],
   "source": [
    "# Run this cell to start a spark session in this notebook\n",
    "\n",
    "start_spark(executor_instances=4, executor_cores=2, worker_memory=4, master_memory=4)"
   ]
  },
  {
   "cell_type": "code",
   "execution_count": 3,
   "metadata": {},
   "outputs": [],
   "source": [
    "# Helper functions\n",
    "\n",
    "def print_class_balance(data, name):\n",
    "    \"\"\"\n",
    "    \"\"\"\n",
    "\n",
    "    total = data.count()\n",
    "    counts = data.groupBy(\"label\").count().toPandas()\n",
    "    counts[\"ratio\"] = counts[\"count\"] / total\n",
    "\n",
    "    print(f'dataset: {name}')\n",
    "    print(f'total:   {total}')\n",
    "    print(f'counts:')\n",
    "    print(counts)\n",
    "    print(f'')\n",
    "\n",
    "    \n",
    "def with_custom_prediction(pred, threshold, probabilityCol=\"probability\", customPredictionCol=\"customPrediction\"):\n",
    "    \"\"\"\n",
    "    \"\"\"\n",
    "\n",
    "    apply_custom_threshold_udf = F.udf(lambda x: int(x[1] > threshold), IntegerType())\n",
    "\n",
    "    return pred.withColumn(customPredictionCol, apply_custom_threshold_udf(F.col(probabilityCol)))\n",
    "\n",
    "\n",
    "def print_metrics(pred, threshold=0.5, labelCol=\"label\", predictionCol=\"prediction\", rawPredictionCol=\"rawPrediction\", probabilityCol=\"probability\"):\n",
    "    \"\"\"\n",
    "    \"\"\"\n",
    "\n",
    "    if threshold != 0.5:\n",
    "\n",
    "        predictionCol = \"customPrediction\"\n",
    "        pred = with_custom_prediction(pred, threshold, probabilityCol=probabilityCol, customPredictionCol=predictionCol)\n",
    "\n",
    "    total = pred.count()\n",
    "\n",
    "    nP_actual = pred.filter((F.col(labelCol) == 1)).count()\n",
    "    nN_actual = pred.filter((F.col(labelCol) == 0)).count()\n",
    "\n",
    "    nP = pred.filter((F.col(predictionCol) == 1)).count()\n",
    "    nN = pred.filter((F.col(predictionCol) == 0)).count()\n",
    "    TP = pred.filter((F.col(predictionCol) == 1) & (F.col(labelCol) == 1)).count()\n",
    "    FP = pred.filter((F.col(predictionCol) == 1) & (F.col(labelCol) == 0)).count()\n",
    "    FN = pred.filter((F.col(predictionCol) == 0) & (F.col(labelCol) == 1)).count()\n",
    "    TN = pred.filter((F.col(predictionCol) == 0) & (F.col(labelCol) == 0)).count()\n",
    "\n",
    "    if TP + FP > 0:\n",
    "        precision = TP / (TP + FP)\n",
    "    else:\n",
    "        precision = 0\n",
    "        \n",
    "    recall = TP / (TP + FN)\n",
    "    accuracy = (TP + TN) / total\n",
    "\n",
    "    binary_evaluator = BinaryClassificationEvaluator(rawPredictionCol=rawPredictionCol, labelCol=labelCol, metricName='areaUnderROC')\n",
    "    auroc = binary_evaluator.evaluate(pred)\n",
    "\n",
    "    print(f'metrics for custom threshold')\n",
    "    print(f'')\n",
    "    print(f'threshold: {threshold}')\n",
    "    print(f'')\n",
    "    print(f'total:     {total}')\n",
    "    print(f'')\n",
    "    print(f'nP actual: {nP_actual}')\n",
    "    print(f'nN actual: {nN_actual}')\n",
    "    print(f'')\n",
    "    print(f'nP:        {nP}')\n",
    "    print(f'nN:        {nN}')\n",
    "    print(f'')\n",
    "    print(f'TP         {TP}')\n",
    "    print(f'FP         {FP}')\n",
    "    print(f'FN         {FN}')\n",
    "    print(f'TN         {TN}')\n",
    "    print(f'')\n",
    "    print(f'precision: {precision:.8f}')\n",
    "    print(f'recall:    {recall:.8f}')\n",
    "    print(f'accuracy:  {accuracy:.8f}')\n",
    "    print(f'')\n",
    "    print(f'auroc:     {auroc:.8f}')\n",
    "    print(f'')"
   ]
  },
  {
   "cell_type": "code",
   "execution_count": 53,
   "metadata": {},
   "outputs": [],
   "source": [
    "# Write your imports and code here or insert cells below\n",
    "\n",
    "from pyspark.sql import functions as F\n",
    "from pyspark.sql.types import *\n",
    "from pyspark.ml.feature import VectorAssembler\n",
    "from pyspark.ml.stat import Correlation\n",
    "import matplotlib.pyplot as plt\n",
    "import numpy as np\n",
    "from pyspark.sql.window import Window\n",
    "from pyspark.sql import Row, DataFrame, Window, functions as F\n",
    "from pyspark.sql.types import *\n",
    "\n",
    "from pyspark.ml.classification import LogisticRegression\n",
    "from pyspark.ml.evaluation import BinaryClassificationEvaluator\n",
    "from pyspark.ml.feature import VectorAssembler\n",
    "from pyspark.ml.stat import Correlation\n",
    "from pyspark.sql.functions import col, desc, count\n",
    "from pyspark.ml.feature import StringIndexer\n",
    "from pyspark.sql.functions import sum, col\n",
    "from pyspark.sql.window import Window\n",
    "from pyspark.sql.functions import row_number\n",
    "import random\n",
    "from pyspark.sql.functions import sum, col, rand"
   ]
  },
  {
   "cell_type": "code",
   "execution_count": 5,
   "metadata": {},
   "outputs": [],
   "source": [
    "#Other imports to be used locally\n",
    "\n",
    "import datetime\n",
    "\n",
    "import numpy as np\n",
    "import scipy as sp\n",
    "import pandas as pd\n",
    "\n",
    "np.set_printoptions(edgeitems=5, threshold=100, precision=4)"
   ]
  },
  {
   "cell_type": "code",
   "execution_count": 6,
   "metadata": {},
   "outputs": [
    {
     "name": "stdout",
     "output_type": "stream",
     "text": [
      "ideal # partitions = 32\n"
     ]
    }
   ],
   "source": [
    "# Determine ideal number of partitions\n",
    "\n",
    "conf = sc.getConf()\n",
    "\n",
    "N = int(conf.get(\"spark.executor.instances\"))\n",
    "M = int(conf.get(\"spark.executor.cores\"))\n",
    "partitions = 4 * N * M\n",
    "\n",
    "print(f'ideal # partitions = {partitions}')"
   ]
  },
  {
   "cell_type": "markdown",
   "metadata": {},
   "source": [
    "# Song recommendations\n",
    "### In this section you will use the Taste Profile dataset to develop a song recommendation service based on collaborative filtering.\n",
    "### Collaborative filtering describes algorithms that generate songs recommendations for specific users based on the combined user-song play information from all users. These song recommendations are generated by embedding users and songs as numerical vectors in the same vector space, and selecting songs that are similar to the user based on cosine similarity.\n"
   ]
  },
  {
   "cell_type": "markdown",
   "metadata": {},
   "source": [
    "# Q1 \n",
    "### First it will be helpful to know more about the properties of the dataset before you being training\n",
    "### the collaborative filtering model.\n"
   ]
  },
  {
   "cell_type": "code",
   "execution_count": 8,
   "metadata": {},
   "outputs": [
    {
     "name": "stdout",
     "output_type": "stream",
     "text": [
      "\n",
      "\n",
      " The  triplets table has 48373586 rows.\n"
     ]
    },
    {
     "data": {
      "text/html": [
       "<div>\n",
       "<style scoped>\n",
       "    .dataframe tbody tr th:only-of-type {\n",
       "        vertical-align: middle;\n",
       "    }\n",
       "\n",
       "    .dataframe tbody tr th {\n",
       "        vertical-align: top;\n",
       "    }\n",
       "\n",
       "    .dataframe thead th {\n",
       "        text-align: right;\n",
       "    }\n",
       "</style>\n",
       "<table border=\"1\" class=\"dataframe\">\n",
       "  <thead>\n",
       "    <tr style=\"text-align: right;\">\n",
       "      <th></th>\n",
       "      <th>user_id</th>\n",
       "      <th>song_id</th>\n",
       "      <th>play_count</th>\n",
       "    </tr>\n",
       "  </thead>\n",
       "  <tbody>\n",
       "    <tr>\n",
       "      <th>0</th>\n",
       "      <td>ae4d21862db75b3cdbd9b400bbba647fc7e32a18</td>\n",
       "      <td>SOOCMIB12A8C13E465</td>\n",
       "      <td>5</td>\n",
       "    </tr>\n",
       "    <tr>\n",
       "      <th>1</th>\n",
       "      <td>bc2066eda369e411b0a64255874bc38dbb30aa8e</td>\n",
       "      <td>SOOXDVF12A6D4FB4AD</td>\n",
       "      <td>1</td>\n",
       "    </tr>\n",
       "    <tr>\n",
       "      <th>2</th>\n",
       "      <td>2bf302479a335436d97c248cb00019d0cceae93b</td>\n",
       "      <td>SOFBOXR12A6310F0FC</td>\n",
       "      <td>3</td>\n",
       "    </tr>\n",
       "    <tr>\n",
       "      <th>3</th>\n",
       "      <td>ba30b82fb562ac0ea0f4afaba54329d4af751af3</td>\n",
       "      <td>SOPIBLV12A8C136C2A</td>\n",
       "      <td>6</td>\n",
       "    </tr>\n",
       "    <tr>\n",
       "      <th>4</th>\n",
       "      <td>80779cf1be0cf7ea2adeaa6b92572a460ab7b853</td>\n",
       "      <td>SOQCIQX12A8C13B272</td>\n",
       "      <td>2</td>\n",
       "    </tr>\n",
       "  </tbody>\n",
       "</table>\n",
       "</div>"
      ],
      "text/plain": [
       "                                    user_id             song_id  play_count\n",
       "0  ae4d21862db75b3cdbd9b400bbba647fc7e32a18  SOOCMIB12A8C13E465           5\n",
       "1  bc2066eda369e411b0a64255874bc38dbb30aa8e  SOOXDVF12A6D4FB4AD           1\n",
       "2  2bf302479a335436d97c248cb00019d0cceae93b  SOFBOXR12A6310F0FC           3\n",
       "3  ba30b82fb562ac0ea0f4afaba54329d4af751af3  SOPIBLV12A8C136C2A           6\n",
       "4  80779cf1be0cf7ea2adeaa6b92572a460ab7b853  SOQCIQX12A8C13B272           2"
      ]
     },
     "metadata": {},
     "output_type": "display_data"
    }
   ],
   "source": [
    "#firstly, load the taste profile dataset\n",
    "schema_triplets = StructType([\n",
    "    StructField(\"user_id\", StringType(), True),\n",
    "    StructField(\"song_id\",StringType(), True),\n",
    "    StructField(\"play_count\", IntegerType(), True)\n",
    "])\n",
    "\n",
    "# Load triplets data from HDFS\n",
    "triplets_new = spark.read.csv(\"/data/msd/tasteprofile/triplets.tsv/\", sep = '\\t', schema = schema_triplets).repartition(partitions)\n",
    "triplets_new.cache()\n",
    "\n",
    "print('\\n')\n",
    "print(f' The  triplets table has {triplets_new.count()} rows.')\n",
    "show_as_html(triplets_new, 5 )"
   ]
  },
  {
   "cell_type": "code",
   "execution_count": 9,
   "metadata": {},
   "outputs": [
    {
     "name": "stdout",
     "output_type": "stream",
     "text": [
      "There are 384546 unique songs.\n",
      "There are 1019318 unique users.\n"
     ]
    }
   ],
   "source": [
    "num_song_unique = triplets_new.select(F.col('song_id')).distinct().count()\n",
    "num_user_unique = triplets_new.select(F.col('user_id')).distinct().count()\n",
    "\n",
    "print(f'There are {num_song_unique} unique songs.')\n",
    "print(f'There are {num_user_unique} unique users.')"
   ]
  },
  {
   "cell_type": "markdown",
   "metadata": {},
   "source": [
    "# (c) \n",
    "### How many different songs has the most active user played?\n",
    "### What is this as a percentage of the total number of unique songs in the dataset?"
   ]
  },
  {
   "cell_type": "code",
   "execution_count": 10,
   "metadata": {},
   "outputs": [
    {
     "name": "stdout",
     "output_type": "stream",
     "text": [
      "+--------------------+----------------+\n",
      "|             user_id|total_play_count|\n",
      "+--------------------+----------------+\n",
      "|093cb74eb3c517c51...|           13132|\n",
      "|119b7c88d58d0c6eb...|            9884|\n",
      "|3fa44653315697f42...|            8210|\n",
      "|a2679496cd0af9779...|            7015|\n",
      "|d7d2d888ae04d16e9...|            6494|\n",
      "|4ae01afa8f2430ea0...|            6472|\n",
      "|b7c24f770be6b8028...|            6150|\n",
      "|113255a012b2affea...|            5656|\n",
      "|6d625c6557df84b60...|            5620|\n",
      "|99ac3d883681e21ea...|            5602|\n",
      "|281deab3afccc9062...|            5579|\n",
      "|3325fe1d8da7b13dd...|            5465|\n",
      "|6b36f65d2eb5579a8...|            5381|\n",
      "|c1255748c06ee3f64...|            5288|\n",
      "|ec6dfcf19485cb011...|            5260|\n",
      "|18c1dd917693fd929...|            5073|\n",
      "|3b93435988354b188...|            4840|\n",
      "|6a58f480d522814c0...|            4764|\n",
      "|4be305e02f4e72dad...|            4580|\n",
      "|4e73d9e058d2b1f2d...|            4494|\n",
      "+--------------------+----------------+\n",
      "only showing top 20 rows\n",
      "\n"
     ]
    }
   ],
   "source": [
    "# most active user\n",
    "most_active_users = triplets_new.groupBy(\"user_id\").sum(\"play_count\").withColumnRenamed(\"sum(play_count)\", \"total_play_count\").orderBy(desc(\"total_play_count\"))\n",
    "most_active_users.show()"
   ]
  },
  {
   "cell_type": "code",
   "execution_count": 11,
   "metadata": {},
   "outputs": [
    {
     "name": "stdout",
     "output_type": "stream",
     "text": [
      "The most active user is 093cb74eb3c517c5179ae24caf0ebec51b24d2a2 with a play count of 13132.\n"
     ]
    }
   ],
   "source": [
    "most_active_user = most_active_users.first()\n",
    "print(f\"The most active user is {most_active_user['user_id']} with a play count of {most_active_user['total_play_count']}.\")"
   ]
  },
  {
   "cell_type": "code",
   "execution_count": 12,
   "metadata": {},
   "outputs": [
    {
     "name": "stdout",
     "output_type": "stream",
     "text": [
      "+--------------------+------------------+----------+\n",
      "|             user_id|           song_id|play_count|\n",
      "+--------------------+------------------+----------+\n",
      "|093cb74eb3c517c51...|SOPIIMZ12AB018B957|        30|\n",
      "|093cb74eb3c517c51...|SOUNZHU12A8AE47481|         8|\n",
      "|093cb74eb3c517c51...|SOMYFIR12A8C13801C|         2|\n",
      "|093cb74eb3c517c51...|SOEKNMO12AF72A1918|        25|\n",
      "|093cb74eb3c517c51...|SOAQMNM12AB0188D7A|         1|\n",
      "|093cb74eb3c517c51...|SOKRAMY12A8C140804|         2|\n",
      "|093cb74eb3c517c51...|SOCGALN12A8C142C98|         2|\n",
      "|093cb74eb3c517c51...|SOXFSTR12A8AE463B0|         3|\n",
      "|093cb74eb3c517c51...|SOBFSES12A8C140597|         2|\n",
      "|093cb74eb3c517c51...|SODBJOM12A8C1426B9|        22|\n",
      "|093cb74eb3c517c51...|SOOHOAE12AF729D88B|       152|\n",
      "|093cb74eb3c517c51...|SODNMQU12AAA15FB31|         3|\n",
      "|093cb74eb3c517c51...|SONPZTQ12A8C13865E|        32|\n",
      "|093cb74eb3c517c51...|SONMVKD12A6D4F6D10|        16|\n",
      "|093cb74eb3c517c51...|SODTHYD12A6D4F9A12|       158|\n",
      "|093cb74eb3c517c51...|SOLPAOF12A8C13698E|        25|\n",
      "|093cb74eb3c517c51...|SOJLEJI12AB0181E92|        20|\n",
      "|093cb74eb3c517c51...|SOQDJPZ12AB017A896|         1|\n",
      "|093cb74eb3c517c51...|SOTBPPB12A8C141C3B|        10|\n",
      "|093cb74eb3c517c51...|SOJEYPO12AAA8C6B0E|         3|\n",
      "+--------------------+------------------+----------+\n",
      "only showing top 20 rows\n",
      "\n"
     ]
    }
   ],
   "source": [
    "most_active_user_id = \"093cb74eb3c517c5179ae24caf0ebec51b24d2a2\"\n",
    "most_active_user_df = triplets_new.filter(col(\"user_id\") == most_active_user_id)\n",
    "\n",
    "# Show the filtered DataFrame\n",
    "most_active_user_df.show()"
   ]
  },
  {
   "cell_type": "code",
   "execution_count": 13,
   "metadata": {},
   "outputs": [
    {
     "name": "stdout",
     "output_type": "stream",
     "text": [
      "The number of unique songs for user ID 093cb74eb3c517c5179ae24caf0ebec51b24d2a2 is 202.\n"
     ]
    }
   ],
   "source": [
    "most_active_user_unique_songs_count = most_active_user_df.select(\"song_id\").distinct().count()\n",
    "\n",
    "# Show the result\n",
    "print(f\"The number of unique songs for user ID {most_active_user_id} is {most_active_user_unique_songs_count}.\")"
   ]
  },
  {
   "cell_type": "code",
   "execution_count": 14,
   "metadata": {},
   "outputs": [
    {
     "name": "stdout",
     "output_type": "stream",
     "text": [
      "This is as a 0.053% percent of the total number of unique songs.\n"
     ]
    }
   ],
   "source": [
    "percentage = (most_active_user_unique_songs_count/num_song_unique) * 100\n",
    "print(f'This is as a {percentage:.3f}% percent of the total number of unique songs.')\n"
   ]
  },
  {
   "cell_type": "markdown",
   "metadata": {},
   "source": [
    "## (d) Visualize the distribution of song popularity and the distribution of user activity by collecting\n",
    "### the counts of user plays per song and the counts of song plays per user respectively, and\n",
    "### describe the shape of the distributions."
   ]
  },
  {
   "cell_type": "code",
   "execution_count": 15,
   "metadata": {},
   "outputs": [
    {
     "name": "stdout",
     "output_type": "stream",
     "text": [
      "+------------------+--------------+\n",
      "|           song_id|users_per_song|\n",
      "+------------------+--------------+\n",
      "|SOFRQTD12A81C233C0|        110479|\n",
      "|SOAUWYT12A81C206F1|         90476|\n",
      "|SOAXGDH12A8C13F8A1|         90444|\n",
      "|SOBONKR12A58A7A7E0|         84000|\n",
      "|SOSXLTC12AF72A7F54|         80656|\n",
      "|SONYKOW12AB01849C9|         78353|\n",
      "|SOEGIYH12A6D4FC0E3|         69487|\n",
      "|SOLFXKT12AB017E3E0|         64229|\n",
      "|SODJWHY12A8C142CCE|         63809|\n",
      "|SOFLJQZ12A6D4FADA6|         58610|\n",
      "|SOUSMXX12AB0185C24|         53260|\n",
      "|SOWCKVR12A8C142411|         52080|\n",
      "|SOUVTSM12AC468F6A7|         51022|\n",
      "|SOTWNDJ12A8C143984|         47011|\n",
      "|SOPUCYA12A8C13A694|         46078|\n",
      "|SOHTKMO12AB01843B0|         46077|\n",
      "|SOKLRPJ12A8C13C3FE|         45495|\n",
      "|SOCVTLJ12A6310F0FD|         42535|\n",
      "|SOPPROJ12AB0184E18|         41811|\n",
      "|SOBOUPA12A6D4F81F1|         41093|\n",
      "+------------------+--------------+\n",
      "only showing top 20 rows\n",
      "\n"
     ]
    }
   ],
   "source": [
    "# Compute song popularity distribution (counts of user plays per song)\n",
    "song_popularity_df = triplets_new.groupBy(\"song_id\").agg(count(\"user_id\").alias(\"users_per_song\")).orderBy(desc(\"users_per_song\"))\n",
    "song_popularity_df.show()"
   ]
  },
  {
   "cell_type": "markdown",
   "metadata": {},
   "source": [
    "## Number of Users per song"
   ]
  },
  {
   "cell_type": "code",
   "execution_count": 16,
   "metadata": {},
   "outputs": [],
   "source": [
    "song_popularity_pd = song_popularity_df.toPandas()\n"
   ]
  },
  {
   "cell_type": "code",
   "execution_count": 17,
   "metadata": {},
   "outputs": [
    {
     "data": {
      "text/html": [
       "<div>\n",
       "<style scoped>\n",
       "    .dataframe tbody tr th:only-of-type {\n",
       "        vertical-align: middle;\n",
       "    }\n",
       "\n",
       "    .dataframe tbody tr th {\n",
       "        vertical-align: top;\n",
       "    }\n",
       "\n",
       "    .dataframe thead th {\n",
       "        text-align: right;\n",
       "    }\n",
       "</style>\n",
       "<table border=\"1\" class=\"dataframe\">\n",
       "  <thead>\n",
       "    <tr style=\"text-align: right;\">\n",
       "      <th></th>\n",
       "      <th>song_id</th>\n",
       "      <th>users_per_song</th>\n",
       "    </tr>\n",
       "  </thead>\n",
       "  <tbody>\n",
       "    <tr>\n",
       "      <th>0</th>\n",
       "      <td>SOFRQTD12A81C233C0</td>\n",
       "      <td>110479</td>\n",
       "    </tr>\n",
       "    <tr>\n",
       "      <th>1</th>\n",
       "      <td>SOAUWYT12A81C206F1</td>\n",
       "      <td>90476</td>\n",
       "    </tr>\n",
       "    <tr>\n",
       "      <th>2</th>\n",
       "      <td>SOAXGDH12A8C13F8A1</td>\n",
       "      <td>90444</td>\n",
       "    </tr>\n",
       "    <tr>\n",
       "      <th>3</th>\n",
       "      <td>SOBONKR12A58A7A7E0</td>\n",
       "      <td>84000</td>\n",
       "    </tr>\n",
       "    <tr>\n",
       "      <th>4</th>\n",
       "      <td>SOSXLTC12AF72A7F54</td>\n",
       "      <td>80656</td>\n",
       "    </tr>\n",
       "  </tbody>\n",
       "</table>\n",
       "</div>"
      ],
      "text/plain": [
       "              song_id  users_per_song\n",
       "0  SOFRQTD12A81C233C0          110479\n",
       "1  SOAUWYT12A81C206F1           90476\n",
       "2  SOAXGDH12A8C13F8A1           90444\n",
       "3  SOBONKR12A58A7A7E0           84000\n",
       "4  SOSXLTC12AF72A7F54           80656"
      ]
     },
     "execution_count": 17,
     "metadata": {},
     "output_type": "execute_result"
    }
   ],
   "source": [
    "song_popularity_pd.head(5)"
   ]
  },
  {
   "cell_type": "code",
   "execution_count": 18,
   "metadata": {},
   "outputs": [
    {
     "data": {
      "image/png": "[encoded data removed]",
      "text/plain": [
       "<Figure size 576x360 with 1 Axes>"
      ]
     },
     "metadata": {
      "needs_background": "light"
     },
     "output_type": "display_data"
    }
   ],
   "source": [
    "\n",
    "plt.figure(figsize=(8,5))\n",
    "plt.plot(song_popularity_pd['users_per_song'])\n",
    "plt.title('Distribution of Song Popularity')\n",
    "plt.xlabel('Song(Odered)')\n",
    "plt.ylabel('Number of Users  per Song')\n",
    "plt.show() "
   ]
  },
  {
   "cell_type": "markdown",
   "metadata": {},
   "source": [
    "## Number of Plays per song"
   ]
  },
  {
   "cell_type": "code",
   "execution_count": 19,
   "metadata": {},
   "outputs": [
    {
     "name": "stdout",
     "output_type": "stream",
     "text": [
      "+------------------+--------------------+\n",
      "|           song_id|total_plays_per_song|\n",
      "+------------------+--------------------+\n",
      "|SOBONKR12A58A7A7E0|              726885|\n",
      "|SOAUWYT12A81C206F1|              648239|\n",
      "|SOSXLTC12AF72A7F54|              527893|\n",
      "|SOFRQTD12A81C233C0|              425463|\n",
      "|SOEGIYH12A6D4FC0E3|              389880|\n",
      "|SOAXGDH12A8C13F8A1|              356533|\n",
      "|SONYKOW12AB01849C9|              292642|\n",
      "|SOPUCYA12A8C13A694|              274627|\n",
      "|SOUFTBI12AB0183F65|              268353|\n",
      "|SOVDSJC12A58A7A271|              244730|\n",
      "|SOOFYTN12A6D4F9B35|              241669|\n",
      "|SOHTKMO12AB01843B0|              236494|\n",
      "|SOBOUPA12A6D4F81F1|              225652|\n",
      "|SODJWHY12A8C142CCE|              209212|\n",
      "|SOLFXKT12AB017E3E0|              197181|\n",
      "|SOTCMDJ12A6D4F8528|              192884|\n",
      "|SOFLJQZ12A6D4FADA6|              185653|\n",
      "|SOTWNDJ12A8C143984|              174080|\n",
      "|SOUNZHU12A8AE47481|              158636|\n",
      "|SOUVTSM12AC468F6A7|              155717|\n",
      "+------------------+--------------------+\n",
      "only showing top 20 rows\n",
      "\n"
     ]
    }
   ],
   "source": [
    "# Compute song popularity distribution (counts of user plays per song)\n",
    "song_play_df = triplets_new.groupBy(\"song_id\").agg(sum(\"play_count\").alias(\"total_plays_per_song\")).orderBy(desc(\"total_plays_per_song\"))\n",
    "song_play_df.show()"
   ]
  },
  {
   "cell_type": "code",
   "execution_count": 20,
   "metadata": {},
   "outputs": [
    {
     "data": {
      "text/html": [
       "<div>\n",
       "<style scoped>\n",
       "    .dataframe tbody tr th:only-of-type {\n",
       "        vertical-align: middle;\n",
       "    }\n",
       "\n",
       "    .dataframe tbody tr th {\n",
       "        vertical-align: top;\n",
       "    }\n",
       "\n",
       "    .dataframe thead th {\n",
       "        text-align: right;\n",
       "    }\n",
       "</style>\n",
       "<table border=\"1\" class=\"dataframe\">\n",
       "  <thead>\n",
       "    <tr style=\"text-align: right;\">\n",
       "      <th></th>\n",
       "      <th>song_id</th>\n",
       "      <th>total_plays_per_song</th>\n",
       "    </tr>\n",
       "  </thead>\n",
       "  <tbody>\n",
       "    <tr>\n",
       "      <th>0</th>\n",
       "      <td>SOBONKR12A58A7A7E0</td>\n",
       "      <td>726885</td>\n",
       "    </tr>\n",
       "    <tr>\n",
       "      <th>1</th>\n",
       "      <td>SOAUWYT12A81C206F1</td>\n",
       "      <td>648239</td>\n",
       "    </tr>\n",
       "    <tr>\n",
       "      <th>2</th>\n",
       "      <td>SOSXLTC12AF72A7F54</td>\n",
       "      <td>527893</td>\n",
       "    </tr>\n",
       "    <tr>\n",
       "      <th>3</th>\n",
       "      <td>SOFRQTD12A81C233C0</td>\n",
       "      <td>425463</td>\n",
       "    </tr>\n",
       "    <tr>\n",
       "      <th>4</th>\n",
       "      <td>SOEGIYH12A6D4FC0E3</td>\n",
       "      <td>389880</td>\n",
       "    </tr>\n",
       "  </tbody>\n",
       "</table>\n",
       "</div>"
      ],
      "text/plain": [
       "              song_id  total_plays_per_song\n",
       "0  SOBONKR12A58A7A7E0                726885\n",
       "1  SOAUWYT12A81C206F1                648239\n",
       "2  SOSXLTC12AF72A7F54                527893\n",
       "3  SOFRQTD12A81C233C0                425463\n",
       "4  SOEGIYH12A6D4FC0E3                389880"
      ]
     },
     "execution_count": 20,
     "metadata": {},
     "output_type": "execute_result"
    }
   ],
   "source": [
    "song_play_pd = song_play_df.toPandas()\n",
    "song_play_pd.head(5)"
   ]
  },
  {
   "cell_type": "code",
   "execution_count": 21,
   "metadata": {},
   "outputs": [
    {
     "data": {
      "image/png": "[encoded data removed]",
      "text/plain": [
       "<Figure size 576x360 with 1 Axes>"
      ]
     },
     "metadata": {
      "needs_background": "light"
     },
     "output_type": "display_data"
    }
   ],
   "source": [
    "plt.figure(figsize=(8,5))\n",
    "plt.plot(song_play_pd['total_plays_per_song'])\n",
    "plt.title('Distribution of Song Popularity')\n",
    "plt.xlabel('Song(Odered)')\n",
    "plt.ylabel('Total Plays per Song')\n",
    "plt.show() "
   ]
  },
  {
   "cell_type": "markdown",
   "metadata": {},
   "source": [
    "## Number of Plays per User"
   ]
  },
  {
   "cell_type": "code",
   "execution_count": 22,
   "metadata": {},
   "outputs": [
    {
     "name": "stdout",
     "output_type": "stream",
     "text": [
      "+--------------------+-------------------+\n",
      "|             user_id|song_plays_per_user|\n",
      "+--------------------+-------------------+\n",
      "|ec6dfcf19485cb011...|               4400|\n",
      "|8cb51abc6bf8ea293...|               1651|\n",
      "|fef771ab021c20018...|               1614|\n",
      "|5a3417a1955d91364...|               1604|\n",
      "|c1255748c06ee3f64...|               1566|\n",
      "|4e73d9e058d2b1f2d...|               1544|\n",
      "|cbc7bddbe3b2f59fd...|               1536|\n",
      "|96f7b4f800cafef33...|               1491|\n",
      "|119b7c88d58d0c6eb...|               1451|\n",
      "|b7c24f770be6b8028...|               1446|\n",
      "|6d625c6557df84b60...|               1398|\n",
      "|33a1286454a3cff06...|               1373|\n",
      "|a05e548059abb1f77...|               1370|\n",
      "|d7d2d888ae04d16e9...|               1319|\n",
      "|7e543508a213f4f22...|               1267|\n",
      "|4e11f45d732f48617...|               1257|\n",
      "|1aa4fd215aadb1609...|               1254|\n",
      "|0c2932cb475b83b61...|               1245|\n",
      "|db6a78c78c9239aba...|               1241|\n",
      "|18765abd13462c176...|               1236|\n",
      "+--------------------+-------------------+\n",
      "only showing top 20 rows\n",
      "\n"
     ]
    }
   ],
   "source": [
    "# Compute user activity distribution (counts of song plays per user)\n",
    "user_activity_df = triplets_new.groupBy(\"user_id\").agg(count(\"song_id\").alias(\"song_plays_per_user\")).orderBy(desc(\"song_plays_per_user\"))\n",
    "user_activity_df.show()"
   ]
  },
  {
   "cell_type": "code",
   "execution_count": 23,
   "metadata": {},
   "outputs": [],
   "source": [
    "user_activity_pd = user_activity_df.toPandas()"
   ]
  },
  {
   "cell_type": "code",
   "execution_count": 24,
   "metadata": {},
   "outputs": [
    {
     "data": {
      "text/html": [
       "<div>\n",
       "<style scoped>\n",
       "    .dataframe tbody tr th:only-of-type {\n",
       "        vertical-align: middle;\n",
       "    }\n",
       "\n",
       "    .dataframe tbody tr th {\n",
       "        vertical-align: top;\n",
       "    }\n",
       "\n",
       "    .dataframe thead th {\n",
       "        text-align: right;\n",
       "    }\n",
       "</style>\n",
       "<table border=\"1\" class=\"dataframe\">\n",
       "  <thead>\n",
       "    <tr style=\"text-align: right;\">\n",
       "      <th></th>\n",
       "      <th>user_id</th>\n",
       "      <th>song_plays_per_user</th>\n",
       "    </tr>\n",
       "  </thead>\n",
       "  <tbody>\n",
       "    <tr>\n",
       "      <th>0</th>\n",
       "      <td>ec6dfcf19485cb011e0b22637075037aae34cf26</td>\n",
       "      <td>4400</td>\n",
       "    </tr>\n",
       "    <tr>\n",
       "      <th>1</th>\n",
       "      <td>8cb51abc6bf8ea29341cb070fe1e1af5e4c3ffcc</td>\n",
       "      <td>1651</td>\n",
       "    </tr>\n",
       "    <tr>\n",
       "      <th>2</th>\n",
       "      <td>fef771ab021c200187a419f5e55311390f850a50</td>\n",
       "      <td>1614</td>\n",
       "    </tr>\n",
       "    <tr>\n",
       "      <th>3</th>\n",
       "      <td>5a3417a1955d9136413e0d293cd36497f5e00238</td>\n",
       "      <td>1604</td>\n",
       "    </tr>\n",
       "    <tr>\n",
       "      <th>4</th>\n",
       "      <td>c1255748c06ee3f6440c51c439446886c7807095</td>\n",
       "      <td>1566</td>\n",
       "    </tr>\n",
       "  </tbody>\n",
       "</table>\n",
       "</div>"
      ],
      "text/plain": [
       "                                    user_id  song_plays_per_user\n",
       "0  ec6dfcf19485cb011e0b22637075037aae34cf26                 4400\n",
       "1  8cb51abc6bf8ea29341cb070fe1e1af5e4c3ffcc                 1651\n",
       "2  fef771ab021c200187a419f5e55311390f850a50                 1614\n",
       "3  5a3417a1955d9136413e0d293cd36497f5e00238                 1604\n",
       "4  c1255748c06ee3f6440c51c439446886c7807095                 1566"
      ]
     },
     "execution_count": 24,
     "metadata": {},
     "output_type": "execute_result"
    }
   ],
   "source": [
    "user_activity_pd.head(5)"
   ]
  },
  {
   "cell_type": "code",
   "execution_count": 25,
   "metadata": {},
   "outputs": [
    {
     "data": {
      "image/png": "[encoded data removed]",
      "text/plain": [
       "<Figure size 576x360 with 1 Axes>"
      ]
     },
     "metadata": {
      "needs_background": "light"
     },
     "output_type": "display_data"
    }
   ],
   "source": [
    "plt.figure(figsize=(8,5))\n",
    "plt.plot(user_activity_pd['song_plays_per_user'])\n",
    "plt.title( \"user activity\")\n",
    "plt.xlabel('users(Ordered)')\n",
    "plt.ylabel('the sum of different songs')\n",
    "plt.show() "
   ]
  },
  {
   "cell_type": "code",
   "execution_count": 26,
   "metadata": {},
   "outputs": [
    {
     "name": "stdout",
     "output_type": "stream",
     "text": [
      "+--------------------+--------------------+\n",
      "|             user_id|total_plays_per_user|\n",
      "+--------------------+--------------------+\n",
      "|093cb74eb3c517c51...|               13132|\n",
      "|119b7c88d58d0c6eb...|                9884|\n",
      "|3fa44653315697f42...|                8210|\n",
      "|a2679496cd0af9779...|                7015|\n",
      "|d7d2d888ae04d16e9...|                6494|\n",
      "|4ae01afa8f2430ea0...|                6472|\n",
      "|b7c24f770be6b8028...|                6150|\n",
      "|113255a012b2affea...|                5656|\n",
      "|6d625c6557df84b60...|                5620|\n",
      "|99ac3d883681e21ea...|                5602|\n",
      "|281deab3afccc9062...|                5579|\n",
      "|3325fe1d8da7b13dd...|                5465|\n",
      "|6b36f65d2eb5579a8...|                5381|\n",
      "|c1255748c06ee3f64...|                5288|\n",
      "|ec6dfcf19485cb011...|                5260|\n",
      "|18c1dd917693fd929...|                5073|\n",
      "|3b93435988354b188...|                4840|\n",
      "|6a58f480d522814c0...|                4764|\n",
      "|4be305e02f4e72dad...|                4580|\n",
      "|4e73d9e058d2b1f2d...|                4494|\n",
      "+--------------------+--------------------+\n",
      "only showing top 20 rows\n",
      "\n"
     ]
    }
   ],
   "source": [
    "user_play_df = triplets_new.groupBy(\"user_id\").agg(sum(\"play_count\").alias(\"total_plays_per_user\")).orderBy(desc(\"total_plays_per_user\"))\n",
    "user_play_df.show()"
   ]
  },
  {
   "cell_type": "code",
   "execution_count": 27,
   "metadata": {},
   "outputs": [
    {
     "data": {
      "text/html": [
       "<div>\n",
       "<style scoped>\n",
       "    .dataframe tbody tr th:only-of-type {\n",
       "        vertical-align: middle;\n",
       "    }\n",
       "\n",
       "    .dataframe tbody tr th {\n",
       "        vertical-align: top;\n",
       "    }\n",
       "\n",
       "    .dataframe thead th {\n",
       "        text-align: right;\n",
       "    }\n",
       "</style>\n",
       "<table border=\"1\" class=\"dataframe\">\n",
       "  <thead>\n",
       "    <tr style=\"text-align: right;\">\n",
       "      <th></th>\n",
       "      <th>user_id</th>\n",
       "      <th>total_plays_per_user</th>\n",
       "    </tr>\n",
       "  </thead>\n",
       "  <tbody>\n",
       "    <tr>\n",
       "      <th>0</th>\n",
       "      <td>093cb74eb3c517c5179ae24caf0ebec51b24d2a2</td>\n",
       "      <td>13132</td>\n",
       "    </tr>\n",
       "    <tr>\n",
       "      <th>1</th>\n",
       "      <td>119b7c88d58d0c6eb051365c103da5caf817bea6</td>\n",
       "      <td>9884</td>\n",
       "    </tr>\n",
       "    <tr>\n",
       "      <th>2</th>\n",
       "      <td>3fa44653315697f42410a30cb766a4eb102080bb</td>\n",
       "      <td>8210</td>\n",
       "    </tr>\n",
       "    <tr>\n",
       "      <th>3</th>\n",
       "      <td>a2679496cd0af9779a92a13ff7c6af5c81ea8c7b</td>\n",
       "      <td>7015</td>\n",
       "    </tr>\n",
       "    <tr>\n",
       "      <th>4</th>\n",
       "      <td>d7d2d888ae04d16e994d6964214a1de81392ee04</td>\n",
       "      <td>6494</td>\n",
       "    </tr>\n",
       "  </tbody>\n",
       "</table>\n",
       "</div>"
      ],
      "text/plain": [
       "                                    user_id  total_plays_per_user\n",
       "0  093cb74eb3c517c5179ae24caf0ebec51b24d2a2                 13132\n",
       "1  119b7c88d58d0c6eb051365c103da5caf817bea6                  9884\n",
       "2  3fa44653315697f42410a30cb766a4eb102080bb                  8210\n",
       "3  a2679496cd0af9779a92a13ff7c6af5c81ea8c7b                  7015\n",
       "4  d7d2d888ae04d16e994d6964214a1de81392ee04                  6494"
      ]
     },
     "execution_count": 27,
     "metadata": {},
     "output_type": "execute_result"
    }
   ],
   "source": [
    "user_play_pd = user_play_df.toPandas()\n",
    "user_play_pd.head(5)"
   ]
  },
  {
   "cell_type": "code",
   "execution_count": 28,
   "metadata": {},
   "outputs": [
    {
     "data": {
      "image/png": "[encoded data removed]",
      "text/plain": [
       "<Figure size 576x360 with 1 Axes>"
      ]
     },
     "metadata": {
      "needs_background": "light"
     },
     "output_type": "display_data"
    }
   ],
   "source": [
    "plt.figure(figsize=(8,5))\n",
    "plt.plot(user_play_pd['total_plays_per_user'])\n",
    "plt.title( \"user play total\")\n",
    "plt.xlabel('users(Ordered)')\n",
    "plt.ylabel('the sum of different songs plays')\n",
    "plt.show() "
   ]
  },
  {
   "cell_type": "markdown",
   "metadata": {},
   "source": [
    "## Q2 \n",
    "### Next you will train the collaborative filtering model.\n"
   ]
  },
  {
   "cell_type": "markdown",
   "metadata": {},
   "source": [
    "### (a)\n",
    "### Collaborative filtering determines similar users and songs based on their combined play history. Songs which have been played only a few times and users who have only listened to a few songs will not contribute much information and are unlikely to improve the model. Create a clean dataset of user-song plays by removing songs which have been played less than N times and users who have listened to fewer than M songs in total. Choose sensible values for N and M, taking into account the total number of users and songs.\n"
   ]
  },
  {
   "cell_type": "code",
   "execution_count": 29,
   "metadata": {},
   "outputs": [
    {
     "name": "stdout",
     "output_type": "stream",
     "text": [
      "distribution of song popularity\n",
      "       total_plays_per_song\n",
      "count             384546.00\n",
      "mean                 360.63\n",
      "std                 3256.81\n",
      "min                    1.00\n",
      "25%                    8.00\n",
      "50%                   32.00\n",
      "75%                  133.00\n",
      "max               726885.00\n",
      "distribution of user activity\n",
      "       total_plays_per_user\n",
      "count            1019318.00\n",
      "mean                 136.05\n",
      "std                  184.53\n",
      "min                   10.00\n",
      "25%                   34.00\n",
      "50%                   73.00\n",
      "75%                  163.00\n",
      "max                13132.00\n"
     ]
    }
   ],
   "source": [
    "#Firstly, analysis these two distributions\n",
    "print('distribution of song popularity')\n",
    "with pd.option_context('display.float_format', '{:0.2f}'.format):\n",
    "   print(song_play_pd.describe())\n",
    "\n",
    "print('distribution of user activity')\n",
    "with pd.option_context('display.float_format', '{:0.2f}'.format):\n",
    "   print(user_play_pd.describe())"
   ]
  },
  {
   "cell_type": "code",
   "execution_count": 43,
   "metadata": {},
   "outputs": [
    {
     "name": "stdout",
     "output_type": "stream",
     "text": [
      "       total_plays_per_song\n",
      "count              52491.00\n",
      "mean                2295.66\n",
      "std                 8563.55\n",
      "min                  361.00\n",
      "25%                  539.00\n",
      "50%                  892.00\n",
      "75%                 1896.00\n",
      "max               726885.00\n",
      "       total_plays_per_user\n",
      "count             306169.00\n",
      "mean                 325.91\n",
      "std                  243.19\n",
      "min                  137.00\n",
      "25%                  179.00\n",
      "50%                  247.00\n",
      "75%                  380.00\n",
      "max                13132.00\n"
     ]
    }
   ],
   "source": [
    "song_popularity_pd_filtered = song_play_pd[song_play_pd['total_plays_per_song']>360]\n",
    "with pd.option_context('display.float_format', '{:0.2f}'.format):\n",
    "   print(song_popularity_pd_filtered.describe())\n",
    "\n",
    "user_activity_pd_filtered = user_play_pd[user_play_pd['total_plays_per_user']>136]\n",
    "with pd.option_context('display.float_format', '{:0.2f}'.format):\n",
    "   print(user_activity_pd_filtered.describe())"
   ]
  },
  {
   "cell_type": "code",
   "execution_count": 44,
   "metadata": {},
   "outputs": [
    {
     "name": "stdout",
     "output_type": "stream",
     "text": [
      "+------------------+--------------------+---------+\n",
      "|           song_id|total_plays_per_song|song_code|\n",
      "+------------------+--------------------+---------+\n",
      "|SOBONKR12A58A7A7E0|              726885|   3343.0|\n",
      "|SOAUWYT12A81C206F1|              648239|   1746.0|\n",
      "|SOSXLTC12AF72A7F54|              527893|  39094.0|\n",
      "|SOFRQTD12A81C233C0|              425463|  12183.0|\n",
      "|SOEGIYH12A6D4FC0E3|              389880|   9103.0|\n",
      "+------------------+--------------------+---------+\n",
      "only showing top 5 rows\n",
      "\n"
     ]
    }
   ],
   "source": [
    "song_popularity_filtered = spark.createDataFrame(song_popularity_pd_filtered)\n",
    "stringIndexer_songs = StringIndexer(inputCol=\"song_id\", outputCol=\"song_code\", stringOrderType=\"frequencyDesc\")\n",
    "song_fit = stringIndexer_songs.fit(song_popularity_filtered)\n",
    "song_popularity_filtered = song_fit.transform(song_popularity_filtered)\n",
    "\n",
    "song_popularity_filtered.show(5)"
   ]
  },
  {
   "cell_type": "code",
   "execution_count": 45,
   "metadata": {},
   "outputs": [
    {
     "name": "stdout",
     "output_type": "stream",
     "text": [
      "+--------------------+--------------------+---------+\n",
      "|             user_id|total_plays_per_user|user_code|\n",
      "+--------------------+--------------------+---------+\n",
      "|093cb74eb3c517c51...|               13132|  10899.0|\n",
      "|119b7c88d58d0c6eb...|                9884|  20650.0|\n",
      "|3fa44653315697f42...|                8210|  75483.0|\n",
      "|a2679496cd0af9779...|                7015| 193771.0|\n",
      "|d7d2d888ae04d16e9...|                6494| 257786.0|\n",
      "+--------------------+--------------------+---------+\n",
      "only showing top 5 rows\n",
      "\n"
     ]
    }
   ],
   "source": [
    "user_activity_filtered = spark.createDataFrame(user_activity_pd_filtered)\n",
    "stringIndexer_songs = StringIndexer(inputCol=\"user_id\", outputCol=\"user_code\", stringOrderType=\"frequencyDesc\")\n",
    "user_fit = stringIndexer_songs.fit(user_activity_filtered)\n",
    "user_activity_filtered = user_fit.transform(user_activity_filtered)\n",
    "user_activity_filtered.show(5)"
   ]
  },
  {
   "cell_type": "code",
   "execution_count": 46,
   "metadata": {},
   "outputs": [
    {
     "name": "stdout",
     "output_type": "stream",
     "text": [
      "+--------------------+------------------+----------+---------+---------+\n",
      "|             user_id|           song_id|play_count|song_code|user_code|\n",
      "+--------------------+------------------+----------+---------+---------+\n",
      "|0008320d84f011147...|SOBNZTU12AB0188907|         9|   3302.0|     27.0|\n",
      "|0008320d84f011147...|SOXSTRR12AB018DB42|         1|  48287.0|     27.0|\n",
      "|0008320d84f011147...|SOXGMFD12A8C132B83|         5|  47370.0|     27.0|\n",
      "|0008320d84f011147...|SOMTZOO12A58A7BF5F|         2|  26922.0|     27.0|\n",
      "|0008320d84f011147...|SOEZFIG12AF729D52E|         3|  10666.0|     27.0|\n",
      "|0008320d84f011147...|SOISKOP12A6310E2B5|        14|  18557.0|     27.0|\n",
      "|0008320d84f011147...|SOOHRZZ12A8C1334B8|         5|  30100.0|     27.0|\n",
      "|0008320d84f011147...|SOHCWEJ12A8C13EBD9|         1|  15254.0|     27.0|\n",
      "|0008320d84f011147...|SOMQSOC12A8C133BED|         9|  26658.0|     27.0|\n",
      "|0008320d84f011147...|SODWUCN12A6701D259|         5|   8307.0|     27.0|\n",
      "+--------------------+------------------+----------+---------+---------+\n",
      "only showing top 10 rows\n",
      "\n"
     ]
    }
   ],
   "source": [
    "# merge\n",
    "triplets_merge = triplets_new.join(song_popularity_filtered, on='song_id',how='left')\\\n",
    ".filter(F.col('song_code').isNotNull())\\\n",
    ".join(user_activity_filtered, on='user_id',how='left')\\\n",
    ".filter(F.col('user_code').isNotNull())\\\n",
    ".drop( 'total_plays_per_song', 'total_plays_per_user' )\n",
    "triplets_merge.show(10)"
   ]
  },
  {
   "cell_type": "markdown",
   "metadata": {},
   "source": [
    "# (b)"
   ]
  },
  {
   "cell_type": "markdown",
   "metadata": {},
   "source": [
    "### Split the dataset into training and test sets. The test set should contain at least 25% of the plays in total. Note that due to the nature of the collaborative filtering model, you must ensure that every user in the test set has some user-song plays in the training set as well. Explain why this is required and how you have done this while keeping the selection as random as possible."
   ]
  },
  {
   "cell_type": "code",
   "execution_count": 48,
   "metadata": {},
   "outputs": [],
   "source": [
    "# Calculate the total play count\n",
    "total_play_count = triplets_merge.agg(F.sum(\"play_count\")).collect()[0][0]"
   ]
  },
  {
   "cell_type": "code",
   "execution_count": 49,
   "metadata": {},
   "outputs": [
    {
     "data": {
      "text/plain": [
       "21664766.75"
      ]
     },
     "execution_count": 49,
     "metadata": {},
     "output_type": "execute_result"
    }
   ],
   "source": [
    "# Determine the threshold for the test set (25% of total play count)\n",
    "test_play_count_threshold = total_play_count * 0.25\n",
    "test_play_count_threshold"
   ]
  },
  {
   "cell_type": "code",
   "execution_count": 50,
   "metadata": {},
   "outputs": [],
   "source": [
    "# Randomly split the dataset into initial training and test sets (75% train, 25% test)\n",
    "train_df, test_df = triplets_merge.randomSplit([0.75, 0.25], seed=42)"
   ]
  },
  {
   "cell_type": "code",
   "execution_count": 51,
   "metadata": {},
   "outputs": [],
   "source": [
    "# Calculate the play count in the test set\n",
    "test_play_count = test_df.agg(sum(\"play_count\")).collect()[0][0]"
   ]
  },
  {
   "cell_type": "code",
   "execution_count": 52,
   "metadata": {},
   "outputs": [
    {
     "data": {
      "text/plain": [
       "21691543"
      ]
     },
     "execution_count": 52,
     "metadata": {},
     "output_type": "execute_result"
    }
   ],
   "source": [
    "test_play_count"
   ]
  },
  {
   "cell_type": "code",
   "execution_count": 54,
   "metadata": {},
   "outputs": [],
   "source": [
    "columns = [\"user_id\", \"song_id\", \"play_count\", \"song_code\", \"user_code\"]"
   ]
  },
  {
   "cell_type": "code",
   "execution_count": 55,
   "metadata": {},
   "outputs": [],
   "source": [
    "# Adjust the test set if it doesn't meet the play count threshold\n",
    "while test_play_count < test_play_count_threshold:\n",
    "    # Calculate remaining play count needed\n",
    "    remaining_play_count_needed = test_play_count_threshold - test_play_count\n",
    "    \n",
    "    # Take random rows from the training set until the threshold is met\n",
    "    additional_rows = train_df.orderBy(rand()).limit(10000).collect()  \n",
    "    \n",
    "    # Convert additional rows to DataFrame\n",
    "    additional_rows_df = spark.createDataFrame(additional_rows, columns)\n",
    "    \n",
    "    # Add these rows to the test set\n",
    "    test_df = test_df.union(additional_rows_df)\n",
    "    \n",
    "    # Remove these rows from the training set\n",
    "    train_df = train_df.subtract(additional_rows_df)"
   ]
  },
  {
   "cell_type": "code",
   "execution_count": 56,
   "metadata": {},
   "outputs": [
    {
     "name": "stdout",
     "output_type": "stream",
     "text": [
      "Test set actual play count: 21691543\n"
     ]
    }
   ],
   "source": [
    "test_play_count = test_df.agg(sum(\"play_count\")).collect()[0][0]\n",
    "\n",
    "print(f\"Test set actual play count: {test_play_count}\")"
   ]
  },
  {
   "cell_type": "code",
   "execution_count": 57,
   "metadata": {},
   "outputs": [
    {
     "name": "stdout",
     "output_type": "stream",
     "text": [
      "The test set contains 25.03089838250855% of the plays in total.\n"
     ]
    }
   ],
   "source": [
    "test_percentage = (test_play_count /total_play_count) * 100\n",
    "print(f'The test set contains {test_percentage}% of the plays in total.')"
   ]
  },
  {
   "cell_type": "code",
   "execution_count": 83,
   "metadata": {},
   "outputs": [
    {
     "name": "stdout",
     "output_type": "stream",
     "text": [
      "+--------------------+------------------+----------+---------+---------+\n",
      "|             user_id|           song_id|play_count|song_code|user_code|\n",
      "+--------------------+------------------+----------+---------+---------+\n",
      "|0008320d84f011147...|SOBNZTU12AB0188907|       9.0|   3302.0|     27.0|\n",
      "|0008320d84f011147...|SOBPHXV12A6D4F9FD0|       6.0|   3409.0|     27.0|\n",
      "|0008320d84f011147...|SODKKNZ12A8C13E383|       9.0|   7309.0|     27.0|\n",
      "|0008320d84f011147...|SODWUCN12A6701D259|       5.0|   8307.0|     27.0|\n",
      "|0008320d84f011147...|SOEZFIG12AF729D52E|       3.0|  10666.0|     27.0|\n",
      "+--------------------+------------------+----------+---------+---------+\n",
      "only showing top 5 rows\n",
      "\n",
      "+--------------------+------------------+----------+---------+---------+\n",
      "|             user_id|           song_id|play_count|song_code|user_code|\n",
      "+--------------------+------------------+----------+---------+---------+\n",
      "|0008320d84f011147...|SOCDTEX12AB017CA4D|         1|   4627.0|     27.0|\n",
      "|0008320d84f011147...|SOGNXXS12AB0184504|         1|  14050.0|     27.0|\n",
      "|0008320d84f011147...|SOHZPYD12AF72A12E2|         1|  17074.0|     27.0|\n",
      "|0008320d84f011147...|SOISKOP12A6310E2B5|        14|  18557.0|     27.0|\n",
      "|0008320d84f011147...|SOMTZOO12A58A7BF5F|         2|  26922.0|     27.0|\n",
      "+--------------------+------------------+----------+---------+---------+\n",
      "only showing top 5 rows\n",
      "\n"
     ]
    }
   ],
   "source": [
    "# Show the first few rows of each set\n",
    "train_df.show(5)\n",
    "test_df.show(5)"
   ]
  },
  {
   "cell_type": "code",
   "execution_count": 84,
   "metadata": {},
   "outputs": [
    {
     "data": {
      "text/plain": [
       "DataFrame[user_id: string, song_id: string, play_count: int, song_code: double, user_code: double]"
      ]
     },
     "execution_count": 84,
     "metadata": {},
     "output_type": "execute_result"
    }
   ],
   "source": [
    "train_df.cache()\n",
    "test_df.cache()"
   ]
  },
  {
   "cell_type": "code",
   "execution_count": 93,
   "metadata": {},
   "outputs": [
    {
     "name": "stdout",
     "output_type": "stream",
     "text": [
      "+--------------------+------------------+----------+---------+---------+\n",
      "|             user_id|           song_id|play_count|song_code|user_code|\n",
      "+--------------------+------------------+----------+---------+---------+\n",
      "|1ce85c735fc01d061...|SOXOOCT12AF72A1027|         7|  47965.0|  34261.0|\n",
      "|5d8ab97b05db2ed5f...|SOQADZS12A670202F9|         1|  33513.0| 111504.0|\n",
      "|c159212d39011b609...|SOEVGLT12A6D4F7A4E|         9|  10305.0| 230818.0|\n",
      "+--------------------+------------------+----------+---------+---------+\n",
      "\n"
     ]
    }
   ],
   "source": [
    "test_anti_df = test_df.join(train_df, on='user_id',how='leftanti')\n",
    "test_anti_df.show()"
   ]
  },
  {
   "cell_type": "markdown",
   "metadata": {},
   "source": [
    "Since there are only 3 users which are not in the training data, it is ignored"
   ]
  },
  {
   "cell_type": "code",
   "execution_count": 94,
   "metadata": {},
   "outputs": [
    {
     "name": "stdout",
     "output_type": "stream",
     "text": [
      "+--------------------+------------------+----------+---------+---------+\n",
      "|             user_id|           song_id|play_count|song_code|user_code|\n",
      "+--------------------+------------------+----------+---------+---------+\n",
      "|0008320d84f011147...|SOCDTEX12AB017CA4D|         1|   4627.0|     27.0|\n",
      "|0008320d84f011147...|SOGNXXS12AB0184504|         1|  14050.0|     27.0|\n",
      "|0008320d84f011147...|SOHZPYD12AF72A12E2|         1|  17074.0|     27.0|\n",
      "|0008320d84f011147...|SOISKOP12A6310E2B5|        14|  18557.0|     27.0|\n",
      "|0008320d84f011147...|SOMTZOO12A58A7BF5F|         2|  26922.0|     27.0|\n",
      "|0008320d84f011147...|SOOYIHH12AB018C2C7|         1|  31377.0|     27.0|\n",
      "|0008320d84f011147...|SORWLJM12A6D4F9C0C|         7|  37057.0|     27.0|\n",
      "|0008320d84f011147...|SOXLOQG12AF72A2D55|         2|  47750.0|     27.0|\n",
      "|0008320d84f011147...|SOXSTRR12AB018DB42|         1|  48287.0|     27.0|\n",
      "|0010d591497880a8f...|SOATQYE12A6D4F8167|         7|   1643.0|     68.0|\n",
      "|0010d591497880a8f...|SOBVXWT12AB018EEC4|         1|   3976.0|     68.0|\n",
      "|0010d591497880a8f...|SODCDLT12A8C13AD4F|         5|   6596.0|     68.0|\n",
      "|0010d591497880a8f...|SOIHNNI12A67ADF6C1|         9|  17691.0|     68.0|\n",
      "|0010d591497880a8f...|SOJRSOG12AB018D2D2|         3|  20489.0|     68.0|\n",
      "|0010d591497880a8f...|SOJSUQF12A67ADF6C0|         1|  20577.0|     68.0|\n",
      "|0010d591497880a8f...|SOKEUYU12A67ADF7E6|         9|  21636.0|     68.0|\n",
      "|0010d591497880a8f...|SOMYZVY12A8AE483C4|         5|  27330.0|     68.0|\n",
      "|0010d591497880a8f...|SOORHPF12A6701F85D|         9|  30806.0|     68.0|\n",
      "|0010d591497880a8f...|SOUGFVS12AB01858DB|        12|  41660.0|     68.0|\n",
      "|0010d591497880a8f...|SOZYSDT12A8C13BFD7|        24|  52399.0|     68.0|\n",
      "+--------------------+------------------+----------+---------+---------+\n",
      "only showing top 20 rows\n",
      "\n"
     ]
    }
   ],
   "source": [
    "test_new_df = test_df.join(test_anti_df, on='user_id',how='leftanti')\n",
    "test_new_df.show()"
   ]
  },
  {
   "cell_type": "code",
   "execution_count": 95,
   "metadata": {},
   "outputs": [
    {
     "name": "stdout",
     "output_type": "stream",
     "text": [
      "Test set actual play count New: 21691526\n"
     ]
    }
   ],
   "source": [
    "# Calculate the play count in the test set\n",
    "test_play_count_new = test_new_df.agg(sum(\"play_count\")).collect()[0][0]\n",
    "\n",
    "print(f\"Test set actual play count New: {test_play_count_new}\")"
   ]
  },
  {
   "cell_type": "markdown",
   "metadata": {},
   "source": [
    "# (c) \n",
    "### Use the spark.ml library to train an implicit matrix factorization model using Alternating Least Squares (ALS).\n"
   ]
  },
  {
   "cell_type": "code",
   "execution_count": 60,
   "metadata": {},
   "outputs": [],
   "source": [
    "from pyspark.ml.recommendation import ALS\n",
    "from pyspark.sql.types import DoubleType\n",
    "\n",
    "# Cast \"play_count\" \n",
    "train_df = train_df.withColumn(\"play_count\", train_df[\"play_count\"].cast(DoubleType()))\n",
    "\n",
    "\n",
    "als = ALS(maxIter=5, regParam=0.01, userCol=\"user_code\", itemCol=\"song_code\", ratingCol=\"play_count\", \n",
    "          implicitPrefs=True, coldStartStrategy=\"drop\")\n",
    "\n",
    "# training \n",
    "als_model = als.fit(train_df)"
   ]
  },
  {
   "cell_type": "markdown",
   "metadata": {},
   "source": [
    "# (d) \n",
    "### Select a few of the users from the test set by hand and use the model to generate some recommendations. Compare these recommendations to the songs the user has actually played. Comment on the effectiveness of the collaborative filtering model.\n"
   ]
  },
  {
   "cell_type": "markdown",
   "metadata": {},
   "source": [
    "### User1 \n",
    "User Code = 28.0\n",
    "user_id = "
   ]
  },
  {
   "cell_type": "code",
   "execution_count": 98,
   "metadata": {},
   "outputs": [
    {
     "name": "stdout",
     "output_type": "stream",
     "text": [
      "+--------------------+------------------+----------+---------+---------+\n",
      "|             user_id|           song_id|play_count|song_code|user_code|\n",
      "+--------------------+------------------+----------+---------+---------+\n",
      "|0008e355930792eb1...|SOADCFY12A6310E353|         1|    245.0|     28.0|\n",
      "|0008e355930792eb1...|SOCBSPP12A6D4F711C|         4|   4497.0|     28.0|\n",
      "|0008e355930792eb1...|SOCCXPY12A6D4F4773|         1|   4570.0|     28.0|\n",
      "|0008e355930792eb1...|SOCYOTN12A8C13A4B1|         2|   6293.0|     28.0|\n",
      "|0008e355930792eb1...|SODTYBO12A58A7B657|         3|   8088.0|     28.0|\n",
      "|0008e355930792eb1...|SOGJWEA12A8151BD76|         1|  13724.0|     28.0|\n",
      "|0008e355930792eb1...|SOICTOM12A6D4FCE8F|         1|  17331.0|     28.0|\n",
      "|0008e355930792eb1...|SOKDIKJ12A8C13C707|         1|  21513.0|     28.0|\n",
      "|0008e355930792eb1...|SOKQZYZ12A58A7767E|         2|  22602.0|     28.0|\n",
      "|0008e355930792eb1...|SOLIQLA12A67AD867B|         1|  24037.0|     28.0|\n",
      "|0008e355930792eb1...|SOMFTUN12A6D4F60A5|         5|  25831.0|     28.0|\n",
      "|0008e355930792eb1...|SOMFWQH12A8C13B7AB|         5|  25849.0|     28.0|\n",
      "|0008e355930792eb1...|SOMNGMO12A6702187E|         2|  26414.0|     28.0|\n",
      "|0008e355930792eb1...|SONHVVE12AB018D038|         1|  28012.0|     28.0|\n",
      "|0008e355930792eb1...|SOOTEVS12A58A7FCDA|         1|  30963.0|     28.0|\n",
      "|0008e355930792eb1...|SOPACZR12A8C13C2D1|         1|  31517.0|     28.0|\n",
      "|0008e355930792eb1...|SOSDSUB12A6D4F5DC9|        10|  37565.0|     28.0|\n",
      "|0008e355930792eb1...|SOVHUFT12AAA15FD32|         3|  43637.0|     28.0|\n",
      "|0008e355930792eb1...|SOYUPVH12A6310DBBF|         1|  50263.0|     28.0|\n",
      "+--------------------+------------------+----------+---------+---------+\n",
      "\n"
     ]
    }
   ],
   "source": [
    "user_code = '28.0'\n",
    "user_1 = test_df.select(F.col(\"*\")).filter(F.col(\"user_code\") == user_code)\n",
    "user_1.cache()\n",
    "\n",
    "user_1.show(21)"
   ]
  },
  {
   "cell_type": "code",
   "execution_count": 62,
   "metadata": {},
   "outputs": [
    {
     "name": "stdout",
     "output_type": "stream",
     "text": [
      "root\n",
      " |-- user_id: string (nullable = true)\n",
      " |-- song_id: string (nullable = true)\n",
      " |-- play_count: integer (nullable = true)\n",
      " |-- song_code: double (nullable = true)\n",
      " |-- user_code: double (nullable = true)\n",
      " |-- prediction: float (nullable = false)\n",
      "\n",
      "+--------------------+------------------+----------+---------+---------+------------+\n",
      "|             user_id|           song_id|play_count|song_code|user_code|  prediction|\n",
      "+--------------------+------------------+----------+---------+---------+------------+\n",
      "|0008e355930792eb1...|SOOTEVS12A58A7FCDA|         1|  30963.0|     28.0| 0.028154463|\n",
      "|0008e355930792eb1...|SOSDSUB12A6D4F5DC9|        10|  37565.0|     28.0| 0.018371265|\n",
      "|0008e355930792eb1...|SOYUPVH12A6310DBBF|         1|  50263.0|     28.0|0.0151317045|\n",
      "|0008e355930792eb1...|SOKQZYZ12A58A7767E|         2|  22602.0|     28.0| 0.051790275|\n",
      "|0008e355930792eb1...|SOMNGMO12A6702187E|         2|  26414.0|     28.0|  0.02953531|\n",
      "|0008e355930792eb1...|SOCCXPY12A6D4F4773|         1|   4570.0|     28.0| 0.023329135|\n",
      "|0008e355930792eb1...|SOADCFY12A6310E353|         1|    245.0|     28.0|0.0017903395|\n",
      "|0008e355930792eb1...|SOICTOM12A6D4FCE8F|         1|  17331.0|     28.0|0.0065600784|\n",
      "|0008e355930792eb1...|SOMFTUN12A6D4F60A5|         5|  25831.0|     28.0| 0.015595155|\n",
      "|0008e355930792eb1...|SOVHUFT12AAA15FD32|         3|  43637.0|     28.0|0.0149721615|\n",
      "|0008e355930792eb1...|SOKDIKJ12A8C13C707|         1|  21513.0|     28.0| 2.706243E-4|\n",
      "|0008e355930792eb1...|SOLIQLA12A67AD867B|         1|  24037.0|     28.0| 9.183763E-4|\n",
      "|0008e355930792eb1...|SOMFWQH12A8C13B7AB|         5|  25849.0|     28.0| 0.005007332|\n",
      "|0008e355930792eb1...|SONHVVE12AB018D038|         1|  28012.0|     28.0|  0.21517217|\n",
      "|0008e355930792eb1...|SOCBSPP12A6D4F711C|         4|   4497.0|     28.0| 0.008642878|\n",
      "|0008e355930792eb1...|SOPACZR12A8C13C2D1|         1|  31517.0|     28.0|0.0049481513|\n",
      "|0008e355930792eb1...|SOCYOTN12A8C13A4B1|         2|   6293.0|     28.0|  0.12983361|\n",
      "|0008e355930792eb1...|SODTYBO12A58A7B657|         3|   8088.0|     28.0|0.0048495764|\n",
      "|0008e355930792eb1...|SOGJWEA12A8151BD76|         1|  13724.0|     28.0|   0.0033706|\n",
      "+--------------------+------------------+----------+---------+---------+------------+\n",
      "\n"
     ]
    }
   ],
   "source": [
    "# Predict relevance scores\n",
    "pred_user_1 = als_model.transform(user_1)\n",
    "pred_user_1.cache()\n",
    "\n",
    "pred_user_1.printSchema()\n",
    "pred_user_1.show(21)"
   ]
  },
  {
   "cell_type": "code",
   "execution_count": 157,
   "metadata": {},
   "outputs": [
    {
     "name": "stdout",
     "output_type": "stream",
     "text": [
      "root\n",
      " |-- user_code: integer (nullable = false)\n",
      " |-- recommendations: array (nullable = true)\n",
      " |    |-- element: struct (containsNull = true)\n",
      " |    |    |-- song_code: integer (nullable = true)\n",
      " |    |    |-- rating: float (nullable = true)\n",
      "\n",
      "+---------+--------------------+\n",
      "|user_code|     recommendations|\n",
      "+---------+--------------------+\n",
      "|       12|[{25538, 0.246382...|\n",
      "|       18|[{28086, 0.561619...|\n",
      "|       38|[{39480, 0.035018...|\n",
      "|       70|[{1951, 0.8072039...|\n",
      "|       93|[{29997, 0.058395...|\n",
      "|      190|[{39094, 0.571591...|\n",
      "|      218|[{22204, 0.389838...|\n",
      "|      273|[{31577, 0.649114...|\n",
      "|      300|[{1951, 0.0524410...|\n",
      "|      340|[{22204, 0.363937...|\n",
      "|      343|[{39094, 0.524612...|\n",
      "|      412|[{26447, 0.463276...|\n",
      "|      434|[{29358, 0.537665...|\n",
      "|      475|[{1951, 0.0929809...|\n",
      "|      536|[{1694, 0.1019288...|\n",
      "|      585|[{5187, 0.6244483...|\n",
      "|      600|[{12183, 1.255048...|\n",
      "|      611|[{1951, 0.2264583...|\n",
      "|      615|[{40884, 0.196681...|\n",
      "|      619|[{40276, 0.211070...|\n",
      "+---------+--------------------+\n",
      "only showing top 20 rows\n",
      "\n"
     ]
    }
   ],
   "source": [
    "# Generate recommendations\n",
    "\n",
    "k = 20\n",
    "\n",
    "recommendations_1 = als_model.recommendForAllUsers(k)\n",
    "\n",
    "recommendations_1.printSchema()\n",
    "recommendations_1.cache()\n",
    "recommendations_1.show()"
   ]
  },
  {
   "cell_type": "code",
   "execution_count": 158,
   "metadata": {},
   "outputs": [
    {
     "name": "stdout",
     "output_type": "stream",
     "text": [
      "root\n",
      " |-- user_code: double (nullable = true)\n",
      " |-- relevant: array (nullable = false)\n",
      " |    |-- element: struct (containsNull = false)\n",
      " |    |    |-- play_count: integer (nullable = true)\n",
      " |    |    |-- song_code: double (nullable = true)\n",
      "\n",
      "+---------+--------------------+\n",
      "|user_code|            relevant|\n",
      "+---------+--------------------+\n",
      "|     28.0|[{10, 37565.0}, {...|\n",
      "+---------+--------------------+\n",
      "\n"
     ]
    }
   ],
   "source": [
    "# Collect and sort relevant items in order of descending relevance \n",
    "\n",
    "relevant_1 = (\n",
    "    user_1\n",
    "    .groupBy(\"user_code\")\n",
    "    .agg(\n",
    "        F.reverse(F.sort_array(F.collect_list(\n",
    "            F.struct(\n",
    "                F.col(\"play_count\"),\n",
    "                F.col(\"song_code\"),\n",
    "            )\n",
    "        ))).alias(\"relevant\")\n",
    "    )\n",
    ")\n",
    "relevant_1.printSchema()\n",
    "relevant_1.cache()\n",
    "relevant_1.show()"
   ]
  },
  {
   "cell_type": "code",
   "execution_count": 159,
   "metadata": {},
   "outputs": [
    {
     "name": "stdout",
     "output_type": "stream",
     "text": [
      "root\n",
      " |-- user_code: integer (nullable = false)\n",
      " |-- recommendations: array (nullable = true)\n",
      " |    |-- element: integer (containsNull = true)\n",
      " |-- relevant: array (nullable = false)\n",
      " |    |-- element: integer (containsNull = true)\n",
      "\n"
     ]
    },
    {
     "data": {
      "text/html": [
       "<div>\n",
       "<style scoped>\n",
       "    .dataframe tbody tr th:only-of-type {\n",
       "        vertical-align: middle;\n",
       "    }\n",
       "\n",
       "    .dataframe tbody tr th {\n",
       "        vertical-align: top;\n",
       "    }\n",
       "\n",
       "    .dataframe thead th {\n",
       "        text-align: right;\n",
       "    }\n",
       "</style>\n",
       "<table border=\"1\" class=\"dataframe\">\n",
       "  <thead>\n",
       "    <tr style=\"text-align: right;\">\n",
       "      <th></th>\n",
       "      <th>user_code</th>\n",
       "      <th>recommendations</th>\n",
       "      <th>relevant</th>\n",
       "    </tr>\n",
       "  </thead>\n",
       "  <tbody>\n",
       "    <tr>\n",
       "      <th>0</th>\n",
       "      <td>28</td>\n",
       "      <td>[7268, 23781, 12183, 29358, 45151, 6064, 47306...</td>\n",
       "      <td>[37565, 25849, 25831, 4497, 43637, 8088, 26414...</td>\n",
       "    </tr>\n",
       "  </tbody>\n",
       "</table>\n",
       "</div>"
      ],
      "text/plain": [
       "   user_code                                    recommendations  \\\n",
       "0         28  [7268, 23781, 12183, 29358, 45151, 6064, 47306...   \n",
       "\n",
       "                                            relevant  \n",
       "0  [37565, 25849, 25831, 4497, 43637, 8088, 26414...  "
      ]
     },
     "metadata": {},
     "output_type": "display_data"
    }
   ],
   "source": [
    "# Merge recommendations \n",
    "\n",
    "comparison_1 = (\n",
    "    recommendations_1\n",
    "    .select(\n",
    "        F.col(\"user_code\"),\n",
    "        F.col(\"recommendations.song_code\").alias(\"recommendations\").astype(ArrayType(IntegerType())),\n",
    "    )\n",
    "    .join(\n",
    "        relevant_1\n",
    "        .select(\n",
    "            F.col(\"user_code\"),\n",
    "            F.col(\"relevant.song_code\").alias(\"relevant\").astype(ArrayType(IntegerType())),\n",
    "        ),\n",
    "        on=\"user_code\",\n",
    "        how=\"inner\"\n",
    "    )\n",
    ")\n",
    "comparison_1.cache()\n",
    "\n",
    "comparison_1.printSchema()\n",
    "show_as_html(comparison_1)"
   ]
  },
  {
   "cell_type": "code",
   "execution_count": 160,
   "metadata": {},
   "outputs": [],
   "source": [
    "comparison_1_p = comparison_1.toPandas()"
   ]
  },
  {
   "cell_type": "code",
   "execution_count": 162,
   "metadata": {},
   "outputs": [
    {
     "name": "stdout",
     "output_type": "stream",
     "text": [
      "+-----------+---------+\n",
      "|list_recomd|list_test|\n",
      "+-----------+---------+\n",
      "|       7268|  37565.0|\n",
      "|      23781|  25849.0|\n",
      "|      12183|  25831.0|\n",
      "|      29358|   4497.0|\n",
      "|      45151|  43637.0|\n",
      "|       6064|   8088.0|\n",
      "|      47306|  26414.0|\n",
      "|       3304|  22602.0|\n",
      "|      22877|   6293.0|\n",
      "|      37468|  50263.0|\n",
      "+-----------+---------+\n",
      "only showing top 10 rows\n",
      "\n"
     ]
    }
   ],
   "source": [
    "\n",
    "# Assuming comparison_1_p is already defined and contains the necessary data\n",
    "comparison_1_p.columns\n",
    "\n",
    "# Extract and clean the recommendations and relevant columns\n",
    "list_recomd = pd.DataFrame(list(str(comparison_1_p.loc[0, 'recommendations']).replace('[', '').replace(']', '').split(',')), columns=['list_recomd'])\n",
    "list_test = pd.DataFrame(list(str(comparison_1_p.loc[0, 'relevant']).replace('[', '').replace(']', '').split(',')), columns=['list_test'])\n",
    "\n",
    "# Ensure the data types are consistent (e.g., convert to integers)\n",
    "list_recomd['list_recomd'] = list_recomd['list_recomd'].astype(int)\n",
    "list_test['list_test'] = list_test['list_test'].astype(int)\n",
    "\n",
    "# Concatenate the DataFrames\n",
    "compare_1 = pd.concat([list_recomd, list_test], axis=1)\n",
    "\n",
    "\n",
    "# Convert the pandas DataFrame to a PySpark DataFrame\n",
    "compare_1_spark = spark.createDataFrame(compare_1)\n",
    "compare_1_spark =  compare_1_spark.dropna()\n",
    "\n",
    "# Show the PySpark DataFrame\n",
    "compare_1_spark.show(10)\n",
    "\n"
   ]
  },
  {
   "cell_type": "markdown",
   "metadata": {},
   "source": [
    "### loading the main summary data  in order to find the song details "
   ]
  },
  {
   "cell_type": "code",
   "execution_count": 110,
   "metadata": {},
   "outputs": [
    {
     "name": "stdout",
     "output_type": "stream",
     "text": [
      "+----------------+-----------------+-------------------+-------------------+------------------+---------------+--------------------+----------------+--------------------+--------------------+---------------+-----+----------------+-------------------+--------------------+------------------+------------------+------------------+--------------------+----------------+\n",
      "|analyzer_version|artist_7digitalid| artist_familiarity|  artist_hotttnesss|         artist_id|artist_latitude|     artist_location|artist_longitude|         artist_mbid|         artist_name|artist_playmeid|genre|idx_artist_terms|idx_similar_artists|             release|release_7digitalid|   song_hotttnesss|           song_id|               title|track_7digitalid|\n",
      "+----------------+-----------------+-------------------+-------------------+------------------+---------------+--------------------+----------------+--------------------+--------------------+---------------+-----+----------------+-------------------+--------------------+------------------+------------------+------------------+--------------------+----------------+\n",
      "|            null|             4069| 0.6498221002008776| 0.3940318927141434|ARYZTJS1187B98C555|           null|                null|            null|357ff05d-848a-44c...|    Faster Pussy cat|          44895| null|               0|                  0|Monster Ballads X...|            633681|0.5428987432910862|SOQMMHC12AB0180CB8|        Silent Night|         7032331|\n",
      "|            null|           113480| 0.4396039666767154| 0.3569921077564064|ARMVN3U1187FB3A1EB|           null|                null|            null|8d7ef530-a6fd-4f8...|    Karkkiautomaatti|             -1| null|               0|                  0|         Karkuteillä|            145266|0.2998774882739778|SOVFVAK12A8C1350D9|         Tanssi vaan|         1514808|\n",
      "|            null|            63531| 0.6436805720579895| 0.4375038365946544|ARGEKB01187FB50750|        55.8578|   Glasgow, Scotland|        -4.24251|3d403d44-36ce-465...|      Hudson Mohawke|             -1| null|               0|                  0|              Butter|            625706|0.6178709693948196|SOGTUKN12AB017F4F1|   No One Could Ever|         6945353|\n",
      "|            null|            65051|0.44850115965646636|0.37234906851712235|ARNWYLR1187B9B2F9C|           null|                null|            null|12be7648-7094-495...|         Yerba Brava|          34000| null|               0|                  0|             De Culo|            199368|              null|SOBNYVR12A8C13558C|       Si Vos Querés|         2168257|\n",
      "|            null|           158279|                0.0|                0.0|AREQDTE1269FB37231|           null|                null|            null|                null|          Der Mystic|             -1| null|               0|                  0|Rene Ablaze Prese...|            209038|              null|SOHSBXH12A8C13B0DF|    Tangle Of Aspens|         2264873|\n",
      "|            null|           219281|  0.361286979627774|0.10962584705877759|AR2NS5Y1187FB5879D|           null|                null|            null|d087b377-bab7-46c...|    David Montgomery|             -1| null|               0|                  0|Berwald: Symphoni...|            299244|              null|SOZVAPQ12A8C13B63C|\"Symphony No. 1 G...|         3360982|\n",
      "|            null|             3736| 0.6929227305760355|  0.453731585998959|ARO41T51187FB397AB|           null| Mexico City, Mexico|            null|d2461c0a-5575-442...|  Sasha / Turbulence|           1396| null|               0|                  0|Strictly The Best...|             52968|              null|SOQVRHI12A6D4FB2D7|    We Have Got Love|          552626|\n",
      "|            null|            49941| 0.5881561876748532|0.40109242517712895|AR3Z9WY1187FB4CDC2|           null|                null|            null|bf61e8ff-7621-465...|          Kris Kross|           9594| null|               0|                  0|             Da Bomb|            580432|              null|SOEYRFT12AB018936C|   2 Da Beat Ch'yall|         6435649|\n",
      "|            null|            15202| 0.4084654634687691|0.28590119604546194|ARA04401187B991E6E|       54.99241|Londonderry, Nort...|        -7.31923|1a9bf859-1dc2-495...|        Joseph Locke|          61524| null|               0|                  0|           Danny Boy|            756677|              null|SOPMIYT12A6D4F851E|             Goodbye|         8376489|\n",
      "|            null|            76721|0.41994127477041937| 0.2491372295395512|ARCVMYS12454A51E6E|           null|                null|            null|                null|The Sun Harbor's ...|          50151| null|               0|                  0|March to cadence ...|             95069|              null|SOJCFMH12A8C13B0C2|Mama_ mama can't ...|         1043208|\n",
      "+----------------+-----------------+-------------------+-------------------+------------------+---------------+--------------------+----------------+--------------------+--------------------+---------------+-----+----------------+-------------------+--------------------+------------------+------------------+------------------+--------------------+----------------+\n",
      "only showing top 10 rows\n",
      "\n"
     ]
    }
   ],
   "source": [
    "Main_Summary = (\n",
    "    spark.read.format(\"com.databricks.spark.csv\")\n",
    "    .option(\"header\", \"true\")\n",
    "    .option(\"inferSchema\", \"true\")\n",
    "    .load(\"hdfs:///data/msd/main/summary/*.csv.gz\")\n",
    ")\n",
    "Main_Summary.show(10)"
   ]
  },
  {
   "cell_type": "code",
   "execution_count": 111,
   "metadata": {},
   "outputs": [
    {
     "name": "stdout",
     "output_type": "stream",
     "text": [
      "+------------------+--------------------+--------------------+-----+\n",
      "|           song_id|               title|         artist_name|genre|\n",
      "+------------------+--------------------+--------------------+-----+\n",
      "|SOQMMHC12AB0180CB8|        Silent Night|    Faster Pussy cat| null|\n",
      "|SOVFVAK12A8C1350D9|         Tanssi vaan|    Karkkiautomaatti| null|\n",
      "|SOGTUKN12AB017F4F1|   No One Could Ever|      Hudson Mohawke| null|\n",
      "|SOBNYVR12A8C13558C|       Si Vos Querés|         Yerba Brava| null|\n",
      "|SOHSBXH12A8C13B0DF|    Tangle Of Aspens|          Der Mystic| null|\n",
      "|SOZVAPQ12A8C13B63C|\"Symphony No. 1 G...|    David Montgomery| null|\n",
      "|SOQVRHI12A6D4FB2D7|    We Have Got Love|  Sasha / Turbulence| null|\n",
      "|SOEYRFT12AB018936C|   2 Da Beat Ch'yall|          Kris Kross| null|\n",
      "|SOPMIYT12A6D4F851E|             Goodbye|        Joseph Locke| null|\n",
      "|SOJCFMH12A8C13B0C2|Mama_ mama can't ...|The Sun Harbor's ...| null|\n",
      "+------------------+--------------------+--------------------+-----+\n",
      "only showing top 10 rows\n",
      "\n"
     ]
    }
   ],
   "source": [
    "Main_Summary = Main_Summary.select(\"song_id\",\"title\",\"artist_name\",\"genre\")\n",
    "Main_Summary.show(10)"
   ]
  },
  {
   "cell_type": "code",
   "execution_count": 114,
   "metadata": {},
   "outputs": [
    {
     "name": "stdout",
     "output_type": "stream",
     "text": [
      "+--------------------+------------------+----------+---------+---------+\n",
      "|             user_id|           song_id|play_count|song_code|user_code|\n",
      "+--------------------+------------------+----------+---------+---------+\n",
      "|0008320d84f011147...|SOIYQUA12A8AE46860|         5|  19037.0|     27.0|\n",
      "|0008320d84f011147...|SOIZFTE12AB0186842|         4|  19090.0|     27.0|\n",
      "|0008320d84f011147...|SOCDTEX12AB017CA4D|         1|   4627.0|     27.0|\n",
      "|0008320d84f011147...|SONXXJJ12AAF3B3A9B|         2|  29311.0|     27.0|\n",
      "|0008320d84f011147...|SOMTZOO12A58A7BF5F|         2|  26922.0|     27.0|\n",
      "|0008320d84f011147...|SOHCWEJ12A8C13EBD9|         1|  15254.0|     27.0|\n",
      "|0008320d84f011147...|SOMQSOC12A8C133BED|         9|  26658.0|     27.0|\n",
      "|0008320d84f011147...|SORWLJM12A6D4F9C0C|         7|  37057.0|     27.0|\n",
      "|0008320d84f011147...|SOUFTBI12AB0183F65|        30|  41615.0|     27.0|\n",
      "|0008320d84f011147...|SOVIEIL12A6D4F7D84|         1|  43671.0|     27.0|\n",
      "+--------------------+------------------+----------+---------+---------+\n",
      "only showing top 10 rows\n",
      "\n"
     ]
    }
   ],
   "source": [
    "triplets_merge.show(10)"
   ]
  },
  {
   "cell_type": "code",
   "execution_count": 163,
   "metadata": {},
   "outputs": [
    {
     "name": "stdout",
     "output_type": "stream",
     "text": [
      "+-----------+------------------+\n",
      "|list_recomd|           song_id|\n",
      "+-----------+------------------+\n",
      "|      45151|SOWCKVR12A8C142411|\n",
      "|      25139|SOLWZVR12AB01849C6|\n",
      "|       6064|SOCVTLJ12A6310F0FD|\n",
      "|      24723|SOLRGVL12A8C143BC3|\n",
      "|      29358|SONYKOW12AB01849C9|\n",
      "|      24265|SOLLNTU12A6701CFDC|\n",
      "|      42557|SOUSMXX12AB0185C24|\n",
      "|      11523|SOFKABN12A8AE476C6|\n",
      "|       3304|SOBOAFP12A8C131F36|\n",
      "|      37468|SOSCIZP12AB0181D2F|\n",
      "|      12183|SOFRQTD12A81C233C0|\n",
      "|      23781|SOLFXKT12AB017E3E0|\n",
      "|      30228|SOOJJCT12A6310E1C0|\n",
      "|       7268|SODJWHY12A8C142CCE|\n",
      "|      28086|SONIQRE12AF72A2B02|\n",
      "|      22204|SOKLRPJ12A8C13C3FE|\n",
      "|      47306|SOXFPND12AB017C9D1|\n",
      "|      32964|SOPTLQL12AB018D56F|\n",
      "|      22877|SOKUPAO12AB018D576|\n",
      "+-----------+------------------+\n",
      "\n",
      "+---------+------------------+\n",
      "|list_test|           song_id|\n",
      "+---------+------------------+\n",
      "|  17331.0|SOICTOM12A6D4FCE8F|\n",
      "|  21513.0|SOKDIKJ12A8C13C707|\n",
      "|  43637.0|SOVHUFT12AAA15FD32|\n",
      "|  25831.0|SOMFTUN12A6D4F60A5|\n",
      "|   4497.0|SOCBSPP12A6D4F711C|\n",
      "|  22602.0|SOKQZYZ12A58A7767E|\n",
      "|   6293.0|SOCYOTN12A8C13A4B1|\n",
      "|  30963.0|SOOTEVS12A58A7FCDA|\n",
      "|  37565.0|SOSDSUB12A6D4F5DC9|\n",
      "|  28012.0|SONHVVE12AB018D038|\n",
      "|  25849.0|SOMFWQH12A8C13B7AB|\n",
      "|  50263.0|SOYUPVH12A6310DBBF|\n",
      "|  26414.0|SOMNGMO12A6702187E|\n",
      "|  13724.0|SOGJWEA12A8151BD76|\n",
      "|  31517.0|SOPACZR12A8C13C2D1|\n",
      "|    245.0|SOADCFY12A6310E353|\n",
      "|   8088.0|SODTYBO12A58A7B657|\n",
      "|  24037.0|SOLIQLA12A67AD867B|\n",
      "|   4570.0|SOCCXPY12A6D4F4773|\n",
      "+---------+------------------+\n",
      "\n"
     ]
    }
   ],
   "source": [
    "# Join the dataframes on the song_code with list_recomd\n",
    "recommendation_join = compare_1_spark.join(triplets_merge, compare_1_spark[\"list_recomd\"] == triplets_merge[\"song_code\"], \"left\").select(\"list_recomd\", \"song_id\").distinct()\n",
    "\n",
    "# Join the dataframes on the song_code with list_test\n",
    "test_join = compare_1_spark.join(triplets_merge, compare_1_spark[\"list_test\"] == triplets_merge[\"song_code\"], \"left\").select(\"list_test\", \"song_id\").distinct()\n",
    "\n",
    "# Show the results\n",
    "recommendation_join.show()\n",
    "test_join.show()"
   ]
  },
  {
   "cell_type": "code",
   "execution_count": 164,
   "metadata": {},
   "outputs": [
    {
     "name": "stdout",
     "output_type": "stream",
     "text": [
      "+-----------+--------------------+--------------------+\n",
      "|list_recomd|               title|         artist_name|\n",
      "+-----------+--------------------+--------------------+\n",
      "|      25139| All The Right Moves|         OneRepublic|\n",
      "|       3304|Lucky (Album Vers...|Jason Mraz & Colb...|\n",
      "|      32964|Billionaire [feat...|        Travie McCoy|\n",
      "|      28086|    Bring Me To Life|         Evanescence|\n",
      "|      28086|    Bring Me To Life|         Evanescence|\n",
      "|      22204|       The Scientist|            Coldplay|\n",
      "|      24265|          Kryptonite|        3 Doors Down|\n",
      "|      45151|        Use Somebody|       Kings Of Leon|\n",
      "|      45151|        Use Somebody|       Kings Of Leon|\n",
      "|      29358|             Secrets|         OneRepublic|\n",
      "|      12183|       Sehr kosmisch|            Harmonia|\n",
      "|      23781|           Fireflies|  Charttraxx Karaoke|\n",
      "|      22877|The Only Exceptio...|            Paramore|\n",
      "|      24723|         Bulletproof|             La Roux|\n",
      "|      37468|           Alejandro|           Lady GaGa|\n",
      "|      47306|     I Gotta Feeling|     Black Eyed Peas|\n",
      "|      30228|    Here Without You|        3 Doors Down|\n",
      "|      42557|                 OMG|Usher featuring w...|\n",
      "|       6064|              Clocks|            Coldplay|\n",
      "|       7268|    Hey_ Soul Sister|               Train|\n",
      "+-----------+--------------------+--------------------+\n",
      "only showing top 20 rows\n",
      "\n",
      "+---------+--------------------+--------------------+\n",
      "|list_test|               title|         artist_name|\n",
      "+---------+--------------------+--------------------+\n",
      "|  50263.0|      Hollaback Girl|        Gwen Stefani|\n",
      "|   6293.0|     My Happy Ending|       Avril Lavigne|\n",
      "|    245.0|Rock The House (R...|            Gorillaz|\n",
      "|   8088.0|       Sin Despertar|               Kudai|\n",
      "|  26414.0|                DARE|            Gorillaz|\n",
      "|  25831.0|        Teddy Picker|      Arctic Monkeys|\n",
      "|  25831.0|Teddy Picker (Exp...|      Arctic Monkeys|\n",
      "|  25831.0|Teddy Picker (Exp...|      Arctic Monkeys|\n",
      "|  37565.0|The Only Differen...| Panic! At The Disco|\n",
      "|  24037.0|           Charlotte|         Air Traffic|\n",
      "|  31517.0|When The Day Met ...|  Panic At The Disco|\n",
      "|  25849.0|     Solo un segundo|             Bacilos|\n",
      "|  21513.0|This House is a C...|      Arctic Monkeys|\n",
      "|  28012.0|          Sexy Bitch|            DJ Dizzy|\n",
      "|  13724.0|   A Certain Romance|      Arctic Monkeys|\n",
      "|  13724.0|   A Certain Romance|      Arctic Monkeys|\n",
      "|  22602.0|        Ocean Avenue|          Yellowcard|\n",
      "|   4570.0|            Only One|          Yellowcard|\n",
      "|  43637.0|Here (In Your Arm...|Hellogoodbye;Elli...|\n",
      "|   4497.0| Lejos estamos mejor|               Motel|\n",
      "+---------+--------------------+--------------------+\n",
      "only showing top 20 rows\n",
      "\n"
     ]
    }
   ],
   "source": [
    "# Join recommendation_join with Main_Summary to get song details for recommendations\n",
    "recommendation_details = recommendation_join.join(Main_Summary, \"song_id\", \"left\").select(\"list_recomd\", \"title\", \"artist_name\")\n",
    "\n",
    "# Join test_join with Main_Summary to get song details for test data\n",
    "test_details = test_join.join(Main_Summary, \"song_id\", \"left\").select(\"list_test\", \"title\", \"artist_name\")\n",
    "\n",
    "# Show the result for recommendations\n",
    "recommendation_details.show()\n",
    "\n",
    "# Show the result for test data\n",
    "test_details.show()"
   ]
  },
  {
   "cell_type": "markdown",
   "metadata": {},
   "source": [
    "### User2\n",
    "User Code = 600.0\n",
    "user_id = "
   ]
  },
  {
   "cell_type": "code",
   "execution_count": 99,
   "metadata": {},
   "outputs": [
    {
     "name": "stdout",
     "output_type": "stream",
     "text": [
      "+--------------------+------------------+----------+---------+---------+\n",
      "|             user_id|           song_id|play_count|song_code|user_code|\n",
      "+--------------------+------------------+----------+---------+---------+\n",
      "|008065e52b59a094d...|SOAKPMX12AB018193B|        13|    883.0|    600.0|\n",
      "|008065e52b59a094d...|SOANQFY12AB0183239|         7|   1160.0|    600.0|\n",
      "|008065e52b59a094d...|SOANTTS12A6D4F93DB|        23|   1172.0|    600.0|\n",
      "|008065e52b59a094d...|SOBOUPA12A6D4F81F1|        24|   3362.0|    600.0|\n",
      "|008065e52b59a094d...|SOBZJVD12A8C13C796|         2|   4282.0|    600.0|\n",
      "|008065e52b59a094d...|SOCHTHF12AB017E206|         1|   4975.0|    600.0|\n",
      "|008065e52b59a094d...|SODACBL12A8C13C273|         1|   6421.0|    600.0|\n",
      "|008065e52b59a094d...|SODLLYS12A8C13A96B|         6|   7394.0|    600.0|\n",
      "|008065e52b59a094d...|SODTHOY12AC9071AE7|         2|   8030.0|    600.0|\n",
      "|008065e52b59a094d...|SODWXJW12AAA8C5C29|         1|   8319.0|    600.0|\n",
      "|008065e52b59a094d...|SOEBOWM12AB017F279|         4|   8713.0|    600.0|\n",
      "|008065e52b59a094d...|SOEIERG12A8C13CF09|         3|   9260.0|    600.0|\n",
      "|008065e52b59a094d...|SOFRCGW12A81C21EA6|         4|  12133.0|    600.0|\n",
      "|008065e52b59a094d...|SOGNVXA12A8C14373F|        17|  14039.0|    600.0|\n",
      "|008065e52b59a094d...|SOGPBAW12A6D4F9F22|         7|  14134.0|    600.0|\n",
      "|008065e52b59a094d...|SOIBLKQ12AB0183E85|         3|  17214.0|    600.0|\n",
      "|008065e52b59a094d...|SOIPYPB12A8C1360D4|         3|  18373.0|    600.0|\n",
      "|008065e52b59a094d...|SOIYIMC12AC9097E45|         2|  19018.0|    600.0|\n",
      "|008065e52b59a094d...|SOJGZXL12A6D4F2980|         3|  19670.0|    600.0|\n",
      "|008065e52b59a094d...|SOJOIKI12AB0187525|         1|  20224.0|    600.0|\n",
      "+--------------------+------------------+----------+---------+---------+\n",
      "only showing top 20 rows\n",
      "\n"
     ]
    }
   ],
   "source": [
    "user_code = '600.0'\n",
    "user_2 = test_df.select(F.col(\"*\")).filter(F.col(\"user_code\") == user_code)\n",
    "user_2.cache()\n",
    "\n",
    "user_2.show(20)"
   ]
  },
  {
   "cell_type": "code",
   "execution_count": 100,
   "metadata": {},
   "outputs": [
    {
     "name": "stdout",
     "output_type": "stream",
     "text": [
      "root\n",
      " |-- user_id: string (nullable = true)\n",
      " |-- song_id: string (nullable = true)\n",
      " |-- play_count: integer (nullable = true)\n",
      " |-- song_code: double (nullable = true)\n",
      " |-- user_code: double (nullable = true)\n",
      " |-- prediction: float (nullable = false)\n",
      "\n",
      "+--------------------+------------------+----------+---------+---------+------------+\n",
      "|             user_id|           song_id|play_count|song_code|user_code|  prediction|\n",
      "+--------------------+------------------+----------+---------+---------+------------+\n",
      "|008065e52b59a094d...|SOGNVXA12A8C14373F|        17|  14039.0|    600.0|  0.06682358|\n",
      "|008065e52b59a094d...|SOBOUPA12A6D4F81F1|        24|   3362.0|    600.0|  0.98872244|\n",
      "|008065e52b59a094d...|SOSZTCF12AB0186E06|         1|  39273.0|    600.0|0.0076822434|\n",
      "|008065e52b59a094d...|SOEBOWM12AB017F279|         4|   8713.0|    600.0|   0.7460875|\n",
      "|008065e52b59a094d...|SOOJJCT12A6310E1C0|         6|  30228.0|    600.0|   0.8115036|\n",
      "|008065e52b59a094d...|SOTWSXL12A8C143349|        10|  40956.0|    600.0|   1.0513343|\n",
      "|008065e52b59a094d...|SOXLOQG12AF72A2D55|         3|  47750.0|    600.0|  0.82924294|\n",
      "|008065e52b59a094d...|SOVDLZN12AB0185BEA|         4|  43316.0|    600.0|  0.88920474|\n",
      "|008065e52b59a094d...|SOKUTUM12A6701D9CD|         3|  22888.0|    600.0|    0.690422|\n",
      "|008065e52b59a094d...|SOBZJVD12A8C13C796|         2|   4282.0|    600.0|  0.19578962|\n",
      "|008065e52b59a094d...|SOJOIKI12AB0187525|         1|  20224.0|    600.0|  0.32510036|\n",
      "|008065e52b59a094d...|SOMGIYR12AB0187973|         2|  25881.0|    600.0|  0.65657145|\n",
      "|008065e52b59a094d...|SOANTTS12A6D4F93DB|        23|   1172.0|    600.0|0.0052408427|\n",
      "|008065e52b59a094d...|SOLLNTU12A6701CFDC|         4|  24265.0|    600.0|    0.803978|\n",
      "|008065e52b59a094d...|SOLWZVR12AB01849C6|         5|  25139.0|    600.0|   0.8785055|\n",
      "|008065e52b59a094d...|SOGPBAW12A6D4F9F22|         7|  14134.0|    600.0|   0.8377819|\n",
      "|008065e52b59a094d...|SOOYDAZ12A58A7AE08|         1|  31365.0|    600.0|   0.5422616|\n",
      "|008065e52b59a094d...|SOANQFY12AB0183239|         7|   1160.0|    600.0|  0.74018407|\n",
      "|008065e52b59a094d...|SOLFXKT12AB017E3E0|         9|  23781.0|    600.0|   1.0986589|\n",
      "|008065e52b59a094d...|SONEJIJ12AB0185727|         2|  27726.0|    600.0|   0.4932878|\n",
      "|008065e52b59a094d...|SODTHOY12AC9071AE7|         2|   8030.0|    600.0|  0.45806795|\n",
      "+--------------------+------------------+----------+---------+---------+------------+\n",
      "only showing top 21 rows\n",
      "\n"
     ]
    }
   ],
   "source": [
    "# Predict relevance scores\n",
    "pred_user_2 = als_model.transform(user_2)\n",
    "pred_user_2.cache()\n",
    "\n",
    "pred_user_2.printSchema()\n",
    "pred_user_2.show(21)"
   ]
  },
  {
   "cell_type": "code",
   "execution_count": 101,
   "metadata": {},
   "outputs": [
    {
     "name": "stdout",
     "output_type": "stream",
     "text": [
      "root\n",
      " |-- user_code: double (nullable = true)\n",
      " |-- relevant: array (nullable = false)\n",
      " |    |-- element: struct (containsNull = false)\n",
      " |    |    |-- play_count: integer (nullable = true)\n",
      " |    |    |-- song_code: double (nullable = true)\n",
      "\n",
      "+---------+--------------------+\n",
      "|user_code|            relevant|\n",
      "+---------+--------------------+\n",
      "|    600.0|[{24, 3362.0}, {2...|\n",
      "+---------+--------------------+\n",
      "\n"
     ]
    }
   ],
   "source": [
    "# Collect and sort relevant items in order of descending relevance \n",
    "\n",
    "relevant_2 = (\n",
    "    user_2\n",
    "    .groupBy(\"user_code\")\n",
    "    .agg(\n",
    "        F.reverse(F.sort_array(F.collect_list(\n",
    "            F.struct(\n",
    "                F.col(\"play_count\"),\n",
    "                F.col(\"song_code\"),\n",
    "            )\n",
    "        ))).alias(\"relevant\")\n",
    "    )\n",
    ")\n",
    "relevant_2.printSchema()\n",
    "relevant_2.cache()\n",
    "relevant_2.show()"
   ]
  },
  {
   "cell_type": "code",
   "execution_count": 107,
   "metadata": {},
   "outputs": [
    {
     "name": "stdout",
     "output_type": "stream",
     "text": [
      "root\n",
      " |-- user_code: integer (nullable = false)\n",
      " |-- recommendations: array (nullable = true)\n",
      " |    |-- element: integer (containsNull = true)\n",
      " |-- relevant: array (nullable = false)\n",
      " |    |-- element: integer (containsNull = true)\n",
      "\n"
     ]
    },
    {
     "data": {
      "text/html": [
       "<div>\n",
       "<style scoped>\n",
       "    .dataframe tbody tr th:only-of-type {\n",
       "        vertical-align: middle;\n",
       "    }\n",
       "\n",
       "    .dataframe tbody tr th {\n",
       "        vertical-align: top;\n",
       "    }\n",
       "\n",
       "    .dataframe thead th {\n",
       "        text-align: right;\n",
       "    }\n",
       "</style>\n",
       "<table border=\"1\" class=\"dataframe\">\n",
       "  <thead>\n",
       "    <tr style=\"text-align: right;\">\n",
       "      <th></th>\n",
       "      <th>user_code</th>\n",
       "      <th>recommendations</th>\n",
       "      <th>relevant</th>\n",
       "    </tr>\n",
       "  </thead>\n",
       "  <tbody>\n",
       "    <tr>\n",
       "      <th>0</th>\n",
       "      <td>600</td>\n",
       "      <td>[12183, 1951, 42557, 32964, 7030, 29358, 39094...</td>\n",
       "      <td>[3362, 1172, 14039, 883, 40956, 40934, 35188, ...</td>\n",
       "    </tr>\n",
       "  </tbody>\n",
       "</table>\n",
       "</div>"
      ],
      "text/plain": [
       "   user_code                                    recommendations  \\\n",
       "0        600  [12183, 1951, 42557, 32964, 7030, 29358, 39094...   \n",
       "\n",
       "                                            relevant  \n",
       "0  [3362, 1172, 14039, 883, 40956, 40934, 35188, ...  "
      ]
     },
     "metadata": {},
     "output_type": "display_data"
    }
   ],
   "source": [
    "# Merge recommendations \n",
    "\n",
    "comparison_2 = (\n",
    "    recommendations_1\n",
    "    .select(\n",
    "        F.col(\"user_code\"),\n",
    "        F.col(\"recommendations.song_code\").alias(\"recommendations\").astype(ArrayType(IntegerType())),\n",
    "    )\n",
    "    .join(\n",
    "        relevant_2\n",
    "        .select(\n",
    "            F.col(\"user_code\"),\n",
    "            F.col(\"relevant.song_code\").alias(\"relevant\").astype(ArrayType(IntegerType())),\n",
    "        ),\n",
    "        on=\"user_code\",\n",
    "        how=\"inner\"\n",
    "    )\n",
    ")\n",
    "comparison_2.cache()\n",
    "\n",
    "comparison_2.printSchema()\n",
    "show_as_html(comparison_2)"
   ]
  },
  {
   "cell_type": "code",
   "execution_count": 108,
   "metadata": {},
   "outputs": [],
   "source": [
    "comparison_2_pd = comparison_2.toPandas()"
   ]
  },
  {
   "cell_type": "code",
   "execution_count": 155,
   "metadata": {},
   "outputs": [
    {
     "name": "stdout",
     "output_type": "stream",
     "text": [
      "+-----------+---------+\n",
      "|list_recomd|list_test|\n",
      "+-----------+---------+\n",
      "|    12183.0|     3362|\n",
      "|     1951.0|     1172|\n",
      "|    42557.0|    14039|\n",
      "|    32964.0|      883|\n",
      "|     7030.0|    40956|\n",
      "|    29358.0|    40934|\n",
      "|    39094.0|    35188|\n",
      "|    23781.0|    23781|\n",
      "|    32678.0|    48015|\n",
      "|     7268.0|    27033|\n",
      "|    22877.0|    14134|\n",
      "|     2611.0|     1160|\n",
      "|      272.0|    32743|\n",
      "|    40956.0|    30228|\n",
      "|    24723.0|     7394|\n",
      "|    40934.0|    38616|\n",
      "|    42788.0|    33993|\n",
      "|    42044.0|    32286|\n",
      "|     3362.0|    25139|\n",
      "|     6990.0|    45114|\n",
      "+-----------+---------+\n",
      "\n"
     ]
    }
   ],
   "source": [
    "\n",
    "# Assuming comparison_1_p is already defined and contains the necessary data\n",
    "comparison_2_pd.columns\n",
    "\n",
    "# Extract and clean the recommendations and relevant columns\n",
    "list_recomd = pd.DataFrame(list(str(comparison_2_pd.loc[0, 'recommendations']).replace('[', '').replace(']', '').split(',')), columns=['list_recomd'])\n",
    "list_test = pd.DataFrame(list(str(comparison_2_pd.loc[0, 'relevant']).replace('[', '').replace(']', '').split(',')), columns=['list_test'])\n",
    "\n",
    "# Ensure the data types are consistent (e.g., convert to integers)\n",
    "list_recomd['list_recomd'] = list_recomd['list_recomd'].astype(int)\n",
    "list_test['list_test'] = list_test['list_test'].astype(int)\n",
    "\n",
    "# Concatenate the DataFrames\n",
    "compare_2 = pd.concat([list_recomd, list_test], axis=1)\n",
    "\n",
    "\n",
    "# Convert the pandas DataFrame to a PySpark DataFrame\n",
    "compare_2_spark = spark.createDataFrame(compare_2)\n",
    "compare_2_spark =  compare_2_spark.dropna()\n",
    "\n",
    "# Show the PySpark DataFrame\n",
    "compare_2_spark.show()\n"
   ]
  },
  {
   "cell_type": "code",
   "execution_count": 156,
   "metadata": {},
   "outputs": [
    {
     "name": "stdout",
     "output_type": "stream",
     "text": [
      "+-----------+--------------------+--------------------+\n",
      "|list_recomd|               title|         artist_name|\n",
      "+-----------+--------------------+--------------------+\n",
      "|      272.0|                Halo|             Beyoncé|\n",
      "|     1951.0|Dog Days Are Over...|Florence + The Ma...|\n",
      "|    32964.0|Billionaire [feat...|        Travie McCoy|\n",
      "|    32678.0|Pursuit Of Happin...|Kid Cudi / MGMT /...|\n",
      "|    29358.0|             Secrets|         OneRepublic|\n",
      "|     2611.0|Le Courage Des Oi...|         Dominique A|\n",
      "|    12183.0|       Sehr kosmisch|            Harmonia|\n",
      "|    23781.0|           Fireflies|  Charttraxx Karaoke|\n",
      "|    22877.0|The Only Exceptio...|            Paramore|\n",
      "|    24723.0|         Bulletproof|             La Roux|\n",
      "|    40956.0|          Love Story|        Taylor Swift|\n",
      "|    40956.0|          Love Story|        Taylor Swift|\n",
      "|    39094.0|             Revelry|       Kings Of Leon|\n",
      "|    42788.0|      Drop The World|  Lil Wayne / Eminem|\n",
      "|     3362.0|Sincerité Et Jalo...|     Alliance Ethnik|\n",
      "|    40934.0|            Marry Me|               Train|\n",
      "|    42557.0|                 OMG|Usher featuring w...|\n",
      "|     7268.0|    Hey_ Soul Sister|               Train|\n",
      "|    42044.0|Nothin' On You [f...|               B.o.B|\n",
      "|    42044.0|Nothin' On You [f...|               B.o.B|\n",
      "+-----------+--------------------+--------------------+\n",
      "only showing top 20 rows\n",
      "\n",
      "+---------+--------------------+--------------------+\n",
      "|list_test|               title|         artist_name|\n",
      "+---------+--------------------+--------------------+\n",
      "|    25139| All The Right Moves|         OneRepublic|\n",
      "|    14134|  Livin' On A Prayer|            Bon Jovi|\n",
      "|    45114|One Less Lonely Girl|       Justin Bieber|\n",
      "|    32286|We Don't Stop (Ex...|         Young Bleed|\n",
      "|    14039|         Ironmasters|The Men They Coul...|\n",
      "|    33993|  Brave The Elements|            Colossal|\n",
      "|    35188|             Seppuku|           Beep Beep|\n",
      "|    23781|           Fireflies|  Charttraxx Karaoke|\n",
      "|    38616|  You Belong With Me|        Taylor Swift|\n",
      "|    40956|          Love Story|        Taylor Swift|\n",
      "|    40956|          Love Story|        Taylor Swift|\n",
      "|     1172|Heaven's Missing ...|                 98º|\n",
      "|     7394|           Breakeven|          The Script|\n",
      "|     1160|            Uprising|                Muse|\n",
      "|      883| High School Musical|High School Music...|\n",
      "|     3362|Sincerité Et Jalo...|     Alliance Ethnik|\n",
      "|    30228|    Here Without You|        3 Doors Down|\n",
      "|    32743|    Creep (Explicit)|           Radiohead|\n",
      "|    40934|            Marry Me|               Train|\n",
      "|    48015|       Electric Feel|                MGMT|\n",
      "+---------+--------------------+--------------------+\n",
      "only showing top 20 rows\n",
      "\n"
     ]
    }
   ],
   "source": [
    "# Join the dataframes on the song_code with list_recomd\n",
    "recommendation2_join = compare_2_spark.join(triplets_merge, compare_2_spark[\"list_recomd\"] == triplets_merge[\"song_code\"], \"left\").select(\"list_recomd\", \"song_id\").distinct()\n",
    "\n",
    "# Join the dataframes on the song_code with list_test\n",
    "test2_join = compare_2_spark.join(triplets_merge, compare_2_spark[\"list_test\"] == triplets_merge[\"song_code\"], \"left\").select(\"list_test\", \"song_id\").distinct()\n",
    "\n",
    "# Join recommendation_join with Main_Summary to get song details for recommendations\n",
    "recommendation2_details = recommendation2_join.join(Main_Summary, \"song_id\", \"left\").select(\"list_recomd\", \"title\", \"artist_name\")\n",
    "\n",
    "# Join test_join with Main_Summary to get song details for test data\n",
    "test2_details = test2_join.join(Main_Summary, \"song_id\", \"left\").select(\"list_test\", \"title\", \"artist_name\")\n",
    "\n",
    "# Show the result for recommendations\n",
    "recommendation2_details.show()\n",
    "\n",
    "# Show the result for test data\n",
    "test2_details.show()"
   ]
  },
  {
   "cell_type": "markdown",
   "metadata": {},
   "source": [
    "# (e)\n",
    "### Use the test set of user-song plays and recommendations from the collaborative filtering model to compute the following metrics\n",
    "• Precision @ 10\n",
    "• NDCG @ 10\n",
    "• Mean Average Precision (MAP)\n",
    "### Look up these metrics and explain why they are useful in evaluating the collaborate filtering model. Explore the limitations of these metrics in evaluating a collaborative filtering model or recommendation service in general. Suggest an alternative method for comparing two recommendation services in the real world."
   ]
  },
  {
   "cell_type": "code",
   "execution_count": 78,
   "metadata": {},
   "outputs": [
    {
     "name": "stdout",
     "output_type": "stream",
     "text": [
      "root\n",
      " |-- user_id: string (nullable = true)\n",
      " |-- song_id: string (nullable = true)\n",
      " |-- play_count: integer (nullable = true)\n",
      " |-- song_code: double (nullable = true)\n",
      " |-- user_code: double (nullable = true)\n",
      " |-- prediction: float (nullable = false)\n",
      "\n",
      "+--------------------+------------------+----------+---------+---------+------------+\n",
      "|             user_id|           song_id|play_count|song_code|user_code|  prediction|\n",
      "+--------------------+------------------+----------+---------+---------+------------+\n",
      "|2d01c6b077de771ff...|SOAAFJK12B0B80864C|         2|     12.0|  53462.0|0.0031185667|\n",
      "|d9bb23c62d223dfbf...|SOAAFJK12B0B80864C|         1|     12.0| 260149.0|0.0017182748|\n",
      "|28263aa6791f85783...|SOAAFJK12B0B80864C|        13|     12.0|  47559.0|0.0022061144|\n",
      "|2532c4ddc4983fd7b...|SOAAFJK12B0B80864C|         2|     12.0|  44059.0| 9.874108E-4|\n",
      "|26e74493d74092270...|SOAAFJK12B0B80864C|         1|     12.0|  46061.0|0.0028326935|\n",
      "|3751aa79c82043190...|SOAAFJK12B0B80864C|         1|     12.0|  65592.0|0.0022940661|\n",
      "|7795a665b6e6d04ea...|SOAAFJK12B0B80864C|         1|     12.0| 142591.0| 8.948863E-4|\n",
      "|ffc479110ada0e716...|SOAAFJK12B0B80864C|         2|     12.0| 305882.0|0.0027061952|\n",
      "|0c474e4a2bbb75c15...|SOAAFJK12B0B80864C|         1|     12.0|  14433.0|0.0017091252|\n",
      "|37232746bde6192be...|SOAAFJK12B0B80864C|         6|     12.0|  65405.0|0.0025646128|\n",
      "|3c0ca2fd8db897208...|SOAAFJK12B0B80864C|         1|     12.0|  71231.0|0.0010978277|\n",
      "|669af6032a88e9605...|SOAAFJK12B0B80864C|         1|     12.0| 122430.0| 0.002330657|\n",
      "|7c716f7720302c553...|SOAAFJK12B0B80864C|         1|     12.0| 148491.0|0.0012330569|\n",
      "|22b15c469090fd06e...|SOAAFJK12B0B80864C|         1|     12.0|  41038.0|0.0030500053|\n",
      "|22fb7dd4bf46d7a25...|SOAAFJK12B0B80864C|         1|     12.0|  41402.0|0.0015432703|\n",
      "|7f41fce662e49f249...|SOAAFJK12B0B80864C|         1|     12.0| 151955.0|0.0015278824|\n",
      "|db6a78c78c9239aba...|SOAAFJK12B0B80864C|         1|     12.0| 262178.0| 0.012209676|\n",
      "|9d084ed9ae266d0d7...|SOAAFJK12B0B80864C|         3|     12.0| 187494.0|0.0012520249|\n",
      "|a630a9e750b31ae2f...|SOAAFJK12B0B80864C|         1|     12.0| 198388.0|0.0015124102|\n",
      "|56ab332ffa0b20bbd...|SOAAFJK12B0B80864C|         1|     12.0| 103303.0|0.0048236046|\n",
      "+--------------------+------------------+----------+---------+---------+------------+\n",
      "only showing top 20 rows\n",
      "\n"
     ]
    }
   ],
   "source": [
    "pred = als_model.transform(test_df)\n",
    "pred.cache()\n",
    "\n",
    "pred.printSchema()\n",
    "pred.show()"
   ]
  },
  {
   "cell_type": "code",
   "execution_count": 79,
   "metadata": {},
   "outputs": [
    {
     "name": "stdout",
     "output_type": "stream",
     "text": [
      "root\n",
      " |-- user_code: integer (nullable = false)\n",
      " |-- recommendations: array (nullable = true)\n",
      " |    |-- element: struct (containsNull = true)\n",
      " |    |    |-- song_code: integer (nullable = true)\n",
      " |    |    |-- rating: float (nullable = true)\n",
      "\n"
     ]
    },
    {
     "data": {
      "text/html": [
       "<div>\n",
       "<style scoped>\n",
       "    .dataframe tbody tr th:only-of-type {\n",
       "        vertical-align: middle;\n",
       "    }\n",
       "\n",
       "    .dataframe tbody tr th {\n",
       "        vertical-align: top;\n",
       "    }\n",
       "\n",
       "    .dataframe thead th {\n",
       "        text-align: right;\n",
       "    }\n",
       "</style>\n",
       "<table border=\"1\" class=\"dataframe\">\n",
       "  <thead>\n",
       "    <tr style=\"text-align: right;\">\n",
       "      <th></th>\n",
       "      <th>user_code</th>\n",
       "      <th>recommendations</th>\n",
       "    </tr>\n",
       "  </thead>\n",
       "  <tbody>\n",
       "    <tr>\n",
       "      <th>0</th>\n",
       "      <td>12</td>\n",
       "      <td>[(25538, 0.24638262391090393), (50824, 0.24264...</td>\n",
       "    </tr>\n",
       "    <tr>\n",
       "      <th>1</th>\n",
       "      <td>18</td>\n",
       "      <td>[(28086, 0.561619222164154), (7268, 0.49019715...</td>\n",
       "    </tr>\n",
       "    <tr>\n",
       "      <th>2</th>\n",
       "      <td>38</td>\n",
       "      <td>[(39480, 0.03501803055405617), (26362, 0.02620...</td>\n",
       "    </tr>\n",
       "    <tr>\n",
       "      <th>3</th>\n",
       "      <td>70</td>\n",
       "      <td>[(1951, 0.8072038888931274), (33037, 0.7851885...</td>\n",
       "    </tr>\n",
       "    <tr>\n",
       "      <th>4</th>\n",
       "      <td>93</td>\n",
       "      <td>[(29997, 0.058395497500896454), (43316, 0.0541...</td>\n",
       "    </tr>\n",
       "    <tr>\n",
       "      <th>5</th>\n",
       "      <td>190</td>\n",
       "      <td>[(39094, 0.5715916156768799), (9103, 0.5555776...</td>\n",
       "    </tr>\n",
       "    <tr>\n",
       "      <th>6</th>\n",
       "      <td>218</td>\n",
       "      <td>[(22204, 0.389838844537735), (33278, 0.3557250...</td>\n",
       "    </tr>\n",
       "    <tr>\n",
       "      <th>7</th>\n",
       "      <td>273</td>\n",
       "      <td>[(31577, 0.6491141319274902), (48593, 0.640288...</td>\n",
       "    </tr>\n",
       "    <tr>\n",
       "      <th>8</th>\n",
       "      <td>300</td>\n",
       "      <td>[(1951, 0.0524410717189312), (29997, 0.0494264...</td>\n",
       "    </tr>\n",
       "    <tr>\n",
       "      <th>9</th>\n",
       "      <td>340</td>\n",
       "      <td>[(22204, 0.36393705010414124), (33278, 0.33990...</td>\n",
       "    </tr>\n",
       "    <tr>\n",
       "      <th>10</th>\n",
       "      <td>343</td>\n",
       "      <td>[(39094, 0.5246124267578125), (1746, 0.5150393...</td>\n",
       "    </tr>\n",
       "    <tr>\n",
       "      <th>11</th>\n",
       "      <td>412</td>\n",
       "      <td>[(26447, 0.4632765054702759), (8319, 0.4586597...</td>\n",
       "    </tr>\n",
       "    <tr>\n",
       "      <th>12</th>\n",
       "      <td>434</td>\n",
       "      <td>[(29358, 0.537665069103241), (45151, 0.5247883...</td>\n",
       "    </tr>\n",
       "    <tr>\n",
       "      <th>13</th>\n",
       "      <td>475</td>\n",
       "      <td>[(1951, 0.09298089891672134), (39480, 0.090303...</td>\n",
       "    </tr>\n",
       "    <tr>\n",
       "      <th>14</th>\n",
       "      <td>536</td>\n",
       "      <td>[(1694, 0.10192887485027313), (32743, 0.099400...</td>\n",
       "    </tr>\n",
       "    <tr>\n",
       "      <th>15</th>\n",
       "      <td>585</td>\n",
       "      <td>[(5187, 0.624448299407959), (23781, 0.61520165...</td>\n",
       "    </tr>\n",
       "    <tr>\n",
       "      <th>16</th>\n",
       "      <td>600</td>\n",
       "      <td>[(12183, 1.2550480365753174), (1951, 1.2058424...</td>\n",
       "    </tr>\n",
       "    <tr>\n",
       "      <th>17</th>\n",
       "      <td>611</td>\n",
       "      <td>[(1951, 0.2264583855867386), (22204, 0.2065345...</td>\n",
       "    </tr>\n",
       "    <tr>\n",
       "      <th>18</th>\n",
       "      <td>615</td>\n",
       "      <td>[(40884, 0.19668160378932953), (25881, 0.18614...</td>\n",
       "    </tr>\n",
       "    <tr>\n",
       "      <th>19</th>\n",
       "      <td>619</td>\n",
       "      <td>[(40276, 0.2110709846019745), (15002, 0.191072...</td>\n",
       "    </tr>\n",
       "  </tbody>\n",
       "</table>\n",
       "</div>"
      ],
      "text/plain": [
       "    user_code                                    recommendations\n",
       "0          12  [(25538, 0.24638262391090393), (50824, 0.24264...\n",
       "1          18  [(28086, 0.561619222164154), (7268, 0.49019715...\n",
       "2          38  [(39480, 0.03501803055405617), (26362, 0.02620...\n",
       "3          70  [(1951, 0.8072038888931274), (33037, 0.7851885...\n",
       "4          93  [(29997, 0.058395497500896454), (43316, 0.0541...\n",
       "5         190  [(39094, 0.5715916156768799), (9103, 0.5555776...\n",
       "6         218  [(22204, 0.389838844537735), (33278, 0.3557250...\n",
       "7         273  [(31577, 0.6491141319274902), (48593, 0.640288...\n",
       "8         300  [(1951, 0.0524410717189312), (29997, 0.0494264...\n",
       "9         340  [(22204, 0.36393705010414124), (33278, 0.33990...\n",
       "10        343  [(39094, 0.5246124267578125), (1746, 0.5150393...\n",
       "11        412  [(26447, 0.4632765054702759), (8319, 0.4586597...\n",
       "12        434  [(29358, 0.537665069103241), (45151, 0.5247883...\n",
       "13        475  [(1951, 0.09298089891672134), (39480, 0.090303...\n",
       "14        536  [(1694, 0.10192887485027313), (32743, 0.099400...\n",
       "15        585  [(5187, 0.624448299407959), (23781, 0.61520165...\n",
       "16        600  [(12183, 1.2550480365753174), (1951, 1.2058424...\n",
       "17        611  [(1951, 0.2264583855867386), (22204, 0.2065345...\n",
       "18        615  [(40884, 0.19668160378932953), (25881, 0.18614...\n",
       "19        619  [(40276, 0.2110709846019745), (15002, 0.191072..."
      ]
     },
     "metadata": {},
     "output_type": "display_data"
    }
   ],
   "source": [
    "# Generate recommendations\n",
    "k = 10\n",
    "\n",
    "recommendations = als_model.recommendForAllUsers(k)\n",
    "\n",
    "recommendations.printSchema()\n",
    "show_as_html(recommendations)"
   ]
  },
  {
   "cell_type": "code",
   "execution_count": 80,
   "metadata": {},
   "outputs": [
    {
     "name": "stdout",
     "output_type": "stream",
     "text": [
      "root\n",
      " |-- user_code: double (nullable = true)\n",
      " |-- relevant: array (nullable = false)\n",
      " |    |-- element: struct (containsNull = false)\n",
      " |    |    |-- play_count: integer (nullable = true)\n",
      " |    |    |-- song_code: double (nullable = true)\n",
      "\n"
     ]
    },
    {
     "data": {
      "text/html": [
       "<div>\n",
       "<style scoped>\n",
       "    .dataframe tbody tr th:only-of-type {\n",
       "        vertical-align: middle;\n",
       "    }\n",
       "\n",
       "    .dataframe tbody tr th {\n",
       "        vertical-align: top;\n",
       "    }\n",
       "\n",
       "    .dataframe thead th {\n",
       "        text-align: right;\n",
       "    }\n",
       "</style>\n",
       "<table border=\"1\" class=\"dataframe\">\n",
       "  <thead>\n",
       "    <tr style=\"text-align: right;\">\n",
       "      <th></th>\n",
       "      <th>user_code</th>\n",
       "      <th>relevant</th>\n",
       "    </tr>\n",
       "  </thead>\n",
       "  <tbody>\n",
       "    <tr>\n",
       "      <th>0</th>\n",
       "      <td>6.0</td>\n",
       "      <td>[(26, 2195.0), (17, 33036.0)]</td>\n",
       "    </tr>\n",
       "    <tr>\n",
       "      <th>1</th>\n",
       "      <td>13.0</td>\n",
       "      <td>[(11, 29234.0), (10, 10403.0), (7, 25314.0), (...</td>\n",
       "    </tr>\n",
       "    <tr>\n",
       "      <th>2</th>\n",
       "      <td>99.0</td>\n",
       "      <td>[(10, 48629.0), (10, 40883.0), (4, 46220.0), (...</td>\n",
       "    </tr>\n",
       "    <tr>\n",
       "      <th>3</th>\n",
       "      <td>106.0</td>\n",
       "      <td>[(4, 9239.0), (3, 9659.0), (1, 51495.0), (1, 5...</td>\n",
       "    </tr>\n",
       "    <tr>\n",
       "      <th>4</th>\n",
       "      <td>122.0</td>\n",
       "      <td>[(33, 39094.0), (29, 3343.0), (16, 1746.0), (4...</td>\n",
       "    </tr>\n",
       "    <tr>\n",
       "      <th>5</th>\n",
       "      <td>194.0</td>\n",
       "      <td>[(14, 31301.0), (14, 14192.0), (11, 35482.0), ...</td>\n",
       "    </tr>\n",
       "    <tr>\n",
       "      <th>6</th>\n",
       "      <td>196.0</td>\n",
       "      <td>[(12, 22840.0), (11, 7725.0), (7, 47675.0), (6...</td>\n",
       "    </tr>\n",
       "    <tr>\n",
       "      <th>7</th>\n",
       "      <td>209.0</td>\n",
       "      <td>[(11, 17250.0), (10, 50533.0), (6, 51607.0), (...</td>\n",
       "    </tr>\n",
       "    <tr>\n",
       "      <th>8</th>\n",
       "      <td>215.0</td>\n",
       "      <td>[(14, 43111.0), (9, 26962.0), (8, 15837.0), (6...</td>\n",
       "    </tr>\n",
       "    <tr>\n",
       "      <th>9</th>\n",
       "      <td>350.0</td>\n",
       "      <td>[(15, 37707.0), (6, 34602.0), (6, 33932.0), (4...</td>\n",
       "    </tr>\n",
       "    <tr>\n",
       "      <th>10</th>\n",
       "      <td>355.0</td>\n",
       "      <td>[(12, 9465.0), (6, 36627.0), (4, 3343.0), (3, ...</td>\n",
       "    </tr>\n",
       "    <tr>\n",
       "      <th>11</th>\n",
       "      <td>364.0</td>\n",
       "      <td>[(10, 10923.0), (2, 44682.0), (2, 39747.0), (1...</td>\n",
       "    </tr>\n",
       "    <tr>\n",
       "      <th>12</th>\n",
       "      <td>365.0</td>\n",
       "      <td>[(3, 45012.0), (3, 39739.0), (3, 34087.0), (3,...</td>\n",
       "    </tr>\n",
       "    <tr>\n",
       "      <th>13</th>\n",
       "      <td>369.0</td>\n",
       "      <td>[(6, 1951.0), (5, 31577.0), (5, 17993.0), (2, ...</td>\n",
       "    </tr>\n",
       "    <tr>\n",
       "      <th>14</th>\n",
       "      <td>411.0</td>\n",
       "      <td>[(15, 17368.0), (5, 50715.0), (4, 24907.0), (1...</td>\n",
       "    </tr>\n",
       "    <tr>\n",
       "      <th>15</th>\n",
       "      <td>480.0</td>\n",
       "      <td>[(6, 28023.0), (4, 19196.0), (3, 34602.0), (3,...</td>\n",
       "    </tr>\n",
       "    <tr>\n",
       "      <th>16</th>\n",
       "      <td>485.0</td>\n",
       "      <td>[(12, 8226.0), (5, 36628.0), (4, 10805.0), (4,...</td>\n",
       "    </tr>\n",
       "    <tr>\n",
       "      <th>17</th>\n",
       "      <td>490.0</td>\n",
       "      <td>[(43, 13466.0), (24, 23894.0), (23, 2254.0), (...</td>\n",
       "    </tr>\n",
       "    <tr>\n",
       "      <th>18</th>\n",
       "      <td>496.0</td>\n",
       "      <td>[(13, 10097.0), (12, 49926.0), (6, 26870.0), (...</td>\n",
       "    </tr>\n",
       "    <tr>\n",
       "      <th>19</th>\n",
       "      <td>497.0</td>\n",
       "      <td>[(5, 42010.0), (5, 22833.0), (2, 37320.0), (2,...</td>\n",
       "    </tr>\n",
       "  </tbody>\n",
       "</table>\n",
       "</div>"
      ],
      "text/plain": [
       "    user_code                                           relevant\n",
       "0         6.0                      [(26, 2195.0), (17, 33036.0)]\n",
       "1        13.0  [(11, 29234.0), (10, 10403.0), (7, 25314.0), (...\n",
       "2        99.0  [(10, 48629.0), (10, 40883.0), (4, 46220.0), (...\n",
       "3       106.0  [(4, 9239.0), (3, 9659.0), (1, 51495.0), (1, 5...\n",
       "4       122.0  [(33, 39094.0), (29, 3343.0), (16, 1746.0), (4...\n",
       "5       194.0  [(14, 31301.0), (14, 14192.0), (11, 35482.0), ...\n",
       "6       196.0  [(12, 22840.0), (11, 7725.0), (7, 47675.0), (6...\n",
       "7       209.0  [(11, 17250.0), (10, 50533.0), (6, 51607.0), (...\n",
       "8       215.0  [(14, 43111.0), (9, 26962.0), (8, 15837.0), (6...\n",
       "9       350.0  [(15, 37707.0), (6, 34602.0), (6, 33932.0), (4...\n",
       "10      355.0  [(12, 9465.0), (6, 36627.0), (4, 3343.0), (3, ...\n",
       "11      364.0  [(10, 10923.0), (2, 44682.0), (2, 39747.0), (1...\n",
       "12      365.0  [(3, 45012.0), (3, 39739.0), (3, 34087.0), (3,...\n",
       "13      369.0  [(6, 1951.0), (5, 31577.0), (5, 17993.0), (2, ...\n",
       "14      411.0  [(15, 17368.0), (5, 50715.0), (4, 24907.0), (1...\n",
       "15      480.0  [(6, 28023.0), (4, 19196.0), (3, 34602.0), (3,...\n",
       "16      485.0  [(12, 8226.0), (5, 36628.0), (4, 10805.0), (4,...\n",
       "17      490.0  [(43, 13466.0), (24, 23894.0), (23, 2254.0), (...\n",
       "18      496.0  [(13, 10097.0), (12, 49926.0), (6, 26870.0), (...\n",
       "19      497.0  [(5, 42010.0), (5, 22833.0), (2, 37320.0), (2,..."
      ]
     },
     "metadata": {},
     "output_type": "display_data"
    }
   ],
   "source": [
    "relevant = (\n",
    "    test_df\n",
    "    .groupBy(\"user_code\")\n",
    "    .agg(\n",
    "        F.reverse(F.sort_array(F.collect_list(\n",
    "            F.struct(\n",
    "                F.col(\"play_count\"),\n",
    "                F.col(\"song_code\"),\n",
    "            )\n",
    "        ))).alias(\"relevant\")\n",
    "    )\n",
    ")\n",
    "relevant.printSchema()\n",
    "relevant.cache()\n",
    "show_as_html(relevant)"
   ]
  },
  {
   "cell_type": "code",
   "execution_count": 81,
   "metadata": {},
   "outputs": [
    {
     "name": "stdout",
     "output_type": "stream",
     "text": [
      "root\n",
      " |-- user_code: integer (nullable = false)\n",
      " |-- recommendations: array (nullable = true)\n",
      " |    |-- element: double (containsNull = true)\n",
      " |-- relevant: array (nullable = false)\n",
      " |    |-- element: double (containsNull = true)\n",
      "\n"
     ]
    },
    {
     "data": {
      "text/html": [
       "<div>\n",
       "<style scoped>\n",
       "    .dataframe tbody tr th:only-of-type {\n",
       "        vertical-align: middle;\n",
       "    }\n",
       "\n",
       "    .dataframe tbody tr th {\n",
       "        vertical-align: top;\n",
       "    }\n",
       "\n",
       "    .dataframe thead th {\n",
       "        text-align: right;\n",
       "    }\n",
       "</style>\n",
       "<table border=\"1\" class=\"dataframe\">\n",
       "  <thead>\n",
       "    <tr style=\"text-align: right;\">\n",
       "      <th></th>\n",
       "      <th>user_code</th>\n",
       "      <th>recommendations</th>\n",
       "      <th>relevant</th>\n",
       "    </tr>\n",
       "  </thead>\n",
       "  <tbody>\n",
       "    <tr>\n",
       "      <th>0</th>\n",
       "      <td>6</td>\n",
       "      <td>[32743.0, 43316.0, 15778.0, 40884.0, 28475.0, ...</td>\n",
       "      <td>[2195.0, 33036.0]</td>\n",
       "    </tr>\n",
       "    <tr>\n",
       "      <th>1</th>\n",
       "      <td>13</td>\n",
       "      <td>[43316.0, 33037.0, 29997.0, 24226.0, 44351.0, ...</td>\n",
       "      <td>[29234.0, 10403.0, 25314.0, 39515.0, 33528.0, ...</td>\n",
       "    </tr>\n",
       "    <tr>\n",
       "      <th>2</th>\n",
       "      <td>99</td>\n",
       "      <td>[40276.0, 3590.0, 33993.0, 38030.0, 1694.0, 38...</td>\n",
       "      <td>[48629.0, 40883.0, 46220.0, 52477.0, 51060.0, ...</td>\n",
       "    </tr>\n",
       "    <tr>\n",
       "      <th>3</th>\n",
       "      <td>106</td>\n",
       "      <td>[1951.0, 33037.0, 11651.0, 871.0, 10923.0, 380...</td>\n",
       "      <td>[9239.0, 9659.0, 51495.0, 50838.0, 46772.0, 46...</td>\n",
       "    </tr>\n",
       "    <tr>\n",
       "      <th>4</th>\n",
       "      <td>122</td>\n",
       "      <td>[29951.0, 39094.0, 9103.0, 33037.0, 41452.0, 3...</td>\n",
       "      <td>[39094.0, 3343.0, 1746.0, 1951.0, 46543.0, 463...</td>\n",
       "    </tr>\n",
       "    <tr>\n",
       "      <th>5</th>\n",
       "      <td>194</td>\n",
       "      <td>[3362.0, 26313.0, 33993.0, 40276.0, 3590.0, 16...</td>\n",
       "      <td>[31301.0, 14192.0, 35482.0, 39022.0, 3163.0, 4...</td>\n",
       "    </tr>\n",
       "    <tr>\n",
       "      <th>6</th>\n",
       "      <td>196</td>\n",
       "      <td>[1694.0, 20645.0, 28475.0, 43316.0, 32743.0, 4...</td>\n",
       "      <td>[22840.0, 7725.0, 47675.0, 27643.0, 1646.0, 46...</td>\n",
       "    </tr>\n",
       "    <tr>\n",
       "      <th>7</th>\n",
       "      <td>209</td>\n",
       "      <td>[12183.0, 16582.0, 3362.0, 42199.0, 1746.0, 47...</td>\n",
       "      <td>[17250.0, 50533.0, 51607.0, 34074.0, 37321.0, ...</td>\n",
       "    </tr>\n",
       "    <tr>\n",
       "      <th>8</th>\n",
       "      <td>215</td>\n",
       "      <td>[33662.0, 6634.0, 27902.0, 10988.0, 2611.0, 10...</td>\n",
       "      <td>[43111.0, 26962.0, 15837.0, 590.0, 40973.0, 32...</td>\n",
       "    </tr>\n",
       "    <tr>\n",
       "      <th>9</th>\n",
       "      <td>350</td>\n",
       "      <td>[42150.0, 25584.0, 33662.0, 43316.0, 5371.0, 1...</td>\n",
       "      <td>[37707.0, 34602.0, 33932.0, 32678.0, 47076.0, ...</td>\n",
       "    </tr>\n",
       "    <tr>\n",
       "      <th>10</th>\n",
       "      <td>355</td>\n",
       "      <td>[33037.0, 25538.0, 50824.0, 15431.0, 43333.0, ...</td>\n",
       "      <td>[9465.0, 36627.0, 3343.0, 39480.0, 45167.0, 23...</td>\n",
       "    </tr>\n",
       "    <tr>\n",
       "      <th>11</th>\n",
       "      <td>364</td>\n",
       "      <td>[16582.0, 12183.0, 42199.0, 1746.0, 3362.0, 33...</td>\n",
       "      <td>[10923.0, 44682.0, 39747.0, 4530.0, 2031.0]</td>\n",
       "    </tr>\n",
       "    <tr>\n",
       "      <th>12</th>\n",
       "      <td>365</td>\n",
       "      <td>[41916.0, 42788.0, 1160.0, 34087.0, 5187.0, 50...</td>\n",
       "      <td>[45012.0, 39739.0, 34087.0, 4519.0, 51610.0, 3...</td>\n",
       "    </tr>\n",
       "    <tr>\n",
       "      <th>13</th>\n",
       "      <td>369</td>\n",
       "      <td>[1951.0, 48593.0, 40884.0, 31577.0, 15453.0, 3...</td>\n",
       "      <td>[1951.0, 31577.0, 17993.0, 45030.0, 34212.0, 1...</td>\n",
       "    </tr>\n",
       "    <tr>\n",
       "      <th>14</th>\n",
       "      <td>411</td>\n",
       "      <td>[39480.0, 9889.0, 471.0, 24265.0, 5187.0, 6990...</td>\n",
       "      <td>[17368.0, 50715.0, 24907.0, 47261.0, 29795.0]</td>\n",
       "    </tr>\n",
       "    <tr>\n",
       "      <th>15</th>\n",
       "      <td>480</td>\n",
       "      <td>[39480.0, 9889.0, 31577.0, 32328.0, 48593.0, 1...</td>\n",
       "      <td>[28023.0, 19196.0, 34602.0, 34428.0, 5316.0, 5...</td>\n",
       "    </tr>\n",
       "    <tr>\n",
       "      <th>16</th>\n",
       "      <td>485</td>\n",
       "      <td>[1951.0, 29997.0, 15077.0, 1773.0, 10923.0, 15...</td>\n",
       "      <td>[8226.0, 36628.0, 10805.0, 5436.0, 227.0, 2267...</td>\n",
       "    </tr>\n",
       "    <tr>\n",
       "      <th>17</th>\n",
       "      <td>490</td>\n",
       "      <td>[39480.0, 12183.0, 9889.0, 11232.0, 26362.0, 1...</td>\n",
       "      <td>[13466.0, 23894.0, 2254.0, 46409.0, 49957.0, 1...</td>\n",
       "    </tr>\n",
       "    <tr>\n",
       "      <th>18</th>\n",
       "      <td>496</td>\n",
       "      <td>[27902.0, 33662.0, 1056.0, 48797.0, 16582.0, 2...</td>\n",
       "      <td>[10097.0, 49926.0, 26870.0, 413.0, 25046.0, 47...</td>\n",
       "    </tr>\n",
       "    <tr>\n",
       "      <th>19</th>\n",
       "      <td>497</td>\n",
       "      <td>[1951.0, 31577.0, 48593.0, 15453.0, 31242.0, 2...</td>\n",
       "      <td>[42010.0, 22833.0, 37320.0, 37287.0, 34037.0, ...</td>\n",
       "    </tr>\n",
       "  </tbody>\n",
       "</table>\n",
       "</div>"
      ],
      "text/plain": [
       "    user_code                                    recommendations  \\\n",
       "0           6  [32743.0, 43316.0, 15778.0, 40884.0, 28475.0, ...   \n",
       "1          13  [43316.0, 33037.0, 29997.0, 24226.0, 44351.0, ...   \n",
       "2          99  [40276.0, 3590.0, 33993.0, 38030.0, 1694.0, 38...   \n",
       "3         106  [1951.0, 33037.0, 11651.0, 871.0, 10923.0, 380...   \n",
       "4         122  [29951.0, 39094.0, 9103.0, 33037.0, 41452.0, 3...   \n",
       "5         194  [3362.0, 26313.0, 33993.0, 40276.0, 3590.0, 16...   \n",
       "6         196  [1694.0, 20645.0, 28475.0, 43316.0, 32743.0, 4...   \n",
       "7         209  [12183.0, 16582.0, 3362.0, 42199.0, 1746.0, 47...   \n",
       "8         215  [33662.0, 6634.0, 27902.0, 10988.0, 2611.0, 10...   \n",
       "9         350  [42150.0, 25584.0, 33662.0, 43316.0, 5371.0, 1...   \n",
       "10        355  [33037.0, 25538.0, 50824.0, 15431.0, 43333.0, ...   \n",
       "11        364  [16582.0, 12183.0, 42199.0, 1746.0, 3362.0, 33...   \n",
       "12        365  [41916.0, 42788.0, 1160.0, 34087.0, 5187.0, 50...   \n",
       "13        369  [1951.0, 48593.0, 40884.0, 31577.0, 15453.0, 3...   \n",
       "14        411  [39480.0, 9889.0, 471.0, 24265.0, 5187.0, 6990...   \n",
       "15        480  [39480.0, 9889.0, 31577.0, 32328.0, 48593.0, 1...   \n",
       "16        485  [1951.0, 29997.0, 15077.0, 1773.0, 10923.0, 15...   \n",
       "17        490  [39480.0, 12183.0, 9889.0, 11232.0, 26362.0, 1...   \n",
       "18        496  [27902.0, 33662.0, 1056.0, 48797.0, 16582.0, 2...   \n",
       "19        497  [1951.0, 31577.0, 48593.0, 15453.0, 31242.0, 2...   \n",
       "\n",
       "                                             relevant  \n",
       "0                                   [2195.0, 33036.0]  \n",
       "1   [29234.0, 10403.0, 25314.0, 39515.0, 33528.0, ...  \n",
       "2   [48629.0, 40883.0, 46220.0, 52477.0, 51060.0, ...  \n",
       "3   [9239.0, 9659.0, 51495.0, 50838.0, 46772.0, 46...  \n",
       "4   [39094.0, 3343.0, 1746.0, 1951.0, 46543.0, 463...  \n",
       "5   [31301.0, 14192.0, 35482.0, 39022.0, 3163.0, 4...  \n",
       "6   [22840.0, 7725.0, 47675.0, 27643.0, 1646.0, 46...  \n",
       "7   [17250.0, 50533.0, 51607.0, 34074.0, 37321.0, ...  \n",
       "8   [43111.0, 26962.0, 15837.0, 590.0, 40973.0, 32...  \n",
       "9   [37707.0, 34602.0, 33932.0, 32678.0, 47076.0, ...  \n",
       "10  [9465.0, 36627.0, 3343.0, 39480.0, 45167.0, 23...  \n",
       "11        [10923.0, 44682.0, 39747.0, 4530.0, 2031.0]  \n",
       "12  [45012.0, 39739.0, 34087.0, 4519.0, 51610.0, 3...  \n",
       "13  [1951.0, 31577.0, 17993.0, 45030.0, 34212.0, 1...  \n",
       "14      [17368.0, 50715.0, 24907.0, 47261.0, 29795.0]  \n",
       "15  [28023.0, 19196.0, 34602.0, 34428.0, 5316.0, 5...  \n",
       "16  [8226.0, 36628.0, 10805.0, 5436.0, 227.0, 2267...  \n",
       "17  [13466.0, 23894.0, 2254.0, 46409.0, 49957.0, 1...  \n",
       "18  [10097.0, 49926.0, 26870.0, 413.0, 25046.0, 47...  \n",
       "19  [42010.0, 22833.0, 37320.0, 37287.0, 34037.0, ...  "
      ]
     },
     "metadata": {},
     "output_type": "display_data"
    }
   ],
   "source": [
    "# Merge recommendations and relevant items so they can be compared\n",
    "\n",
    "temp = (\n",
    "    recommendations\n",
    "    .select(\n",
    "        F.col(\"user_code\"),\n",
    "        F.col(\"recommendations.song_code\").alias(\"recommendations\").astype(ArrayType(DoubleType())),\n",
    "    )\n",
    "    .join(\n",
    "        relevant\n",
    "        .select(\n",
    "            F.col(\"user_code\"),\n",
    "            F.col(\"relevant.song_code\").alias(\"relevant\").astype(ArrayType(DoubleType())),\n",
    "        ),\n",
    "        on=\"user_code\",\n",
    "        how=\"inner\"\n",
    "    )\n",
    ")\n",
    "temp.cache()\n",
    "\n",
    "temp.printSchema()\n",
    "show_as_html(temp)"
   ]
  },
  {
   "cell_type": "code",
   "execution_count": 82,
   "metadata": {},
   "outputs": [
    {
     "name": "stdout",
     "output_type": "stream",
     "text": [
      "metrics\n",
      "precision 0.04705\n",
      "MAP 0.02112\n",
      "NDCG  0.05353\n"
     ]
    }
   ],
   "source": [
    "from pyspark.ml.evaluation import RankingEvaluator\n",
    "\n",
    "k = 10\n",
    "\n",
    "evaluator = RankingEvaluator(predictionCol=\"recommendations\", labelCol=\"relevant\")\n",
    "\n",
    "precisionAtK = evaluator.evaluate(temp, {evaluator.metricName: \"precisionAtK\",            evaluator.k: k})\n",
    "mapAtK       = evaluator.evaluate(temp, {evaluator.metricName: \"meanAveragePrecisionAtK\", evaluator.k: k})\n",
    "ndcgAtK      = evaluator.evaluate(temp, {evaluator.metricName: \"ndcgAtK\",                 evaluator.k: k})\n",
    "\n",
    "print(f'metrics')\n",
    "print(f'precision {precisionAtK:.5f}')\n",
    "print(f'MAP {mapAtK:.5f}')\n",
    "print(f'NDCG  {ndcgAtK:.5f}')"
   ]
  },
  {
   "cell_type": "code",
   "execution_count": 165,
   "metadata": {},
   "outputs": [
    {
     "data": {
      "text/html": [
       "<p><b>Spark</b></p><p>The spark session is <b><span style=\"color:red\">stopped</span></b>, confirm that <code>uwi14 (jupyter)</code> is under the completed applications section in the Spark UI.</p><ul><li><a href=\"http://mathmadslinux2p.canterbury.ac.nz:8080/\" target=\"_blank\">Spark UI</a></li></ul>"
      ],
      "text/plain": [
       "<IPython.core.display.HTML object>"
      ]
     },
     "metadata": {},
     "output_type": "display_data"
    }
   ],
   "source": [
    "# Run this cell before closing the notebook or kill your spark application by hand using the link in the Spark UI\n",
    "\n",
    "stop_spark()"
   ]
  },
  {
   "cell_type": "code",
   "execution_count": null,
   "metadata": {},
   "outputs": [],
   "source": []
  }
 ],
 "metadata": {
  "kernelspec": {
   "display_name": "Python 3 (ipykernel)",
   "language": "python",
   "name": "python3"
  },
  "language_info": {
   "codemirror_mode": {
    "name": "ipython",
    "version": 3
   },
   "file_extension": ".py",
   "mimetype": "text/x-python",
   "name": "python",
   "nbconvert_exporter": "python",
   "pygments_lexer": "ipython3",
   "version": "3.12.3"
  }
 },
 "nbformat": 4,
 "nbformat_minor": 4
}
