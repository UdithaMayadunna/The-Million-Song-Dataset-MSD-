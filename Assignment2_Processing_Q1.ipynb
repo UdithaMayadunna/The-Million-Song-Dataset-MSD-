{
 "cells": [
  {
   "cell_type": "code",
   "execution_count": 1,
   "metadata": {},
   "outputs": [
    {
     "data": {
      "text/html": [
       "<style>pre { white-space: pre !important; }table.dataframe td { white-space: nowrap !important; }table.dataframe thead th:first-child, table.dataframe tbody th { display: none; }</style>"
      ],
      "text/plain": [
       "<IPython.core.display.HTML object>"
      ]
     },
     "metadata": {},
     "output_type": "display_data"
    }
   ],
   "source": [
    "# Run this cell to import pyspark and to define start_spark() and stop_spark()\n",
    "\n",
    "import findspark\n",
    "\n",
    "findspark.init()\n",
    "\n",
    "import getpass\n",
    "import pandas\n",
    "import pyspark\n",
    "import random\n",
    "import re\n",
    "\n",
    "from IPython.display import display, HTML\n",
    "from pyspark import SparkContext\n",
    "from pyspark.sql import SparkSession\n",
    "\n",
    "\n",
    "# Functions used below\n",
    "\n",
    "def username():\n",
    "    \"\"\"Get username with any domain information removed.\n",
    "    \"\"\"\n",
    "\n",
    "    return re.sub('@.*', '', getpass.getuser())\n",
    "\n",
    "\n",
    "def dict_to_html(d):\n",
    "    \"\"\"Convert a Python dictionary into a two column table for display.\n",
    "    \"\"\"\n",
    "\n",
    "    html = []\n",
    "\n",
    "    html.append(f'<table width=\"100%\" style=\"width:100%; font-family: monospace;\">')\n",
    "    for k, v in d.items():\n",
    "        html.append(f'<tr><td style=\"text-align:left;\">{k}</td><td>{v}</td></tr>')\n",
    "    html.append(f'</table>')\n",
    "\n",
    "    return ''.join(html)\n",
    "\n",
    "\n",
    "def show_as_html(df, n=20):\n",
    "    \"\"\"Leverage existing pandas jupyter integration to show a spark dataframe as html.\n",
    "    \n",
    "    Args:\n",
    "        n (int): number of rows to show (default: 20)\n",
    "    \"\"\"\n",
    "\n",
    "    display(df.limit(n).toPandas())\n",
    "\n",
    "    \n",
    "def display_spark():\n",
    "    \"\"\"Display the status of the active Spark session if one is currently running.\n",
    "    \"\"\"\n",
    "    \n",
    "    if 'spark' in globals() and 'sc' in globals():\n",
    "\n",
    "        name = sc.getConf().get(\"spark.app.name\")\n",
    "        \n",
    "        html = [\n",
    "            f'<p><b>Spark</b></p>',\n",
    "            f'<p>The spark session is <b><span style=\"color:green\">active</span></b>, look for <code>{name}</code> under the running applications section in the Spark UI.</p>',\n",
    "            f'<ul>',\n",
    "            f'<li><a href=\"http://mathmadslinux2p.canterbury.ac.nz:8080/\" target=\"_blank\">Spark UI</a></li>',\n",
    "            f'<li><a href=\"{sc.uiWebUrl}\" target=\"_blank\">Spark Application UI</a></li>',\n",
    "            f'</ul>',\n",
    "            f'<p><b>Config</b></p>',\n",
    "            dict_to_html(dict(sc.getConf().getAll())),\n",
    "            f'<p><b>Notes</b></p>',\n",
    "            f'<ul>',\n",
    "            f'<li>The spark session <code>spark</code> and spark context <code>sc</code> global variables have been defined by <code>start_spark()</code>.</li>',\n",
    "            f'<li>Please run <code>stop_spark()</code> before closing the notebook or restarting the kernel or kill <code>{name}</code> by hand using the link in the Spark UI.</li>',\n",
    "            f'</ul>',\n",
    "        ]\n",
    "        display(HTML(''.join(html)))\n",
    "        \n",
    "    else:\n",
    "        \n",
    "        html = [\n",
    "            f'<p><b>Spark</b></p>',\n",
    "            f'<p>The spark session is <b><span style=\"color:red\">stopped</span></b>, confirm that <code>{username() + \" (jupyter)\"}</code> is under the completed applications section in the Spark UI.</p>',\n",
    "            f'<ul>',\n",
    "            f'<li><a href=\"http://mathmadslinux2p.canterbury.ac.nz:8080/\" target=\"_blank\">Spark UI</a></li>',\n",
    "            f'</ul>',\n",
    "        ]\n",
    "        display(HTML(''.join(html)))\n",
    "\n",
    "\n",
    "# Functions to start and stop spark\n",
    "\n",
    "def start_spark(executor_instances=2, executor_cores=1, worker_memory=1, master_memory=1):\n",
    "    \"\"\"Start a new Spark session and define globals for SparkSession (spark) and SparkContext (sc).\n",
    "    \n",
    "    Args:\n",
    "        executor_instances (int): number of executors (default: 2)\n",
    "        executor_cores (int): number of cores per executor (default: 1)\n",
    "        worker_memory (float): worker memory (default: 1)\n",
    "        master_memory (float): master memory (default: 1)\n",
    "    \"\"\"\n",
    "\n",
    "    global spark\n",
    "    global sc\n",
    "\n",
    "    user = username()\n",
    "    \n",
    "    cores = executor_instances * executor_cores\n",
    "    partitions = cores * 4\n",
    "    port = 4000 + random.randint(1, 999)\n",
    "\n",
    "    spark = (\n",
    "        SparkSession.builder\n",
    "        .master(\"spark://masternode2:7077\")\n",
    "        .config(\"spark.driver.extraJavaOptions\", f\"-Dderby.system.home=/tmp/{user}/spark/\")\n",
    "        .config(\"spark.dynamicAllocation.enabled\", \"false\")\n",
    "        .config(\"spark.executor.instances\", str(executor_instances))\n",
    "        .config(\"spark.executor.cores\", str(executor_cores))\n",
    "        .config(\"spark.cores.max\", str(cores))\n",
    "        .config(\"spark.executor.memory\", f\"{worker_memory}g\")\n",
    "        .config(\"spark.driver.memory\", f\"{master_memory}g\")\n",
    "        .config(\"spark.driver.maxResultSize\", \"0\")\n",
    "        .config(\"spark.sql.shuffle.partitions\", str(partitions))\n",
    "        .config(\"spark.ui.port\", str(port))\n",
    "        .appName(user + \" (jupyter)\")\n",
    "        .getOrCreate()\n",
    "    )\n",
    "    sc = SparkContext.getOrCreate()\n",
    "    \n",
    "    display_spark()\n",
    "\n",
    "    \n",
    "def stop_spark():\n",
    "    \"\"\"Stop the active Spark session and delete globals for SparkSession (spark) and SparkContext (sc).\n",
    "    \"\"\"\n",
    "\n",
    "    global spark\n",
    "    global sc\n",
    "\n",
    "    if 'spark' in globals() and 'sc' in globals():\n",
    "\n",
    "        spark.stop()\n",
    "\n",
    "        del spark\n",
    "        del sc\n",
    "\n",
    "    display_spark()\n",
    "\n",
    "\n",
    "# Make css changes to improve spark output readability\n",
    "\n",
    "html = [\n",
    "    '<style>',\n",
    "    'pre { white-space: pre !important; }',\n",
    "    'table.dataframe td { white-space: nowrap !important; }',\n",
    "    'table.dataframe thead th:first-child, table.dataframe tbody th { display: none; }',\n",
    "    '</style>',\n",
    "]\n",
    "display(HTML(''.join(html)))"
   ]
  },
  {
   "cell_type": "code",
   "execution_count": 46,
   "metadata": {},
   "outputs": [
    {
     "name": "stdout",
     "output_type": "stream",
     "text": [
      "ideal # partitions = 32\n"
     ]
    }
   ],
   "source": [
    "# Determine ideal number of partitions\n",
    "\n",
    "conf = sc.getConf()\n",
    "\n",
    "N = int(conf.get(\"spark.executor.instances\"))\n",
    "M = int(conf.get(\"spark.executor.cores\"))\n",
    "partitions = 4 * N * M\n",
    "\n",
    "print(f'ideal # partitions = {partitions}')"
   ]
  },
  {
   "cell_type": "code",
   "execution_count": 2,
   "metadata": {},
   "outputs": [
    {
     "data": {
      "text/html": [
       "<p><b>Spark</b></p><p>The spark session is <b><span style=\"color:green\">active</span></b>, look for <code>uwi14 (jupyter)</code> under the running applications section in the Spark UI.</p><ul><li><a href=\"http://mathmadslinux2p.canterbury.ac.nz:8080/\" target=\"_blank\">Spark UI</a></li><li><a href=\"http://mathmadslinux2p.canterbury.ac.nz:4462\" target=\"_blank\">Spark Application UI</a></li></ul><p><b>Config</b></p><table width=\"100%\" style=\"width:100%; font-family: monospace;\"><tr><td style=\"text-align:left;\">spark.dynamicAllocation.enabled</td><td>false</td></tr><tr><td style=\"text-align:left;\">spark.executor.instances</td><td>4</td></tr><tr><td style=\"text-align:left;\">spark.sql.warehouse.dir</td><td>file:/users/home/uwi14/Uditha/Assignment2/spark-warehouse</td></tr><tr><td style=\"text-align:left;\">spark.driver.port</td><td>40651</td></tr><tr><td style=\"text-align:left;\">spark.driver.memory</td><td>4g</td></tr><tr><td style=\"text-align:left;\">spark.executor.memory</td><td>4g</td></tr><tr><td style=\"text-align:left;\">spark.master</td><td>spark://masternode2:7077</td></tr><tr><td style=\"text-align:left;\">spark.app.startTime</td><td>1717366645773</td></tr><tr><td style=\"text-align:left;\">spark.executor.id</td><td>driver</td></tr><tr><td style=\"text-align:left;\">spark.executor.cores</td><td>2</td></tr><tr><td style=\"text-align:left;\">spark.driver.host</td><td>mathmadslinux2p.canterbury.ac.nz</td></tr><tr><td style=\"text-align:left;\">spark.sql.shuffle.partitions</td><td>32</td></tr><tr><td style=\"text-align:left;\">spark.app.name</td><td>uwi14 (jupyter)</td></tr><tr><td style=\"text-align:left;\">spark.rdd.compress</td><td>True</td></tr><tr><td style=\"text-align:left;\">spark.ui.port</td><td>4462</td></tr><tr><td style=\"text-align:left;\">spark.serializer.objectStreamReset</td><td>100</td></tr><tr><td style=\"text-align:left;\">spark.driver.maxResultSize</td><td>0</td></tr><tr><td style=\"text-align:left;\">spark.app.id</td><td>app-20240603101727-0740</td></tr><tr><td style=\"text-align:left;\">spark.cores.max</td><td>8</td></tr><tr><td style=\"text-align:left;\">spark.submit.pyFiles</td><td></td></tr><tr><td style=\"text-align:left;\">spark.submit.deployMode</td><td>client</td></tr><tr><td style=\"text-align:left;\">spark.ui.showConsoleProgress</td><td>true</td></tr><tr><td style=\"text-align:left;\">spark.driver.extraJavaOptions</td><td>-Dderby.system.home=/tmp/uwi14/spark/</td></tr></table><p><b>Notes</b></p><ul><li>The spark session <code>spark</code> and spark context <code>sc</code> global variables have been defined by <code>start_spark()</code>.</li><li>Please run <code>stop_spark()</code> before closing the notebook or restarting the kernel or kill <code>uwi14 (jupyter)</code> by hand using the link in the Spark UI.</li></ul>"
      ],
      "text/plain": [
       "<IPython.core.display.HTML object>"
      ]
     },
     "metadata": {},
     "output_type": "display_data"
    }
   ],
   "source": [
    "# Run this cell to start a spark session in this notebook\n",
    "\n",
    "start_spark(executor_instances=4, executor_cores=2, worker_memory=4, master_memory=4)"
   ]
  },
  {
   "cell_type": "code",
   "execution_count": 3,
   "metadata": {},
   "outputs": [],
   "source": [
    "# Write your imports and code here or insert cells below\n",
    "\n",
    "from pyspark.sql import functions as F\n",
    "from pyspark.sql.types import *"
   ]
  },
  {
   "cell_type": "markdown",
   "metadata": {},
   "source": [
    "# Data processing \n"
   ]
  },
  {
   "cell_type": "markdown",
   "metadata": {},
   "source": [
    "# Q1-A"
   ]
  },
  {
   "cell_type": "code",
   "execution_count": 4,
   "metadata": {},
   "outputs": [
    {
     "name": "stdout",
     "output_type": "stream",
     "text": [
      "Found 4 items\r\n",
      "drwxr-xr-x   - jsw93 supergroup          0 2021-09-29 10:35 /data/msd/audio\r\n",
      "drwxr-xr-x   - jsw93 supergroup          0 2021-09-29 10:35 /data/msd/genre\r\n",
      "drwxr-xr-x   - jsw93 supergroup          0 2021-09-29 10:28 /data/msd/main\r\n",
      "drwxr-xr-x   - jsw93 supergroup          0 2021-09-29 10:35 /data/msd/tasteprofile\r\n"
     ]
    }
   ],
   "source": [
    "! hdfs dfs -ls /data/msd/"
   ]
  },
  {
   "cell_type": "code",
   "execution_count": 5,
   "metadata": {},
   "outputs": [
    {
     "name": "stdout",
     "output_type": "stream",
     "text": [
      "12.3 G   98.1 G   /data/msd/audio\r\n",
      "30.1 M   241.0 M  /data/msd/genre\r\n",
      "174.4 M  1.4 G    /data/msd/main\r\n",
      "490.4 M  3.8 G    /data/msd/tasteprofile\r\n"
     ]
    }
   ],
   "source": [
    "!hdfs dfs -du -h /data/msd/"
   ]
  },
  {
   "cell_type": "markdown",
   "metadata": {},
   "source": [
    "# Audio"
   ]
  },
  {
   "cell_type": "code",
   "execution_count": 6,
   "metadata": {},
   "outputs": [
    {
     "name": "stdout",
     "output_type": "stream",
     "text": [
      "105513       844104        /data/msd/audio/attributes\r\n",
      "13125542239  105004337912  /data/msd/audio/features\r\n",
      "42224669     337797352     /data/msd/audio/statistics\r\n"
     ]
    }
   ],
   "source": [
    "! hdfs dfs -du /data/msd/audio/"
   ]
  },
  {
   "cell_type": "code",
   "execution_count": 7,
   "metadata": {},
   "outputs": [
    {
     "name": "stdout",
     "output_type": "stream",
     "text": [
      "103.0 K  824.3 K  /data/msd/audio/attributes\r\n",
      "12.2 G   97.8 G   /data/msd/audio/features\r\n",
      "40.3 M   322.1 M  /data/msd/audio/statistics\r\n"
     ]
    }
   ],
   "source": [
    "! hdfs dfs -du -h /data/msd/audio/"
   ]
  },
  {
   "cell_type": "code",
   "execution_count": 8,
   "metadata": {},
   "outputs": [
    {
     "name": "stdout",
     "output_type": "stream",
     "text": [
      "1051   8408    /data/msd/audio/attributes/msd-jmir-area-of-moments-all-v1.0.attributes.csv\r\n",
      "671    5368    /data/msd/audio/attributes/msd-jmir-lpc-all-v1.0.attributes.csv\r\n",
      "484    3872    /data/msd/audio/attributes/msd-jmir-methods-of-moments-all-v1.0.attributes.csv\r\n",
      "898    7184    /data/msd/audio/attributes/msd-jmir-mfcc-all-v1.0.attributes.csv\r\n",
      "777    6216    /data/msd/audio/attributes/msd-jmir-spectral-all-all-v1.0.attributes.csv\r\n",
      "777    6216    /data/msd/audio/attributes/msd-jmir-spectral-derivatives-all-all-v1.0.attributes.csv\r\n",
      "12317  98536   /data/msd/audio/attributes/msd-marsyas-timbral-v1.0.attributes.csv\r\n",
      "9990   79920   /data/msd/audio/attributes/msd-mvd-v1.0.attributes.csv\r\n",
      "1390   11120   /data/msd/audio/attributes/msd-rh-v1.0.attributes.csv\r\n",
      "34913  279304  /data/msd/audio/attributes/msd-rp-v1.0.attributes.csv\r\n",
      "3942   31536   /data/msd/audio/attributes/msd-ssd-v1.0.attributes.csv\r\n",
      "9990   79920   /data/msd/audio/attributes/msd-trh-v1.0.attributes.csv\r\n",
      "28313  226504  /data/msd/audio/attributes/msd-tssd-v1.0.attributes.csv\r\n"
     ]
    }
   ],
   "source": [
    "! hdfs dfs -du /data/msd/audio/attributes"
   ]
  },
  {
   "cell_type": "markdown",
   "metadata": {},
   "source": [
    "\n",
    "## Atributes"
   ]
  },
  {
   "cell_type": "code",
   "execution_count": 9,
   "metadata": {},
   "outputs": [
    {
     "name": "stdout",
     "output_type": "stream",
     "text": [
      "-rwxr-xr-x   8 jsw93 supergroup       1051 2021-09-29 10:35 /data/msd/audio/attributes/msd-jmir-area-of-moments-all-v1.0.attributes.csv\n",
      "-rwxr-xr-x   8 jsw93 supergroup        671 2021-09-29 10:35 /data/msd/audio/attributes/msd-jmir-lpc-all-v1.0.attributes.csv\n",
      "-rwxr-xr-x   8 jsw93 supergroup        484 2021-09-29 10:35 /data/msd/audio/attributes/msd-jmir-methods-of-moments-all-v1.0.attributes.csv\n",
      "-rwxr-xr-x   8 jsw93 supergroup        898 2021-09-29 10:35 /data/msd/audio/attributes/msd-jmir-mfcc-all-v1.0.attributes.csv\n",
      "-rwxr-xr-x   8 jsw93 supergroup        777 2021-09-29 10:35 /data/msd/audio/attributes/msd-jmir-spectral-all-all-v1.0.attributes.csv\n",
      "-rwxr-xr-x   8 jsw93 supergroup        777 2021-09-29 10:35 /data/msd/audio/attributes/msd-jmir-spectral-derivatives-all-all-v1.0.attributes.csv\n",
      "-rwxr-xr-x   8 jsw93 supergroup      12317 2021-09-29 10:35 /data/msd/audio/attributes/msd-marsyas-timbral-v1.0.attributes.csv\n",
      "-rwxr-xr-x   8 jsw93 supergroup       9990 2021-09-29 10:35 /data/msd/audio/attributes/msd-mvd-v1.0.attributes.csv\n",
      "-rwxr-xr-x   8 jsw93 supergroup       1390 2021-09-29 10:35 /data/msd/audio/attributes/msd-rh-v1.0.attributes.csv\n",
      "-rwxr-xr-x   8 jsw93 supergroup      34913 2021-09-29 10:35 /data/msd/audio/attributes/msd-rp-v1.0.attributes.csv\n",
      "-rwxr-xr-x   8 jsw93 supergroup       3942 2021-09-29 10:35 /data/msd/audio/attributes/msd-ssd-v1.0.attributes.csv\n",
      "-rwxr-xr-x   8 jsw93 supergroup       9990 2021-09-29 10:35 /data/msd/audio/attributes/msd-trh-v1.0.attributes.csv\n",
      "-rwxr-xr-x   8 jsw93 supergroup      28313 2021-09-29 10:35 /data/msd/audio/attributes/msd-tssd-v1.0.attributes.csv\n",
      "1.0 K   8.2 K    /data/msd/audio/attributes/msd-jmir-area-of-moments-all-v1.0.attributes.csv\n",
      "671     5.2 K    /data/msd/audio/attributes/msd-jmir-lpc-all-v1.0.attributes.csv\n",
      "484     3.8 K    /data/msd/audio/attributes/msd-jmir-methods-of-moments-all-v1.0.attributes.csv\n",
      "898     7.0 K    /data/msd/audio/attributes/msd-jmir-mfcc-all-v1.0.attributes.csv\n",
      "777     6.1 K    /data/msd/audio/attributes/msd-jmir-spectral-all-all-v1.0.attributes.csv\n",
      "777     6.1 K    /data/msd/audio/attributes/msd-jmir-spectral-derivatives-all-all-v1.0.attributes.csv\n",
      "12.0 K  96.2 K   /data/msd/audio/attributes/msd-marsyas-timbral-v1.0.attributes.csv\n",
      "9.8 K   78.0 K   /data/msd/audio/attributes/msd-mvd-v1.0.attributes.csv\n",
      "1.4 K   10.9 K   /data/msd/audio/attributes/msd-rh-v1.0.attributes.csv\n",
      "34.1 K  272.8 K  /data/msd/audio/attributes/msd-rp-v1.0.attributes.csv\n",
      "3.8 K   30.8 K   /data/msd/audio/attributes/msd-ssd-v1.0.attributes.csv\n",
      "9.8 K   78.0 K   /data/msd/audio/attributes/msd-trh-v1.0.attributes.csv\n",
      "27.6 K  221.2 K  /data/msd/audio/attributes/msd-tssd-v1.0.attributes.csv\n",
      "Connecting to namenode via http://masternode2:9870/fsck?ugi=uwi14&files=1&blocks=1&path=%2Fdata%2Fmsd%2Faudio%2Fattributes\n",
      "FSCK started by uwi14 (auth:SIMPLE) from /192.168.40.11 for path /data/msd/audio/attributes at Mon Jun 03 10:18:05 NZST 2024\n",
      "\n",
      "/data/msd/audio/attributes <dir>\n",
      "/data/msd/audio/attributes/msd-jmir-area-of-moments-all-v1.0.attributes.csv 1051 bytes, replicated: replication=8, 1 block(s):  OK\n",
      "0. BP-700027894-132.181.129.68-1626517177804:blk_1073761895_21073 len=1051 Live_repl=8\n",
      "\n",
      "/data/msd/audio/attributes/msd-jmir-lpc-all-v1.0.attributes.csv 671 bytes, replicated: replication=8, 1 block(s):  OK\n",
      "0. BP-700027894-132.181.129.68-1626517177804:blk_1073761904_21082 len=671 Live_repl=8\n",
      "\n",
      "/data/msd/audio/attributes/msd-jmir-methods-of-moments-all-v1.0.attributes.csv 484 bytes, replicated: replication=8, 1 block(s):  OK\n",
      "0. BP-700027894-132.181.129.68-1626517177804:blk_1073761900_21078 len=484 Live_repl=8\n",
      "\n",
      "/data/msd/audio/attributes/msd-jmir-mfcc-all-v1.0.attributes.csv 898 bytes, replicated: replication=8, 1 block(s):  OK\n",
      "0. BP-700027894-132.181.129.68-1626517177804:blk_1073761894_21072 len=898 Live_repl=8\n",
      "\n",
      "/data/msd/audio/attributes/msd-jmir-spectral-all-all-v1.0.attributes.csv 777 bytes, replicated: replication=8, 1 block(s):  OK\n",
      "0. BP-700027894-132.181.129.68-1626517177804:blk_1073761897_21075 len=777 Live_repl=8\n",
      "\n",
      "/data/msd/audio/attributes/msd-jmir-spectral-derivatives-all-all-v1.0.attributes.csv 777 bytes, replicated: replication=8, 1 block(s):  OK\n",
      "0. BP-700027894-132.181.129.68-1626517177804:blk_1073761898_21076 len=777 Live_repl=8\n",
      "\n",
      "/data/msd/audio/attributes/msd-marsyas-timbral-v1.0.attributes.csv 12317 bytes, replicated: replication=8, 1 block(s):  OK\n",
      "0. BP-700027894-132.181.129.68-1626517177804:blk_1073761902_21080 len=12317 Live_repl=8\n",
      "\n",
      "/data/msd/audio/attributes/msd-mvd-v1.0.attributes.csv 9990 bytes, replicated: replication=8, 1 block(s):  OK\n",
      "0. BP-700027894-132.181.129.68-1626517177804:blk_1073761905_21083 len=9990 Live_repl=8\n",
      "\n",
      "/data/msd/audio/attributes/msd-rh-v1.0.attributes.csv 1390 bytes, replicated: replication=8, 1 block(s):  OK\n",
      "0. BP-700027894-132.181.129.68-1626517177804:blk_1073761899_21077 len=1390 Live_repl=8\n",
      "\n",
      "/data/msd/audio/attributes/msd-rp-v1.0.attributes.csv 34913 bytes, replicated: replication=8, 1 block(s):  OK\n",
      "0. BP-700027894-132.181.129.68-1626517177804:blk_1073761903_21081 len=34913 Live_repl=8\n",
      "\n",
      "/data/msd/audio/attributes/msd-ssd-v1.0.attributes.csv 3942 bytes, replicated: replication=8, 1 block(s):  OK\n",
      "0. BP-700027894-132.181.129.68-1626517177804:blk_1073761901_21079 len=3942 Live_repl=8\n",
      "\n",
      "/data/msd/audio/attributes/msd-trh-v1.0.attributes.csv 9990 bytes, replicated: replication=8, 1 block(s):  OK\n",
      "0. BP-700027894-132.181.129.68-1626517177804:blk_1073761893_21071 len=9990 Live_repl=8\n",
      "\n",
      "/data/msd/audio/attributes/msd-tssd-v1.0.attributes.csv 28313 bytes, replicated: replication=8, 1 block(s):  OK\n",
      "0. BP-700027894-132.181.129.68-1626517177804:blk_1073761896_21074 len=28313 Live_repl=8\n",
      "\n",
      "\n",
      "Status: HEALTHY\n",
      " Number of data-nodes:\t32\n",
      " Number of racks:\t\t1\n",
      " Total dirs:\t\t\t1\n",
      " Total symlinks:\t\t0\n",
      "\n",
      "Replicated Blocks:\n",
      " Total size:\t105513 B\n",
      " Total files:\t13\n",
      " Total blocks (validated):\t13 (avg. block size 8116 B)\n",
      " Minimally replicated blocks:\t13 (100.0 %)\n",
      " Over-replicated blocks:\t0 (0.0 %)\n",
      " Under-replicated blocks:\t0 (0.0 %)\n",
      " Mis-replicated blocks:\t\t0 (0.0 %)\n",
      " Default replication factor:\t4\n",
      " Average block replication:\t8.0\n",
      " Missing blocks:\t\t0\n",
      " Corrupt blocks:\t\t0\n",
      " Missing replicas:\t\t0 (0.0 %)\n",
      " Blocks queued for replication:\t0\n",
      "\n",
      "Erasure Coded Block Groups:\n",
      " Total size:\t0 B\n",
      " Total files:\t0\n",
      " Total block groups (validated):\t0\n",
      " Minimally erasure-coded block groups:\t0\n",
      " Over-erasure-coded block groups:\t0\n",
      " Under-erasure-coded block groups:\t0\n",
      " Unsatisfactory placement block groups:\t0\n",
      " Average block group size:\t0.0\n",
      " Missing block groups:\t\t0\n",
      " Corrupt block groups:\t\t0\n",
      " Missing internal blocks:\t0\n",
      " Blocks queued for replication:\t0\n",
      "FSCK ended at Mon Jun 03 10:18:05 NZST 2024 in 40 milliseconds\n",
      "\n",
      "\n",
      "The filesystem under path '/data/msd/audio/attributes' is HEALTHY\n"
     ]
    }
   ],
   "source": [
    "!hdfs dfs -ls -R /data/msd/audio/attributes\n",
    "\n",
    "!hdfs dfs -du -h /data/msd/audio/attributes\n",
    "\n",
    "!hdfs fsck /data/msd/audio/attributes -files -blocks"
   ]
  },
  {
   "cell_type": "markdown",
   "metadata": {},
   "source": [
    "## Features"
   ]
  },
  {
   "cell_type": "code",
   "execution_count": 10,
   "metadata": {
    "scrolled": false
   },
   "outputs": [
    {
     "name": "stdout",
     "output_type": "stream",
     "text": [
      "drwxr-xr-x   - jsw93 supergroup          0 2021-09-29 10:31 /data/msd/audio/features/msd-jmir-area-of-moments-all-v1.0.csv\n",
      "-rwxr-xr-x   8 jsw93 supergroup    8635110 2021-09-29 10:31 /data/msd/audio/features/msd-jmir-area-of-moments-all-v1.0.csv/part-00000.csv.gz\n",
      "-rwxr-xr-x   8 jsw93 supergroup    8636689 2021-09-29 10:31 /data/msd/audio/features/msd-jmir-area-of-moments-all-v1.0.csv/part-00001.csv.gz\n",
      "-rwxr-xr-x   8 jsw93 supergroup    8632696 2021-09-29 10:31 /data/msd/audio/features/msd-jmir-area-of-moments-all-v1.0.csv/part-00002.csv.gz\n",
      "-rwxr-xr-x   8 jsw93 supergroup    8635186 2021-09-29 10:31 /data/msd/audio/features/msd-jmir-area-of-moments-all-v1.0.csv/part-00003.csv.gz\n",
      "-rwxr-xr-x   8 jsw93 supergroup    8635805 2021-09-29 10:31 /data/msd/audio/features/msd-jmir-area-of-moments-all-v1.0.csv/part-00004.csv.gz\n",
      "-rwxr-xr-x   8 jsw93 supergroup    8632126 2021-09-29 10:31 /data/msd/audio/features/msd-jmir-area-of-moments-all-v1.0.csv/part-00005.csv.gz\n",
      "-rwxr-xr-x   8 jsw93 supergroup    8636623 2021-09-29 10:31 /data/msd/audio/features/msd-jmir-area-of-moments-all-v1.0.csv/part-00006.csv.gz\n",
      "-rwxr-xr-x   8 jsw93 supergroup    8259803 2021-09-29 10:31 /data/msd/audio/features/msd-jmir-area-of-moments-all-v1.0.csv/part-00007.csv.gz\n",
      "drwxr-xr-x   - jsw93 supergroup          0 2021-09-29 10:33 /data/msd/audio/features/msd-jmir-lpc-all-v1.0.csv\n",
      "-rwxr-xr-x   8 jsw93 supergroup    6995606 2021-09-29 10:33 /data/msd/audio/features/msd-jmir-lpc-all-v1.0.csv/part-00000.csv.gz\n",
      "-rwxr-xr-x   8 jsw93 supergroup    6995215 2021-09-29 10:33 /data/msd/audio/features/msd-jmir-lpc-all-v1.0.csv/part-00001.csv.gz\n",
      "-rwxr-xr-x   8 jsw93 supergroup    6993977 2021-09-29 10:33 /data/msd/audio/features/msd-jmir-lpc-all-v1.0.csv/part-00002.csv.gz\n",
      "-rwxr-xr-x   8 jsw93 supergroup    6994647 2021-09-29 10:33 /data/msd/audio/features/msd-jmir-lpc-all-v1.0.csv/part-00003.csv.gz\n",
      "-rwxr-xr-x   8 jsw93 supergroup    6994518 2021-09-29 10:33 /data/msd/audio/features/msd-jmir-lpc-all-v1.0.csv/part-00004.csv.gz\n",
      "-rwxr-xr-x   8 jsw93 supergroup    6994607 2021-09-29 10:33 /data/msd/audio/features/msd-jmir-lpc-all-v1.0.csv/part-00005.csv.gz\n",
      "-rwxr-xr-x   8 jsw93 supergroup    6993815 2021-09-29 10:33 /data/msd/audio/features/msd-jmir-lpc-all-v1.0.csv/part-00006.csv.gz\n",
      "-rwxr-xr-x   8 jsw93 supergroup    6693846 2021-09-29 10:33 /data/msd/audio/features/msd-jmir-lpc-all-v1.0.csv/part-00007.csv.gz\n",
      "drwxr-xr-x   - jsw93 supergroup          0 2021-09-29 10:35 /data/msd/audio/features/msd-jmir-methods-of-moments-all-v1.0.csv\n",
      "-rwxr-xr-x   8 jsw93 supergroup    4719497 2021-09-29 10:35 /data/msd/audio/features/msd-jmir-methods-of-moments-all-v1.0.csv/part-00000.csv.gz\n",
      "-rwxr-xr-x   8 jsw93 supergroup    4719887 2021-09-29 10:35 /data/msd/audio/features/msd-jmir-methods-of-moments-all-v1.0.csv/part-00001.csv.gz\n",
      "-rwxr-xr-x   8 jsw93 supergroup    4718608 2021-09-29 10:35 /data/msd/audio/features/msd-jmir-methods-of-moments-all-v1.0.csv/part-00002.csv.gz\n",
      "-rwxr-xr-x   8 jsw93 supergroup    4718547 2021-09-29 10:35 /data/msd/audio/features/msd-jmir-methods-of-moments-all-v1.0.csv/part-00003.csv.gz\n",
      "-rwxr-xr-x   8 jsw93 supergroup    4718096 2021-09-29 10:35 /data/msd/audio/features/msd-jmir-methods-of-moments-all-v1.0.csv/part-00004.csv.gz\n",
      "-rwxr-xr-x   8 jsw93 supergroup    4718231 2021-09-29 10:35 /data/msd/audio/features/msd-jmir-methods-of-moments-all-v1.0.csv/part-00005.csv.gz\n",
      "-rwxr-xr-x   8 jsw93 supergroup    4719707 2021-09-29 10:35 /data/msd/audio/features/msd-jmir-methods-of-moments-all-v1.0.csv/part-00006.csv.gz\n",
      "-rwxr-xr-x   8 jsw93 supergroup    4516529 2021-09-29 10:35 /data/msd/audio/features/msd-jmir-methods-of-moments-all-v1.0.csv/part-00007.csv.gz\n",
      "drwxr-xr-x   - jsw93 supergroup          0 2021-09-29 10:35 /data/msd/audio/features/msd-jmir-mfcc-all-v1.0.csv\n",
      "-rwxr-xr-x   8 jsw93 supergroup    9325048 2021-09-29 10:35 /data/msd/audio/features/msd-jmir-mfcc-all-v1.0.csv/part-00000.csv.gz\n",
      "-rwxr-xr-x   8 jsw93 supergroup    9327316 2021-09-29 10:35 /data/msd/audio/features/msd-jmir-mfcc-all-v1.0.csv/part-00001.csv.gz\n",
      "-rwxr-xr-x   8 jsw93 supergroup    9324074 2021-09-29 10:35 /data/msd/audio/features/msd-jmir-mfcc-all-v1.0.csv/part-00002.csv.gz\n",
      "-rwxr-xr-x   8 jsw93 supergroup    9324094 2021-09-29 10:35 /data/msd/audio/features/msd-jmir-mfcc-all-v1.0.csv/part-00003.csv.gz\n",
      "-rwxr-xr-x   8 jsw93 supergroup    9324537 2021-09-29 10:35 /data/msd/audio/features/msd-jmir-mfcc-all-v1.0.csv/part-00004.csv.gz\n",
      "-rwxr-xr-x   8 jsw93 supergroup    9324133 2021-09-29 10:35 /data/msd/audio/features/msd-jmir-mfcc-all-v1.0.csv/part-00005.csv.gz\n",
      "-rwxr-xr-x   8 jsw93 supergroup    9322969 2021-09-29 10:35 /data/msd/audio/features/msd-jmir-mfcc-all-v1.0.csv/part-00006.csv.gz\n",
      "-rwxr-xr-x   8 jsw93 supergroup    8925237 2021-09-29 10:35 /data/msd/audio/features/msd-jmir-mfcc-all-v1.0.csv/part-00007.csv.gz\n",
      "drwxr-xr-x   - jsw93 supergroup          0 2021-09-29 10:33 /data/msd/audio/features/msd-jmir-spectral-all-all-v1.0.csv\n",
      "-rwxr-xr-x   8 jsw93 supergroup    6735834 2021-09-29 10:33 /data/msd/audio/features/msd-jmir-spectral-all-all-v1.0.csv/part-00000.csv.gz\n",
      "-rwxr-xr-x   8 jsw93 supergroup    6737774 2021-09-29 10:33 /data/msd/audio/features/msd-jmir-spectral-all-all-v1.0.csv/part-00001.csv.gz\n",
      "-rwxr-xr-x   8 jsw93 supergroup    6736351 2021-09-29 10:33 /data/msd/audio/features/msd-jmir-spectral-all-all-v1.0.csv/part-00002.csv.gz\n",
      "-rwxr-xr-x   8 jsw93 supergroup    6734170 2021-09-29 10:33 /data/msd/audio/features/msd-jmir-spectral-all-all-v1.0.csv/part-00003.csv.gz\n",
      "-rwxr-xr-x   8 jsw93 supergroup    6735486 2021-09-29 10:33 /data/msd/audio/features/msd-jmir-spectral-all-all-v1.0.csv/part-00004.csv.gz\n",
      "-rwxr-xr-x   8 jsw93 supergroup    6736038 2021-09-29 10:33 /data/msd/audio/features/msd-jmir-spectral-all-all-v1.0.csv/part-00005.csv.gz\n",
      "-rwxr-xr-x   8 jsw93 supergroup    6735459 2021-09-29 10:33 /data/msd/audio/features/msd-jmir-spectral-all-all-v1.0.csv/part-00006.csv.gz\n",
      "-rwxr-xr-x   8 jsw93 supergroup    6445696 2021-09-29 10:33 /data/msd/audio/features/msd-jmir-spectral-all-all-v1.0.csv/part-00007.csv.gz\n",
      "drwxr-xr-x   - jsw93 supergroup          0 2021-09-29 10:35 /data/msd/audio/features/msd-jmir-spectral-derivatives-all-all-v1.0.csv\n",
      "-rwxr-xr-x   8 jsw93 supergroup    6735834 2021-09-29 10:35 /data/msd/audio/features/msd-jmir-spectral-derivatives-all-all-v1.0.csv/part-00000.csv.gz\n",
      "-rwxr-xr-x   8 jsw93 supergroup    6737774 2021-09-29 10:35 /data/msd/audio/features/msd-jmir-spectral-derivatives-all-all-v1.0.csv/part-00001.csv.gz\n",
      "-rwxr-xr-x   8 jsw93 supergroup    6736351 2021-09-29 10:35 /data/msd/audio/features/msd-jmir-spectral-derivatives-all-all-v1.0.csv/part-00002.csv.gz\n",
      "-rwxr-xr-x   8 jsw93 supergroup    6734170 2021-09-29 10:35 /data/msd/audio/features/msd-jmir-spectral-derivatives-all-all-v1.0.csv/part-00003.csv.gz\n",
      "-rwxr-xr-x   8 jsw93 supergroup    6735486 2021-09-29 10:35 /data/msd/audio/features/msd-jmir-spectral-derivatives-all-all-v1.0.csv/part-00004.csv.gz\n",
      "-rwxr-xr-x   8 jsw93 supergroup    6736038 2021-09-29 10:35 /data/msd/audio/features/msd-jmir-spectral-derivatives-all-all-v1.0.csv/part-00005.csv.gz\n",
      "-rwxr-xr-x   8 jsw93 supergroup    6735459 2021-09-29 10:35 /data/msd/audio/features/msd-jmir-spectral-derivatives-all-all-v1.0.csv/part-00006.csv.gz\n",
      "-rwxr-xr-x   8 jsw93 supergroup    6445696 2021-09-29 10:35 /data/msd/audio/features/msd-jmir-spectral-derivatives-all-all-v1.0.csv/part-00007.csv.gz\n",
      "drwxr-xr-x   - jsw93 supergroup          0 2021-09-29 10:35 /data/msd/audio/features/msd-marsyas-timbral-v1.0.csv\n",
      "-rwxr-xr-x   8 jsw93 supergroup   54299383 2021-09-29 10:35 /data/msd/audio/features/msd-marsyas-timbral-v1.0.csv/part-00000.csv.gz\n",
      "-rwxr-xr-x   8 jsw93 supergroup   54298485 2021-09-29 10:35 /data/msd/audio/features/msd-marsyas-timbral-v1.0.csv/part-00001.csv.gz\n",
      "-rwxr-xr-x   8 jsw93 supergroup   54300285 2021-09-29 10:35 /data/msd/audio/features/msd-marsyas-timbral-v1.0.csv/part-00002.csv.gz\n",
      "-rwxr-xr-x   8 jsw93 supergroup   54290182 2021-09-29 10:35 /data/msd/audio/features/msd-marsyas-timbral-v1.0.csv/part-00003.csv.gz\n",
      "-rwxr-xr-x   8 jsw93 supergroup   54301920 2021-09-29 10:35 /data/msd/audio/features/msd-marsyas-timbral-v1.0.csv/part-00004.csv.gz\n",
      "-rwxr-xr-x   8 jsw93 supergroup   54295407 2021-09-29 10:35 /data/msd/audio/features/msd-marsyas-timbral-v1.0.csv/part-00005.csv.gz\n",
      "-rwxr-xr-x   8 jsw93 supergroup   54302443 2021-09-29 10:35 /data/msd/audio/features/msd-marsyas-timbral-v1.0.csv/part-00006.csv.gz\n",
      "-rwxr-xr-x   8 jsw93 supergroup   52118685 2021-09-29 10:35 /data/msd/audio/features/msd-marsyas-timbral-v1.0.csv/part-00007.csv.gz\n",
      "drwxr-xr-x   - jsw93 supergroup          0 2021-09-29 10:29 /data/msd/audio/features/msd-mvd-v1.0.csv\n",
      "-rwxr-xr-x   8 jsw93 supergroup  173955438 2021-09-29 10:28 /data/msd/audio/features/msd-mvd-v1.0.csv/part-00000.csv.gz\n",
      "-rwxr-xr-x   8 jsw93 supergroup  174056749 2021-09-29 10:29 /data/msd/audio/features/msd-mvd-v1.0.csv/part-00001.csv.gz\n",
      "-rwxr-xr-x   8 jsw93 supergroup  173994957 2021-09-29 10:28 /data/msd/audio/features/msd-mvd-v1.0.csv/part-00002.csv.gz\n",
      "-rwxr-xr-x   8 jsw93 supergroup  173966435 2021-09-29 10:28 /data/msd/audio/features/msd-mvd-v1.0.csv/part-00003.csv.gz\n",
      "-rwxr-xr-x   8 jsw93 supergroup  174019074 2021-09-29 10:28 /data/msd/audio/features/msd-mvd-v1.0.csv/part-00004.csv.gz\n",
      "-rwxr-xr-x   8 jsw93 supergroup  174009495 2021-09-29 10:29 /data/msd/audio/features/msd-mvd-v1.0.csv/part-00005.csv.gz\n",
      "-rwxr-xr-x   8 jsw93 supergroup  174030134 2021-09-29 10:29 /data/msd/audio/features/msd-mvd-v1.0.csv/part-00006.csv.gz\n",
      "-rwxr-xr-x   8 jsw93 supergroup  165959998 2021-09-29 10:28 /data/msd/audio/features/msd-mvd-v1.0.csv/part-00007.csv.gz\n",
      "drwxr-xr-x   - jsw93 supergroup          0 2021-09-29 10:35 /data/msd/audio/features/msd-rh-v1.0.csv\n",
      "-rwxr-xr-x   8 jsw93 supergroup   31676800 2021-09-29 10:35 /data/msd/audio/features/msd-rh-v1.0.csv/part-00000.csv.gz\n",
      "-rwxr-xr-x   8 jsw93 supergroup   31685782 2021-09-29 10:35 /data/msd/audio/features/msd-rh-v1.0.csv/part-00001.csv.gz\n",
      "-rwxr-xr-x   8 jsw93 supergroup   31683459 2021-09-29 10:35 /data/msd/audio/features/msd-rh-v1.0.csv/part-00002.csv.gz\n",
      "-rwxr-xr-x   8 jsw93 supergroup   31681284 2021-09-29 10:35 /data/msd/audio/features/msd-rh-v1.0.csv/part-00003.csv.gz\n",
      "-rwxr-xr-x   8 jsw93 supergroup   31684341 2021-09-29 10:35 /data/msd/audio/features/msd-rh-v1.0.csv/part-00004.csv.gz\n",
      "-rwxr-xr-x   8 jsw93 supergroup   31685148 2021-09-29 10:35 /data/msd/audio/features/msd-rh-v1.0.csv/part-00005.csv.gz\n",
      "-rwxr-xr-x   8 jsw93 supergroup   31685069 2021-09-29 10:35 /data/msd/audio/features/msd-rh-v1.0.csv/part-00006.csv.gz\n",
      "-rwxr-xr-x   8 jsw93 supergroup   30212674 2021-09-29 10:35 /data/msd/audio/features/msd-rh-v1.0.csv/part-00007.csv.gz\n",
      "drwxr-xr-x   - jsw93 supergroup          0 2021-09-29 10:33 /data/msd/audio/features/msd-rp-v1.0.csv\n",
      "-rwxr-xr-x   8 jsw93 supergroup  544118501 2021-09-29 10:32 /data/msd/audio/features/msd-rp-v1.0.csv/part-00000.csv.gz\n",
      "-rwxr-xr-x   8 jsw93 supergroup  544397106 2021-09-29 10:33 /data/msd/audio/features/msd-rp-v1.0.csv/part-00001.csv.gz\n",
      "-rwxr-xr-x   8 jsw93 supergroup  544256289 2021-09-29 10:32 /data/msd/audio/features/msd-rp-v1.0.csv/part-00002.csv.gz\n",
      "-rwxr-xr-x   8 jsw93 supergroup  544381287 2021-09-29 10:32 /data/msd/audio/features/msd-rp-v1.0.csv/part-00003.csv.gz\n",
      "-rwxr-xr-x   8 jsw93 supergroup  544387901 2021-09-29 10:33 /data/msd/audio/features/msd-rp-v1.0.csv/part-00004.csv.gz\n",
      "-rwxr-xr-x   8 jsw93 supergroup  544352212 2021-09-29 10:33 /data/msd/audio/features/msd-rp-v1.0.csv/part-00005.csv.gz\n",
      "-rwxr-xr-x   8 jsw93 supergroup  544333839 2021-09-29 10:33 /data/msd/audio/features/msd-rp-v1.0.csv/part-00006.csv.gz\n",
      "-rwxr-xr-x   8 jsw93 supergroup  519075826 2021-09-29 10:32 /data/msd/audio/features/msd-rp-v1.0.csv/part-00007.csv.gz\n",
      "drwxr-xr-x   - jsw93 supergroup          0 2021-09-29 10:34 /data/msd/audio/features/msd-ssd-v1.0.csv\n",
      "-rwxr-xr-x   8 jsw93 supergroup   84441900 2021-09-29 10:34 /data/msd/audio/features/msd-ssd-v1.0.csv/part-00000.csv.gz\n",
      "-rwxr-xr-x   8 jsw93 supergroup   84463212 2021-09-29 10:34 /data/msd/audio/features/msd-ssd-v1.0.csv/part-00001.csv.gz\n",
      "-rwxr-xr-x   8 jsw93 supergroup   84453926 2021-09-29 10:34 /data/msd/audio/features/msd-ssd-v1.0.csv/part-00002.csv.gz\n",
      "-rwxr-xr-x   8 jsw93 supergroup   84452507 2021-09-29 10:34 /data/msd/audio/features/msd-ssd-v1.0.csv/part-00003.csv.gz\n",
      "-rwxr-xr-x   8 jsw93 supergroup   84457200 2021-09-29 10:34 /data/msd/audio/features/msd-ssd-v1.0.csv/part-00004.csv.gz\n",
      "-rwxr-xr-x   8 jsw93 supergroup   84464852 2021-09-29 10:34 /data/msd/audio/features/msd-ssd-v1.0.csv/part-00005.csv.gz\n",
      "-rwxr-xr-x   8 jsw93 supergroup   84461435 2021-09-29 10:34 /data/msd/audio/features/msd-ssd-v1.0.csv/part-00006.csv.gz\n",
      "-rwxr-xr-x   8 jsw93 supergroup   80545729 2021-09-29 10:34 /data/msd/audio/features/msd-ssd-v1.0.csv/part-00007.csv.gz\n",
      "drwxr-xr-x   - jsw93 supergroup          0 2021-09-29 10:35 /data/msd/audio/features/msd-trh-v1.0.csv\n",
      "-rwxr-xr-x   8 jsw93 supergroup  194396472 2021-09-29 10:34 /data/msd/audio/features/msd-trh-v1.0.csv/part-00000.csv.gz\n",
      "-rwxr-xr-x   8 jsw93 supergroup  194491877 2021-09-29 10:35 /data/msd/audio/features/msd-trh-v1.0.csv/part-00001.csv.gz\n",
      "-rwxr-xr-x   8 jsw93 supergroup  194448031 2021-09-29 10:34 /data/msd/audio/features/msd-trh-v1.0.csv/part-00002.csv.gz\n",
      "-rwxr-xr-x   8 jsw93 supergroup  194383236 2021-09-29 10:34 /data/msd/audio/features/msd-trh-v1.0.csv/part-00003.csv.gz\n",
      "-rwxr-xr-x   8 jsw93 supergroup  194398466 2021-09-29 10:34 /data/msd/audio/features/msd-trh-v1.0.csv/part-00004.csv.gz\n",
      "-rwxr-xr-x   8 jsw93 supergroup  194483717 2021-09-29 10:34 /data/msd/audio/features/msd-trh-v1.0.csv/part-00005.csv.gz\n",
      "-rwxr-xr-x   8 jsw93 supergroup  194497316 2021-09-29 10:34 /data/msd/audio/features/msd-trh-v1.0.csv/part-00006.csv.gz\n",
      "-rwxr-xr-x   8 jsw93 supergroup  185435893 2021-09-29 10:34 /data/msd/audio/features/msd-trh-v1.0.csv/part-00007.csv.gz\n",
      "drwxr-xr-x   - jsw93 supergroup          0 2021-09-29 10:31 /data/msd/audio/features/msd-tssd-v1.0.csv\n",
      "-rwxr-xr-x   8 jsw93 supergroup  523653885 2021-09-29 10:30 /data/msd/audio/features/msd-tssd-v1.0.csv/part-00000.csv.gz\n",
      "-rwxr-xr-x   8 jsw93 supergroup  523973513 2021-09-29 10:31 /data/msd/audio/features/msd-tssd-v1.0.csv/part-00001.csv.gz\n",
      "-rwxr-xr-x   8 jsw93 supergroup  523846402 2021-09-29 10:29 /data/msd/audio/features/msd-tssd-v1.0.csv/part-00002.csv.gz\n",
      "-rwxr-xr-x   8 jsw93 supergroup  523674195 2021-09-29 10:29 /data/msd/audio/features/msd-tssd-v1.0.csv/part-00003.csv.gz\n",
      "-rwxr-xr-x   8 jsw93 supergroup  523778813 2021-09-29 10:30 /data/msd/audio/features/msd-tssd-v1.0.csv/part-00004.csv.gz\n",
      "-rwxr-xr-x   8 jsw93 supergroup  524004691 2021-09-29 10:30 /data/msd/audio/features/msd-tssd-v1.0.csv/part-00005.csv.gz\n",
      "-rwxr-xr-x   8 jsw93 supergroup  523959080 2021-09-29 10:30 /data/msd/audio/features/msd-tssd-v1.0.csv/part-00006.csv.gz\n",
      "-rwxr-xr-x   8 jsw93 supergroup  499578908 2021-09-29 10:29 /data/msd/audio/features/msd-tssd-v1.0.csv/part-00007.csv.gz\n"
     ]
    },
    {
     "name": "stdout",
     "output_type": "stream",
     "text": [
      "65.5 M   524.2 M  /data/msd/audio/features/msd-jmir-area-of-moments-all-v1.0.csv\n",
      "53.1 M   424.6 M  /data/msd/audio/features/msd-jmir-lpc-all-v1.0.csv\n",
      "35.8 M   286.5 M  /data/msd/audio/features/msd-jmir-methods-of-moments-all-v1.0.csv\n",
      "70.8 M   566.1 M  /data/msd/audio/features/msd-jmir-mfcc-all-v1.0.csv\n",
      "51.1 M   408.9 M  /data/msd/audio/features/msd-jmir-spectral-all-all-v1.0.csv\n",
      "51.1 M   408.9 M  /data/msd/audio/features/msd-jmir-spectral-derivatives-all-all-v1.0.csv\n",
      "412.2 M  3.2 G    /data/msd/audio/features/msd-marsyas-timbral-v1.0.csv\n",
      "1.3 G    10.3 G   /data/msd/audio/features/msd-mvd-v1.0.csv\n",
      "240.3 M  1.9 G    /data/msd/audio/features/msd-rh-v1.0.csv\n",
      "4.0 G    32.3 G   /data/msd/audio/features/msd-rp-v1.0.csv\n",
      "640.6 M  5.0 G    /data/msd/audio/features/msd-ssd-v1.0.csv\n",
      "1.4 G    11.5 G   /data/msd/audio/features/msd-trh-v1.0.csv\n",
      "3.9 G    31.0 G   /data/msd/audio/features/msd-tssd-v1.0.csv\n",
      "Connecting to namenode via http://masternode2:9870/fsck?ugi=uwi14&files=1&blocks=1&path=%2Fdata%2Fmsd%2Faudio%2Ffeatures\n",
      "FSCK started by uwi14 (auth:SIMPLE) from /192.168.40.11 for path /data/msd/audio/features at Mon Jun 03 10:18:13 NZST 2024\n",
      "\n",
      "/data/msd/audio/features <dir>\n",
      "/data/msd/audio/features/msd-jmir-area-of-moments-all-v1.0.csv <dir>\n",
      "/data/msd/audio/features/msd-jmir-area-of-moments-all-v1.0.csv/part-00000.csv.gz 8635110 bytes, replicated: replication=8, 1 block(s):  OK\n",
      "0. BP-700027894-132.181.129.68-1626517177804:blk_1073761769_20947 len=8635110 Live_repl=8\n",
      "\n",
      "/data/msd/audio/features/msd-jmir-area-of-moments-all-v1.0.csv/part-00001.csv.gz 8636689 bytes, replicated: replication=8, 1 block(s):  OK\n",
      "0. BP-700027894-132.181.129.68-1626517177804:blk_1073761773_20951 len=8636689 Live_repl=8\n",
      "\n",
      "/data/msd/audio/features/msd-jmir-area-of-moments-all-v1.0.csv/part-00002.csv.gz 8632696 bytes, replicated: replication=8, 1 block(s):  OK\n",
      "0. BP-700027894-132.181.129.68-1626517177804:blk_1073761768_20946 len=8632696 Live_repl=8\n",
      "\n",
      "/data/msd/audio/features/msd-jmir-area-of-moments-all-v1.0.csv/part-00003.csv.gz 8635186 bytes, replicated: replication=8, 1 block(s):  OK\n",
      "0. BP-700027894-132.181.129.68-1626517177804:blk_1073761767_20945 len=8635186 Live_repl=8\n",
      "\n",
      "/data/msd/audio/features/msd-jmir-area-of-moments-all-v1.0.csv/part-00004.csv.gz 8635805 bytes, replicated: replication=8, 1 block(s):  OK\n",
      "0. BP-700027894-132.181.129.68-1626517177804:blk_1073761770_20948 len=8635805 Live_repl=8\n",
      "\n",
      "/data/msd/audio/features/msd-jmir-area-of-moments-all-v1.0.csv/part-00005.csv.gz 8632126 bytes, replicated: replication=8, 1 block(s):  OK\n",
      "0. BP-700027894-132.181.129.68-1626517177804:blk_1073761772_20950 len=8632126 Live_repl=8\n",
      "\n",
      "/data/msd/audio/features/msd-jmir-area-of-moments-all-v1.0.csv/part-00006.csv.gz 8636623 bytes, replicated: replication=8, 1 block(s):  OK\n",
      "0. BP-700027894-132.181.129.68-1626517177804:blk_1073761771_20949 len=8636623 Live_repl=8\n",
      "\n",
      "/data/msd/audio/features/msd-jmir-area-of-moments-all-v1.0.csv/part-00007.csv.gz 8259803 bytes, replicated: replication=8, 1 block(s):  OK\n",
      "0. BP-700027894-132.181.129.68-1626517177804:blk_1073761766_20944 len=8259803 Live_repl=8\n",
      "\n",
      "/data/msd/audio/features/msd-jmir-lpc-all-v1.0.csv <dir>\n",
      "/data/msd/audio/features/msd-jmir-lpc-all-v1.0.csv/part-00000.csv.gz 6995606 bytes, replicated: replication=8, 1 block(s):  OK\n",
      "0. BP-700027894-132.181.129.68-1626517177804:blk_1073761824_21002 len=6995606 Live_repl=8\n",
      "\n",
      "/data/msd/audio/features/msd-jmir-lpc-all-v1.0.csv/part-00001.csv.gz 6995215 bytes, replicated: replication=8, 1 block(s):  OK\n",
      "0. BP-700027894-132.181.129.68-1626517177804:blk_1073761828_21006 len=6995215 Live_repl=8\n",
      "\n",
      "/data/msd/audio/features/msd-jmir-lpc-all-v1.0.csv/part-00002.csv.gz 6993977 bytes, replicated: replication=8, 1 block(s):  OK\n",
      "0. BP-700027894-132.181.129.68-1626517177804:blk_1073761823_21001 len=6993977 Live_repl=8\n",
      "\n",
      "/data/msd/audio/features/msd-jmir-lpc-all-v1.0.csv/part-00003.csv.gz 6994647 bytes, replicated: replication=8, 1 block(s):  OK\n",
      "0. BP-700027894-132.181.129.68-1626517177804:blk_1073761822_21000 len=6994647 Live_repl=8\n",
      "\n",
      "/data/msd/audio/features/msd-jmir-lpc-all-v1.0.csv/part-00004.csv.gz 6994518 bytes, replicated: replication=8, 1 block(s):  OK\n",
      "0. BP-700027894-132.181.129.68-1626517177804:blk_1073761825_21003 len=6994518 Live_repl=8\n",
      "\n",
      "/data/msd/audio/features/msd-jmir-lpc-all-v1.0.csv/part-00005.csv.gz 6994607 bytes, replicated: replication=8, 1 block(s):  OK\n",
      "0. BP-700027894-132.181.129.68-1626517177804:blk_1073761827_21005 len=6994607 Live_repl=8\n",
      "\n",
      "/data/msd/audio/features/msd-jmir-lpc-all-v1.0.csv/part-00006.csv.gz 6993815 bytes, replicated: replication=8, 1 block(s):  OK\n",
      "0. BP-700027894-132.181.129.68-1626517177804:blk_1073761826_21004 len=6993815 Live_repl=8\n",
      "\n",
      "/data/msd/audio/features/msd-jmir-lpc-all-v1.0.csv/part-00007.csv.gz 6693846 bytes, replicated: replication=8, 1 block(s):  OK\n",
      "0. BP-700027894-132.181.129.68-1626517177804:blk_1073761821_20999 len=6693846 Live_repl=8\n",
      "\n",
      "/data/msd/audio/features/msd-jmir-methods-of-moments-all-v1.0.csv <dir>\n",
      "/data/msd/audio/features/msd-jmir-methods-of-moments-all-v1.0.csv/part-00000.csv.gz 4719497 bytes, replicated: replication=8, 1 block(s):  OK\n",
      "0. BP-700027894-132.181.129.68-1626517177804:blk_1073761856_21034 len=4719497 Live_repl=8\n",
      "\n",
      "/data/msd/audio/features/msd-jmir-methods-of-moments-all-v1.0.csv/part-00001.csv.gz 4719887 bytes, replicated: replication=8, 1 block(s):  OK\n",
      "0. BP-700027894-132.181.129.68-1626517177804:blk_1073761860_21038 len=4719887 Live_repl=8\n",
      "\n",
      "/data/msd/audio/features/msd-jmir-methods-of-moments-all-v1.0.csv/part-00002.csv.gz 4718608 bytes, replicated: replication=8, 1 block(s):  OK\n",
      "0. BP-700027894-132.181.129.68-1626517177804:blk_1073761855_21033 len=4718608 Live_repl=8\n",
      "\n",
      "/data/msd/audio/features/msd-jmir-methods-of-moments-all-v1.0.csv/part-00003.csv.gz 4718547 bytes, replicated: replication=8, 1 block(s):  OK\n",
      "0. BP-700027894-132.181.129.68-1626517177804:blk_1073761854_21032 len=4718547 Live_repl=8\n",
      "\n",
      "/data/msd/audio/features/msd-jmir-methods-of-moments-all-v1.0.csv/part-00004.csv.gz 4718096 bytes, replicated: replication=8, 1 block(s):  OK\n",
      "0. BP-700027894-132.181.129.68-1626517177804:blk_1073761857_21035 len=4718096 Live_repl=8\n",
      "\n",
      "/data/msd/audio/features/msd-jmir-methods-of-moments-all-v1.0.csv/part-00005.csv.gz 4718231 bytes, replicated: replication=8, 1 block(s):  OK\n",
      "0. BP-700027894-132.181.129.68-1626517177804:blk_1073761859_21037 len=4718231 Live_repl=8\n",
      "\n",
      "/data/msd/audio/features/msd-jmir-methods-of-moments-all-v1.0.csv/part-00006.csv.gz 4719707 bytes, replicated: replication=8, 1 block(s):  OK\n",
      "0. BP-700027894-132.181.129.68-1626517177804:blk_1073761858_21036 len=4719707 Live_repl=8\n",
      "\n",
      "/data/msd/audio/features/msd-jmir-methods-of-moments-all-v1.0.csv/part-00007.csv.gz 4516529 bytes, replicated: replication=8, 1 block(s):  OK\n",
      "0. BP-700027894-132.181.129.68-1626517177804:blk_1073761853_21031 len=4516529 Live_repl=8\n",
      "\n",
      "/data/msd/audio/features/msd-jmir-mfcc-all-v1.0.csv <dir>\n",
      "/data/msd/audio/features/msd-jmir-mfcc-all-v1.0.csv/part-00000.csv.gz 9325048 bytes, replicated: replication=8, 1 block(s):  OK\n",
      "0. BP-700027894-132.181.129.68-1626517177804:blk_1073761864_21042 len=9325048 Live_repl=8\n",
      "\n",
      "/data/msd/audio/features/msd-jmir-mfcc-all-v1.0.csv/part-00001.csv.gz 9327316 bytes, replicated: replication=8, 1 block(s):  OK\n",
      "0. BP-700027894-132.181.129.68-1626517177804:blk_1073761868_21046 len=9327316 Live_repl=8\n",
      "\n",
      "/data/msd/audio/features/msd-jmir-mfcc-all-v1.0.csv/part-00002.csv.gz 9324074 bytes, replicated: replication=8, 1 block(s):  OK\n",
      "0. BP-700027894-132.181.129.68-1626517177804:blk_1073761863_21041 len=9324074 Live_repl=8\n",
      "\n",
      "/data/msd/audio/features/msd-jmir-mfcc-all-v1.0.csv/part-00003.csv.gz 9324094 bytes, replicated: replication=8, 1 block(s):  OK\n",
      "0. BP-700027894-132.181.129.68-1626517177804:blk_1073761862_21040 len=9324094 Live_repl=8\n",
      "\n",
      "/data/msd/audio/features/msd-jmir-mfcc-all-v1.0.csv/part-00004.csv.gz 9324537 bytes, replicated: replication=8, 1 block(s):  OK\n",
      "0. BP-700027894-132.181.129.68-1626517177804:blk_1073761865_21043 len=9324537 Live_repl=8\n",
      "\n",
      "/data/msd/audio/features/msd-jmir-mfcc-all-v1.0.csv/part-00005.csv.gz 9324133 bytes, replicated: replication=8, 1 block(s):  OK\n",
      "0. BP-700027894-132.181.129.68-1626517177804:blk_1073761867_21045 len=9324133 Live_repl=8\n",
      "\n",
      "/data/msd/audio/features/msd-jmir-mfcc-all-v1.0.csv/part-00006.csv.gz 9322969 bytes, replicated: replication=8, 1 block(s):  OK\n",
      "0. BP-700027894-132.181.129.68-1626517177804:blk_1073761866_21044 len=9322969 Live_repl=8\n",
      "\n",
      "/data/msd/audio/features/msd-jmir-mfcc-all-v1.0.csv/part-00007.csv.gz 8925237 bytes, replicated: replication=8, 1 block(s):  OK\n",
      "0. BP-700027894-132.181.129.68-1626517177804:blk_1073761861_21039 len=8925237 Live_repl=8\n",
      "\n",
      "/data/msd/audio/features/msd-jmir-spectral-all-all-v1.0.csv <dir>\n",
      "/data/msd/audio/features/msd-jmir-spectral-all-all-v1.0.csv/part-00000.csv.gz 6735834 bytes, replicated: replication=8, 1 block(s):  OK\n",
      "0. BP-700027894-132.181.129.68-1626517177804:blk_1073761816_20994 len=6735834 Live_repl=8\n",
      "\n",
      "/data/msd/audio/features/msd-jmir-spectral-all-all-v1.0.csv/part-00001.csv.gz 6737774 bytes, replicated: replication=8, 1 block(s):  OK\n",
      "0. BP-700027894-132.181.129.68-1626517177804:blk_1073761820_20998 len=6737774 Live_repl=8\n",
      "\n",
      "/data/msd/audio/features/msd-jmir-spectral-all-all-v1.0.csv/part-00002.csv.gz 6736351 bytes, replicated: replication=8, 1 block(s):  OK\n",
      "0. BP-700027894-132.181.129.68-1626517177804:blk_1073761815_20993 len=6736351 Live_repl=8\n",
      "\n",
      "/data/msd/audio/features/msd-jmir-spectral-all-all-v1.0.csv/part-00003.csv.gz 6734170 bytes, replicated: replication=8, 1 block(s):  OK\n",
      "0. BP-700027894-132.181.129.68-1626517177804:blk_1073761814_20992 len=6734170 Live_repl=8\n",
      "\n",
      "/data/msd/audio/features/msd-jmir-spectral-all-all-v1.0.csv/part-00004.csv.gz 6735486 bytes, replicated: replication=8, 1 block(s):  OK\n",
      "0. BP-700027894-132.181.129.68-1626517177804:blk_1073761817_20995 len=6735486 Live_repl=8\n",
      "\n",
      "/data/msd/audio/features/msd-jmir-spectral-all-all-v1.0.csv/part-00005.csv.gz 6736038 bytes, replicated: replication=8, 1 block(s):  OK\n",
      "0. BP-700027894-132.181.129.68-1626517177804:blk_1073761819_20997 len=6736038 Live_repl=8\n",
      "\n",
      "/data/msd/audio/features/msd-jmir-spectral-all-all-v1.0.csv/part-00006.csv.gz 6735459 bytes, replicated: replication=8, 1 block(s):  OK\n",
      "0. BP-700027894-132.181.129.68-1626517177804:blk_1073761818_20996 len=6735459 Live_repl=8\n",
      "\n",
      "/data/msd/audio/features/msd-jmir-spectral-all-all-v1.0.csv/part-00007.csv.gz 6445696 bytes, replicated: replication=8, 1 block(s):  OK\n",
      "0. BP-700027894-132.181.129.68-1626517177804:blk_1073761813_20991 len=6445696 Live_repl=8\n",
      "\n",
      "/data/msd/audio/features/msd-jmir-spectral-derivatives-all-all-v1.0.csv <dir>\n",
      "/data/msd/audio/features/msd-jmir-spectral-derivatives-all-all-v1.0.csv/part-00000.csv.gz 6735834 bytes, replicated: replication=8, 1 block(s):  OK\n",
      "0. BP-700027894-132.181.129.68-1626517177804:blk_1073761872_21050 len=6735834 Live_repl=8\n",
      "\n",
      "/data/msd/audio/features/msd-jmir-spectral-derivatives-all-all-v1.0.csv/part-00001.csv.gz 6737774 bytes, replicated: replication=8, 1 block(s):  OK\n",
      "0. BP-700027894-132.181.129.68-1626517177804:blk_1073761876_21054 len=6737774 Live_repl=8\n",
      "\n",
      "/data/msd/audio/features/msd-jmir-spectral-derivatives-all-all-v1.0.csv/part-00002.csv.gz 6736351 bytes, replicated: replication=8, 1 block(s):  OK\n",
      "0. BP-700027894-132.181.129.68-1626517177804:blk_1073761871_21049 len=6736351 Live_repl=8\n",
      "\n",
      "/data/msd/audio/features/msd-jmir-spectral-derivatives-all-all-v1.0.csv/part-00003.csv.gz 6734170 bytes, replicated: replication=8, 1 block(s):  OK\n",
      "0. BP-700027894-132.181.129.68-1626517177804:blk_1073761870_21048 len=6734170 Live_repl=8\n",
      "\n",
      "/data/msd/audio/features/msd-jmir-spectral-derivatives-all-all-v1.0.csv/part-00004.csv.gz 6735486 bytes, replicated: replication=8, 1 block(s):  OK\n",
      "0. BP-700027894-132.181.129.68-1626517177804:blk_1073761873_21051 len=6735486 Live_repl=8\n",
      "\n",
      "/data/msd/audio/features/msd-jmir-spectral-derivatives-all-all-v1.0.csv/part-00005.csv.gz 6736038 bytes, replicated: replication=8, 1 block(s):  OK\n",
      "0. BP-700027894-132.181.129.68-1626517177804:blk_1073761875_21053 len=6736038 Live_repl=8\n",
      "\n",
      "/data/msd/audio/features/msd-jmir-spectral-derivatives-all-all-v1.0.csv/part-00006.csv.gz 6735459 bytes, replicated: replication=8, 1 block(s):  OK\n",
      "0. BP-700027894-132.181.129.68-1626517177804:blk_1073761874_21052 len=6735459 Live_repl=8\n",
      "\n",
      "/data/msd/audio/features/msd-jmir-spectral-derivatives-all-all-v1.0.csv/part-00007.csv.gz 6445696 bytes, replicated: replication=8, 1 block(s):  OK\n",
      "0. BP-700027894-132.181.129.68-1626517177804:blk_1073761869_21047 len=6445696 Live_repl=8\n",
      "\n",
      "/data/msd/audio/features/msd-marsyas-timbral-v1.0.csv <dir>\n",
      "/data/msd/audio/features/msd-marsyas-timbral-v1.0.csv/part-00000.csv.gz 54299383 bytes, replicated: replication=8, 1 block(s):  OK\n",
      "0. BP-700027894-132.181.129.68-1626517177804:blk_1073761888_21066 len=54299383 Live_repl=8\n",
      "\n",
      "/data/msd/audio/features/msd-marsyas-timbral-v1.0.csv/part-00001.csv.gz 54298485 bytes, replicated: replication=8, 1 block(s):  OK\n",
      "0. BP-700027894-132.181.129.68-1626517177804:blk_1073761892_21070 len=54298485 Live_repl=8\n",
      "\n",
      "/data/msd/audio/features/msd-marsyas-timbral-v1.0.csv/part-00002.csv.gz 54300285 bytes, replicated: replication=8, 1 block(s):  OK\n",
      "0. BP-700027894-132.181.129.68-1626517177804:blk_1073761887_21065 len=54300285 Live_repl=8\n",
      "\n",
      "/data/msd/audio/features/msd-marsyas-timbral-v1.0.csv/part-00003.csv.gz 54290182 bytes, replicated: replication=8, 1 block(s):  OK\n",
      "0. BP-700027894-132.181.129.68-1626517177804:blk_1073761886_21064 len=54290182 Live_repl=8\n",
      "\n",
      "/data/msd/audio/features/msd-marsyas-timbral-v1.0.csv/part-00004.csv.gz 54301920 bytes, replicated: replication=8, 1 block(s):  OK\n",
      "0. BP-700027894-132.181.129.68-1626517177804:blk_1073761889_21067 len=54301920 Live_repl=8\n",
      "\n",
      "/data/msd/audio/features/msd-marsyas-timbral-v1.0.csv/part-00005.csv.gz 54295407 bytes, replicated: replication=8, 1 block(s):  OK\n",
      "0. BP-700027894-132.181.129.68-1626517177804:blk_1073761891_21069 len=54295407 Live_repl=8\n",
      "\n",
      "/data/msd/audio/features/msd-marsyas-timbral-v1.0.csv/part-00006.csv.gz 54302443 bytes, replicated: replication=8, 1 block(s):  OK\n",
      "0. BP-700027894-132.181.129.68-1626517177804:blk_1073761890_21068 len=54302443 Live_repl=8\n",
      "\n",
      "/data/msd/audio/features/msd-marsyas-timbral-v1.0.csv/part-00007.csv.gz 52118685 bytes, replicated: replication=8, 1 block(s):  OK\n",
      "0. BP-700027894-132.181.129.68-1626517177804:blk_1073761885_21063 len=52118685 Live_repl=8\n",
      "\n",
      "/data/msd/audio/features/msd-mvd-v1.0.csv <dir>\n",
      "/data/msd/audio/features/msd-mvd-v1.0.csv/part-00000.csv.gz 173955438 bytes, replicated: replication=8, 2 block(s):  OK\n",
      "0. BP-700027894-132.181.129.68-1626517177804:blk_1073761724_20902 len=134217728 Live_repl=8\n",
      "1. BP-700027894-132.181.129.68-1626517177804:blk_1073761725_20903 len=39737710 Live_repl=8\n",
      "\n",
      "/data/msd/audio/features/msd-mvd-v1.0.csv/part-00001.csv.gz 174056749 bytes, replicated: replication=8, 2 block(s):  OK\n",
      "0. BP-700027894-132.181.129.68-1626517177804:blk_1073761732_20910 len=134217728 Live_repl=8\n",
      "1. BP-700027894-132.181.129.68-1626517177804:blk_1073761733_20911 len=39839021 Live_repl=8\n",
      "\n",
      "/data/msd/audio/features/msd-mvd-v1.0.csv/part-00002.csv.gz 173994957 bytes, replicated: replication=8, 2 block(s):  OK\n",
      "0. BP-700027894-132.181.129.68-1626517177804:blk_1073761722_20900 len=134217728 Live_repl=8\n",
      "1. BP-700027894-132.181.129.68-1626517177804:blk_1073761723_20901 len=39777229 Live_repl=8\n",
      "\n",
      "/data/msd/audio/features/msd-mvd-v1.0.csv/part-00003.csv.gz 173966435 bytes, replicated: replication=8, 2 block(s):  OK\n",
      "0. BP-700027894-132.181.129.68-1626517177804:blk_1073761720_20898 len=134217728 Live_repl=8\n",
      "1. BP-700027894-132.181.129.68-1626517177804:blk_1073761721_20899 len=39748707 Live_repl=8\n",
      "\n",
      "/data/msd/audio/features/msd-mvd-v1.0.csv/part-00004.csv.gz 174019074 bytes, replicated: replication=8, 2 block(s):  OK\n",
      "0. BP-700027894-132.181.129.68-1626517177804:blk_1073761726_20904 len=134217728 Live_repl=8\n",
      "1. BP-700027894-132.181.129.68-1626517177804:blk_1073761727_20905 len=39801346 Live_repl=8\n",
      "\n",
      "/data/msd/audio/features/msd-mvd-v1.0.csv/part-00005.csv.gz 174009495 bytes, replicated: replication=8, 2 block(s):  OK\n",
      "0. BP-700027894-132.181.129.68-1626517177804:blk_1073761730_20908 len=134217728 Live_repl=8\n",
      "1. BP-700027894-132.181.129.68-1626517177804:blk_1073761731_20909 len=39791767 Live_repl=8\n",
      "\n",
      "/data/msd/audio/features/msd-mvd-v1.0.csv/part-00006.csv.gz 174030134 bytes, replicated: replication=8, 2 block(s):  OK\n",
      "0. BP-700027894-132.181.129.68-1626517177804:blk_1073761728_20906 len=134217728 Live_repl=8\n",
      "1. BP-700027894-132.181.129.68-1626517177804:blk_1073761729_20907 len=39812406 Live_repl=8\n",
      "\n",
      "/data/msd/audio/features/msd-mvd-v1.0.csv/part-00007.csv.gz 165959998 bytes, replicated: replication=8, 2 block(s):  OK\n",
      "0. BP-700027894-132.181.129.68-1626517177804:blk_1073761718_20896 len=134217728 Live_repl=8\n",
      "1. BP-700027894-132.181.129.68-1626517177804:blk_1073761719_20897 len=31742270 Live_repl=8\n",
      "\n",
      "/data/msd/audio/features/msd-rh-v1.0.csv <dir>\n",
      "/data/msd/audio/features/msd-rh-v1.0.csv/part-00000.csv.gz 31676800 bytes, replicated: replication=8, 1 block(s):  OK\n",
      "0. BP-700027894-132.181.129.68-1626517177804:blk_1073761880_21058 len=31676800 Live_repl=8\n",
      "\n",
      "/data/msd/audio/features/msd-rh-v1.0.csv/part-00001.csv.gz 31685782 bytes, replicated: replication=8, 1 block(s):  OK\n",
      "0. BP-700027894-132.181.129.68-1626517177804:blk_1073761884_21062 len=31685782 Live_repl=8\n",
      "\n",
      "/data/msd/audio/features/msd-rh-v1.0.csv/part-00002.csv.gz 31683459 bytes, replicated: replication=8, 1 block(s):  OK\n",
      "0. BP-700027894-132.181.129.68-1626517177804:blk_1073761879_21057 len=31683459 Live_repl=8\n",
      "\n",
      "/data/msd/audio/features/msd-rh-v1.0.csv/part-00003.csv.gz 31681284 bytes, replicated: replication=8, 1 block(s):  OK\n",
      "0. BP-700027894-132.181.129.68-1626517177804:blk_1073761878_21056 len=31681284 Live_repl=8\n",
      "\n",
      "/data/msd/audio/features/msd-rh-v1.0.csv/part-00004.csv.gz 31684341 bytes, replicated: replication=8, 1 block(s):  OK\n",
      "0. BP-700027894-132.181.129.68-1626517177804:blk_1073761881_21059 len=31684341 Live_repl=8\n",
      "\n",
      "/data/msd/audio/features/msd-rh-v1.0.csv/part-00005.csv.gz 31685148 bytes, replicated: replication=8, 1 block(s):  OK\n",
      "0. BP-700027894-132.181.129.68-1626517177804:blk_1073761883_21061 len=31685148 Live_repl=8\n",
      "\n",
      "/data/msd/audio/features/msd-rh-v1.0.csv/part-00006.csv.gz 31685069 bytes, replicated: replication=8, 1 block(s):  OK\n",
      "0. BP-700027894-132.181.129.68-1626517177804:blk_1073761882_21060 len=31685069 Live_repl=8\n",
      "\n",
      "/data/msd/audio/features/msd-rh-v1.0.csv/part-00007.csv.gz 30212674 bytes, replicated: replication=8, 1 block(s):  OK\n",
      "0. BP-700027894-132.181.129.68-1626517177804:blk_1073761877_21055 len=30212674 Live_repl=8\n",
      "\n",
      "/data/msd/audio/features/msd-rp-v1.0.csv <dir>\n",
      "/data/msd/audio/features/msd-rp-v1.0.csv/part-00000.csv.gz 544118501 bytes, replicated: replication=8, 5 block(s):  OK\n",
      "0. BP-700027894-132.181.129.68-1626517177804:blk_1073761788_20966 len=134217728 Live_repl=8\n",
      "1. BP-700027894-132.181.129.68-1626517177804:blk_1073761789_20967 len=134217728 Live_repl=8\n",
      "2. BP-700027894-132.181.129.68-1626517177804:blk_1073761790_20968 len=134217728 Live_repl=8\n",
      "3. BP-700027894-132.181.129.68-1626517177804:blk_1073761791_20969 len=134217728 Live_repl=8\n",
      "4. BP-700027894-132.181.129.68-1626517177804:blk_1073761792_20970 len=7247589 Live_repl=8\n",
      "\n",
      "/data/msd/audio/features/msd-rp-v1.0.csv/part-00001.csv.gz 544397106 bytes, replicated: replication=8, 5 block(s):  OK\n",
      "0. BP-700027894-132.181.129.68-1626517177804:blk_1073761808_20986 len=134217728 Live_repl=8\n",
      "1. BP-700027894-132.181.129.68-1626517177804:blk_1073761809_20987 len=134217728 Live_repl=8\n",
      "2. BP-700027894-132.181.129.68-1626517177804:blk_1073761810_20988 len=134217728 Live_repl=8\n",
      "3. BP-700027894-132.181.129.68-1626517177804:blk_1073761811_20989 len=134217728 Live_repl=8\n",
      "4. BP-700027894-132.181.129.68-1626517177804:blk_1073761812_20990 len=7526194 Live_repl=8\n",
      "\n",
      "/data/msd/audio/features/msd-rp-v1.0.csv/part-00002.csv.gz 544256289 bytes, replicated: replication=8, 5 block(s):  OK\n",
      "0. BP-700027894-132.181.129.68-1626517177804:blk_1073761783_20961 len=134217728 Live_repl=8\n",
      "1. BP-700027894-132.181.129.68-1626517177804:blk_1073761784_20962 len=134217728 Live_repl=8\n",
      "2. BP-700027894-132.181.129.68-1626517177804:blk_1073761785_20963 len=134217728 Live_repl=8\n",
      "3. BP-700027894-132.181.129.68-1626517177804:blk_1073761786_20964 len=134217728 Live_repl=8\n",
      "4. BP-700027894-132.181.129.68-1626517177804:blk_1073761787_20965 len=7385377 Live_repl=8\n",
      "\n",
      "/data/msd/audio/features/msd-rp-v1.0.csv/part-00003.csv.gz 544381287 bytes, replicated: replication=8, 5 block(s):  OK\n",
      "0. BP-700027894-132.181.129.68-1626517177804:blk_1073761778_20956 len=134217728 Live_repl=8\n",
      "1. BP-700027894-132.181.129.68-1626517177804:blk_1073761779_20957 len=134217728 Live_repl=8\n",
      "2. BP-700027894-132.181.129.68-1626517177804:blk_1073761780_20958 len=134217728 Live_repl=8\n",
      "3. BP-700027894-132.181.129.68-1626517177804:blk_1073761781_20959 len=134217728 Live_repl=8\n",
      "4. BP-700027894-132.181.129.68-1626517177804:blk_1073761782_20960 len=7510375 Live_repl=8\n",
      "\n",
      "/data/msd/audio/features/msd-rp-v1.0.csv/part-00004.csv.gz 544387901 bytes, replicated: replication=8, 5 block(s):  OK\n",
      "0. BP-700027894-132.181.129.68-1626517177804:blk_1073761793_20971 len=134217728 Live_repl=8\n",
      "1. BP-700027894-132.181.129.68-1626517177804:blk_1073761794_20972 len=134217728 Live_repl=8\n",
      "2. BP-700027894-132.181.129.68-1626517177804:blk_1073761795_20973 len=134217728 Live_repl=8\n",
      "3. BP-700027894-132.181.129.68-1626517177804:blk_1073761796_20974 len=134217728 Live_repl=8\n",
      "4. BP-700027894-132.181.129.68-1626517177804:blk_1073761797_20975 len=7516989 Live_repl=8\n",
      "\n",
      "/data/msd/audio/features/msd-rp-v1.0.csv/part-00005.csv.gz 544352212 bytes, replicated: replication=8, 5 block(s):  OK\n",
      "0. BP-700027894-132.181.129.68-1626517177804:blk_1073761803_20981 len=134217728 Live_repl=8\n",
      "1. BP-700027894-132.181.129.68-1626517177804:blk_1073761804_20982 len=134217728 Live_repl=8\n",
      "2. BP-700027894-132.181.129.68-1626517177804:blk_1073761805_20983 len=134217728 Live_repl=8\n",
      "3. BP-700027894-132.181.129.68-1626517177804:blk_1073761806_20984 len=134217728 Live_repl=8\n",
      "4. BP-700027894-132.181.129.68-1626517177804:blk_1073761807_20985 len=7481300 Live_repl=8\n",
      "\n",
      "/data/msd/audio/features/msd-rp-v1.0.csv/part-00006.csv.gz 544333839 bytes, replicated: replication=8, 5 block(s):  OK\n",
      "0. BP-700027894-132.181.129.68-1626517177804:blk_1073761798_20976 len=134217728 Live_repl=8\n",
      "1. BP-700027894-132.181.129.68-1626517177804:blk_1073761799_20977 len=134217728 Live_repl=8\n",
      "2. BP-700027894-132.181.129.68-1626517177804:blk_1073761800_20978 len=134217728 Live_repl=8\n",
      "3. BP-700027894-132.181.129.68-1626517177804:blk_1073761801_20979 len=134217728 Live_repl=8\n",
      "4. BP-700027894-132.181.129.68-1626517177804:blk_1073761802_20980 len=7462927 Live_repl=8\n",
      "\n",
      "/data/msd/audio/features/msd-rp-v1.0.csv/part-00007.csv.gz 519075826 bytes, replicated: replication=8, 4 block(s):  OK\n",
      "0. BP-700027894-132.181.129.68-1626517177804:blk_1073761774_20952 len=134217728 Live_repl=8\n",
      "1. BP-700027894-132.181.129.68-1626517177804:blk_1073761775_20953 len=134217728 Live_repl=8\n",
      "2. BP-700027894-132.181.129.68-1626517177804:blk_1073761776_20954 len=134217728 Live_repl=8\n",
      "3. BP-700027894-132.181.129.68-1626517177804:blk_1073761777_20955 len=116422642 Live_repl=8\n",
      "\n",
      "/data/msd/audio/features/msd-ssd-v1.0.csv <dir>\n",
      "/data/msd/audio/features/msd-ssd-v1.0.csv/part-00000.csv.gz 84441900 bytes, replicated: replication=8, 1 block(s):  OK\n",
      "0. BP-700027894-132.181.129.68-1626517177804:blk_1073761832_21010 len=84441900 Live_repl=8\n",
      "\n",
      "/data/msd/audio/features/msd-ssd-v1.0.csv/part-00001.csv.gz 84463212 bytes, replicated: replication=8, 1 block(s):  OK\n",
      "0. BP-700027894-132.181.129.68-1626517177804:blk_1073761836_21014 len=84463212 Live_repl=8\n",
      "\n",
      "/data/msd/audio/features/msd-ssd-v1.0.csv/part-00002.csv.gz 84453926 bytes, replicated: replication=8, 1 block(s):  OK\n",
      "0. BP-700027894-132.181.129.68-1626517177804:blk_1073761831_21009 len=84453926 Live_repl=8\n",
      "\n",
      "/data/msd/audio/features/msd-ssd-v1.0.csv/part-00003.csv.gz 84452507 bytes, replicated: replication=8, 1 block(s):  OK\n",
      "0. BP-700027894-132.181.129.68-1626517177804:blk_1073761830_21008 len=84452507 Live_repl=8\n",
      "\n",
      "/data/msd/audio/features/msd-ssd-v1.0.csv/part-00004.csv.gz 84457200 bytes, replicated: replication=8, 1 block(s):  OK\n",
      "0. BP-700027894-132.181.129.68-1626517177804:blk_1073761833_21011 len=84457200 Live_repl=8\n",
      "\n",
      "/data/msd/audio/features/msd-ssd-v1.0.csv/part-00005.csv.gz 84464852 bytes, replicated: replication=8, 1 block(s):  OK\n",
      "0. BP-700027894-132.181.129.68-1626517177804:blk_1073761835_21013 len=84464852 Live_repl=8\n",
      "\n",
      "/data/msd/audio/features/msd-ssd-v1.0.csv/part-00006.csv.gz 84461435 bytes, replicated: replication=8, 1 block(s):  OK\n",
      "0. BP-700027894-132.181.129.68-1626517177804:blk_1073761834_21012 len=84461435 Live_repl=8\n",
      "\n",
      "/data/msd/audio/features/msd-ssd-v1.0.csv/part-00007.csv.gz 80545729 bytes, replicated: replication=8, 1 block(s):  OK\n",
      "0. BP-700027894-132.181.129.68-1626517177804:blk_1073761829_21007 len=80545729 Live_repl=8\n",
      "\n",
      "/data/msd/audio/features/msd-trh-v1.0.csv <dir>\n",
      "/data/msd/audio/features/msd-trh-v1.0.csv/part-00000.csv.gz 194396472 bytes, replicated: replication=8, 2 block(s):  OK\n",
      "0. BP-700027894-132.181.129.68-1626517177804:blk_1073761843_21021 len=134217728 Live_repl=8\n",
      "1. BP-700027894-132.181.129.68-1626517177804:blk_1073761844_21022 len=60178744 Live_repl=8\n",
      "\n",
      "/data/msd/audio/features/msd-trh-v1.0.csv/part-00001.csv.gz 194491877 bytes, replicated: replication=8, 2 block(s):  OK\n",
      "0. BP-700027894-132.181.129.68-1626517177804:blk_1073761851_21029 len=134217728 Live_repl=8\n",
      "1. BP-700027894-132.181.129.68-1626517177804:blk_1073761852_21030 len=60274149 Live_repl=8\n",
      "\n",
      "/data/msd/audio/features/msd-trh-v1.0.csv/part-00002.csv.gz 194448031 bytes, replicated: replication=8, 2 block(s):  OK\n",
      "0. BP-700027894-132.181.129.68-1626517177804:blk_1073761841_21019 len=134217728 Live_repl=8\n",
      "1. BP-700027894-132.181.129.68-1626517177804:blk_1073761842_21020 len=60230303 Live_repl=8\n",
      "\n",
      "/data/msd/audio/features/msd-trh-v1.0.csv/part-00003.csv.gz 194383236 bytes, replicated: replication=8, 2 block(s):  OK\n",
      "0. BP-700027894-132.181.129.68-1626517177804:blk_1073761839_21017 len=134217728 Live_repl=8\n",
      "1. BP-700027894-132.181.129.68-1626517177804:blk_1073761840_21018 len=60165508 Live_repl=8\n",
      "\n",
      "/data/msd/audio/features/msd-trh-v1.0.csv/part-00004.csv.gz 194398466 bytes, replicated: replication=8, 2 block(s):  OK\n",
      "0. BP-700027894-132.181.129.68-1626517177804:blk_1073761845_21023 len=134217728 Live_repl=8\n",
      "1. BP-700027894-132.181.129.68-1626517177804:blk_1073761846_21024 len=60180738 Live_repl=8\n",
      "\n",
      "/data/msd/audio/features/msd-trh-v1.0.csv/part-00005.csv.gz 194483717 bytes, replicated: replication=8, 2 block(s):  OK\n",
      "0. BP-700027894-132.181.129.68-1626517177804:blk_1073761849_21027 len=134217728 Live_repl=8\n",
      "1. BP-700027894-132.181.129.68-1626517177804:blk_1073761850_21028 len=60265989 Live_repl=8\n",
      "\n",
      "/data/msd/audio/features/msd-trh-v1.0.csv/part-00006.csv.gz 194497316 bytes, replicated: replication=8, 2 block(s):  OK\n",
      "0. BP-700027894-132.181.129.68-1626517177804:blk_1073761847_21025 len=134217728 Live_repl=8\n",
      "1. BP-700027894-132.181.129.68-1626517177804:blk_1073761848_21026 len=60279588 Live_repl=8\n",
      "\n",
      "/data/msd/audio/features/msd-trh-v1.0.csv/part-00007.csv.gz 185435893 bytes, replicated: replication=8, 2 block(s):  OK\n",
      "0. BP-700027894-132.181.129.68-1626517177804:blk_1073761837_21015 len=134217728 Live_repl=8\n",
      "1. BP-700027894-132.181.129.68-1626517177804:blk_1073761838_21016 len=51218165 Live_repl=8\n",
      "\n",
      "/data/msd/audio/features/msd-tssd-v1.0.csv <dir>\n",
      "/data/msd/audio/features/msd-tssd-v1.0.csv/part-00000.csv.gz 523653885 bytes, replicated: replication=8, 4 block(s):  OK\n",
      "0. BP-700027894-132.181.129.68-1626517177804:blk_1073761746_20924 len=134217728 Live_repl=8\n",
      "1. BP-700027894-132.181.129.68-1626517177804:blk_1073761747_20925 len=134217728 Live_repl=8\n",
      "2. BP-700027894-132.181.129.68-1626517177804:blk_1073761748_20926 len=134217728 Live_repl=8\n",
      "3. BP-700027894-132.181.129.68-1626517177804:blk_1073761749_20927 len=121000701 Live_repl=8\n",
      "\n",
      "/data/msd/audio/features/msd-tssd-v1.0.csv/part-00001.csv.gz 523973513 bytes, replicated: replication=8, 4 block(s):  OK\n",
      "0. BP-700027894-132.181.129.68-1626517177804:blk_1073761762_20940 len=134217728 Live_repl=8\n",
      "1. BP-700027894-132.181.129.68-1626517177804:blk_1073761763_20941 len=134217728 Live_repl=8\n",
      "2. BP-700027894-132.181.129.68-1626517177804:blk_1073761764_20942 len=134217728 Live_repl=8\n",
      "3. BP-700027894-132.181.129.68-1626517177804:blk_1073761765_20943 len=121320329 Live_repl=8\n",
      "\n",
      "/data/msd/audio/features/msd-tssd-v1.0.csv/part-00002.csv.gz 523846402 bytes, replicated: replication=8, 4 block(s):  OK\n",
      "0. BP-700027894-132.181.129.68-1626517177804:blk_1073761742_20920 len=134217728 Live_repl=8\n",
      "1. BP-700027894-132.181.129.68-1626517177804:blk_1073761743_20921 len=134217728 Live_repl=8\n",
      "2. BP-700027894-132.181.129.68-1626517177804:blk_1073761744_20922 len=134217728 Live_repl=8\n",
      "3. BP-700027894-132.181.129.68-1626517177804:blk_1073761745_20923 len=121193218 Live_repl=8\n",
      "\n",
      "/data/msd/audio/features/msd-tssd-v1.0.csv/part-00003.csv.gz 523674195 bytes, replicated: replication=8, 4 block(s):  OK\n",
      "0. BP-700027894-132.181.129.68-1626517177804:blk_1073761738_20916 len=134217728 Live_repl=8\n",
      "1. BP-700027894-132.181.129.68-1626517177804:blk_1073761739_20917 len=134217728 Live_repl=8\n",
      "2. BP-700027894-132.181.129.68-1626517177804:blk_1073761740_20918 len=134217728 Live_repl=8\n",
      "3. BP-700027894-132.181.129.68-1626517177804:blk_1073761741_20919 len=121021011 Live_repl=8\n",
      "\n",
      "/data/msd/audio/features/msd-tssd-v1.0.csv/part-00004.csv.gz 523778813 bytes, replicated: replication=8, 4 block(s):  OK\n",
      "0. BP-700027894-132.181.129.68-1626517177804:blk_1073761750_20928 len=134217728 Live_repl=8\n",
      "1. BP-700027894-132.181.129.68-1626517177804:blk_1073761751_20929 len=134217728 Live_repl=8\n",
      "2. BP-700027894-132.181.129.68-1626517177804:blk_1073761752_20930 len=134217728 Live_repl=8\n",
      "3. BP-700027894-132.181.129.68-1626517177804:blk_1073761753_20931 len=121125629 Live_repl=8\n",
      "\n",
      "/data/msd/audio/features/msd-tssd-v1.0.csv/part-00005.csv.gz 524004691 bytes, replicated: replication=8, 4 block(s):  OK\n",
      "0. BP-700027894-132.181.129.68-1626517177804:blk_1073761758_20936 len=134217728 Live_repl=8\n",
      "1. BP-700027894-132.181.129.68-1626517177804:blk_1073761759_20937 len=134217728 Live_repl=8\n",
      "2. BP-700027894-132.181.129.68-1626517177804:blk_1073761760_20938 len=134217728 Live_repl=8\n",
      "3. BP-700027894-132.181.129.68-1626517177804:blk_1073761761_20939 len=121351507 Live_repl=8\n",
      "\n",
      "/data/msd/audio/features/msd-tssd-v1.0.csv/part-00006.csv.gz 523959080 bytes, replicated: replication=8, 4 block(s):  OK\n",
      "0. BP-700027894-132.181.129.68-1626517177804:blk_1073761754_20932 len=134217728 Live_repl=8\n",
      "1. BP-700027894-132.181.129.68-1626517177804:blk_1073761755_20933 len=134217728 Live_repl=8\n",
      "2. BP-700027894-132.181.129.68-1626517177804:blk_1073761756_20934 len=134217728 Live_repl=8\n",
      "3. BP-700027894-132.181.129.68-1626517177804:blk_1073761757_20935 len=121305896 Live_repl=8\n",
      "\n",
      "/data/msd/audio/features/msd-tssd-v1.0.csv/part-00007.csv.gz 499578908 bytes, replicated: replication=8, 4 block(s):  OK\n",
      "0. BP-700027894-132.181.129.68-1626517177804:blk_1073761734_20912 len=134217728 Live_repl=8\n",
      "1. BP-700027894-132.181.129.68-1626517177804:blk_1073761735_20913 len=134217728 Live_repl=8\n",
      "2. BP-700027894-132.181.129.68-1626517177804:blk_1073761736_20914 len=134217728 Live_repl=8\n",
      "3. BP-700027894-132.181.129.68-1626517177804:blk_1073761737_20915 len=96925724 Live_repl=8\n",
      "\n",
      "\n",
      "Status: HEALTHY\n",
      " Number of data-nodes:\t32\n",
      " Number of racks:\t\t1\n",
      " Total dirs:\t\t\t14\n",
      " Total symlinks:\t\t0\n",
      "\n",
      "Replicated Blocks:\n",
      " Total size:\t13125542239 B\n",
      " Total files:\t104\n",
      " Total blocks (validated):\t175 (avg. block size 75003098 B)\n",
      " Minimally replicated blocks:\t175 (100.0 %)\n",
      " Over-replicated blocks:\t0 (0.0 %)\n",
      " Under-replicated blocks:\t0 (0.0 %)\n",
      " Mis-replicated blocks:\t\t0 (0.0 %)\n",
      " Default replication factor:\t4\n",
      " Average block replication:\t8.0\n",
      " Missing blocks:\t\t0\n",
      " Corrupt blocks:\t\t0\n",
      " Missing replicas:\t\t0 (0.0 %)\n",
      " Blocks queued for replication:\t0\n",
      "\n",
      "Erasure Coded Block Groups:\n",
      " Total size:\t0 B\n",
      " Total files:\t0\n",
      " Total block groups (validated):\t0\n",
      " Minimally erasure-coded block groups:\t0\n",
      " Over-erasure-coded block groups:\t0\n",
      " Under-erasure-coded block groups:\t0\n",
      " Unsatisfactory placement block groups:\t0\n",
      " Average block group size:\t0.0\n",
      " Missing block groups:\t\t0\n",
      " Corrupt block groups:\t\t0\n",
      " Missing internal blocks:\t0\n",
      " Blocks queued for replication:\t0\n",
      "FSCK ended at Mon Jun 03 10:18:13 NZST 2024 in 14 milliseconds\n",
      "\n",
      "\n",
      "The filesystem under path '/data/msd/audio/features' is HEALTHY\n"
     ]
    }
   ],
   "source": [
    "!hdfs dfs -ls -R /data/msd/audio/features\n",
    "\n",
    "!hdfs dfs -du -h /data/msd/audio/features\n",
    "\n",
    "!hdfs fsck /data/msd/audio/features -files -blocks"
   ]
  },
  {
   "cell_type": "markdown",
   "metadata": {},
   "source": [
    "# Statistics"
   ]
  },
  {
   "cell_type": "code",
   "execution_count": 11,
   "metadata": {},
   "outputs": [
    {
     "name": "stdout",
     "output_type": "stream",
     "text": [
      "-rwxr-xr-x   8 jsw93 supergroup   42224669 2021-09-29 10:28 /data/msd/audio/statistics/sample_properties.csv.gz\n",
      "40.3 M  322.1 M  /data/msd/audio/statistics/sample_properties.csv.gz\n",
      "Connecting to namenode via http://masternode2:9870/fsck?ugi=uwi14&files=1&blocks=1&path=%2Fdata%2Fmsd%2Faudio%2Fstatistics\n",
      "FSCK started by uwi14 (auth:SIMPLE) from /192.168.40.11 for path /data/msd/audio/statistics at Mon Jun 03 10:18:20 NZST 2024\n",
      "\n",
      "/data/msd/audio/statistics <dir>\n",
      "/data/msd/audio/statistics/sample_properties.csv.gz 42224669 bytes, replicated: replication=8, 1 block(s):  OK\n",
      "0. BP-700027894-132.181.129.68-1626517177804:blk_1073761717_20895 len=42224669 Live_repl=8\n",
      "\n",
      "\n",
      "Status: HEALTHY\n",
      " Number of data-nodes:\t32\n",
      " Number of racks:\t\t1\n",
      " Total dirs:\t\t\t1\n",
      " Total symlinks:\t\t0\n",
      "\n",
      "Replicated Blocks:\n",
      " Total size:\t42224669 B\n",
      " Total files:\t1\n",
      " Total blocks (validated):\t1 (avg. block size 42224669 B)\n",
      " Minimally replicated blocks:\t1 (100.0 %)\n",
      " Over-replicated blocks:\t0 (0.0 %)\n",
      " Under-replicated blocks:\t0 (0.0 %)\n",
      " Mis-replicated blocks:\t\t0 (0.0 %)\n",
      " Default replication factor:\t4\n",
      " Average block replication:\t8.0\n",
      " Missing blocks:\t\t0\n",
      " Corrupt blocks:\t\t0\n",
      " Missing replicas:\t\t0 (0.0 %)\n",
      " Blocks queued for replication:\t0\n",
      "\n",
      "Erasure Coded Block Groups:\n",
      " Total size:\t0 B\n",
      " Total files:\t0\n",
      " Total block groups (validated):\t0\n",
      " Minimally erasure-coded block groups:\t0\n",
      " Over-erasure-coded block groups:\t0\n",
      " Under-erasure-coded block groups:\t0\n",
      " Unsatisfactory placement block groups:\t0\n",
      " Average block group size:\t0.0\n",
      " Missing block groups:\t\t0\n",
      " Corrupt block groups:\t\t0\n",
      " Missing internal blocks:\t0\n",
      " Blocks queued for replication:\t0\n",
      "FSCK ended at Mon Jun 03 10:18:20 NZST 2024 in 1 milliseconds\n",
      "\n",
      "\n",
      "The filesystem under path '/data/msd/audio/statistics' is HEALTHY\n"
     ]
    }
   ],
   "source": [
    "!hdfs dfs -ls -R /data/msd/audio/statistics\n",
    "\n",
    "!hdfs dfs -du -h /data/msd/audio/statistics\n",
    "\n",
    "!hdfs fsck /data/msd/audio/statistics -files -blocks"
   ]
  },
  {
   "cell_type": "markdown",
   "metadata": {},
   "source": [
    "# genre"
   ]
  },
  {
   "cell_type": "code",
   "execution_count": 12,
   "metadata": {},
   "outputs": [
    {
     "name": "stdout",
     "output_type": "stream",
     "text": [
      "11625230  93001840  /data/msd/genre/msd-MAGD-genreAssignment.tsv\r\n",
      "8820054   70560432  /data/msd/genre/msd-MASD-styleAssignment.tsv\r\n",
      "11140605  89124840  /data/msd/genre/msd-topMAGD-genreAssignment.tsv\r\n"
     ]
    }
   ],
   "source": [
    "! hdfs dfs -du /data/msd/genre/"
   ]
  },
  {
   "cell_type": "code",
   "execution_count": 13,
   "metadata": {},
   "outputs": [
    {
     "name": "stdout",
     "output_type": "stream",
     "text": [
      "-rwxr-xr-x   8 jsw93 supergroup   11625230 2021-09-29 10:35 /data/msd/genre/msd-MAGD-genreAssignment.tsv\n",
      "-rwxr-xr-x   8 jsw93 supergroup    8820054 2021-09-29 10:35 /data/msd/genre/msd-MASD-styleAssignment.tsv\n",
      "-rwxr-xr-x   8 jsw93 supergroup   11140605 2021-09-29 10:35 /data/msd/genre/msd-topMAGD-genreAssignment.tsv\n",
      "11.1 M  88.7 M  /data/msd/genre/msd-MAGD-genreAssignment.tsv\n",
      "8.4 M   67.3 M  /data/msd/genre/msd-MASD-styleAssignment.tsv\n",
      "10.6 M  85.0 M  /data/msd/genre/msd-topMAGD-genreAssignment.tsv\n",
      "Connecting to namenode via http://masternode2:9870/fsck?ugi=uwi14&files=1&blocks=1&path=%2Fdata%2Fmsd%2Fgenre\n",
      "FSCK started by uwi14 (auth:SIMPLE) from /192.168.40.11 for path /data/msd/genre at Mon Jun 03 10:18:29 NZST 2024\n",
      "\n",
      "/data/msd/genre <dir>\n",
      "/data/msd/genre/msd-MAGD-genreAssignment.tsv 11625230 bytes, replicated: replication=8, 1 block(s):  OK\n",
      "0. BP-700027894-132.181.129.68-1626517177804:blk_1073761918_21096 len=11625230 Live_repl=8\n",
      "\n",
      "/data/msd/genre/msd-MASD-styleAssignment.tsv 8820054 bytes, replicated: replication=8, 1 block(s):  OK\n",
      "0. BP-700027894-132.181.129.68-1626517177804:blk_1073761917_21095 len=8820054 Live_repl=8\n",
      "\n",
      "/data/msd/genre/msd-topMAGD-genreAssignment.tsv 11140605 bytes, replicated: replication=8, 1 block(s):  OK\n",
      "0. BP-700027894-132.181.129.68-1626517177804:blk_1073761916_21094 len=11140605 Live_repl=8\n",
      "\n",
      "\n",
      "Status: HEALTHY\n",
      " Number of data-nodes:\t32\n",
      " Number of racks:\t\t1\n",
      " Total dirs:\t\t\t1\n",
      " Total symlinks:\t\t0\n",
      "\n",
      "Replicated Blocks:\n",
      " Total size:\t31585889 B\n",
      " Total files:\t3\n",
      " Total blocks (validated):\t3 (avg. block size 10528629 B)\n",
      " Minimally replicated blocks:\t3 (100.0 %)\n",
      " Over-replicated blocks:\t0 (0.0 %)\n",
      " Under-replicated blocks:\t0 (0.0 %)\n",
      " Mis-replicated blocks:\t\t0 (0.0 %)\n",
      " Default replication factor:\t4\n",
      " Average block replication:\t8.0\n",
      " Missing blocks:\t\t0\n",
      " Corrupt blocks:\t\t0\n",
      " Missing replicas:\t\t0 (0.0 %)\n",
      " Blocks queued for replication:\t0\n",
      "\n",
      "Erasure Coded Block Groups:\n",
      " Total size:\t0 B\n",
      " Total files:\t0\n",
      " Total block groups (validated):\t0\n",
      " Minimally erasure-coded block groups:\t0\n",
      " Over-erasure-coded block groups:\t0\n",
      " Under-erasure-coded block groups:\t0\n",
      " Unsatisfactory placement block groups:\t0\n",
      " Average block group size:\t0.0\n",
      " Missing block groups:\t\t0\n",
      " Corrupt block groups:\t\t0\n",
      " Missing internal blocks:\t0\n",
      " Blocks queued for replication:\t0\n",
      "FSCK ended at Mon Jun 03 10:18:29 NZST 2024 in 1 milliseconds\n",
      "\n",
      "\n",
      "The filesystem under path '/data/msd/genre' is HEALTHY\n"
     ]
    }
   ],
   "source": [
    "!hdfs dfs -ls -R /data/msd/genre/\n",
    "\n",
    "!hdfs dfs -du -h /data/msd/genre/\n",
    "\n",
    "!hdfs fsck /data/msd/genre -files -blocks\n"
   ]
  },
  {
   "cell_type": "markdown",
   "metadata": {},
   "source": [
    "# main"
   ]
  },
  {
   "cell_type": "code",
   "execution_count": 14,
   "metadata": {},
   "outputs": [
    {
     "name": "stdout",
     "output_type": "stream",
     "text": [
      "58658141   469265128  /data/msd/main/summary/analysis.csv.gz\r\n",
      "124211304  993690432  /data/msd/main/summary/metadata.csv.gz\r\n"
     ]
    }
   ],
   "source": [
    "! hdfs dfs -du /data/msd/main/summary"
   ]
  },
  {
   "cell_type": "code",
   "execution_count": 15,
   "metadata": {},
   "outputs": [
    {
     "name": "stdout",
     "output_type": "stream",
     "text": [
      "-rwxr-xr-x   8 jsw93 supergroup   58658141 2021-09-29 10:28 /data/msd/main/summary/analysis.csv.gz\n",
      "-rwxr-xr-x   8 jsw93 supergroup  124211304 2021-09-29 10:28 /data/msd/main/summary/metadata.csv.gz\n",
      "55.9 M   447.5 M  /data/msd/main/summary/analysis.csv.gz\n",
      "118.5 M  947.7 M  /data/msd/main/summary/metadata.csv.gz\n",
      "Connecting to namenode via http://masternode2:9870/fsck?ugi=uwi14&files=1&blocks=1&path=%2Fdata%2Fmsd%2Fmain%2Fsummary\n",
      "FSCK started by uwi14 (auth:SIMPLE) from /192.168.40.11 for path /data/msd/main/summary at Mon Jun 03 10:18:38 NZST 2024\n",
      "\n",
      "/data/msd/main/summary <dir>\n",
      "/data/msd/main/summary/analysis.csv.gz 58658141 bytes, replicated: replication=8, 1 block(s):  OK\n",
      "0. BP-700027894-132.181.129.68-1626517177804:blk_1073761716_20894 len=58658141 Live_repl=8\n",
      "\n",
      "/data/msd/main/summary/metadata.csv.gz 124211304 bytes, replicated: replication=8, 1 block(s):  OK\n",
      "0. BP-700027894-132.181.129.68-1626517177804:blk_1073761715_20893 len=124211304 Live_repl=8\n",
      "\n",
      "\n",
      "Status: HEALTHY\n",
      " Number of data-nodes:\t32\n",
      " Number of racks:\t\t1\n",
      " Total dirs:\t\t\t1\n",
      " Total symlinks:\t\t0\n",
      "\n",
      "Replicated Blocks:\n",
      " Total size:\t182869445 B\n",
      " Total files:\t2\n",
      " Total blocks (validated):\t2 (avg. block size 91434722 B)\n",
      " Minimally replicated blocks:\t2 (100.0 %)\n",
      " Over-replicated blocks:\t0 (0.0 %)\n",
      " Under-replicated blocks:\t0 (0.0 %)\n",
      " Mis-replicated blocks:\t\t0 (0.0 %)\n",
      " Default replication factor:\t4\n",
      " Average block replication:\t8.0\n",
      " Missing blocks:\t\t0\n",
      " Corrupt blocks:\t\t0\n",
      " Missing replicas:\t\t0 (0.0 %)\n",
      " Blocks queued for replication:\t0\n",
      "\n",
      "Erasure Coded Block Groups:\n",
      " Total size:\t0 B\n",
      " Total files:\t0\n",
      " Total block groups (validated):\t0\n",
      " Minimally erasure-coded block groups:\t0\n",
      " Over-erasure-coded block groups:\t0\n",
      " Under-erasure-coded block groups:\t0\n",
      " Unsatisfactory placement block groups:\t0\n",
      " Average block group size:\t0.0\n",
      " Missing block groups:\t\t0\n",
      " Corrupt block groups:\t\t0\n",
      " Missing internal blocks:\t0\n",
      " Blocks queued for replication:\t0\n",
      "FSCK ended at Mon Jun 03 10:18:38 NZST 2024 in 1 milliseconds\n",
      "\n",
      "\n",
      "The filesystem under path '/data/msd/main/summary' is HEALTHY\n"
     ]
    }
   ],
   "source": [
    "!hdfs dfs -ls -R /data/msd/main/summary\n",
    "\n",
    "!hdfs dfs -du -h /data/msd/main/summary\n",
    "\n",
    "!hdfs fsck /data/msd/main/summary -files -blocks"
   ]
  },
  {
   "cell_type": "markdown",
   "metadata": {},
   "source": [
    "# Taste Profile"
   ]
  },
  {
   "cell_type": "code",
   "execution_count": 16,
   "metadata": {},
   "outputs": [
    {
     "name": "stdout",
     "output_type": "stream",
     "text": [
      "2117524    16940192    /data/msd/tasteprofile/mismatches\r\n",
      "512139195  4097113560  /data/msd/tasteprofile/triplets.tsv\r\n"
     ]
    }
   ],
   "source": [
    "! hdfs dfs -du /data/msd/tasteprofile"
   ]
  },
  {
   "cell_type": "code",
   "execution_count": 17,
   "metadata": {},
   "outputs": [
    {
     "name": "stdout",
     "output_type": "stream",
     "text": [
      "drwxr-xr-x   - jsw93 supergroup          0 2021-09-29 10:35 /data/msd/tasteprofile/mismatches\n",
      "-rwxr-xr-x   8 jsw93 supergroup      91342 2021-09-29 10:35 /data/msd/tasteprofile/mismatches/sid_matches_manually_accepted.txt\n",
      "-rwxr-xr-x   8 jsw93 supergroup    2026182 2021-09-29 10:35 /data/msd/tasteprofile/mismatches/sid_mismatches.txt\n",
      "drwxr-xr-x   - jsw93 supergroup          0 2021-09-29 10:35 /data/msd/tasteprofile/triplets.tsv\n",
      "-rwxr-xr-x   8 jsw93 supergroup   64020759 2021-09-29 10:35 /data/msd/tasteprofile/triplets.tsv/part-00000.tsv.gz\n",
      "-rwxr-xr-x   8 jsw93 supergroup   64038083 2021-09-29 10:35 /data/msd/tasteprofile/triplets.tsv/part-00001.tsv.gz\n",
      "-rwxr-xr-x   8 jsw93 supergroup   64077499 2021-09-29 10:35 /data/msd/tasteprofile/triplets.tsv/part-00002.tsv.gz\n",
      "-rwxr-xr-x   8 jsw93 supergroup   64102442 2021-09-29 10:35 /data/msd/tasteprofile/triplets.tsv/part-00003.tsv.gz\n",
      "-rwxr-xr-x   8 jsw93 supergroup   63998697 2021-09-29 10:35 /data/msd/tasteprofile/triplets.tsv/part-00004.tsv.gz\n",
      "-rwxr-xr-x   8 jsw93 supergroup   64049032 2021-09-29 10:35 /data/msd/tasteprofile/triplets.tsv/part-00005.tsv.gz\n",
      "-rwxr-xr-x   8 jsw93 supergroup   64064101 2021-09-29 10:35 /data/msd/tasteprofile/triplets.tsv/part-00006.tsv.gz\n",
      "-rwxr-xr-x   8 jsw93 supergroup   63788582 2021-09-29 10:35 /data/msd/tasteprofile/triplets.tsv/part-00007.tsv.gz\n",
      "2.0 M    16.2 M  /data/msd/tasteprofile/mismatches\n",
      "488.4 M  3.8 G   /data/msd/tasteprofile/triplets.tsv\n",
      "Connecting to namenode via http://masternode2:9870/fsck?ugi=uwi14&files=1&blocks=1&path=%2Fdata%2Fmsd%2Ftasteprofile\n",
      "FSCK started by uwi14 (auth:SIMPLE) from /192.168.40.11 for path /data/msd/tasteprofile at Mon Jun 03 10:18:47 NZST 2024\n",
      "\n",
      "/data/msd/tasteprofile <dir>\n",
      "/data/msd/tasteprofile/mismatches <dir>\n",
      "/data/msd/tasteprofile/mismatches/sid_matches_manually_accepted.txt 91342 bytes, replicated: replication=8, 1 block(s):  OK\n",
      "0. BP-700027894-132.181.129.68-1626517177804:blk_1073761915_21093 len=91342 Live_repl=8\n",
      "\n",
      "/data/msd/tasteprofile/mismatches/sid_mismatches.txt 2026182 bytes, replicated: replication=8, 1 block(s):  OK\n",
      "0. BP-700027894-132.181.129.68-1626517177804:blk_1073761914_21092 len=2026182 Live_repl=8\n",
      "\n",
      "/data/msd/tasteprofile/triplets.tsv <dir>\n",
      "/data/msd/tasteprofile/triplets.tsv/part-00000.tsv.gz 64020759 bytes, replicated: replication=8, 1 block(s):  OK\n",
      "0. BP-700027894-132.181.129.68-1626517177804:blk_1073761910_21088 len=64020759 Live_repl=8\n",
      "\n",
      "/data/msd/tasteprofile/triplets.tsv/part-00001.tsv.gz 64038083 bytes, replicated: replication=8, 1 block(s):  OK\n",
      "0. BP-700027894-132.181.129.68-1626517177804:blk_1073761912_21090 len=64038083 Live_repl=8\n",
      "\n",
      "/data/msd/tasteprofile/triplets.tsv/part-00002.tsv.gz 64077499 bytes, replicated: replication=8, 1 block(s):  OK\n",
      "0. BP-700027894-132.181.129.68-1626517177804:blk_1073761911_21089 len=64077499 Live_repl=8\n",
      "\n",
      "/data/msd/tasteprofile/triplets.tsv/part-00003.tsv.gz 64102442 bytes, replicated: replication=8, 1 block(s):  OK\n",
      "0. BP-700027894-132.181.129.68-1626517177804:blk_1073761908_21086 len=64102442 Live_repl=8\n",
      "\n",
      "/data/msd/tasteprofile/triplets.tsv/part-00004.tsv.gz 63998697 bytes, replicated: replication=8, 1 block(s):  OK\n",
      "0. BP-700027894-132.181.129.68-1626517177804:blk_1073761906_21084 len=63998697 Live_repl=8\n",
      "\n",
      "/data/msd/tasteprofile/triplets.tsv/part-00005.tsv.gz 64049032 bytes, replicated: replication=8, 1 block(s):  OK\n",
      "0. BP-700027894-132.181.129.68-1626517177804:blk_1073761913_21091 len=64049032 Live_repl=8\n",
      "\n",
      "/data/msd/tasteprofile/triplets.tsv/part-00006.tsv.gz 64064101 bytes, replicated: replication=8, 1 block(s):  OK\n",
      "0. BP-700027894-132.181.129.68-1626517177804:blk_1073761907_21085 len=64064101 Live_repl=8\n",
      "\n",
      "/data/msd/tasteprofile/triplets.tsv/part-00007.tsv.gz 63788582 bytes, replicated: replication=8, 1 block(s):  OK\n",
      "0. BP-700027894-132.181.129.68-1626517177804:blk_1073761909_21087 len=63788582 Live_repl=8\n",
      "\n",
      "\n",
      "Status: HEALTHY\n",
      " Number of data-nodes:\t32\n",
      " Number of racks:\t\t1\n",
      " Total dirs:\t\t\t3\n",
      " Total symlinks:\t\t0\n",
      "\n",
      "Replicated Blocks:\n",
      " Total size:\t514256719 B\n",
      " Total files:\t10\n",
      " Total blocks (validated):\t10 (avg. block size 51425671 B)\n",
      " Minimally replicated blocks:\t10 (100.0 %)\n",
      " Over-replicated blocks:\t0 (0.0 %)\n",
      " Under-replicated blocks:\t0 (0.0 %)\n",
      " Mis-replicated blocks:\t\t0 (0.0 %)\n",
      " Default replication factor:\t4\n",
      " Average block replication:\t8.0\n",
      " Missing blocks:\t\t0\n",
      " Corrupt blocks:\t\t0\n",
      " Missing replicas:\t\t0 (0.0 %)\n",
      " Blocks queued for replication:\t0\n",
      "\n",
      "Erasure Coded Block Groups:\n",
      " Total size:\t0 B\n",
      " Total files:\t0\n",
      " Total block groups (validated):\t0\n",
      " Minimally erasure-coded block groups:\t0\n",
      " Over-erasure-coded block groups:\t0\n",
      " Under-erasure-coded block groups:\t0\n",
      " Unsatisfactory placement block groups:\t0\n",
      " Average block group size:\t0.0\n",
      " Missing block groups:\t\t0\n",
      " Corrupt block groups:\t\t0\n",
      " Missing internal blocks:\t0\n",
      " Blocks queued for replication:\t0\n",
      "FSCK ended at Mon Jun 03 10:18:47 NZST 2024 in 1 milliseconds\n",
      "\n",
      "\n",
      "The filesystem under path '/data/msd/tasteprofile' is HEALTHY\n"
     ]
    }
   ],
   "source": [
    "!hdfs dfs -ls -R /data/msd/tasteprofile\n",
    "\n",
    "!hdfs dfs -du -h /data/msd/tasteprofile\n",
    "\n",
    "!hdfs fsck /data/msd/tasteprofile -files -blocks"
   ]
  },
  {
   "cell_type": "markdown",
   "metadata": {},
   "source": [
    "## Mismatches"
   ]
  },
  {
   "cell_type": "code",
   "execution_count": 18,
   "metadata": {},
   "outputs": [
    {
     "name": "stdout",
     "output_type": "stream",
     "text": [
      "91342    730736    /data/msd/tasteprofile/mismatches/sid_matches_manually_accepted.txt\r\n",
      "2026182  16209456  /data/msd/tasteprofile/mismatches/sid_mismatches.txt\r\n"
     ]
    }
   ],
   "source": [
    "! hdfs dfs -du /data/msd/tasteprofile/mismatches"
   ]
  },
  {
   "cell_type": "code",
   "execution_count": 19,
   "metadata": {},
   "outputs": [
    {
     "name": "stdout",
     "output_type": "stream",
     "text": [
      "-rwxr-xr-x   8 jsw93 supergroup      91342 2021-09-29 10:35 /data/msd/tasteprofile/mismatches/sid_matches_manually_accepted.txt\n",
      "-rwxr-xr-x   8 jsw93 supergroup    2026182 2021-09-29 10:35 /data/msd/tasteprofile/mismatches/sid_mismatches.txt\n",
      "89.2 K  713.6 K  /data/msd/tasteprofile/mismatches/sid_matches_manually_accepted.txt\n",
      "1.9 M   15.5 M   /data/msd/tasteprofile/mismatches/sid_mismatches.txt\n",
      "Connecting to namenode via http://masternode2:9870/fsck?ugi=uwi14&files=1&blocks=1&path=%2Fdata%2Fmsd%2Ftasteprofile%2Fmismatches\n",
      "FSCK started by uwi14 (auth:SIMPLE) from /192.168.40.11 for path /data/msd/tasteprofile/mismatches at Mon Jun 03 10:18:56 NZST 2024\n",
      "\n",
      "/data/msd/tasteprofile/mismatches <dir>\n",
      "/data/msd/tasteprofile/mismatches/sid_matches_manually_accepted.txt 91342 bytes, replicated: replication=8, 1 block(s):  OK\n",
      "0. BP-700027894-132.181.129.68-1626517177804:blk_1073761915_21093 len=91342 Live_repl=8\n",
      "\n",
      "/data/msd/tasteprofile/mismatches/sid_mismatches.txt 2026182 bytes, replicated: replication=8, 1 block(s):  OK\n",
      "0. BP-700027894-132.181.129.68-1626517177804:blk_1073761914_21092 len=2026182 Live_repl=8\n",
      "\n",
      "\n",
      "Status: HEALTHY\n",
      " Number of data-nodes:\t32\n",
      " Number of racks:\t\t1\n",
      " Total dirs:\t\t\t1\n",
      " Total symlinks:\t\t0\n",
      "\n",
      "Replicated Blocks:\n",
      " Total size:\t2117524 B\n",
      " Total files:\t2\n",
      " Total blocks (validated):\t2 (avg. block size 1058762 B)\n",
      " Minimally replicated blocks:\t2 (100.0 %)\n",
      " Over-replicated blocks:\t0 (0.0 %)\n",
      " Under-replicated blocks:\t0 (0.0 %)\n",
      " Mis-replicated blocks:\t\t0 (0.0 %)\n",
      " Default replication factor:\t4\n",
      " Average block replication:\t8.0\n",
      " Missing blocks:\t\t0\n",
      " Corrupt blocks:\t\t0\n",
      " Missing replicas:\t\t0 (0.0 %)\n",
      " Blocks queued for replication:\t0\n",
      "\n",
      "Erasure Coded Block Groups:\n",
      " Total size:\t0 B\n",
      " Total files:\t0\n",
      " Total block groups (validated):\t0\n",
      " Minimally erasure-coded block groups:\t0\n",
      " Over-erasure-coded block groups:\t0\n",
      " Under-erasure-coded block groups:\t0\n",
      " Unsatisfactory placement block groups:\t0\n",
      " Average block group size:\t0.0\n",
      " Missing block groups:\t\t0\n",
      " Corrupt block groups:\t\t0\n",
      " Missing internal blocks:\t0\n",
      " Blocks queued for replication:\t0\n",
      "FSCK ended at Mon Jun 03 10:18:56 NZST 2024 in 2 milliseconds\n",
      "\n",
      "\n",
      "The filesystem under path '/data/msd/tasteprofile/mismatches' is HEALTHY\n"
     ]
    }
   ],
   "source": [
    "!hdfs dfs -ls -R /data/msd/tasteprofile/mismatches\n",
    "\n",
    "!hdfs dfs -du -h /data/msd/tasteprofile/mismatches\n",
    "\n",
    "!hdfs fsck /data/msd/tasteprofile/mismatches -files -blocks"
   ]
  },
  {
   "cell_type": "markdown",
   "metadata": {},
   "source": [
    "# Q1 - B"
   ]
  },
  {
   "cell_type": "markdown",
   "metadata": {},
   "source": [
    "# Audio"
   ]
  },
  {
   "cell_type": "markdown",
   "metadata": {},
   "source": [
    "## Attributes Count"
   ]
  },
  {
   "cell_type": "code",
   "execution_count": 20,
   "metadata": {},
   "outputs": [
    {
     "name": "stdout",
     "output_type": "stream",
     "text": [
      "+------------+-------+\n",
      "|         _c0|    _c1|\n",
      "+------------+-------+\n",
      "| component_1|NUMERIC|\n",
      "| component_2|NUMERIC|\n",
      "| component_3|NUMERIC|\n",
      "| component_4|NUMERIC|\n",
      "| component_5|NUMERIC|\n",
      "| component_6|NUMERIC|\n",
      "| component_7|NUMERIC|\n",
      "| component_8|NUMERIC|\n",
      "| component_9|NUMERIC|\n",
      "|component_10|NUMERIC|\n",
      "+------------+-------+\n",
      "only showing top 10 rows\n",
      "\n",
      "Number of rows in Audio_Attributes: 3929\n"
     ]
    }
   ],
   "source": [
    "Audio_Attributes = (\n",
    "    spark.read.format(\"com.databricks.spark.csv\")\n",
    "    .option(\"header\", \"false\")\n",
    "    .option(\"inferSchema\", \"true\")\n",
    "    .load(\"hdfs:///data/msd/audio/attributes/*.csv\")\n",
    ")\n",
    "Audio_Attributes.show(10)\n",
    "\n",
    "# Count the number of rows\n",
    "count = Audio_Attributes.count()\n",
    "\n",
    "print(f\"Number of rows in Audio_Attributes: {count}\")\n"
   ]
  },
  {
   "cell_type": "markdown",
   "metadata": {},
   "source": [
    "## Feature Count"
   ]
  },
  {
   "cell_type": "code",
   "execution_count": 21,
   "metadata": {},
   "outputs": [
    {
     "name": "stdout",
     "output_type": "stream",
     "text": [
      "+--------+--------+--------+--------+--------+--------+--------+--------+--------+--------+--------+--------+--------+--------+--------+--------+--------+--------+--------+--------+--------+--------+--------+-------+--------+--------+--------+--------+--------+--------+--------+--------+--------+--------+--------+--------+--------+--------+--------+--------+--------+--------+--------+--------+--------+--------+--------+--------+--------+--------+--------+--------+--------+--------+--------+--------+--------+--------+--------+--------+--------+--------+--------+--------+--------+--------+--------+--------+--------+--------+--------+--------+--------+--------+--------+--------+--------+--------+--------+--------+--------+--------+--------+--------+--------+--------+--------+--------+--------+--------+--------+--------+--------+--------+--------+-------+--------+--------+--------+--------+--------+--------+--------+--------+--------+--------+--------+--------+--------+--------+--------+--------+--------+--------+--------+--------+--------+--------+--------+--------+--------+--------+--------+--------+--------+--------+--------+--------+--------+--------+--------+--------+--------+--------+--------+--------+--------+--------+--------+--------+--------+--------+--------+--------+--------+--------+--------+--------+--------+--------+--------+--------+--------+--------+--------+--------+--------+--------+--------+--------+--------+--------+--------+--------+--------+--------+--------+--------+--------+--------+--------+--------+--------+--------+--------+--------+--------+--------+--------+--------+--------+--------+--------+--------+--------+--------+--------+--------+--------+--------+--------+--------+--------+--------+--------+--------+--------+--------+--------+--------+--------+--------+--------+--------+--------+--------+--------+--------+--------+--------+--------+--------+--------+--------+--------+--------+--------+--------+--------+--------+--------+--------+--------+--------+--------+--------+--------+--------+--------+--------+--------+--------+--------+--------+--------+--------+--------+--------+--------+--------+--------+--------+--------+--------+--------+--------+--------+--------+--------+--------+--------+--------+--------+--------+--------+--------+--------+--------+--------+--------+--------+--------+--------+--------+--------+--------+--------+--------+--------+--------+--------+--------+--------+--------+--------+--------+--------+--------+--------+--------+--------+--------+--------+--------+--------+--------+--------+-------+--------+--------+--------+--------+--------+--------+--------+--------+--------+--------+--------+--------+--------+--------+--------+--------+--------+--------+--------+--------+--------+--------+--------+--------+--------+--------+--------+--------+--------+--------+--------+--------+--------+--------+--------+--------+--------+--------+--------+--------+--------+--------+--------+--------+--------+--------+--------+--------+--------+--------+--------+--------+--------+--------+--------+--------+--------+--------+--------+--------+--------+--------+--------+--------+--------+--------+--------+--------+--------+--------+--------+--------+--------+--------+--------+--------+--------+--------+--------+--------+--------+--------+--------+--------+--------+--------+--------+--------+--------+--------+--------+--------+--------+--------+--------+--------+--------+--------+--------+--------+--------+--------+--------+--------+--------+--------+--------+--------+--------+--------+--------+--------+--------+--------+--------+--------+--------+--------+--------+--------+--------+--------+--------+--------+--------+--------+--------+--------+--------+--------+--------+--------+--------+--------+--------+--------+--------+--------+--------+--------+--------+--------+--------+--------+--------+--------+--------+--------+--------+--------+--------+--------+--------+--------+--------+--------+--------+--------+--------+--------+--------+--------+--------+--------+--------+--------+--------+-------+--------+--------+--------+--------+--------+--------+--------+--------+--------+--------+--------+--------+--------+--------+--------+--------+--------+--------+--------+--------+--------+--------+--------+--------+--------+--------+--------+--------+--------+--------+--------+--------+--------+--------+--------+--------+--------+--------+--------+--------+--------+--------+--------+--------+--------+--------+--------+-------+--------+--------+--------+--------+--------+--------+--------+--------+--------+--------+--------+--------+--------+--------+--------+--------+--------+--------+--------+--------+--------+--------+--------+--------+--------+--------+--------+--------+--------+--------+--------+--------+--------+--------+--------+--------+--------+--------+--------+--------+--------+--------+--------+--------+--------+--------+--------+-------+--------+--------+--------+--------+--------+--------+--------+--------+--------+--------+--------+--------+--------+--------+--------+--------+--------+--------+--------+--------+--------+--------+--------+--------+--------+--------+--------+--------+--------+--------+--------+--------+--------+--------+--------+--------+--------+--------+--------+--------+--------+--------+--------+--------+--------+--------+--------+--------+--------+--------+--------+--------+--------+--------+--------+--------+--------+--------+--------+--------+--------+--------+--------+--------+--------+--------+--------+--------+--------+--------+--------+--------+--------+--------+--------+--------+--------+--------+--------+--------+--------+--------+--------+--------+--------+--------+--------+--------+--------+--------+--------+--------+--------+--------+--------+--------+--------+--------+--------+--------+--------+--------+--------+--------+--------+--------+--------+--------+--------+--------+--------+--------+--------+--------+--------+--------+--------+--------+--------+--------+--------+--------+--------+--------+--------+--------+--------+--------+--------+--------+--------+--------+--------+--------+--------+--------+--------+--------+--------+--------+--------+--------+--------+--------+--------+--------+--------+--------+--------+--------+--------+--------+--------+--------+--------+--------+--------+--------+--------+--------+--------+--------+--------+--------+--------+--------+--------+--------+--------+--------+--------+--------+--------+--------+--------+--------+--------+--------+--------+--------+--------+--------+--------+--------+--------+--------+--------+--------+--------+--------+--------+--------+--------+--------+--------+--------+--------+--------+--------+--------+--------+--------+--------+--------+--------+--------+--------+--------+--------+--------+--------+--------+--------+--------+--------+--------+--------+--------+--------+--------+--------+--------+--------+--------+--------+--------+--------+--------+--------+--------+--------+--------+--------+--------+--------+--------+--------+--------+--------+--------+--------+--------+--------+--------+--------+--------+--------+--------+--------+--------+--------+--------+--------+--------+--------+--------+--------+--------+--------+--------+--------+--------+--------+--------+--------+--------+--------+--------+--------+--------+--------+--------+--------+--------+--------+--------+--------+--------+--------+--------+--------+--------+--------+--------+--------+--------+--------+--------+--------+--------+--------+--------+--------+--------+--------+--------+--------+--------+--------+--------+--------+--------+--------+--------+--------+--------+--------+--------+--------+--------+--------+--------+--------+--------+--------+--------+--------+--------+--------+--------+--------+--------+--------+--------+--------+--------+--------+--------+--------+--------+--------+--------+--------+--------+--------+--------+--------+--------+--------+--------+--------+--------+--------+--------+--------+--------+--------+--------+--------+--------+--------+--------+--------+--------+--------+--------+--------+--------+--------+--------+--------+--------+--------+--------+--------+--------+--------+--------+--------+--------+--------+--------+--------+--------+--------+--------+--------+--------+--------+--------+--------+--------+--------+--------+--------+--------+--------+--------+--------+--------+--------+--------+--------+--------+--------+--------+--------+--------+--------+--------+--------+--------+--------+--------+--------+--------+--------+--------+--------+--------+--------+--------+--------+--------+--------+--------+--------+--------+--------+--------+--------+--------+--------+--------+--------+--------+--------+--------+--------+--------+--------+--------+--------+--------+--------+--------+--------+--------+--------+--------+--------+--------+--------+--------+--------+--------+--------+--------+--------+--------+--------+--------+--------+--------+--------+--------+--------+--------+--------+--------+--------+--------+--------+--------+--------+--------+--------+--------+--------+--------+--------+--------+--------+--------+--------+--------+--------+--------+--------+--------+--------+--------+--------+--------+--------+--------+--------+--------+--------+--------+--------+--------+--------+--------+--------+--------+--------+--------+--------+--------+--------+--------+--------+--------+--------+--------+--------+--------+--------+--------+--------+--------+--------+--------+--------+--------+--------+--------+--------+--------+--------+--------+--------+--------+--------+--------+--------+--------+--------+--------+--------+--------+--------+--------+--------+--------+--------+--------+--------+--------+--------+--------+--------+--------+--------+--------+--------+--------+--------+--------+--------+--------+--------+--------+--------+--------+--------+--------+--------+--------+--------+--------+--------+--------+--------+--------+--------+--------+--------+--------+--------+--------+--------+--------+--------+--------+--------+--------+--------+--------+--------+--------+--------+--------+--------+--------+--------+--------+--------+--------+--------+--------+--------+--------+--------+--------+--------+--------+--------+--------+--------+--------+--------+--------+--------+--------+--------+--------+--------+--------+--------+--------+--------+--------+--------+--------+--------+--------+--------+--------+--------+--------+--------+--------+--------+--------+--------+--------+--------+--------+--------+--------+--------+--------+--------+--------+--------+--------+--------+--------+--------+--------+--------+--------+--------+--------+--------+--------+--------+--------+--------+--------+--------+--------+--------+--------+--------+--------+--------+--------+--------+--------+--------+--------+--------+--------+--------+--------+--------+--------+--------+--------+--------+--------+--------+--------+--------+--------+--------+--------+--------+--------+--------+--------+--------+--------+--------+--------+--------+--------+--------+--------+--------+--------+--------+--------+--------+--------+--------+--------+--------+--------+--------+--------+--------+--------+--------+--------+--------+--------+--------+--------+--------+--------+--------+--------+--------+--------+--------+--------+--------+--------+--------+--------+--------+--------+--------+--------+--------+--------+--------+--------+--------+--------+--------+--------+--------+--------+--------+--------+--------+--------+--------+--------+--------+--------+--------+--------+--------+--------+--------+--------+--------+--------+--------+--------+--------+--------+--------+--------+--------+--------+--------+--------+--------+--------+--------+--------+--------+--------+--------+--------+--------+--------+--------+--------+--------+--------+--------+--------+--------+--------+--------+--------+--------+--------+--------+--------+--------+--------+--------+--------+--------+--------+--------+--------+--------+--------+--------+--------+--------+--------+--------+--------+--------+--------+--------+--------+--------+--------+--------+--------+--------+--------+--------+--------+--------+--------+--------+--------+--------+--------+--------+--------+--------+--------+--------+--------+--------+--------+--------+--------+--------+--------+--------+--------+--------+--------+--------+--------+--------+--------+--------+--------+--------+--------+--------+--------+--------+--------+--------+--------+--------+--------+--------+--------+--------+--------+--------+--------+--------+--------+--------+--------+--------+--------+--------+--------+--------+--------+--------+--------+--------+--------+--------+--------+--------+--------+--------+--------+--------+--------+--------+--------+--------+--------+--------+--------+------------------+\n",
      "|     _c0|     _c1|     _c2|     _c3|     _c4|     _c5|     _c6|     _c7|     _c8|     _c9|    _c10|    _c11|    _c12|    _c13|    _c14|    _c15|    _c16|    _c17|    _c18|    _c19|    _c20|    _c21|    _c22|   _c23|    _c24|    _c25|    _c26|    _c27|    _c28|    _c29|    _c30|    _c31|    _c32|    _c33|    _c34|    _c35|    _c36|    _c37|    _c38|    _c39|    _c40|    _c41|    _c42|    _c43|    _c44|    _c45|    _c46|    _c47|    _c48|    _c49|    _c50|    _c51|    _c52|    _c53|    _c54|    _c55|    _c56|    _c57|    _c58|    _c59|    _c60|    _c61|    _c62|    _c63|    _c64|    _c65|    _c66|    _c67|    _c68|    _c69|    _c70|    _c71|    _c72|    _c73|    _c74|    _c75|    _c76|    _c77|    _c78|    _c79|    _c80|    _c81|    _c82|    _c83|    _c84|    _c85|    _c86|    _c87|    _c88|    _c89|    _c90|    _c91|    _c92|    _c93|    _c94|   _c95|    _c96|    _c97|    _c98|    _c99|   _c100|   _c101|   _c102|   _c103|   _c104|   _c105|   _c106|   _c107|   _c108|   _c109|   _c110|   _c111|   _c112|   _c113|   _c114|   _c115|   _c116|   _c117|   _c118|   _c119|   _c120|   _c121|   _c122|   _c123|   _c124|   _c125|   _c126|   _c127|   _c128|   _c129|   _c130|   _c131|   _c132|   _c133|   _c134|   _c135|   _c136|   _c137|   _c138|   _c139|   _c140|   _c141|   _c142|   _c143|   _c144|   _c145|   _c146|   _c147|   _c148|   _c149|   _c150|   _c151|   _c152|   _c153|   _c154|   _c155|   _c156|   _c157|   _c158|   _c159|   _c160|   _c161|   _c162|   _c163|   _c164|   _c165|   _c166|   _c167|   _c168|   _c169|   _c170|   _c171|   _c172|   _c173|   _c174|   _c175|   _c176|   _c177|   _c178|   _c179|   _c180|   _c181|   _c182|   _c183|   _c184|   _c185|   _c186|   _c187|   _c188|   _c189|   _c190|   _c191|   _c192|   _c193|   _c194|   _c195|   _c196|   _c197|   _c198|   _c199|   _c200|   _c201|   _c202|   _c203|   _c204|   _c205|   _c206|   _c207|   _c208|   _c209|   _c210|   _c211|   _c212|   _c213|   _c214|   _c215|   _c216|   _c217|   _c218|   _c219|   _c220|   _c221|   _c222|   _c223|   _c224|   _c225|   _c226|   _c227|   _c228|   _c229|   _c230|   _c231|   _c232|   _c233|   _c234|   _c235|   _c236|   _c237|   _c238|   _c239|   _c240|   _c241|   _c242|   _c243|   _c244|   _c245|   _c246|   _c247|   _c248|   _c249|   _c250|   _c251|   _c252|   _c253|   _c254|   _c255|   _c256|   _c257|   _c258|   _c259|   _c260|   _c261|   _c262|   _c263|   _c264|   _c265|   _c266|   _c267|   _c268|   _c269|   _c270|   _c271|   _c272|   _c273|   _c274|   _c275|   _c276|   _c277|   _c278|   _c279|   _c280|   _c281|   _c282|   _c283|   _c284|   _c285|   _c286|  _c287|   _c288|   _c289|   _c290|   _c291|   _c292|   _c293|   _c294|   _c295|   _c296|   _c297|   _c298|   _c299|   _c300|   _c301|   _c302|   _c303|   _c304|   _c305|   _c306|   _c307|   _c308|   _c309|   _c310|   _c311|   _c312|   _c313|   _c314|   _c315|   _c316|   _c317|   _c318|   _c319|   _c320|   _c321|   _c322|   _c323|   _c324|   _c325|   _c326|   _c327|   _c328|   _c329|   _c330|   _c331|   _c332|   _c333|   _c334|   _c335|   _c336|   _c337|   _c338|   _c339|   _c340|   _c341|   _c342|   _c343|   _c344|   _c345|   _c346|   _c347|   _c348|   _c349|   _c350|   _c351|   _c352|   _c353|   _c354|   _c355|   _c356|   _c357|   _c358|   _c359|   _c360|   _c361|   _c362|   _c363|   _c364|   _c365|   _c366|   _c367|   _c368|   _c369|   _c370|   _c371|   _c372|   _c373|   _c374|   _c375|   _c376|   _c377|   _c378|   _c379|   _c380|   _c381|   _c382|   _c383|   _c384|   _c385|   _c386|   _c387|   _c388|   _c389|   _c390|   _c391|   _c392|   _c393|   _c394|   _c395|   _c396|   _c397|   _c398|   _c399|   _c400|   _c401|   _c402|   _c403|   _c404|   _c405|   _c406|   _c407|   _c408|   _c409|   _c410|   _c411|   _c412|   _c413|   _c414|   _c415|   _c416|   _c417|   _c418|   _c419|   _c420|   _c421|   _c422|   _c423|   _c424|   _c425|   _c426|   _c427|   _c428|   _c429|   _c430|   _c431|   _c432|   _c433|   _c434|   _c435|   _c436|   _c437|   _c438|   _c439|   _c440|   _c441|   _c442|   _c443|   _c444|   _c445|   _c446|   _c447|   _c448|   _c449|   _c450|   _c451|   _c452|   _c453|   _c454|  _c455|   _c456|   _c457|   _c458|   _c459|   _c460|   _c461|   _c462|   _c463|   _c464|   _c465|   _c466|   _c467|   _c468|   _c469|   _c470|   _c471|   _c472|   _c473|   _c474|   _c475|   _c476|   _c477|   _c478|   _c479|   _c480|   _c481|   _c482|   _c483|   _c484|   _c485|   _c486|   _c487|   _c488|   _c489|   _c490|   _c491|   _c492|   _c493|   _c494|   _c495|   _c496|   _c497|   _c498|   _c499|   _c500|   _c501|   _c502|  _c503|   _c504|   _c505|   _c506|   _c507|   _c508|   _c509|   _c510|   _c511|   _c512|   _c513|   _c514|   _c515|   _c516|   _c517|   _c518|   _c519|   _c520|   _c521|   _c522|   _c523|   _c524|   _c525|   _c526|   _c527|   _c528|   _c529|   _c530|   _c531|   _c532|   _c533|   _c534|   _c535|   _c536|   _c537|   _c538|   _c539|   _c540|   _c541|   _c542|   _c543|   _c544|   _c545|   _c546|   _c547|   _c548|   _c549|   _c550|  _c551|   _c552|   _c553|   _c554|   _c555|   _c556|   _c557|   _c558|   _c559|   _c560|   _c561|   _c562|   _c563|   _c564|   _c565|   _c566|   _c567|   _c568|   _c569|   _c570|   _c571|   _c572|   _c573|   _c574|   _c575|   _c576|   _c577|   _c578|   _c579|   _c580|   _c581|   _c582|   _c583|   _c584|   _c585|   _c586|   _c587|   _c588|   _c589|   _c590|   _c591|   _c592|   _c593|   _c594|   _c595|   _c596|   _c597|   _c598|   _c599|   _c600|   _c601|   _c602|   _c603|   _c604|   _c605|   _c606|   _c607|   _c608|   _c609|   _c610|   _c611|   _c612|   _c613|   _c614|   _c615|   _c616|   _c617|   _c618|   _c619|   _c620|   _c621|   _c622|   _c623|   _c624|   _c625|   _c626|   _c627|   _c628|   _c629|   _c630|   _c631|   _c632|   _c633|   _c634|   _c635|   _c636|   _c637|   _c638|   _c639|   _c640|   _c641|   _c642|   _c643|   _c644|   _c645|   _c646|   _c647|   _c648|   _c649|   _c650|   _c651|   _c652|   _c653|   _c654|   _c655|   _c656|   _c657|   _c658|   _c659|   _c660|   _c661|   _c662|   _c663|   _c664|   _c665|   _c666|   _c667|   _c668|   _c669|   _c670|   _c671|   _c672|   _c673|   _c674|   _c675|   _c676|   _c677|   _c678|   _c679|   _c680|   _c681|   _c682|   _c683|   _c684|   _c685|   _c686|   _c687|   _c688|   _c689|   _c690|   _c691|   _c692|   _c693|   _c694|   _c695|   _c696|   _c697|   _c698|   _c699|   _c700|   _c701|   _c702|   _c703|   _c704|   _c705|   _c706|   _c707|   _c708|   _c709|   _c710|   _c711|   _c712|   _c713|   _c714|   _c715|   _c716|   _c717|   _c718|   _c719|   _c720|   _c721|   _c722|   _c723|   _c724|   _c725|   _c726|   _c727|   _c728|   _c729|   _c730|   _c731|   _c732|   _c733|   _c734|   _c735|   _c736|   _c737|   _c738|   _c739|   _c740|   _c741|   _c742|   _c743|   _c744|   _c745|   _c746|   _c747|   _c748|   _c749|   _c750|   _c751|   _c752|   _c753|   _c754|   _c755|   _c756|   _c757|   _c758|   _c759|   _c760|   _c761|   _c762|   _c763|   _c764|   _c765|   _c766|   _c767|   _c768|   _c769|   _c770|   _c771|   _c772|   _c773|   _c774|   _c775|   _c776|   _c777|   _c778|   _c779|   _c780|   _c781|   _c782|   _c783|   _c784|   _c785|   _c786|   _c787|   _c788|   _c789|   _c790|   _c791|   _c792|   _c793|   _c794|   _c795|   _c796|   _c797|   _c798|   _c799|   _c800|   _c801|   _c802|   _c803|   _c804|   _c805|   _c806|   _c807|   _c808|   _c809|   _c810|   _c811|   _c812|   _c813|   _c814|   _c815|   _c816|   _c817|   _c818|   _c819|   _c820|   _c821|   _c822|   _c823|   _c824|   _c825|   _c826|   _c827|   _c828|   _c829|   _c830|   _c831|   _c832|   _c833|   _c834|   _c835|   _c836|   _c837|   _c838|   _c839|   _c840|   _c841|   _c842|   _c843|   _c844|   _c845|   _c846|   _c847|   _c848|   _c849|   _c850|   _c851|   _c852|   _c853|   _c854|   _c855|   _c856|   _c857|   _c858|   _c859|   _c860|   _c861|   _c862|   _c863|   _c864|   _c865|   _c866|   _c867|   _c868|   _c869|   _c870|   _c871|   _c872|   _c873|   _c874|   _c875|   _c876|   _c877|   _c878|   _c879|   _c880|   _c881|   _c882|   _c883|   _c884|   _c885|   _c886|   _c887|   _c888|   _c889|   _c890|   _c891|   _c892|   _c893|   _c894|   _c895|   _c896|   _c897|   _c898|   _c899|   _c900|   _c901|   _c902|   _c903|   _c904|   _c905|   _c906|   _c907|   _c908|   _c909|   _c910|   _c911|   _c912|   _c913|   _c914|   _c915|   _c916|   _c917|   _c918|   _c919|   _c920|   _c921|   _c922|   _c923|   _c924|   _c925|   _c926|   _c927|   _c928|   _c929|   _c930|   _c931|   _c932|   _c933|   _c934|   _c935|   _c936|   _c937|   _c938|   _c939|   _c940|   _c941|   _c942|   _c943|   _c944|   _c945|   _c946|   _c947|   _c948|   _c949|   _c950|   _c951|   _c952|   _c953|   _c954|   _c955|   _c956|   _c957|   _c958|   _c959|   _c960|   _c961|   _c962|   _c963|   _c964|   _c965|   _c966|   _c967|   _c968|   _c969|   _c970|   _c971|   _c972|   _c973|   _c974|   _c975|   _c976|   _c977|   _c978|   _c979|   _c980|   _c981|   _c982|   _c983|   _c984|   _c985|   _c986|   _c987|   _c988|   _c989|   _c990|   _c991|   _c992|   _c993|   _c994|   _c995|   _c996|   _c997|   _c998|   _c999|  _c1000|  _c1001|  _c1002|  _c1003|  _c1004|  _c1005|  _c1006|  _c1007|  _c1008|  _c1009|  _c1010|  _c1011|  _c1012|  _c1013|  _c1014|  _c1015|  _c1016|  _c1017|  _c1018|  _c1019|  _c1020|  _c1021|  _c1022|  _c1023|  _c1024|  _c1025|  _c1026|  _c1027|  _c1028|  _c1029|  _c1030|  _c1031|  _c1032|  _c1033|  _c1034|  _c1035|  _c1036|  _c1037|  _c1038|  _c1039|  _c1040|  _c1041|  _c1042|  _c1043|  _c1044|  _c1045|  _c1046|  _c1047|  _c1048|  _c1049|  _c1050|  _c1051|  _c1052|  _c1053|  _c1054|  _c1055|  _c1056|  _c1057|  _c1058|  _c1059|  _c1060|  _c1061|  _c1062|  _c1063|  _c1064|  _c1065|  _c1066|  _c1067|  _c1068|  _c1069|  _c1070|  _c1071|  _c1072|  _c1073|  _c1074|  _c1075|  _c1076|  _c1077|  _c1078|  _c1079|  _c1080|  _c1081|  _c1082|  _c1083|  _c1084|  _c1085|  _c1086|  _c1087|  _c1088|  _c1089|  _c1090|  _c1091|  _c1092|  _c1093|  _c1094|  _c1095|  _c1096|  _c1097|  _c1098|  _c1099|  _c1100|  _c1101|  _c1102|  _c1103|  _c1104|  _c1105|  _c1106|  _c1107|  _c1108|  _c1109|  _c1110|  _c1111|  _c1112|  _c1113|  _c1114|  _c1115|  _c1116|  _c1117|  _c1118|  _c1119|  _c1120|  _c1121|  _c1122|  _c1123|  _c1124|  _c1125|  _c1126|  _c1127|  _c1128|  _c1129|  _c1130|  _c1131|  _c1132|  _c1133|  _c1134|  _c1135|  _c1136|  _c1137|  _c1138|  _c1139|  _c1140|  _c1141|  _c1142|  _c1143|  _c1144|  _c1145|  _c1146|  _c1147|  _c1148|  _c1149|  _c1150|  _c1151|  _c1152|  _c1153|  _c1154|  _c1155|  _c1156|  _c1157|  _c1158|  _c1159|  _c1160|  _c1161|  _c1162|  _c1163|  _c1164|  _c1165|  _c1166|  _c1167|  _c1168|  _c1169|  _c1170|  _c1171|  _c1172|  _c1173|  _c1174|  _c1175|  _c1176|  _c1177|  _c1178|  _c1179|  _c1180|  _c1181|  _c1182|  _c1183|  _c1184|  _c1185|  _c1186|  _c1187|  _c1188|  _c1189|  _c1190|  _c1191|  _c1192|  _c1193|  _c1194|  _c1195|  _c1196|  _c1197|  _c1198|  _c1199|  _c1200|  _c1201|  _c1202|  _c1203|  _c1204|  _c1205|  _c1206|  _c1207|  _c1208|  _c1209|  _c1210|  _c1211|  _c1212|  _c1213|  _c1214|  _c1215|  _c1216|  _c1217|  _c1218|  _c1219|  _c1220|  _c1221|  _c1222|  _c1223|  _c1224|  _c1225|  _c1226|  _c1227|  _c1228|  _c1229|  _c1230|  _c1231|  _c1232|  _c1233|  _c1234|  _c1235|  _c1236|  _c1237|  _c1238|  _c1239|  _c1240|  _c1241|  _c1242|  _c1243|  _c1244|  _c1245|  _c1246|  _c1247|  _c1248|  _c1249|  _c1250|  _c1251|  _c1252|  _c1253|  _c1254|  _c1255|  _c1256|  _c1257|  _c1258|  _c1259|  _c1260|  _c1261|  _c1262|  _c1263|  _c1264|  _c1265|  _c1266|  _c1267|  _c1268|  _c1269|  _c1270|  _c1271|  _c1272|  _c1273|  _c1274|  _c1275|  _c1276|  _c1277|  _c1278|  _c1279|  _c1280|  _c1281|  _c1282|  _c1283|  _c1284|  _c1285|  _c1286|  _c1287|  _c1288|  _c1289|  _c1290|  _c1291|  _c1292|  _c1293|  _c1294|  _c1295|  _c1296|  _c1297|  _c1298|  _c1299|  _c1300|  _c1301|  _c1302|  _c1303|  _c1304|  _c1305|  _c1306|  _c1307|  _c1308|  _c1309|  _c1310|  _c1311|  _c1312|  _c1313|  _c1314|  _c1315|  _c1316|  _c1317|  _c1318|  _c1319|  _c1320|  _c1321|  _c1322|  _c1323|  _c1324|  _c1325|  _c1326|  _c1327|  _c1328|  _c1329|  _c1330|  _c1331|  _c1332|  _c1333|  _c1334|  _c1335|  _c1336|  _c1337|  _c1338|  _c1339|  _c1340|  _c1341|  _c1342|  _c1343|  _c1344|  _c1345|  _c1346|  _c1347|  _c1348|  _c1349|  _c1350|  _c1351|  _c1352|  _c1353|  _c1354|  _c1355|  _c1356|  _c1357|  _c1358|  _c1359|  _c1360|  _c1361|  _c1362|  _c1363|  _c1364|  _c1365|  _c1366|  _c1367|  _c1368|  _c1369|  _c1370|  _c1371|  _c1372|  _c1373|  _c1374|  _c1375|  _c1376|  _c1377|  _c1378|  _c1379|  _c1380|  _c1381|  _c1382|  _c1383|  _c1384|  _c1385|  _c1386|  _c1387|  _c1388|  _c1389|  _c1390|  _c1391|  _c1392|  _c1393|  _c1394|  _c1395|  _c1396|  _c1397|  _c1398|  _c1399|  _c1400|  _c1401|  _c1402|  _c1403|  _c1404|  _c1405|  _c1406|  _c1407|  _c1408|  _c1409|  _c1410|  _c1411|  _c1412|  _c1413|  _c1414|  _c1415|  _c1416|  _c1417|  _c1418|  _c1419|  _c1420|  _c1421|  _c1422|  _c1423|  _c1424|  _c1425|  _c1426|  _c1427|  _c1428|  _c1429|  _c1430|  _c1431|  _c1432|  _c1433|  _c1434|  _c1435|  _c1436|  _c1437|  _c1438|  _c1439|            _c1440|\n",
      "+--------+--------+--------+--------+--------+--------+--------+--------+--------+--------+--------+--------+--------+--------+--------+--------+--------+--------+--------+--------+--------+--------+--------+-------+--------+--------+--------+--------+--------+--------+--------+--------+--------+--------+--------+--------+--------+--------+--------+--------+--------+--------+--------+--------+--------+--------+--------+--------+--------+--------+--------+--------+--------+--------+--------+--------+--------+--------+--------+--------+--------+--------+--------+--------+--------+--------+--------+--------+--------+--------+--------+--------+--------+--------+--------+--------+--------+--------+--------+--------+--------+--------+--------+--------+--------+--------+--------+--------+--------+--------+--------+--------+--------+--------+--------+-------+--------+--------+--------+--------+--------+--------+--------+--------+--------+--------+--------+--------+--------+--------+--------+--------+--------+--------+--------+--------+--------+--------+--------+--------+--------+--------+--------+--------+--------+--------+--------+--------+--------+--------+--------+--------+--------+--------+--------+--------+--------+--------+--------+--------+--------+--------+--------+--------+--------+--------+--------+--------+--------+--------+--------+--------+--------+--------+--------+--------+--------+--------+--------+--------+--------+--------+--------+--------+--------+--------+--------+--------+--------+--------+--------+--------+--------+--------+--------+--------+--------+--------+--------+--------+--------+--------+--------+--------+--------+--------+--------+--------+--------+--------+--------+--------+--------+--------+--------+--------+--------+--------+--------+--------+--------+--------+--------+--------+--------+--------+--------+--------+--------+--------+--------+--------+--------+--------+--------+--------+--------+--------+--------+--------+--------+--------+--------+--------+--------+--------+--------+--------+--------+--------+--------+--------+--------+--------+--------+--------+--------+--------+--------+--------+--------+--------+--------+--------+--------+--------+--------+--------+--------+--------+--------+--------+--------+--------+--------+--------+--------+--------+--------+--------+--------+--------+--------+--------+--------+--------+--------+--------+--------+--------+--------+--------+--------+--------+--------+--------+--------+--------+--------+--------+--------+--------+--------+--------+--------+--------+--------+-------+--------+--------+--------+--------+--------+--------+--------+--------+--------+--------+--------+--------+--------+--------+--------+--------+--------+--------+--------+--------+--------+--------+--------+--------+--------+--------+--------+--------+--------+--------+--------+--------+--------+--------+--------+--------+--------+--------+--------+--------+--------+--------+--------+--------+--------+--------+--------+--------+--------+--------+--------+--------+--------+--------+--------+--------+--------+--------+--------+--------+--------+--------+--------+--------+--------+--------+--------+--------+--------+--------+--------+--------+--------+--------+--------+--------+--------+--------+--------+--------+--------+--------+--------+--------+--------+--------+--------+--------+--------+--------+--------+--------+--------+--------+--------+--------+--------+--------+--------+--------+--------+--------+--------+--------+--------+--------+--------+--------+--------+--------+--------+--------+--------+--------+--------+--------+--------+--------+--------+--------+--------+--------+--------+--------+--------+--------+--------+--------+--------+--------+--------+--------+--------+--------+--------+--------+--------+--------+--------+--------+--------+--------+--------+--------+--------+--------+--------+--------+--------+--------+--------+--------+--------+--------+--------+--------+--------+--------+--------+--------+--------+--------+--------+--------+--------+--------+--------+-------+--------+--------+--------+--------+--------+--------+--------+--------+--------+--------+--------+--------+--------+--------+--------+--------+--------+--------+--------+--------+--------+--------+--------+--------+--------+--------+--------+--------+--------+--------+--------+--------+--------+--------+--------+--------+--------+--------+--------+--------+--------+--------+--------+--------+--------+--------+--------+-------+--------+--------+--------+--------+--------+--------+--------+--------+--------+--------+--------+--------+--------+--------+--------+--------+--------+--------+--------+--------+--------+--------+--------+--------+--------+--------+--------+--------+--------+--------+--------+--------+--------+--------+--------+--------+--------+--------+--------+--------+--------+--------+--------+--------+--------+--------+--------+-------+--------+--------+--------+--------+--------+--------+--------+--------+--------+--------+--------+--------+--------+--------+--------+--------+--------+--------+--------+--------+--------+--------+--------+--------+--------+--------+--------+--------+--------+--------+--------+--------+--------+--------+--------+--------+--------+--------+--------+--------+--------+--------+--------+--------+--------+--------+--------+--------+--------+--------+--------+--------+--------+--------+--------+--------+--------+--------+--------+--------+--------+--------+--------+--------+--------+--------+--------+--------+--------+--------+--------+--------+--------+--------+--------+--------+--------+--------+--------+--------+--------+--------+--------+--------+--------+--------+--------+--------+--------+--------+--------+--------+--------+--------+--------+--------+--------+--------+--------+--------+--------+--------+--------+--------+--------+--------+--------+--------+--------+--------+--------+--------+--------+--------+--------+--------+--------+--------+--------+--------+--------+--------+--------+--------+--------+--------+--------+--------+--------+--------+--------+--------+--------+--------+--------+--------+--------+--------+--------+--------+--------+--------+--------+--------+--------+--------+--------+--------+--------+--------+--------+--------+--------+--------+--------+--------+--------+--------+--------+--------+--------+--------+--------+--------+--------+--------+--------+--------+--------+--------+--------+--------+--------+--------+--------+--------+--------+--------+--------+--------+--------+--------+--------+--------+--------+--------+--------+--------+--------+--------+--------+--------+--------+--------+--------+--------+--------+--------+--------+--------+--------+--------+--------+--------+--------+--------+--------+--------+--------+--------+--------+--------+--------+--------+--------+--------+--------+--------+--------+--------+--------+--------+--------+--------+--------+--------+--------+--------+--------+--------+--------+--------+--------+--------+--------+--------+--------+--------+--------+--------+--------+--------+--------+--------+--------+--------+--------+--------+--------+--------+--------+--------+--------+--------+--------+--------+--------+--------+--------+--------+--------+--------+--------+--------+--------+--------+--------+--------+--------+--------+--------+--------+--------+--------+--------+--------+--------+--------+--------+--------+--------+--------+--------+--------+--------+--------+--------+--------+--------+--------+--------+--------+--------+--------+--------+--------+--------+--------+--------+--------+--------+--------+--------+--------+--------+--------+--------+--------+--------+--------+--------+--------+--------+--------+--------+--------+--------+--------+--------+--------+--------+--------+--------+--------+--------+--------+--------+--------+--------+--------+--------+--------+--------+--------+--------+--------+--------+--------+--------+--------+--------+--------+--------+--------+--------+--------+--------+--------+--------+--------+--------+--------+--------+--------+--------+--------+--------+--------+--------+--------+--------+--------+--------+--------+--------+--------+--------+--------+--------+--------+--------+--------+--------+--------+--------+--------+--------+--------+--------+--------+--------+--------+--------+--------+--------+--------+--------+--------+--------+--------+--------+--------+--------+--------+--------+--------+--------+--------+--------+--------+--------+--------+--------+--------+--------+--------+--------+--------+--------+--------+--------+--------+--------+--------+--------+--------+--------+--------+--------+--------+--------+--------+--------+--------+--------+--------+--------+--------+--------+--------+--------+--------+--------+--------+--------+--------+--------+--------+--------+--------+--------+--------+--------+--------+--------+--------+--------+--------+--------+--------+--------+--------+--------+--------+--------+--------+--------+--------+--------+--------+--------+--------+--------+--------+--------+--------+--------+--------+--------+--------+--------+--------+--------+--------+--------+--------+--------+--------+--------+--------+--------+--------+--------+--------+--------+--------+--------+--------+--------+--------+--------+--------+--------+--------+--------+--------+--------+--------+--------+--------+--------+--------+--------+--------+--------+--------+--------+--------+--------+--------+--------+--------+--------+--------+--------+--------+--------+--------+--------+--------+--------+--------+--------+--------+--------+--------+--------+--------+--------+--------+--------+--------+--------+--------+--------+--------+--------+--------+--------+--------+--------+--------+--------+--------+--------+--------+--------+--------+--------+--------+--------+--------+--------+--------+--------+--------+--------+--------+--------+--------+--------+--------+--------+--------+--------+--------+--------+--------+--------+--------+--------+--------+--------+--------+--------+--------+--------+--------+--------+--------+--------+--------+--------+--------+--------+--------+--------+--------+--------+--------+--------+--------+--------+--------+--------+--------+--------+--------+--------+--------+--------+--------+--------+--------+--------+--------+--------+--------+--------+--------+--------+--------+--------+--------+--------+--------+--------+--------+--------+--------+--------+--------+--------+--------+--------+--------+--------+--------+--------+--------+--------+--------+--------+--------+--------+--------+--------+--------+--------+--------+--------+--------+--------+--------+--------+--------+--------+--------+--------+--------+--------+--------+--------+--------+--------+--------+--------+--------+--------+--------+--------+--------+--------+--------+--------+--------+--------+--------+--------+--------+--------+--------+--------+--------+--------+--------+--------+--------+--------+--------+--------+--------+--------+--------+--------+--------+--------+--------+--------+--------+--------+--------+--------+--------+--------+--------+--------+--------+--------+--------+--------+--------+--------+--------+--------+--------+--------+--------+--------+--------+--------+--------+--------+--------+--------+--------+--------+--------+--------+--------+--------+--------+--------+--------+--------+--------+--------+--------+--------+--------+--------+--------+--------+--------+--------+--------+--------+--------+--------+--------+--------+--------+--------+--------+--------+--------+--------+--------+--------+--------+--------+--------+--------+--------+--------+--------+--------+--------+--------+--------+--------+--------+--------+--------+--------+--------+--------+--------+--------+--------+--------+--------+--------+--------+--------+--------+--------+--------+--------+--------+--------+--------+--------+--------+--------+--------+--------+--------+--------+--------+--------+--------+--------+--------+--------+--------+--------+--------+--------+--------+--------+--------+--------+--------+--------+--------+--------+--------+--------+--------+--------+--------+--------+--------+--------+--------+--------+--------+--------+--------+--------+--------+--------+--------+--------+--------+--------+--------+--------+--------+--------+--------+--------+--------+--------+--------+--------+--------+--------+--------+--------+--------+--------+--------+--------+--------+--------+--------+--------+--------+--------+--------+--------+--------+--------+--------+--------+--------+--------+--------+--------+--------+--------+--------+--------+--------+--------+--------+--------+--------+--------+--------+--------+--------+--------+--------+--------+--------+--------+--------+--------+--------+--------+--------+--------+--------+--------+--------+------------------+\n",
      "|0.002736|0.003725|0.007415|0.002806|0.008469|0.007994|0.014948|0.008144| 0.01197|0.013622|0.018583|0.010444|0.009473|0.012628|0.012511|0.020314|0.022369| 0.01693|0.005654|0.002439|0.003083|0.003409|0.001582|    0.0|0.004394|0.005572|0.015199| 0.01923|0.014559| 0.01103|0.013957|0.033834|0.022883|0.041343|0.027278|0.041001|0.038109|0.034949|0.024188|0.035571| 0.03078|0.013866|0.009594|0.005488|0.007514|0.009012|0.003527|     0.0| 0.00545|0.002155|0.015423|0.031786|0.022256|0.036345|0.018509|0.042411|0.037792|0.029908|0.048271|0.034658|0.069982|0.053819|0.012775|0.032378|0.033897|0.028931|0.016097|0.012401|0.012558|0.012954|0.004022|  1.0E-6|0.011335|0.024885|0.021782|0.019485|0.033562|0.025647|0.038194|0.057645|0.036249|0.037205|0.043953|0.034275|0.013222|0.014837|0.042098|0.086422|0.045825|0.028438|0.008613|0.004221|0.003179|0.009109|0.004356| 1.0E-6|0.014052|0.011766|0.030903|0.026087| 0.04596|0.056686|0.030417| 0.04472| 0.04012|0.046094|0.061328|0.055966| 0.03192|0.028891|0.048168|0.057795|0.033595|0.005762|0.022272|0.010955|0.011719|0.012095|0.005317|  1.0E-6| 0.02295|0.067273|0.045277|  0.0367|0.027894|0.086764|0.050914|0.035687|0.039183|0.027524|0.038103|0.030636|0.055254|0.066329|0.017034|0.063441| 0.04814|0.036835|0.021007|0.020016|0.012105|0.007811|0.005102|  1.0E-6|0.010521|0.024756| 0.04487|0.049943|0.046668|0.042679|0.045826|0.055415|0.058379|0.020203|0.049116|0.033048|0.021742|0.045232|0.067699|0.111195| 0.04953|0.023144|0.014229|0.013678|0.010124|0.011044| 0.00725|  1.0E-6|0.032735|0.027695|0.047832|0.050358|0.034969|0.058452|0.061612|0.069265|0.040375| 0.06223|0.067006|0.035243| 0.03107|0.013406|0.042363| 0.06192|0.063665|0.030438|0.019145|0.009976| 0.00954|0.007451|0.008516|  1.0E-6| 0.02249|0.039597|0.041028|0.061637|0.027433|0.091714|0.042054|0.071175|0.095978|0.079738|0.121523|0.105819|0.107489|0.036639|0.065183|0.099612|0.025508|0.030814|0.013152|0.012712|0.011615|0.018248| 0.00994|  1.0E-6|0.019854| 0.02538|  0.0609|0.023532|0.040662|0.052874| 0.05844| 0.05974| 0.05745|0.070767|0.034784|0.071064|0.062947| 0.06544|0.062909|0.052668|0.062764|0.019139|0.031285|0.011809|0.010767|0.009514| 0.00575|  1.0E-6|0.029986|0.045127|0.050798|0.090615|0.057435|0.076143|0.078891|0.100751|0.086767|0.107379|0.090002|0.069744|0.087725|0.149775|0.095758|0.094403|0.061643|0.080782|0.016562|0.019731| 0.02739|0.026622|0.010067|  2.0E-6|0.089087|0.106288| 0.02871| 0.08278|0.042279|0.096076|0.087703|0.046826|0.053697|0.117409|0.104204|0.120905|0.169762|0.184464|0.134255|0.180446|0.119411|0.090326|0.066739|0.053917|0.050914|0.039765|0.013938| 2.0E-6|0.058406|0.061385|0.083403| 0.07067|0.046472|0.087497|0.076737| 0.05849|0.059708|0.070811|0.088683|  0.0631|0.050017|0.085958| 0.16247|0.081144|0.042062|0.089116|0.031885|0.037448|0.035938|0.033935|0.014464|  2.0E-6|0.032928|  0.0191|0.068722|0.069476|0.069492|0.046637|0.084069|0.054599|0.096529| 0.05217|0.073465|0.108901|0.052297|0.071392|0.101298| 0.12299|0.133849| 0.07902|0.027289|0.015172|0.013285|0.018151|0.007491|  2.0E-6| 0.02134| 0.04106|0.018507| 0.05742|0.053294|0.062734|0.039335|0.053487|0.119615|0.051827|0.053509|0.109163|0.097855|0.094655|0.146763|0.106309|0.098783|0.078112|0.020639|  0.0247|0.032243| 0.04285|0.016729|  2.0E-6|0.036343|0.027477|0.075471|0.063377|0.059256|0.063516|0.051822|0.055662|0.105281|0.039281|0.023607|0.092245|0.133501|0.038575|0.088417|0.046219|0.072229|0.027293| 0.01481|0.012441|0.014893|0.016405|0.009223|  2.0E-6|0.014798|0.019254|0.055399| 0.08794|0.040417|0.059812|0.029865|0.033091|0.046575|0.044523| 0.05979|0.047146|0.115442|0.058425|0.042466|0.104458|0.069609|0.020857|0.029837| 0.00761|0.011875|0.019791|0.012504|  2.0E-6|0.016227|0.082079|0.049467|0.075551|0.038946|0.068032|0.068619|0.087178|0.047132|0.058688|0.040294|0.063476|0.050384|0.035704|0.088532|0.119436|0.083611|0.044287|0.029044| 0.02485|0.021557|0.026381|0.016332|  2.0E-6|0.029833|0.088749|0.062194| 0.06164| 0.05022|0.060001|0.049994|0.042653|0.074136|0.053397|0.054054|0.022075|0.057494| 0.04937|0.082643|0.111493|0.085493|0.069493|0.062017|0.038633|0.032527|0.025417|0.017008| 2.0E-6|0.006419| 0.03494|0.054171|0.049592|0.070621| 0.05444|0.035999| 0.03225|0.043502|0.070519|0.025893|0.056997|0.047867|0.040238| 0.07307|0.061305|0.052886|0.026988|0.013308|0.013952|0.017924|0.022889|0.011225|  2.0E-6|0.034306|0.036244|0.039342|0.049446|0.073385|0.081067|0.011365|0.084611|0.049033|0.127502|0.056512| 0.04916|0.133276|0.131204|0.135214|0.078369|0.091126|0.045236|0.041304|0.016727|0.009453|0.011121|0.005895| 2.0E-6|0.026547|0.031586|0.029087|0.030878|0.039174|0.019953|0.027173|0.067033| 0.04348|0.089101|0.061495|0.090467|0.115606|0.134672|0.103612| 0.07884|0.082044|0.035688|0.022916|0.010654| 0.02223|0.020593|0.007366|  2.0E-6|0.022793|0.040832| 0.03581|0.061846|0.065131|0.120078|0.065696|0.050911|0.035746|0.023524|0.036793|0.106402|0.058138|0.038118|0.054635|0.085012|0.060766|0.035681|0.012754|0.016179|0.019969|0.016561|0.006692| 2.0E-6|0.026694|0.044724|0.033054|0.019116|0.034185|0.080728|0.050807|0.052452|0.052356|0.052961|0.039569|0.108901|0.068813|0.057462|0.068356| 0.14965|0.044033|0.038283|0.028016|0.027518|0.022663|0.018569|0.011157|  2.0E-6|0.097096|0.141974|0.184562|0.167379|0.136178|0.067708|0.112935|0.195897|0.123543|0.161862| 0.16866|0.207457|0.299927|0.285042|0.223423|0.223261|0.159167|0.136088|0.106605|0.076585|0.051723|0.032388|0.010901|  2.0E-6|0.029426|0.028983|0.051348|0.044357|0.086278|0.072892|0.057257|0.036763|0.013915|0.045618|0.065996|0.036431|0.080671|0.035665|0.066591|0.064105|0.032642| 0.03777|0.012721|0.006105|0.010763|0.015851|0.007697|  2.0E-6|0.028103|0.024916| 0.06371|0.049991|0.074526|0.047573|0.058014| 0.04392|0.029962|0.053544| 0.01941|0.021469|0.040331|0.085807| 0.02423|0.040324|0.018041|0.019012|0.019639|0.013291|0.013632|0.013755|0.010061|  2.0E-6|0.020261|0.030507|0.026445|0.037515|0.071632|0.018539|0.050757|0.029124|0.020376|0.058313| 0.07563|0.073649|0.075366|0.089427|0.040806|0.073834|0.083002|0.013565|0.010435|0.010571|0.010659|0.007065|0.012355|  2.0E-6|0.004299|0.010404|0.035464|0.040213|0.043524|0.050333|0.025442|0.039753|0.030858|0.063052|0.048299|0.039334|0.015213|0.019291|0.051889|0.019975|0.016801|0.023488|0.023133| 0.01362|0.013946|0.014381|0.009855|  2.0E-6|0.007278|0.030711|0.038607|0.046733|0.037636|0.040104|0.013808|0.027472|0.027218| 0.02532|0.033165|0.032108|0.048256|0.035197|0.058121|0.042185|0.043843|0.009298|0.007891|0.005541|0.007181|0.012156|0.005268|  2.0E-6|0.021976|0.090311|0.061473|0.037595|0.059674|0.036619|0.051794|0.060152| 0.02062|0.049588| 0.02603|0.051985|  0.0316|0.026772|0.082204|0.064237|0.037224| 0.04464|0.028066|0.024814| 0.01215|0.014826|0.009405|  2.0E-6|0.017286|0.018359|0.040246|0.042948|0.024854|0.085569|0.008249| 0.03811|0.015915|0.027584| 0.01682|0.027287|0.038151|0.015758|0.041048|0.061278|0.051345|0.030882|0.020987|0.010319|0.009048|0.015972|0.008955|  2.0E-6|0.014664|0.029723|0.031213|0.024653|0.022818|0.051051| 0.02996|0.024804|0.024708|0.032193|0.041422|0.031367|0.064305|0.085803|0.076096|0.025136|0.031112|0.008492|0.016351|0.010978|0.010477|0.017104|0.009538|  2.0E-6|0.020639|0.032132|0.016873|0.034359|0.027716|0.030314|0.031381|0.046356|0.024685|0.041615|0.027583| 0.03388|0.072256|0.056343| 0.08047|0.055271|0.036412|0.010195|0.015254|0.012566|0.012472|0.016034|0.010906|  2.0E-6|0.017293|0.018326| 0.01606|0.017942|0.036464|0.033421|0.023949|0.011605|0.017271|0.038016|0.012756| 0.03862|0.060125| 0.04322| 0.03547|0.017692|0.018386|0.012262|0.021566|0.002309|0.007478|0.010007|0.006188|  2.0E-6|0.018232|0.031563|  0.0234|0.017854|0.038455|0.014721|0.008155|0.017038|0.025371|0.043492|0.051292| 0.03016|0.034397|0.045855|0.040003|0.036416|0.030032|0.013838|0.011348|0.010729| 0.00898|0.009699|0.006504|  2.0E-6|0.067412|0.083888|0.040856|0.032941|0.039903| 0.04143|0.057264|0.030931|0.029882|0.016892|0.021556|0.035037|0.040687|0.032668|0.017053|0.042044|0.024323|0.027904|0.008356|0.006142|0.004448|0.005365|0.002552|  2.0E-6|0.024236|0.036518|0.027785|0.036816|0.030212|0.040443|0.024071| 0.01874| 0.01398|0.030674|0.026218|0.014953|0.032914| 0.04803|0.072324| 0.04349| 0.05527|0.024368|0.013167|0.009866|0.008775|0.010859|0.004813|  2.0E-6|0.011571| 0.01391|0.028216|0.031425|0.040829|0.059414|0.030666|0.059356| 0.01049|0.025817|0.064272|0.026849|0.047036|0.008288|0.021211|0.053686|0.025993|0.015699|0.011218|0.005252|0.005316|0.004822|0.003976|  2.0E-6|0.025135|0.030253| 0.02853| 0.02089|0.037613|0.045012|0.022892|0.064076|0.033907|0.044805|0.043318|0.020896|0.031636|0.049109| 0.02777|0.031974|0.045243|0.021025|0.004358|0.011598|0.011901|0.013655|0.004996|  2.0E-6|0.015936|0.014392|0.025682|0.020631|0.032439|0.065352|0.036682|0.022875|0.033226|0.027039|0.021826|0.009417|0.022293|0.032295|0.034716|0.034593|0.041469|0.014642|0.010323|0.007766|0.008427|0.004374|  0.0044|  2.0E-6|0.011386|0.013139|0.016841| 0.02746| 0.04731|0.050709|0.046693|0.021716|0.034052|0.038352|0.026798|0.021288|0.068435|0.038087|0.053602| 0.02685| 0.01737|0.025818|0.004914|0.008873|0.009422|0.009543| 0.00314|  2.0E-6|0.005548|0.045122|0.017013|0.028224|0.027212|0.056493|0.032701|0.024388|0.013548|0.030744| 0.04682|0.022069|0.004578|0.040274|0.014444|0.055208|0.035147|0.009904|0.009585|0.012815|0.011493|0.009344| 0.00632|  2.0E-6| 0.01456|0.037258|0.024373| 0.01646|0.035728|0.056981|0.011793|0.013859|0.030533|0.017692|0.027258|0.028269|0.029651|0.036708| 0.04246|0.052824|0.011174| 0.01801|0.007112|0.008021|0.005375|0.005245|0.006111|  2.0E-6|0.006417|0.014023|0.015585|0.029462|0.020216|0.041067|0.029829|0.017909|0.023536|0.022457|0.012144|0.045286|0.051646|0.027252|0.014074|0.033895|0.020876|0.031526|0.015277|0.011312|0.009887|0.008143|0.004007|  2.0E-6|0.014699| 0.02411|0.017614|0.021947|0.018009|0.042487|0.043239|0.036885|0.026458| 0.03372|0.052419|0.019837|0.028084|0.041969| 0.01975|0.047153|0.029404|0.019001|0.011025|0.012642|0.009241|0.006572|0.006127|  2.0E-6|0.010815|0.028115|  0.0178| 0.01182|0.034106|0.035651|0.048067|0.027507|0.030762|0.021655|0.028642|0.021482|0.047494|0.047546| 0.05203|0.033436|0.041222|0.013406|0.007314|0.007285|0.009514|0.008021|0.003119|  2.0E-6| 0.01632|0.030997|0.018189|0.023385| 0.01023|0.046874|0.026387|0.030853| 0.02537|0.028704| 0.03421|0.025307|0.030533|0.020729|0.065277| 0.05281|0.042749|0.035952|0.018979|0.011956|0.014227|0.009885|0.003002|  2.0E-6|0.030372|0.039143|0.040011|0.036908|0.018434|0.030394| 0.01981|0.018982|0.023538|0.012162| 0.01185|0.041688|0.041556|0.017049|0.046401|0.064259|0.031729|0.029428|0.025545|0.017347|0.009466|0.008011|0.002229|  2.0E-6|0.046344|0.083051|0.051636|0.037812|0.037124|0.035202|0.025231|0.018104|0.030564|0.035482|0.028347|0.025972|0.032703|0.038565|0.026648|0.013332|0.036809|0.022741|0.022076|0.025813|0.025939|0.017367|0.007287|  2.0E-6|0.009057|0.017655|0.030426|0.015601|  0.0128|0.006263|0.013205|0.024176|0.021884|0.014826|0.018256|0.007769|0.018775|0.019803|0.039587|0.026249|0.020927|0.016007|0.014266|0.007222|0.006045|0.007162|0.002465|  2.0E-6|0.010723|0.025515| 0.02112|0.015838|0.021549|0.012823|0.013332|0.008167|0.016412|0.033216|0.029964|0.035783|0.018432|0.012453|0.044393|0.053849| 0.01937|0.023749|0.005459|0.004916|0.003012|0.003686|0.003324|  2.0E-6|0.016924|0.013295|0.022279|0.023937|0.022741|0.013689|0.021312|0.029527|0.013786|0.020764|0.015882| 0.01646|0.017354| 0.02762|0.039472|0.029368|0.013387|0.026224|0.008279|0.009136|0.007738|0.006384|0.001543|  2.0E-6|0.014041|0.016349|0.026616|0.011609| 0.01318|0.047558|0.015479|0.009223|0.012742| 0.01507|0.013466|0.026149|0.028463|0.017998|0.008035|0.038826|0.012109|0.008356| 0.00756|0.005827|0.001279|0.002531|0.001901|  2.0E-6|0.011595| 0.02262|0.023108|0.013157|0.022019|0.016565|0.015155|0.037837|0.020439|0.020239|0.024229|0.038206|0.042893|0.031142|0.020252|0.007067|0.025216|0.014718| 0.00805|0.003494|0.005648| 0.00536|0.003374|  2.0E-6|0.005163|0.037543|0.009308|0.014494|0.016386|0.010374|0.014313| 0.02915|0.033978|0.022919|0.041919|0.024373|0.008684|0.043318|0.003536|0.020787|0.036808| 0.02095|0.009807|0.006707|0.008372|  0.0128|0.005466|  1.0E-6|0.011319|0.007551|0.011567|  0.0251|0.016063| 0.01398|0.013347|0.006502|0.015893|0.013538| 0.02995|0.009614|0.016606|0.030332|0.042173| 0.01806|0.033712| 0.01739|0.007615|0.002692|0.005663|0.006188| 0.00184|  1.0E-6|0.014815|0.012206|0.018492|0.011068|0.022811|0.031789| 0.02828|0.029873|0.018186|0.013711|0.010986|0.005262|0.023033|0.018368|0.022751|0.041052|0.020676|0.016321|0.002639|0.003306|0.002964|0.003306|0.001843|  1.0E-6| 0.01076|0.012416|0.004976|0.013863| 0.02635|0.026898|0.014963|0.018839|0.022657|0.027862|0.019957|0.009236|0.010527|0.028526|0.029929|0.041671|0.026225|0.012319|0.008209|0.005837|0.004328|0.004393|0.004224|  1.0E-6|0.009391|0.013053|0.017758|0.016775| 0.01373|0.017494|0.030272|0.020125|0.025306|0.020541|0.019497|0.009289|0.022194|  0.0178|0.013404|0.026226|0.017471|0.004238|0.009438|0.004225|0.005165| 0.00521|0.003043|  1.0E-6|TRYWDAH128F92D4539|\n",
      "|0.001376|0.012098|0.004903|0.009153|0.009236|0.005353|0.003515|0.005018|0.006722|0.006616| 0.00399|0.012797|0.008295|0.006426|0.014364|0.017377|0.023789|0.019628|0.009292|0.006026|0.005376|0.003773| 1.41E-4|    0.0|  0.0043|0.021563|0.010134|0.021615| 0.01548|0.017411|0.025186|0.007787|0.011395|0.022831|0.014637|0.014218| 0.01338|0.006857| 0.02278|0.021676|0.020317|0.031515|0.021745|0.012686|0.006712|0.003243| 3.99E-4|     0.0|0.005739|0.012606|0.013817|0.011152|0.027597|0.015497|0.019727|0.008752| 0.01084|0.012809|0.008495| 0.01013|0.007717|0.015216|0.011518|0.013213|0.021032|0.016359|0.019182|0.013508|0.008724|0.003595| 6.14E-4|  1.0E-6|0.008751|0.025293|0.019428| 0.01729|0.017204|0.019555|0.021948|0.012449|0.013374|0.024885|0.009938|0.023691|0.023973|0.014853| 0.02063|0.026335|0.028778|0.022325|0.028754|0.018366|0.015015|0.011098| 7.66E-4| 1.0E-6|0.011229|0.029446|0.013902|0.026845|0.023309|0.020506|0.021252|0.013602|0.015344|0.025051|0.022933|0.028812|0.031518| 0.02185|0.032262|0.033978|0.056585|0.029465|0.025274|0.017411|0.015769|0.015063|0.001343|  1.0E-6|0.011812|0.039979|0.026377|0.032449|0.036705|0.039422|0.044486|0.029019|0.020097|0.039842|0.022569|0.022296|0.015971|0.016077|0.029238|0.023329|0.028623|0.015334|0.025654|0.019054| 0.01249|0.010535| 9.31E-4|  1.0E-6| 0.01668|0.045027|0.036465|0.019684|0.014339|0.014373|0.021754|0.021874|0.020798|0.030135|0.012978|0.015465|0.025262|0.023246|0.019417|0.021746|0.042984|0.052308|0.028142|0.021545|0.020733|0.019021|0.001011|  1.0E-6|0.015061|0.032195|0.017533|0.019876|0.028736|0.010231|0.027684| 0.02462|0.027139| 0.02622|0.020213|0.030004|0.023382| 0.01291|0.040098|0.014739|0.023826|0.023614|0.020934| 0.01681|0.007293|0.007117| 0.00107|  1.0E-6|0.096491|0.040328|0.036069|0.041958|0.033837|0.021901|0.021659|0.023146|0.017474|0.042571|0.023283| 0.01987|0.032774|0.022397|0.033457|0.038997|0.057012|0.043203|0.024475|0.018914|0.018071|0.009721|0.001949|  1.0E-6|0.017748|0.029224|0.034902|0.047276|0.044763|0.031295|0.020733|0.012711|0.020792|0.008374|0.008101| 0.02648|0.024195|0.026112|0.036695|0.042831|0.046399| 0.04805|0.043277| 0.02226| 0.01179|0.002858|0.001691|  1.0E-6| 0.02413|0.037913|0.019354|0.023303|0.040181|0.021525|0.028985|0.024925|0.019449|0.031724|0.018548| 0.03018|0.019206|0.033003|0.029144|0.019482|0.042494|0.025753|0.031179|0.020872|0.014084|0.010824|0.001078|  2.0E-6|0.014946|0.049891|0.026829|0.034502| 0.02947|0.021285|0.020599|0.032783|0.028847|0.023245|0.022771|0.013153|0.029208| 0.03249|0.024755|0.054073|0.036022|0.025925|0.035844| 0.02477|0.018679|0.008368|0.001826| 2.0E-6|0.021557| 0.03882|0.034046|0.067678|0.029852|0.031178|0.023498|0.034958|0.032188|  0.0267|0.033722|0.025442| 0.01991|0.027246|0.038827|0.045998|0.037834|0.026264|0.030974|0.019338|0.012241|0.007204|0.002097|  2.0E-6|0.015228|0.039768|0.026468|0.059495|0.036693|0.008134|0.037659|0.038824|0.023643|0.029793|0.030287|0.022777|0.048774|0.015934|0.031148|0.028847|0.045467| 0.03476|0.031943|0.015569|0.009777|0.007536| 9.55E-4|  2.0E-6|0.016002|0.054288|0.017841|0.019109|0.040919|0.032658|0.025777|0.014284|0.014266|  0.0153| 0.02217|0.041423|0.043297|0.023656|0.037675|0.026926|0.042673|0.033038|0.027018|0.019069|0.014771|0.010177|0.001446|  2.0E-6|0.018611|0.036703|0.034174|0.050665|0.045775|0.019211| 0.03447|0.012323|0.019917|0.023658| 0.01725| 0.02059|0.025805|0.023929| 0.03569|0.030558|0.030122|0.037014|0.018771|0.019213|0.017692|0.007829|0.002666|  2.0E-6|0.018773|0.033303|0.042219|0.015037|0.037047|0.024311|0.019759|0.013585|0.009425|0.017448|0.027659|0.026465|0.021377|0.016693|0.036399|0.032014|0.056084|0.025893|0.028414|0.013533|0.011558|0.016418|0.002522|  2.0E-6|0.095627|0.061849|0.036672| 0.03864|0.027315|0.029805|0.027985|0.036601|0.037829|0.031127|0.020962|0.022061|0.041785|0.028211|0.033835| 0.03055|0.084988|0.032219|0.021971|0.023127|0.011538|0.010596|0.001118|  2.0E-6|0.025871|0.024104|0.024714|0.021132|0.027018|0.025179|0.022354|0.018755|0.020119|0.020441|0.015602|0.024235|0.050116|0.017522|0.017449|0.032027|0.039053|  0.0439|0.027812|0.021631|0.012334|0.011613|0.002415| 2.0E-6|0.019715|0.041363|0.023992|0.029621|0.022515|0.031209| 0.03493|  0.0248|0.014228|0.033879|0.031789|0.026498|0.037778|0.025793|0.040297|0.015965|0.056779|0.053193|0.021415|0.023923|0.007091|0.010529|0.002371|  2.0E-6|0.026083|0.054586|0.023362|0.023367|0.031347| 0.02852|0.025546|0.018379|0.015066|0.016266|0.016039|0.017545|0.032561|0.025891|0.018598|0.018688|0.049812|0.040297| 0.03075|0.013387|0.017543|0.010335|0.001979| 2.0E-6|0.017062|0.045133|0.016362|0.033005|0.036558|0.024787|0.026769|0.025324|0.010395| 0.02308|0.037958|0.024621|0.029591| 0.02459|0.035662|0.035452|0.049692|0.043388|0.025951|0.028495|0.004607|0.005743|0.002229|  2.0E-6|0.023688|0.043237|0.032353|0.027042|0.048956|0.033776|0.033618|0.037624|0.025047|0.036218|0.023255|0.030608|0.036615|0.032436|0.032918|0.027401|0.025386|0.043239|0.028158| 0.01441|0.010671|0.007866|0.002275| 2.0E-6|0.019469| 0.02418| 0.04949|0.078947|0.026426|0.027468|0.036493|0.033516|0.021262|  0.0331|0.018537|0.019827|0.024108|0.026139| 0.02905|0.017914|0.062639|0.061908|0.030073|0.023505|0.010032| 0.00806|0.001102|  2.0E-6|0.021218|0.046731|0.047542|0.068614|0.019241|0.025394|0.024993|0.038543|0.023005|0.019362|0.035306|0.026022|0.027527|0.027271|0.053238|0.043297|0.073085|0.049656|0.020019|0.019748|0.015473|0.009746|0.001727|  2.0E-6|0.016495|0.038341|0.027609| 0.02081|0.038409|0.021956|0.012749|0.022197|0.015703|0.015597|0.028506|0.012958|  0.0188|0.030495|0.021454|0.025257| 0.01756|0.039739|0.019186|0.004524|0.010184|0.009507|0.001427|  2.0E-6|0.098114|0.063349|0.027413|0.022852|0.052375|0.023106|0.015084|0.026731|0.025202|0.018803|0.013164|0.018417|0.013482| 0.03183|0.022876|0.039357|0.036371|0.034151|0.016936|0.017094|0.018573| 0.00625|0.001296|  2.0E-6|0.014758| 0.02809|0.026944|0.033716|0.039947|0.013799|0.030576| 0.01012|0.014801|0.012732|0.021754|0.011563|0.027695|0.028102|0.043426|0.035511|0.037702|0.040448|0.020164|0.016455|0.011769|0.004082|0.001684|  2.0E-6|0.026066|0.018428|0.023405|0.023475|0.016341|0.020631|0.009177|0.025683|0.025505|0.020066|0.018441|0.031049|0.029311|0.027292|0.026778|0.027036|0.053835|0.029106|0.016032|0.009658|0.011001|0.006047|0.001194|  2.0E-6|0.023519|0.033148|0.021428|0.016749|0.025207|0.027836|0.027162|0.016693|0.018952|0.019965|0.024916|0.024708|0.031828|0.018274|0.031425|0.024613|0.040319|0.020457|0.015613|0.018703|0.014842| 0.00571| 7.67E-4|  2.0E-6|0.016652|0.037235|0.025497|0.020468|0.025394| 0.02235|0.012582|0.012383|0.015328|0.017331|0.019942|0.013904|0.032583|0.024479|0.027452|0.032158|0.035791|0.026587|0.022718|0.008753|0.010808| 0.01409|0.001684|  2.0E-6|0.018788| 0.01844|0.023262|0.023293|0.030504|0.024354| 0.00822|0.008445|0.016882|0.014026|0.012324| 0.02227| 0.01471|0.018651|0.014765|0.025926|0.023718|0.022149|0.015675|0.011397|0.013172|0.009348|0.001098|  2.0E-6|0.013429|0.024058|0.015315|0.022983|0.025203|0.012632|0.014077|0.013325| 0.01076|0.011606|0.014077|0.018819|0.034805|0.021151|0.032992| 0.03074|0.040996|0.037077|0.024391|0.007727|0.011798|0.005394|0.001881|  2.0E-6|0.018224|0.033182|0.025741|0.029035|0.022634|0.011536|0.014979|0.015564|0.015721|0.014983|0.015734|0.012131|0.022005|0.010334|0.020624|0.024294|0.036572|0.024175|0.015226|0.008928|0.014117|0.009018|0.001652|  2.0E-6|0.023942|0.038346|0.020629|0.018087|0.036822|0.023705|0.016427|0.019097|0.018301|0.017205|0.018618|0.023535|0.026869|0.025113|0.033918|0.036601|0.021378|0.015367|0.010714|0.003025|0.012066|0.010098| 6.02E-4|  2.0E-6| 0.10484|0.114661|0.037478|0.077116| 0.07132|0.045976|0.021942| 0.04006|0.040839|0.030123|0.032835|0.056357|0.062766|0.061451|0.064279|0.099232|0.065925|0.071355|0.045243|0.036049|0.035669|0.021376|0.001773|  2.0E-6|0.032291| 0.04135|  0.0315|0.010875|0.025499|0.025107|0.031529|0.026806|0.021135|0.027405|0.021891|0.026481|0.041537|0.030814|0.032408|0.030993|0.044739|0.035807|0.024568|0.022115|0.018171| 0.00802| 9.88E-4|  2.0E-6|0.035653|0.034408|0.021459|0.015658|0.020541|0.024833|0.014669|0.023008|0.013055|0.014791|0.015171|0.014592|0.027663|0.021009|0.022273|0.024478|0.039667|0.033487| 0.01957|0.011497|0.006569|0.006737|  9.3E-4|  2.0E-6|0.033464|0.033993|0.015186|0.029684|0.029569|0.018412|0.022831|0.010099|0.017921|0.020286|0.017005|0.017114|0.028958|0.019414|0.028033|0.027222|0.010804| 0.02089|0.006899|0.010149|0.009084|0.005345|0.001522|  2.0E-6|0.011173|0.027251|0.020434|0.019151| 0.03525| 0.01674|0.027657|0.017162|0.015532|0.010076|0.012071|0.015904| 0.01531|0.010763|0.015186|0.022402|0.029234|0.017108|0.010245|0.008003|0.005571|0.005458| 8.03E-4|  2.0E-6|0.026975|0.039403|0.014092|0.011465|0.032598|0.024465|0.017148|0.006609|0.015651|0.010297|0.018217|0.019667|0.021834|0.017643|0.033736|0.029155|0.027965|0.044109|0.022636|0.010049|0.012398|0.005761| 8.92E-4|  2.0E-6|0.022822| 0.02478|0.011064|0.034144| 0.02819|0.013194|0.013422| 0.01261|0.008288|0.010826|0.008843|0.010635|0.013375| 0.01578|0.013418|0.019533|0.029093|0.016103|0.013701|0.005134|0.007571|0.004635|0.001281|  2.0E-6|0.021334|0.038386|0.016295| 0.01021|0.024697|0.013349|0.017783|0.012774|0.007243|0.008755|0.010522|0.013546|0.015753|0.021307|0.007147| 0.01574|0.018123|0.008989|0.016827|0.008951| 0.00626|0.002786|0.001023|  2.0E-6|0.014985|0.028203|0.013928|0.012674|0.029568|0.017252|0.011683|0.020216|0.014219|0.023584|0.018673|0.014179|0.018551|0.019035|0.016475|0.014734|0.015439|0.031084|0.005766|0.011759|0.007314|0.005102| 5.48E-4|  2.0E-6| 0.05037|0.041742| 0.01389| 0.02354|0.021677|0.016926|0.013105|  0.0055|0.010586|0.012933|0.012173|0.007771|0.017358| 0.02447|0.019344| 0.02702|0.029037| 0.01986|0.009296|0.011539| 0.01352|0.007421|0.001101|  2.0E-6|0.018806| 0.02819|0.021944|0.014519|0.016554|0.011991|0.012079|0.020422|0.016538|0.009406|0.020463| 0.00895|0.006901|0.016195|0.016429|0.016752|0.022797|0.015262|0.017885|0.009079|0.009549|0.004782|  7.7E-4|  2.0E-6|0.017401|0.038263|0.022032| 0.01286| 0.00922|0.015567|0.017618|0.014534| 0.01514|0.008152|0.011969|0.012275|0.011241|0.006821|0.014823|0.019603|0.016302|0.006897|0.012076|0.007129|0.005746|0.005597| 4.52E-4|  2.0E-6|0.012391|0.020533|0.014598|0.008004|0.015018|0.009578|0.014187|0.012725|0.012261|0.006031| 0.01709|0.007484|0.013001|0.012489|0.014838|0.016746|0.009062| 0.01593|0.007701|0.006626|0.005173|0.004878|0.001078|  2.0E-6|0.010013|0.016073|0.014833|0.023343|0.016127|0.010823|0.015492|0.014203|0.006456|0.007645|0.004367|0.011175|0.021413|0.016686|0.010845|0.012448|0.018237|0.014649|0.004815|0.009461|0.006029|0.002931| 7.69E-4|  2.0E-6|0.019245|0.024547|0.011303|0.023865|0.023385|0.012655|0.014308|0.018529|0.010998|0.017867|0.008368|0.011521|0.021931| 0.01547|0.013742|0.016124|0.016114|0.014629|0.005182|0.005562|0.005645|0.003638| 7.99E-4|  2.0E-6|0.012693|0.020976|0.016971|0.013217|0.023785|0.016086|0.009457|0.006827|0.010053| 0.00958|0.010502|0.008326|0.017086|0.010212|0.013329|0.019704|0.016655|0.024287|0.006792|0.010487|0.004645|0.004183| 3.82E-4|  2.0E-6|0.020322|0.020793| 0.01408|0.005794|0.016721|0.010598| 0.01164|0.013865|0.009528| 0.01265|0.013214|0.002323| 0.00997| 0.01518|0.009681|0.015576|0.017489|0.012643|0.008344|0.005946|  0.0055|0.004574|0.001006|  2.0E-6|0.009101|0.021055|0.022601|0.013501|0.017848|0.010867|0.013023|0.007713|0.008406|0.009764|0.015578|0.016929|0.011213|0.014044|0.017028|0.016801|0.016348|0.015734|0.011308| 0.00534|0.005413|0.006446| 6.64E-4|  2.0E-6|0.034832|0.021284|0.014074|0.011843|0.015533|0.006049|0.012764|0.003805|0.013424|0.016564|0.007754|0.007047| 0.01119| 0.01134| 0.01519|0.011357|0.018457|0.016528|0.009333|0.006531|0.005384|0.006591| 4.89E-4|  2.0E-6| 0.01757|0.010373|0.011929|0.014296|0.011609|0.011555|0.013158|0.009167|0.009326|0.006166|0.011352|0.008377|0.008696|0.016214|0.012372|0.013603| 0.02194|0.019296|0.007223|0.009331| 0.00582|0.005631|0.001258|  2.0E-6|0.013087|0.012988| 0.01671|0.013253|0.021471|0.014702|0.009659|0.009303|0.007241|0.009316|0.008349|0.009245|0.011911|0.007217|0.012992|0.012941|0.014367|0.013956|0.003835|0.005105|0.002274|0.002875| 4.57E-4|  1.0E-6|0.015067|0.016397|0.006831|0.012459|0.006867|0.012738|0.014409|0.012877|0.006715|0.010733|0.010459|0.008263|0.009771|0.012408|0.005409|0.007426|0.012096| 0.00903|0.006449|0.011801| 0.00503| 0.00511|  9.2E-4|  1.0E-6|0.011511|0.016192|0.017328|0.009018|0.023339| 0.01707|0.012576|0.009985|0.004752|0.011608|0.009681|0.007608|0.008137|0.013427|0.008114|0.011222|0.007492|0.013002|0.005816|0.006007|0.004601|0.004077| 5.92E-4|  1.0E-6|0.024984|0.022592|0.013227|0.008982|0.009132|0.014701|0.010929|0.008483|0.006906| 0.00775|0.013253|0.002499|0.014402| 0.01194|0.006858|0.008223|0.010819|0.003363|0.007646|0.004036|0.002866|0.003872| 7.83E-4|  1.0E-6| 0.01175|0.015284|0.011801|0.020761|0.015997|0.011075|0.009275|0.009534|0.008118|0.006145|0.014474|0.008632| 0.00859|0.010738|0.010379|0.007779|0.013003|0.012642|0.009386|0.005285|0.003885|0.002716| 7.12E-4|  1.0E-6|TRJVUJL128C71968F1|\n",
      "|0.006036|0.006173| 0.00735|0.008331|0.007874|0.008664|0.007132|0.008543|0.006113|0.007539|0.004883|0.002952|0.004346|0.007712|0.007176|0.005775|0.010024|0.007812|0.005014|0.007011|0.006765|0.005572|0.002733|    0.0| 0.02099|0.014723| 0.01173|0.012638|0.013306|0.012267|0.009378|0.010812|0.010195|0.006011|0.005602|0.010097|0.007959|0.012101|0.011005|0.011256|0.014129| 0.00834|0.006354|0.006893|0.008186|0.010588|0.005049|     0.0| 0.01522| 0.04331|0.026198|0.030193|0.026026|0.030007|0.025636|0.028889|0.020224|0.022747|0.017306|0.010196| 0.01641|0.017404|0.013399|0.012958|0.017449|0.009749|0.015521|0.012854|0.017456|0.016084|0.006539|  1.0E-6|0.024389| 0.04213|0.033126| 0.04833|0.041889|0.033415|0.017994|0.015614|0.019683|0.027362| 0.02726|0.020148|0.032016|0.019007|0.031917|0.022174|0.028232|0.012488|0.013766| 0.01054|0.017267|0.019206|0.007518| 1.0E-6|0.018721| 0.04272|0.029308|0.036962|0.030545|0.029919|0.023735|0.026246|0.015874|0.025433|0.015712|0.012401|0.018761|0.014319|0.024071|0.027687|0.025037|0.031712|0.012717| 0.01859|0.023366|0.026663| 0.00981|  1.0E-6|0.034378|0.036669|0.026834|0.053164|0.019809|0.022339|0.054483|0.035674|0.029078|0.032016|0.025934|0.024775|0.025575|0.024041|0.027252|0.022598|0.016615|0.029173|0.017758|0.023383|0.020615|0.022961|0.014655|  1.0E-6|0.046093|0.070696|0.059239|0.051438|0.035337|0.028061|0.043645|0.056005|0.047789|0.032397|0.018238|0.020339|0.022379|0.029505|0.025823|0.033286|0.044708|0.029675| 0.02166|0.018188|0.027317|0.020824|0.015357|  1.0E-6|0.163531|0.067842|0.035354|0.047398|0.049545|0.049807|0.043665|0.056361|0.052354|0.045372|0.027358|0.011634|0.022261|0.021426|0.018596|0.022939|0.022194|0.026852|0.014353|0.017899|0.018819|0.012492|0.010589|  1.0E-6|0.074047|0.042624|0.040646|0.044515|0.032385|0.037344|0.035961|0.046344|0.046486|0.032706|0.012842|0.016325|0.025436|0.018656|0.022995|0.030752|0.022274|0.031197|0.032274|0.032692|0.024235|0.013032|0.015626|  1.0E-6|0.050391|0.065404|0.082758|0.142327|0.046472|0.070199|0.055575|0.083267|0.070108|0.059323|0.040131|0.027846|0.057958|0.055927|0.060274|0.103427|0.074121|0.044029|0.033221|0.034543|0.030362|0.030583|0.021555|  1.0E-6|0.034142|0.050326|0.031032|0.041262|0.041209|0.084541|0.075093|0.065218|0.066655|0.036634|0.013867|0.016927| 0.04575|0.042525|0.042748|0.048038|0.048488| 0.03578|0.030772|  0.0423|0.035348|0.037329|0.018158|  2.0E-6|0.022159|0.032093|0.039704|0.025654| 0.04495|0.067472|0.055167|0.054422|0.052678|0.048145|0.033363|0.021293|0.024701|0.050211| 0.04723|0.041108|0.047096|0.046735|0.037444|0.063956|0.053317|0.060335|0.028615| 2.0E-6| 0.02981|0.046813|0.063648|0.076444| 0.05923| 0.09812|0.091165|0.081276|0.069769|0.053743| 0.03148|0.028454|0.064756|0.053233|0.050575|0.059795|0.044451|0.065037|0.101103|0.105265|0.091703|0.092067|0.050113|  2.0E-6| 0.01061|0.039882| 0.02898|0.069123|0.071934|0.053819|0.025277|0.049815|0.055535| 0.03426| 0.02246|0.025918|0.048471|0.038498|0.027924|0.051909|0.074213|0.047381|0.052691|0.061841|0.057048|0.066318|0.036559|  2.0E-6|0.073939|0.056098|0.045405|0.050192|0.062787|0.064719| 0.06497|0.055444|0.059865|0.033361|0.034442|0.025581|0.034724|0.028768|0.045002|0.047122|0.036134|0.033792|0.024766|0.047954|0.032572| 0.02091|0.025396|  2.0E-6|0.052785|0.051923|0.051634| 0.08069|0.069317|0.087975|0.074631|0.066526|0.047027|0.023643|0.032662|0.024705|   0.041|0.053472|0.033579|0.054141|0.054575|0.041518|0.027029| 0.02503|0.014936|0.041271|0.030427|  2.0E-6| 0.05302|0.073307|0.049016|0.052215|0.050512|0.081964|0.069464|0.086079|0.066084|0.069625|0.050166|0.060376|0.104304|0.045846|0.064789|0.066243|0.051742|0.044295| 0.04115|0.047773|0.042118|0.034828|0.027624|  2.0E-6|0.065835|0.056364|0.051006|0.081014|0.036575|0.048519|0.040387|0.037766|0.045089|0.039211|0.017845|0.024213| 0.04066|0.046425|0.033335| 0.03772|0.056008|0.025811|0.018988|0.038828|0.036324|0.031002|0.017726|  2.0E-6| 0.04791|0.034741|0.064833|0.047783|0.036826|0.033233|0.066493|0.061802|0.054385| 0.03307| 0.03368|0.037248|0.038134|0.035515|0.026784| 0.04097|0.036648|0.033003|0.024646|  0.0187|0.029504|0.050477|0.024493| 2.0E-6|0.041368|0.035658|0.049013|0.047973|0.055863|0.039806|0.046575|0.047017|0.063492|0.050241|0.056941|0.053157|0.111718|0.062575|0.058494|0.080671|0.053101|0.052372|0.053622|0.065174|0.063853|0.058842|0.029651|  2.0E-6|0.019729|0.037001|0.048947|0.051646|0.053381|0.036205|0.084116| 0.09195|0.060636|0.041752|0.049293|0.031666|0.052623| 0.05235|0.037555|0.029378|0.045471|0.040307|0.029927|0.020772|0.018104|0.019515|0.009443| 2.0E-6|0.029734|0.048814|0.032153|0.049163|0.038269|0.046447| 0.05843|0.072731|0.071313|0.037832|0.036345|  0.0245|0.044403|0.056224|0.054116|0.023636|0.035185|0.021275|0.026971|0.026414|0.026697|0.034593|0.026088|  2.0E-6| 0.02199|0.039021|0.050875|0.082288|0.068974|0.084416|0.065438| 0.06761| 0.06587|0.062443|0.047608|0.034708|0.061106|0.066738|0.030488|0.068495|0.066415|0.047195|0.032896|0.033986|0.031553|0.027283|0.017535| 2.0E-6|0.019105|0.051759|0.093878|0.109652|0.052027|0.062618|0.047248|0.052415|0.024709|0.027515|0.025105|0.040088|0.031307|0.043981| 0.05298|0.043604|0.055428| 0.04435|0.043349|0.043407|0.039944|0.042486|0.022464|  2.0E-6|0.005684|0.029756| 0.04486|0.068948|0.049604| 0.04521|0.054007| 0.03884|0.015649|0.016558|0.028474|0.027656|0.023514|0.029864|0.024774|0.022288|0.022201| 0.02669|0.025632|0.034456|0.030904|0.021575|0.015094|  2.0E-6|0.021054|0.055999|0.048378| 0.08287|0.089756|0.114013|0.070176|0.071671|0.067628|0.036117|0.018388|0.038777|0.044001|0.030056|0.034206|0.027714|0.044714|0.026761|0.039386|0.025006|0.027627|0.040549|0.020246|  2.0E-6|0.062904|0.057328| 0.07222|0.084246| 0.06906|0.065858|0.047031| 0.06353|0.036455|0.034578| 0.02318|0.017355|0.032328|0.044384|0.017063|0.022402| 0.03631|0.017354|0.079826|0.056917|0.037203|0.050273|0.024713|  2.0E-6|0.032128|0.048136|0.049612|0.083148|0.052963|0.050889|0.049307|0.044416|0.039509| 0.03546|0.038841|0.032115| 0.05418|0.038781|0.057762|0.039021|0.038203|0.032332|0.017817|0.025074| 0.02466|0.043047|0.019654|  2.0E-6|0.016709|0.036268|0.044982|  0.0668|0.048843|0.059479|0.032028|0.047437|0.046853|0.029583|0.035417|0.038672|0.031109| 0.03986|0.017515| 0.03451|0.026042|0.016678|0.022844|0.032018|0.023545|0.019437|0.015223|  2.0E-6|0.020013|0.040246|0.060416|0.058086|0.051725|0.060131|0.042187| 0.05245|0.072195|0.093285|0.055135|0.027175|0.073569|0.059611|0.042954|0.061239|0.033609|0.026412|0.043311| 0.03665|0.037867|0.035769|0.014413|  2.0E-6|0.017687|0.044994| 0.10014| 0.07701|0.050875|0.079035|0.044221|0.050141|0.049131|0.049634|0.038357|0.040822|0.043386|0.075332|0.083431|0.058922|0.049283|0.049715|0.025359|0.030343|0.019567|0.020926|0.008409|  2.0E-6|0.010489|0.039943|0.052598|0.034497|0.040096|0.031833|0.033685|0.034238|0.029283|0.025565| 0.01313| 0.01219|0.027925|0.023655|0.022567|0.018194|0.013882|0.008228|0.010612|0.012767| 0.02843|0.025319| 0.01316|  2.0E-6|0.034907|0.046139|0.044431| 0.04839|0.041812|0.065244|0.037963|0.050056|0.068422|0.031084|0.021981|0.019288| 0.05419|0.038204|0.046772|0.062492|0.038393|0.040943|0.040569|0.044977|0.033461|0.029841|0.017628|  2.0E-6|0.024675|0.022696| 0.05344| 0.03541|0.045629|0.048513|0.053109|0.041081|0.043638|0.033095|0.026138|0.034017|0.051072|0.039792|0.025104|0.038059|0.029287|0.016516|0.021171|0.023412|0.019499|0.027012|0.018681|  2.0E-6|0.049417|0.070917|0.057419|0.080947|0.043274|0.062753|0.028847|0.033398|0.027231|0.010847|0.014003|0.023582|0.017438|0.024736|0.024886|0.025151|0.015978| 0.01344|0.030066| 0.03823|0.033791| 0.02799|0.017744|  2.0E-6|0.006836|0.034155| 0.02779|0.027665|0.025338|0.045486|0.023595| 0.03308|0.019246|0.025801|0.026371|0.013273|0.024493|0.024917| 0.01539|0.022184|0.042506|0.027398|0.012309|0.028568|0.023358|0.022508|0.016416|  2.0E-6|0.024909|0.032632|0.041892|0.048129| 0.04779|0.050495|0.043862|0.041256| 0.04205|0.039532|0.030479|0.035069|0.076231|0.046206|0.046101|0.037501|0.029445|0.030087|0.018952|0.010001| 0.02142|0.030349| 0.01559|  2.0E-6|0.021692|0.032304|0.052791|0.044655|0.043388|0.048189|0.022904|0.040364|0.028703|0.017265|0.023299|0.021328|0.019814|0.027192|0.025342|0.019692|0.032789|  0.0244|0.016029| 0.02425|0.021074|0.014467|0.012256|  2.0E-6|0.019772|0.034679|0.022134|0.043466|0.025723|0.029151|0.032259|0.021781|0.018729|0.027654|0.021348|0.015936|0.021402|0.029662|0.022367|0.020341|0.035095|0.031857| 0.01049|0.011085|0.013274|0.016918|0.013699|  2.0E-6|0.017179|0.018261|0.043679|0.050909|0.041202|0.046255| 0.02457|0.029601|0.046513|0.045164|0.021854|0.033554| 0.05153|0.039012|0.028392|0.038943|0.029427|0.040011|0.040863|0.025497|0.027471|0.033818| 0.01891|  2.0E-6|0.015153|0.039842|0.013668|0.036873|0.031345|0.025986|0.022631|0.013369|0.030947|  0.0099|0.012337|0.007446|0.024751|0.018826|0.027566|0.023911|0.021122|0.015708|0.018829| 0.02726| 0.02344|0.016616| 0.00786|  2.0E-6|0.020704|0.021936| 0.03866|0.054222|0.050899|0.032513|0.035926|0.024284|0.036502|0.028838|0.024921|0.015706|0.020822|0.014163| 0.02146|0.023824|0.026381|0.022346|0.015835|0.020382|  0.0171|0.014239|0.004634|  2.0E-6|0.022484| 0.02109|0.027902|0.016666|0.035985|0.026373|0.038538|0.027155|0.040056|0.038812|0.016324|0.013288|0.024262|0.023704|0.027559| 0.02657|0.015925|0.014005|0.014997|0.015921|0.008141| 0.00998|0.002565|  2.0E-6|0.018471|0.047047|0.035696|0.044278|0.026107|0.039651|0.039578|0.013959|0.014937|0.023322|0.013675|0.014892|0.023474|0.024891| 0.01276|0.020947|0.019476|0.014218|0.014854|0.019025|0.019884|0.016486|0.014313|  2.0E-6|0.035373|0.066772| 0.04226|0.031082|0.039897|0.026047|0.030252|0.031267|0.023141|0.025967|0.014566|0.018895|0.025415|0.033697|0.032236|0.029296|0.023673|0.023264|0.018851|0.020217|0.011455| 0.01413|0.004867|  2.0E-6|0.020882|0.030597|0.029168|0.035644|0.040784|0.023441|0.026084| 0.02658|0.022922|0.018411|0.011091|0.010358|0.008356|0.024057| 0.02674|0.023074|0.019632|0.014291|0.015204|0.019427|0.017406|0.021701|0.009446|  2.0E-6|0.028838|0.025283|0.050929|0.021513| 0.03042|0.021629|0.026607|0.023886|0.030002|0.032668|0.031479|0.021725|0.033499|0.027622|0.011653|0.034306|0.015832|0.012416|0.038896|0.035279|0.021392|0.026365|0.018764|  2.0E-6|  0.0127|  0.0154|0.018981|0.041451|0.022909| 0.02122|0.026558|0.017895|0.021133| 0.00792|0.010222|0.021366|0.027798|0.026135|0.021957|0.014562|0.020866|0.015668|0.013193|0.013159|0.013447|0.015849|0.007808|  2.0E-6|0.013336|0.021414|0.035637|0.028556|0.029673|0.029175|0.037424| 0.03051|0.023484|0.010418| 0.01863|0.016851|0.028265|0.038746|0.029065|0.027502|0.019802|0.019432|0.023346|0.015492|0.015693|0.015583|0.014937|  2.0E-6|0.016221|0.034648|0.021702| 0.04687|0.040388|0.030748|0.022714|0.015096|0.024418| 0.01809|0.008271| 0.00801|0.024123|0.022642|0.014951|0.022349|0.015051|0.015097|0.018343|0.016639|0.009595|0.012322|0.006471|  2.0E-6|0.010477|0.022238|0.013363|0.034546|0.021179|0.015391|0.021458|0.021593|0.018266|0.018087|0.008648|0.014779| 0.02021|0.012783|0.011424|0.008053|0.009311|0.011139|0.007882|0.006774|0.009682|0.008964|0.003546|  2.0E-6|0.011884|0.029553|0.030509|0.031221|0.030825|0.043213|0.013263|0.012818|0.017273|0.020288|0.008724|0.011712|0.024921|0.009126|0.016534|0.015583| 0.01098|0.009488|0.011545|0.012282|0.011101|0.008588|0.004817|  2.0E-6|0.027784|0.028699|0.016987| 0.02452|0.022255|0.038674|0.022576|0.028941|0.022863|0.023345|0.018126|0.018056|0.034582|0.016552|0.013596|0.010569|0.016954| 0.01961|0.016457|0.018965|0.013161|0.009216| 0.00617|  2.0E-6|0.020659|0.040603|0.037928|0.023966| 0.02261|0.022493|0.011463|0.021563|0.027102|0.015344| 0.01386| 0.01632|0.033754|0.022553|0.011213|0.028757|0.019814|0.021168| 0.02089|0.010312|0.014055|0.015486|0.010445|  2.0E-6|0.008465|0.009778| 0.01988| 0.02469|0.022645|0.022244| 0.00958|0.012467| 0.01617|0.019355|0.011248|0.008428|0.016875| 0.01421|0.007627|0.011079|0.013721|0.016727|0.007019|0.013183| 0.00893|0.011291|0.004006|  2.0E-6|0.010407|0.013749| 0.01246| 0.01615|0.020224|0.023866|0.015643|0.016325|0.012761|0.008566|0.007095|0.009302|0.021149| 0.02224|0.017371|0.018437|0.020015|0.013994| 0.01071|0.009975|0.008403|0.014007|0.005524|  1.0E-6|0.008232|0.022223|0.030993|0.010903|0.021814|0.012568|0.012573|0.011325|0.014853| 0.01499|0.011295|0.014487|0.033547|0.022642|0.017928|0.032473|0.020043| 0.02741|0.019983|0.006638|0.006432|0.004482|0.005656|  1.0E-6|0.010399|0.026311|0.013668|0.027517| 0.02987|0.028767|0.014076|0.018367|0.015237|0.009336|0.012222|0.013419|0.012305| 0.01578|0.013944|0.016861|0.019102|0.015735|0.013739|0.011498|0.010798|0.009626|0.009288|  1.0E-6|0.007776|0.016746|0.019944|0.028588|0.019705|0.024092|0.013732|0.014423|0.012642|0.015201|0.011446|0.010124|0.011149|0.013953|0.020091|0.016936| 0.01235|0.007095|0.008621|0.006901|0.006372|0.009808|0.006989|  1.0E-6|0.022604|0.017108|0.029783| 0.03484|0.022583|0.010822|0.009522|0.013262|0.016886|0.021215|0.020605| 0.01751|0.024075|0.016318|0.015644|0.027203|0.022541|0.016961|0.027418|0.021692|0.017372|0.019103|0.011734|  1.0E-6|TRIDGZT128F428B9F5|\n",
      "|0.018246|0.008646|0.021885|0.041223|0.004092|0.080736|0.041131|0.051823|0.020586|0.033808|0.033708|0.044298|0.023058|0.016916|0.028738|0.015175| 0.01961|0.013576|0.006022|0.005656|0.006847|0.007918|0.003858|    0.0| 0.01505|0.022051|0.062125|0.021847|0.014962|0.061719|0.164084|0.091413| 0.06544|0.079507|0.045581|0.086297|0.051979| 0.02243|0.035688|0.023401|0.020235|0.006989|0.012793|0.007594|0.003421|0.005262|0.007982|     0.0|0.033639|0.025583|0.062381|0.050561|0.059642|0.132541|0.077479|0.079099|0.038104|0.087272|0.017731|0.080272|0.051693|0.021101|0.019145|0.020546|0.033169|0.017505|0.007121|0.005981|0.005139|0.004649|0.011717|  1.0E-6|0.062449|0.028624|0.018871|0.022438|0.036075|0.080138|0.045945|0.056659|0.020869|0.047865| 0.03938|0.035955|0.053546|0.040546|0.019753|0.032973|0.043202|0.022233|0.021712|0.009296|0.008073|0.010128| 0.01321| 1.0E-6|0.059927|0.021479|0.092879| 0.06036|0.030014|0.023784| 0.05345|0.078354| 0.02201|0.031578| 0.05145|0.081325|0.086486|0.043609|0.023103|0.027219|0.026814|0.008236|0.013227|0.006657|0.009235|0.008421|0.004644|  1.0E-6|0.053028| 0.05151|0.035685|0.058918| 0.09788|0.066119|0.083038|0.117913|0.044557|0.040277| 0.03111|0.036109|0.075414| 0.04269|0.028903| 0.04419|0.064151|0.023435|0.019847|0.010378|0.020853|0.016774|0.012329|  1.0E-6|0.018716|0.026528|0.082277|0.064185|0.053736|0.061902|0.085706|0.088662|0.054381|0.048005|0.045297|0.053478|0.073699| 0.03736|0.023166|0.033492|0.055271|0.014079|0.033436|0.007455|0.008597|0.011924|0.009579|  1.0E-6|0.027334|0.015736|0.108549| 0.07388|0.076826|0.072686| 0.12405| 0.09178|0.045394| 0.03486|  0.0365|0.040297|0.052962|0.032369|0.069271|0.029287|0.018037|0.021974|0.017811|0.012155|0.025383|0.020723|0.010505|  1.0E-6|0.036684|0.030429|0.061926|0.098173|0.106874|0.041253|0.098625|0.073095|0.051079|0.053952|0.046538| 0.04877|0.101515|0.034775|0.037486|0.034646|0.048577| 0.01888|0.022596|0.011726|0.019496|0.018868|0.020161|  1.0E-6|0.031399|0.025557| 0.04243|0.091984|0.061763| 0.10371|0.134222|0.112253|0.097177|0.073234|0.044915|0.061328|0.060554|0.022121|0.030403|0.048513|0.045879|0.034468|0.024671|0.011568|0.013077| 0.02155|0.023141|  1.0E-6|0.040502|0.050536|0.036778|0.034713|0.030258|0.101151|0.075359|0.080031|0.057541|0.047535|0.049796|0.057929|0.040155|0.046873|0.053418|0.032974|0.033459|0.023524|0.011241|0.010131|0.012011|0.011401|0.015323|  2.0E-6|0.026902| 0.04405|0.098879|0.065574|0.065468|0.090083|0.128386| 0.07459|0.043571|0.021035|0.069475|0.052044|0.063665|0.046057|0.042037|0.032254| 0.03463|0.039813|0.021787|0.010566|0.008233|0.010193|0.014108| 2.0E-6|0.039039|0.025643|0.026177|0.052817| 0.07369|0.099443|0.126402|0.050115|0.078482|0.047242|0.049138| 0.03808|0.097112|0.046709|0.035137|0.021414|0.056591|0.026589|0.009407|0.005765| 0.01269| 0.01966|0.011275|  2.0E-6|0.013367|0.051094| 0.11546|0.060561|0.105187|0.054486|0.084776|0.062192|0.048139|0.070399|0.048179| 0.08659|0.055006|0.047639|0.052453|0.027122|0.034054|0.022941|0.004793|0.011002|0.009412|0.018267|0.012192|  2.0E-6|0.011022|0.028921|0.088009|0.053142|0.066577|0.072245|0.082101|0.055644|0.058303|0.053034|0.011965|0.061365|0.046201|0.025296|0.011837|0.027407|0.023645|0.019824| 0.01568|0.007509|0.010945|0.021503|0.006956|  2.0E-6|0.034105|0.017017|0.070662|0.046514|0.085215|0.083126|0.088725|0.064123| 0.02952|0.058212|0.016776|0.060295|0.036552|0.036923|0.048226|0.034638|  0.0336| 0.01512|0.016176| 0.00946|0.022603|0.026424|0.012675|  2.0E-6|0.023984|0.062896|0.086288|0.094883|0.113739|0.093064|0.094321|0.038197|0.062248|0.108653|0.046035|0.033945|0.034371|0.037619|0.024185|0.027964| 0.03925|0.023315|0.028097|0.011508|0.010917| 0.02815|0.019112|  2.0E-6|0.018055| 0.03159|0.039016|0.043102|0.067255|0.102948|0.139982|0.078446|0.055703|0.044648|0.034714|0.040408|0.048983|0.056097|0.026491|0.025255|0.057098|0.025094|0.014885|0.013853|0.015986|0.027753| 0.01032|  2.0E-6|0.020417|0.013078|0.058438|0.021944|0.078764|0.064976|0.071427|0.090349|0.039275|0.057218|0.050217|0.044964|0.043261|0.034164|0.042094|0.036163| 0.03567|0.044378|0.014703|0.014698|0.017389|0.008255|0.008935| 2.0E-6|0.024376|0.025419|0.039177|0.060267|0.050695|0.068141|0.098883|0.063097|0.069073|0.038452|0.073909|0.064663|0.060531|0.019004|0.024566|0.029513|0.028328|0.019216|0.021034|0.023725|0.005121|0.014222|0.012931|  2.0E-6|0.020329|0.040756|0.085385| 0.07752|0.036656|0.036833|0.053817|0.039203|0.038429|0.051088|0.020016| 0.03793|0.027731|0.034102|0.031356|0.040966|0.045882| 0.00269|0.023499|0.015925|   0.014|0.003895|0.009002| 2.0E-6|0.038061|0.020966|0.029119|0.050476|0.052307|0.017985|0.093722|0.046716| 0.11036|0.039742|0.058728|0.035993|0.067888| 0.04436|0.023681|0.047375|0.041926| 0.03261|0.014156|0.014439|0.007332|0.012007|0.009507|  2.0E-6|0.040892| 0.03092|0.101928|0.079147|0.051808|0.104735|0.076346|0.061812|0.109338|0.057969|0.054501|0.063416|0.054281|0.066607|0.071873|0.085908|0.054615|0.050441|0.025729|0.034107|0.015598|0.022061|0.011456| 2.0E-6|0.018461|0.011345|0.056917| 0.07686|0.052219|0.040456|0.052783|0.036908|0.041307|0.032952|0.036548| 0.04375|0.049494|0.072597|0.040367| 0.02231|0.021854|0.018421|0.017275|0.014814|0.016801|0.015462|0.011119|  2.0E-6|0.007708|0.012289|0.020669|0.048267|0.079829|0.067411|0.099871|0.079497|0.035711|0.023418|0.018211|0.039514|0.058381|0.030572|0.039688|0.021803|0.011398|0.030282|0.012186|0.009968|0.005932|0.002914|0.012336|  2.0E-6|0.036951|0.024359|0.042817|0.072979| 0.04741|0.087742|0.039635|0.061772|0.048078|0.030677|0.044975|0.049427|0.035716|0.047914|0.035401|0.015098|0.011279|0.021425|0.020978|0.012339|0.012094|0.012588|0.011138|  2.0E-6|0.014905|0.008412|0.060636|0.022629|0.035221|0.033266|0.020452|0.047717|0.040341|0.044426|0.021551|0.038085|0.032136|0.022149| 0.03261|0.035614|0.022863|0.022766|0.026368|0.011215| 0.01032|0.007447|0.005637|  2.0E-6|0.012438|0.006794|0.019649|0.042103|0.020168|0.051632|0.053584|0.072688|0.038421|0.041104| 0.02229|0.033179|0.042338| 0.03673|0.024605|0.033952|0.025871|0.014137|0.014291|0.008671|0.010981|0.009547|0.008176|  2.0E-6|0.024499|0.037818|0.050526|0.037082| 0.02567|0.038638|0.075371| 0.05325|0.050805|0.038986|0.045295|0.041589|0.058684|0.015493|0.024373|0.027723|0.041055|0.013722|0.017741|0.009527|0.008069| 0.00522|0.009841|  2.0E-6|0.023141| 0.03372|0.020172|0.045816|0.015217|0.046161|0.043146|0.074627|0.016301|0.055697|0.039452|0.043906|0.029827|0.014267| 0.03047|0.046159|0.017645|0.030158|0.022644|0.010191|0.009277|0.005583|0.007833|  2.0E-6|0.012681|0.032422|0.062536|0.029635|  0.0273|0.048381|0.061585|0.088026|0.056946|0.055792|0.042317|0.068199| 0.03099|0.025733| 0.01645|0.030155|0.028622|0.011735|0.018517|0.008751|0.007784| 0.01452|0.006293|  2.0E-6| 0.01023|0.035904|0.021737|0.023255|0.037879|0.049661|0.031472| 0.14113|0.093429|0.026356| 0.01109|0.137361|0.082376|0.029786|0.010168|0.031977|0.018932|0.010612|0.024289|0.012692|0.003808|0.006721|0.007395|  2.0E-6|0.017974|0.017182|0.036487|0.039525| 0.01729|0.031914|0.025013|0.125248|0.065131|0.054095|0.075938|0.105353|0.043564|0.020757|0.019247|0.022828| 0.03457|0.020269|0.016125|0.009811| 0.01046|0.016437|0.013459|  2.0E-6|0.017255| 0.01727|0.050043|0.068138|0.041956|0.066228|0.037516|0.132474|0.087229| 0.06797|0.069503|0.081279|0.049215|0.043315|0.021336|0.042187|0.019307|0.010655|0.009977|0.010464|0.005765|0.010883|0.009279|  2.0E-6| 0.01213|0.021034|0.048112|0.047384|0.048173|0.059371| 0.09202|0.040182|0.031824|0.057888|0.068757|0.046455|0.035112|0.033252|0.020729|0.018353|0.045999|0.021677|0.010038|0.010277|0.004816|0.008927|0.009028|  2.0E-6|0.014764|0.032128|0.041184|0.016937|0.040559| 0.05156|0.057257|0.090901|0.030213| 0.06111|0.066181|0.041743|0.015608|0.045709|0.027698| 0.02387|0.052709|0.015915|0.016734|0.005692|0.008838|0.008562|0.003085|  2.0E-6|0.010753|0.026661|0.026915|0.030621|0.025029|0.049233| 0.02746|0.059398|0.043875|0.022191| 0.04834|0.006217| 0.01903|0.012916|0.056409|0.037137|0.020481|0.016424|0.021018|0.006677|0.004727|0.006165|0.005646|  2.0E-6|0.009931|0.014214|0.051371|0.023177|0.069109|0.048694|0.055676|0.071149|0.039367|0.017122| 0.04487|0.041011|0.040663|0.014577|0.031078|0.033877|0.033981|0.011854|0.014603|0.003196|0.008233|0.009544|0.004188|  2.0E-6|0.007198|0.023016|0.049859|0.047217|0.029578|0.024496|0.027429|0.054358|0.032492|0.035845|0.016667|0.034677|0.016025|0.029151|0.019029|0.018129|0.031958|0.010287|0.009516|0.006282|0.007583|0.004274|0.007271|  2.0E-6|0.019797|0.017286|0.031498|0.016741|0.023009|0.059003|0.038095| 0.05696|0.020784|0.039543|0.019499|0.021237|0.028601|0.018694|0.031444|0.019447|0.024598|0.014644|0.015782|0.006871|0.005634|0.002455|0.007945|  2.0E-6|0.021368|0.025758|0.028651|0.039098|0.031474|0.026045|0.038211|0.050987|0.021596|0.034028|0.029815|0.024226|0.024175|0.012123| 0.02295|0.021615|0.023873|0.022188| 0.00963|0.004619|0.003798|0.005833|0.005131|  2.0E-6|0.033541|0.011277|0.026963|0.035272|0.015764|0.047736|0.038342|0.034242|0.028113|0.012854|0.018762|0.038714| 0.02563|0.008457| 0.01534| 0.01134|0.020128|0.015501|0.005799|0.006084|0.005741|0.004786|0.003114|  2.0E-6|0.018119|0.018386|0.027014|0.029509|0.018422|0.053357|0.056419|0.034639| 0.01941|0.031138|0.019741|0.027591|0.027862|0.020702| 0.02068|0.019463|0.028059|0.008438|0.010799|0.007988|0.006163|0.005899|0.004089|  2.0E-6|0.014452|0.015261| 0.01269|0.025192|0.027924|0.046011|0.026078|0.030164|0.023434|0.019712|0.021166|0.018926|0.022542|0.008929|0.025546|0.019915|0.011248| 0.01787|0.011898|0.010943|0.003064|0.004624| 0.00451|  2.0E-6|0.025566|0.021459|0.015374|0.034901|0.029439|0.022211|0.039607|0.043774| 0.01457|0.031638|0.037428|0.006364|0.023998|0.013519|0.023749|0.013644|0.009882| 0.01745| 0.01492|0.013039|0.007895|0.005168|0.003983|  2.0E-6|0.038959|0.017916|0.020236|0.040125| 0.02626|0.053853|0.020361|0.016851|0.017694|0.033024|0.015023|0.044744|0.041056|0.031848|0.022349|0.028919|0.026273|0.020595|0.013996|0.012823|0.006913|0.004283|0.002911|  2.0E-6|0.025363|0.028234|0.016168|0.023058|0.037609|0.025085|0.044825| 0.01877|0.032832|0.035264|0.021673|0.028027|0.013968|0.014525|0.005063|0.007907|0.020653|0.011646|0.013295|0.011964|0.006175|0.006688|0.006255|  2.0E-6| 0.01868|0.011781|0.014778|0.024697|0.032419|0.037216|0.049265|0.059664| 0.01567|0.016952|0.015235|0.035212|0.013792|0.025565|0.019401|0.020454|0.014087|0.010188|0.014139|0.008689|0.005479|  0.0071|0.003709|  2.0E-6|0.017456|0.011906|0.025073|0.009101|0.038816|0.007798|0.044835|0.051599|0.012503|0.007875|0.005385|0.016382| 0.02078|0.006769|0.010407|0.012049|0.018749|0.002764|0.009074|0.009055|0.006137|0.006822|0.004057|  2.0E-6|0.013977|0.009613| 0.01566|0.020127|0.018635|0.028333| 0.03826|0.037056| 0.00511|0.023669|0.011295|0.011918| 0.01377|0.013018|0.016965|0.011059|0.009632|0.011218|0.011126| 0.00953|0.003407|0.004554|0.005609|  2.0E-6|0.023374|0.009102|0.031167|0.044822|0.024489| 0.02927|0.018104|0.043438|0.005653|0.023151| 0.01999|0.012246|0.017401|0.012513|0.012853| 0.00625|0.011449|0.007867|0.007886|0.006886|0.005876| 0.00267|0.003558|  2.0E-6|0.017939|0.016957|0.028859|0.030083|0.008043|0.029897| 0.04171|0.017175|0.022763|0.010357|0.011749|0.017797|0.016473|0.010532|0.016818|0.014852|0.019595|0.009085| 0.00622|0.006821|0.003405|0.003977|0.004015|  2.0E-6|0.005148|0.013966| 0.02454|0.026106|0.016543|0.027668|0.024401|0.029081| 0.01469|0.027881|0.011931|0.013988|0.029083|0.018006|0.018788|0.004457| 0.01441|0.011329|0.006084|0.006371|0.003375|0.006685|0.003801|  2.0E-6|0.006709|0.015112|0.036733|0.016707|0.021761|0.005669|0.027215|0.040921|0.023441|0.010771|0.011322|0.010848|0.013198|0.015281|0.006133|0.011492|0.012062|0.004786|0.004133|0.004138|0.004234| 0.00638|0.004587|  2.0E-6|0.010851|0.006955|0.014222|0.022058|0.018255|0.021506|0.038352|0.030588|0.023603|0.010132|0.018572|0.011766|0.022333|0.022728|0.019688|0.016522|0.020383|0.010163|0.014277|0.003575|0.004672|0.003221|0.003769|  2.0E-6|0.011608|0.019076|0.020521|0.029952|0.016115|0.016134|0.032626|0.019614|0.024886|0.009255| 0.00648|0.017095|0.015022|0.015174|0.012285|0.010853|0.005865|0.008447| 0.00835|0.004477|0.003821| 0.00392|0.002584|  1.0E-6| 0.00739|0.016118|0.013033|0.026407|0.017997|0.006767|0.025483|0.023162|0.011838|0.011894|0.014855| 0.01773|0.016331|0.015032|0.004729|0.009388| 0.01893|0.006754|0.003446|0.002924|0.003119|0.003651|0.003379|  1.0E-6|0.011184|0.006323|0.017644| 0.03334|0.015527|0.022974|0.021456| 0.01575|0.007587|0.016404|0.002148|0.005835|0.008554|0.016306|0.007423|0.008404|0.012467|0.006577|0.005217|0.001534|0.002127|0.002943|0.001697|  1.0E-6| 0.00299|0.004313|0.017033|0.022412|0.017222|0.029504|0.031086|0.025685|0.015548|0.015592| 0.01414|0.009688|0.012264|0.010889|0.019886|0.020717|0.006931|0.006909|0.010965|0.004618|0.003507|0.005604|0.002942|  1.0E-6|0.006716|0.007431|0.023292|0.018186|0.007526|0.011351|0.013131|0.025007|0.017304|0.014614|0.012732|0.009983|0.002139| 0.01921|0.015325|0.009745|0.006665| 0.01078|0.003438|0.003464|0.003668|0.004031|0.001271|  1.0E-6|TRHNLNG128F42717FF|\n",
      "| 0.01251|0.018594|0.027447|0.036388|0.023727|0.038141|0.031223|0.038639|0.025802|0.022678| 0.02646|0.021096|0.028813|0.022889|0.023512|0.013984|0.016652|0.011719|0.017344|0.005776|0.009487|0.008342|0.003692|5.65E-4|0.042077| 0.05145|0.025372|0.034529|0.033708|0.026153|0.027518|0.044575|0.027656|0.034704|0.025689|0.024046|0.029732|0.035241|0.034264|0.050823|0.053255|0.056724| 0.03945|0.031192|0.034824|0.023319| 0.01552|0.002591| 0.05379|0.076709|0.058987| 0.06794| 0.03206|0.066757|0.037462| 0.05574|0.043627|0.042228|0.015896|0.042544|0.045481|0.028509|0.057833|0.053651|0.042301|0.042293|0.040027|0.029281|0.024415|0.031652|0.014708|0.003589| 0.03357|0.081153|0.069111|0.063261|0.028276|0.054453|0.054086|0.055109|0.048606|0.042643|0.057663|0.053454|0.067151|0.068224|0.076323|0.070982|0.048432|0.043245|0.058746|0.015005|0.030608|0.025318|0.017139|0.00314|0.068772|0.081672|0.072875|0.053334|0.081629|  0.0771|0.074858|0.045944|0.063296|0.055093|0.052155|0.067719|0.097596|0.090993|0.051668|0.050145|0.074177|0.057075|0.053563|0.024636|0.034396|0.034537|0.027476|0.006407|0.055224|0.067551| 0.07956|0.049617| 0.05826|0.057106|0.057273|0.096216|0.054842|0.065905|0.067667|0.040324|0.054146|0.061798|0.041108|0.052671|0.032506|0.048135|0.037735|0.030963|0.015213|0.015656|0.015671|0.001869|0.106888|0.106564|0.142111|0.080733|0.053082| 0.06107|0.078831|0.089852|0.049232|0.056214|0.045128|0.050028|0.087321|0.075525| 0.06387| 0.06291| 0.07205|0.074395|0.065605|0.072119|0.075083|0.065015|0.059423|0.014009|0.058732|0.055717|0.059196|0.069767|0.031755|0.045404| 0.06266|0.061252|0.094744|0.049368|0.056309|0.030274|0.089036|0.056775|0.073391|0.064088|0.105747|0.068358|0.057904|0.035073|0.031839| 0.01979|0.017085|0.003507|0.155118|0.165856|0.148845|0.110764|0.136199|0.141747|0.118404|0.157005|0.134994|0.092704|0.084234|0.116543|0.080288|0.052574|0.108437|0.108416|0.156362|0.146782| 0.08964|0.063394|0.059451|0.048618|0.032552|0.008622|0.110053|0.126467|0.154051| 0.13177|0.075882|0.110453|0.104039|0.117372|0.097915|0.045608|0.080455|0.052431|0.102296|0.084031|0.059105|0.038072|0.043314|0.060675|0.042635|0.020772|  0.0308|0.027855|0.018686|0.005753|0.233281| 0.26174|0.177096|0.098025|0.076598|0.114366|0.126643|0.123997|0.089628|0.130633| 0.11583| 0.11368|0.107422|0.084883|0.088581|0.121874|0.116647|0.098029|0.059401|0.060691| 0.02932|0.031884|0.026315|0.005216|0.449646|0.527472|0.213408|0.083064| 0.06926|0.071232|0.069786|0.131711|0.097962|0.183039|0.073736|0.152512|0.157209|0.128586|0.179117|0.146819|0.160032|0.122725|0.116817|0.067325|0.074622|0.054594|0.055275|0.01059|0.088562|0.090812|0.083498|0.058196|  0.0371|0.104248|0.071662|0.085959|0.067371|0.064953|0.098727|0.111833|0.126936|0.133585|0.124856|0.088896|0.130483|0.096012|0.085648|0.060526|0.042405|0.049256| 0.02759|0.006163|0.147553|0.290342|0.360967|0.262329|0.249536|0.206675|0.153833|0.164762|0.111547| 0.12966|0.063727|0.072568|0.131818|0.193203|0.225532|0.279503|0.278426|0.302984| 0.24058|0.164485| 0.13388|0.094191|0.047296|0.012201|0.096282|0.140265|0.074185|0.117242|0.059481|0.123701|0.102543| 0.12206|0.053234|0.079543|0.068519|0.083705|0.059625|0.065202|0.083529|0.050034|0.081949|0.072013|0.052805| 0.01544|0.029381|0.032908| 0.02258|0.005274|0.109239| 0.11688|0.120586|0.063808|0.093095|0.101649|0.088696| 0.10843|0.080742|0.061264| 0.11196|0.065771|0.084594|0.076995|0.070557|0.127344|0.129182|0.090195|0.084809|0.074307|0.059414| 0.04635|0.028085|0.006379| 0.06217|0.039188|0.059199|0.060074|0.089903|0.062873|0.075321|0.085364|0.066966| 0.07609|0.085879|0.087196|0.059401|0.055849|0.067043|0.062401|0.083142|0.032963|0.044386|0.049486| 0.04559|0.051217| 0.03252|0.008174|0.055323|0.038558|0.024236|0.044242|0.069371|0.045544|0.054049|0.057907|0.028957|0.037194|0.078901|0.067911|0.085789|0.067565|0.107061| 0.10096|0.131537|0.129816|0.140807|0.125554|0.142355|0.116987|0.088345|0.019599|0.112375|0.093212|0.088936|0.080461|0.042276|0.094796|0.048275|0.058274|0.089066|0.071746|0.071799|0.062288|0.081954| 0.05832|0.088271|0.102632|0.132669|0.155813|0.155511|0.193754| 0.19845|0.176245|0.133917|0.02946|0.086631|0.023802|0.049515|0.102667|0.105061|0.082783|0.088239|0.058355|0.034138|0.056121|0.077799|0.061271|0.057769|0.081701|0.077465|0.074988| 0.07242|0.082043|0.082926|0.070885|0.054787|0.070774|0.042388|0.007799|0.098553|0.103284|0.052561|0.109446|0.094763|0.091728|0.082943|0.069891|0.057138|0.071483|0.097124|0.083615|0.085533|0.093936|0.103959|0.078458|0.141747|0.088098|0.104187|0.078305|0.048671|0.039282|0.012654|0.00142|0.070205|0.067276|0.071447| 0.08167| 0.05061|0.055468| 0.03985|0.034017|0.045889|0.049661|0.053701| 0.07059|0.085119|0.098137|0.060543|0.046204|0.043903|0.062759|0.054518|0.028338|0.029854|0.029041|0.012008|0.003561|0.244314|0.140793|0.195274| 0.18184|0.181661|0.137018|0.108333|0.105486|0.078521|0.049981|0.040449|0.097887|0.114836| 0.13136|0.165227|0.171837|0.232852| 0.22765|0.189557|0.139756|0.128212|0.081926|0.036474|0.01073|0.052481|0.069658|0.083594|0.079721|0.069226| 0.04156|0.055502| 0.04526|0.067391|0.054921|0.047131|0.080152|0.081301|0.044689| 0.06101|0.071346|0.105366|0.108076|0.083127|0.061523|0.040806|0.034437|0.016027|0.006468|0.133554|0.081491|0.071014|0.050365| 0.08422|0.090877| 0.06864| 0.11286|0.049877|0.091724|0.054339|0.091271|0.121769| 0.07008|0.113075|0.084504|0.094814|0.067268| 0.07698|0.034923|0.040724|0.028464|0.020788|0.005751|0.210095|0.140202|0.102885|0.123507|0.167856|0.092032|0.063367| 0.07592|0.111785|0.130285|0.137954|0.193798|0.181648|0.132736|0.119656| 0.12725|0.098173|0.079513|0.042115|0.040934|0.057822| 0.04899|0.014547|0.004913|0.058283|0.044024|0.050393|0.080706|0.064037|0.094553|0.051613|0.060348|0.071837|0.068625|0.068905|0.065011|0.076178|0.048012|0.070808|0.055309|0.051296|0.044842|0.043955| 0.04763|0.058073| 0.04469|0.023479|0.005863|0.137643|0.213785|0.158581|0.140391|0.144348|0.100849|0.080986|0.082888| 0.11185|0.126747|0.106909|0.133433|0.158129|0.144583|0.182757|0.179049|0.246198|0.230155|0.161531|0.126227|0.116722|0.074933|0.046483|0.012957|0.123893|0.060038|0.045668|0.057733|0.080391|0.042448|0.078552|0.056352|0.043022| 0.05774|0.058994|0.083972|0.060414|0.029712|0.041049|0.035792|0.059171|0.042388|0.057867|0.039485|0.021832|0.022539|0.019148|0.004832|0.054828|   0.102|0.071672|0.101595|0.079706|0.075228|0.090515|0.080503|0.035387|0.046861|0.032807|0.046176|0.038137|0.017621|0.087125|0.075145|0.108276|0.109753|0.078649| 0.07893|0.091913|0.074876|0.057697|0.012229|0.045285|0.075804|0.062104| 0.04486|0.048019|0.044024| 0.07684|0.055657|0.050625|0.027754|0.043359| 0.03853|0.056083|0.049848|0.047379|0.044756|0.069486|0.056107|0.044349|0.049217| 0.03091| 0.03178|0.024228|0.007451|0.124808|0.148325|0.068615|0.061876|0.078069| 0.02378|0.039923|0.058366|0.047419|0.019088|0.050453|0.025299|0.037485|0.054072|0.061441|0.045751|0.055275| 0.02934|0.027015|0.032933|0.043087|0.025282|0.030152|0.007057|0.111775|0.122201|0.039059|0.051065|0.054355|0.081194|0.079696|0.046885| 0.05087|0.038339|0.049709|0.034864|0.050511|0.050868|0.036147|0.038318|0.037167|0.035531|0.044125| 0.05435|0.055123| 0.03276|0.035199|0.006447|0.077129|  0.0778|0.034068|0.055902|0.030433|0.041927|0.057934|0.045935|0.022555|0.023339|0.047822|0.015129|0.052305|0.031083|0.071589|0.088936|0.091069|0.037887|0.028897|0.031251|0.036999|0.029114|0.025426|0.006663|0.066782|0.104188|0.087214|0.069523|0.069046|0.096899|0.070703|0.028019|0.072891|0.047291|0.044026|0.065898|0.089791|0.073528|0.090798| 0.06641|0.079692|0.069919|0.055838|0.093079|0.078376|0.078727|0.035498|0.010977|0.093483|0.122174|0.068039|0.100887|0.099298|0.052934|0.059621|0.060094|0.061838|0.047292|0.044225|0.085145| 0.07544|0.055981|0.089847| 0.07039|0.072998|0.073763| 0.05184|0.059436|0.060639|0.061393|0.051108|0.016136|0.416036|0.501274|0.285574|0.369916|0.305469|0.286385| 0.21007| 0.15159|0.298501|0.302086| 0.20059|0.301105|0.343568|0.368672|0.500883|0.522653|0.506435|0.449548|0.360679|0.330935|0.336166|0.373415|0.292968|0.085416|0.134575|0.128331| 0.06379|0.071933|0.103115|0.116164|0.112232| 0.09432|0.099152|0.090623| 0.11482|0.127819|0.133302|0.140009|0.203033|0.178408|0.200347|0.175468|0.145631| 0.11943|0.122782|0.122496|0.096694|0.026847|0.061441|0.096802|0.052277|0.080062|0.066668|0.040163|0.056244|0.019755|0.061119|0.052322|0.044524|0.055204|0.052566|0.046204|0.090021|0.083253|0.102409|0.068071|0.031451|0.043044|0.042527|0.038884|0.035523|0.010804|0.098138|0.059181|0.054922| 0.08244| 0.04399| 0.04407|0.050583|0.060766|0.036803|0.054717|0.044452|0.065525|0.039066|0.044947|0.071599|0.077524| 0.06446|0.056052|0.066009|0.040644|0.045867|0.028664|0.037654|0.009768|0.054681|0.075251|0.032556|0.020888|0.029035|0.036676|0.026028|0.039119|0.034014|0.023336|0.021358|0.052759|0.046289|0.038372| 0.06223|0.040273|0.042851|0.034254|0.043757|0.035915|0.032001|0.023048| 0.02528|0.006837|0.135557|0.098725|0.023562|0.023268|0.054298|0.014552|0.039237|0.069001|0.037469|0.021755|0.037688|0.036085|0.022157|0.032043|0.028088|0.026499|0.041643|0.038317|0.032626|0.035549|0.045472|0.017376|0.022298|0.006018|0.037139|0.033713|0.042176|0.028237|0.025077|0.032872|0.039061|0.044621|0.031857|0.030176|0.023024|0.038655|0.035505|0.035884|0.032472|0.041623|0.032723|0.022179|   0.024|0.022079|0.023975|0.014484|0.011914|0.003506|0.027162|0.053977|0.030241| 0.05496|0.038814|0.046176|0.032339|0.048995|0.032668|0.039824|0.034783|0.056458| 0.04673|0.043572|0.031825| 0.04501|0.067652|0.062355| 0.02771|0.014574| 0.02115|0.020099|0.012093|0.004338|0.037365|0.048404|0.052004|0.062604|0.021874| 0.03325|0.049333|0.036274|0.028112|0.014887|0.014432|0.035714| 0.02718|0.056575|0.032935|0.041284|0.028408|0.025729|0.033686|0.015069|0.018218|0.025617|0.005557|0.002888|0.078997|0.058787|0.049708|0.046281|0.049588|0.026105|0.020532| 0.05833|0.035334|0.051161|0.039675|0.061284|0.044919|0.047771|0.044162|0.055758|0.060869|0.060675|0.049482|0.035295|0.022955|0.027314|0.009966|0.004855|0.088525|0.087898|0.038005|0.045856|0.046733|0.042852|0.023826|0.034704|0.045899|0.026356|0.032601| 0.03973|0.032746| 0.02597|0.027068|0.039666|0.063026|0.051566|0.034237|0.022563|0.027796|0.029635| 0.01364|0.005794|0.051202|0.059061|0.048776|0.050237|0.038566|0.050776|0.040177|0.041443| 0.03726|0.040877|0.039695|0.058396|0.053825|0.048086|0.054695|0.039525|0.039724|0.038867|0.018919|0.026347|0.017542|0.011234|0.012544|0.002227|0.166877|0.238837|0.086422|0.067539| 0.04676|0.066923| 0.06508|0.064237|0.058453|0.092177|0.083057|0.104088|0.134465|0.110967|0.121731|0.132327|0.095666|0.069395|0.039243|0.022768|0.010934|0.012277|0.011465|0.003056|0.055947|0.066539| 0.01953|0.032029|0.030293|0.028269|0.017877|0.031954|0.033426| 0.02168|0.023985|0.056766| 0.03364|0.021383|0.042775|0.035269| 0.03067|0.028055|0.016736|0.007659|0.012379|0.007556|0.006045|0.001884|0.128428|0.166732|0.091085|0.081873| 0.08571|0.085303|0.081355|0.049521|0.039691|0.031682|0.029818|0.042709| 0.04609| 0.05521|0.095265|0.114445|0.146464|0.139777|0.096118|0.069779|0.061933|0.041269|0.022229|0.004241|0.045603|0.049681|0.026808|0.033019|0.019387|0.031232|0.048653|0.032839|0.036049|0.028372|0.016703|0.033963|0.035534|0.024938|0.029314|0.020679|0.047295|0.034432|0.024187| 0.01314|0.014684|0.007123|0.009753|0.001615|0.027711|0.024125|0.010511|0.025271|0.025116|0.026239| 0.03061|0.024096|0.024065|0.019373|0.020476|0.033812|0.022461|0.026327|0.032338|0.029114|0.036663|0.022906|0.035264|0.036631|0.028782|0.015703| 0.00913|0.002627|0.021229|0.028325|0.042603|0.025719|0.021207|0.026814|0.028057|0.036406|0.019737|0.022868|0.036164| 0.04601|0.019424|0.010643|0.035149|0.028688|0.025736|0.027797|0.024796| 0.02018|0.016375|0.012317|  0.0086|0.003059|0.028565|0.024814|0.021791| 0.02363|0.030433|0.018043|0.035807|0.032245|0.021137|0.013384|0.022327|0.023509|0.017729|0.020337|0.029472|0.026277|0.029111|0.032183|0.026364|0.023629|0.024903|0.016112|0.011396|0.002984|0.033525|0.036262|0.018703|0.019614|0.012314|0.030896|0.035906|0.021157| 0.02704|0.020933|0.015156|0.035962|0.025238|0.007526|0.037762|0.039143|0.031033|0.036983|0.061668|0.060133|0.066554|0.054153|0.044806|0.014271|0.023278|0.028272|0.024166|0.030629|0.030787|0.016883|0.030581|0.032265|0.016559|0.020382| 0.02096|0.021189|0.029293|0.023247|0.018802|0.029608|0.015852|0.011501|0.009757|0.017248|0.014007|0.012741|0.012316|0.003145|0.016433|0.018733| 0.02419|0.026266|0.017421|0.022823|0.021986|0.028107| 0.01989|0.020653|  0.0281|0.019874|0.028396|0.019545|0.024295|0.032259|0.048278|0.028844| 0.03744|0.032294|0.019713|0.024423|0.010338|0.004283|0.033599|0.031405|0.032743|0.018055|0.029127|0.030462|0.026997|0.028354|0.016177|0.012686|0.030502|0.023618|0.029233|0.019455|0.032801|0.029303|0.031035|0.012897|0.023029|0.014073|0.013547|0.015275|0.006748|0.001669|0.075064| 0.08235|0.044848|0.032158|0.037095|0.041688|0.029254|0.019854|0.017124|0.010764|0.034444| 0.02327|0.035617|0.046243|0.048898|0.060113|0.062213|0.075493|0.061272|0.025676|0.020332|0.020932|0.011308|0.002284|TRCNVJH128F427213A|\n",
      "|0.015173|0.024388|0.017414|0.014775|0.009949|0.007749|0.013393|0.019128|0.033999|0.025982|0.017378|0.016667|0.015484|0.021335| 0.01838|0.027374|0.011497|0.005162|0.003651|0.003987|0.004717|0.002427|0.002003|    0.0|0.018067|0.015608|0.022933|0.041931|0.053846|0.048458|0.052883|0.054087|0.057989|0.054105|0.028137|0.021225|0.036909|0.075633|0.037938|0.058451|0.027969|0.020658|0.020111| 0.02128|0.027963|0.021416|0.010214|     0.0|0.014897|0.044903|0.047652|0.052262|0.051002|0.031053|0.039241|0.054611|0.056711|0.042908| 0.01641|0.026355| 0.03644|0.095724|0.118225|0.024188|0.037146|0.021096|0.022385|0.029196|0.023641|0.020194|0.006951|  1.0E-6|0.054758|0.042334|0.040919|0.069004|0.054644|0.035231|0.057635|0.017754|0.048194|0.054595| 0.04737|0.034459|0.071565|0.095417|0.112832|0.055471|0.056352|0.068846|0.033433|0.033674|0.030105|0.026076|0.010191| 1.0E-6|0.042952| 0.04411|0.058751|0.040581|0.054801|0.079652| 0.06105|0.071886|0.055352|0.054615|0.062888|0.017238|0.072526|0.129939|0.122274|0.077819|0.062826|0.052878|0.047973|0.034288| 0.02518|0.017697|0.009511|  1.0E-6|0.062267|0.067757| 0.12257| 0.03779|0.076888|0.060767|0.067845|0.095456|0.068655| 0.03518|0.067171|0.063558|0.056568|0.072935|0.122269|0.041512|0.036691|0.054934|0.044192|0.032649|0.035126|0.031053|0.011075|  1.0E-6|0.066652|0.068722|0.075122|0.090268|0.120851|0.069471|0.057792|0.046279|0.049256|0.042238|0.040993|0.032442| 0.07034|0.045511|0.079223|0.088946| 0.05687|0.092422|0.082612|0.065016|0.063649|0.032618|  0.0164|  1.0E-6|0.103627|0.076206|0.170498| 0.04749|0.151537|0.048766|0.069614|0.068083|0.054878|0.042106|0.016043|0.074409|0.049078|0.041532|0.093964|0.035134|0.057813| 0.02876|0.045747|0.043277|0.023566|0.035145|0.006488|  1.0E-6|0.031763|0.062994|0.054642|0.076306|0.036224| 0.09213|0.072316|0.101214|0.046937|0.058596|0.041797| 0.05255|0.089455| 0.04501|0.160494|0.066757| 0.05306|0.039079|0.033953|0.023344|0.033503|0.023026|0.009354|  1.0E-6|0.060737|  0.0389|0.068757|0.092001|0.100652|0.073616|0.059011|0.076864|0.050583|0.063859|0.066791|0.039734|0.071594|0.088269| 0.06569|0.063974|0.032322|0.030003|0.035162|0.026093|0.030365|0.025223|0.006073|  1.0E-6|0.099163|0.072206|0.116918|0.098916|0.056906|0.077209|0.095365|0.082633| 0.10149|0.058015|0.044812|0.088402|0.076108|0.058017|0.113943|0.012474|0.039797|0.022168|0.053407|0.021462| 0.02486|0.020853|0.009148|  2.0E-6|0.042036|0.040163|0.058955|0.114758|0.078526|0.059879|0.066865|0.167532|0.047245|0.039114| 0.05793|0.012189|0.090319|0.074511|0.069241|0.022635|0.033281|0.043168| 0.03511| 0.03831| 0.02908|0.016978|0.009411| 2.0E-6|0.066341|0.028994|0.156234|0.073088|0.069729|0.047554|0.124356|0.102101|0.058941|0.075491| 0.06529|0.082357|  0.0939|0.059149|0.095459|0.069613|0.048853|0.064056|0.053022|0.047698|0.035935|0.031905|0.012688|  2.0E-6|0.039927|0.110481|0.104265|0.076022|0.126806|0.063098|0.063828|0.101951|0.102162|0.063379| 0.08497|0.059854|0.061306|0.102349|0.112443| 0.12667|0.072924|0.043042|0.034726|0.011291|0.026834| 0.02459|0.009769|  2.0E-6|0.019543|0.172539|0.238476| 0.09174|0.097763|0.218112|0.298633|0.219532|0.057334|0.115833|0.015457|0.068868|0.142061|0.182005|0.075264|0.165286|0.152487|0.175386|0.162088|0.116918|0.091644|0.052699|0.042121|  2.0E-6|0.048114|0.078148|0.112786|0.131657|0.133364|0.109944|0.129418|0.040426|0.072829|0.020508|0.091576|0.046201|0.051022|0.047811|0.045201|0.047904|0.058333|0.042005|0.047037|0.052689|0.026146|0.019642|0.012708|  2.0E-6|0.044668|0.083844|0.131314|0.130086|0.118033|0.117077|0.189037| 0.10985|0.102605|0.064915|0.065053| 0.08135| 0.07525|0.105409|0.079163|0.094645|0.098175|0.091172| 0.03598|0.040459|0.038484|0.020245|0.010445|  2.0E-6|0.118234|0.067297|0.053259|0.119895|0.067131|0.043112|0.071304|0.138551|0.045658|0.058255|0.088587|0.056342|0.088178| 0.04915|0.098424|0.047191|0.047839|0.043141|0.036229|0.059521| 0.03343|0.031235|0.017525|  2.0E-6|0.040734|0.057598|0.034304|0.083544|0.097661|0.069267|0.046977|0.047482| 0.07493|0.049284|0.026535|0.070171|0.066844|0.037809|0.150065|0.069296|0.091213|0.012446|0.042857|0.053565|0.076349| 0.05419| 0.02416| 2.0E-6|0.045914|0.064518|0.073999|0.134626|0.084191|0.049861| 0.09628| 0.08358|0.060983|0.078452|0.083475|0.060049|0.054506|0.074245|0.099937|0.055052|0.071388|0.042835|0.027851|0.017743|0.022261|0.014308|0.006941|  2.0E-6|0.052244|0.056028|0.136436|0.082934|0.131134|0.046865| 0.04396|0.068543|0.045899|0.045374|0.043677|0.056971|0.045188|0.084895|0.046918|0.045829|0.051485|0.023655|0.041322|0.024727|0.031088|0.017904|0.008359| 2.0E-6|0.128083|0.081392|0.230159|0.094931|0.031545|0.127211| 0.12259|0.025987|0.054848|0.083889|0.103405|0.046136|0.072699|0.069728|0.100775|0.080891|0.075724|0.031436|0.036021|0.062076|0.048628|0.026768|0.010961|  2.0E-6|0.089292|0.054525|0.160931|0.064079|0.071698|0.024687|0.108093|0.073205| 0.04117|0.051212|0.058513|0.132149|0.061338|0.142614|0.068211|0.077809|0.037015|0.049081| 0.05835|0.047237|0.063742|0.027336|0.013046| 2.0E-6|0.041139|0.069483|0.096299|0.113872|0.064438|0.061911|0.098966|0.095165|0.019848|0.045463|0.092172|0.074296|0.084239|0.043611|0.034976|0.088024|0.073271|0.053576|0.049931|0.023257|0.046057|  0.0336|0.015713|  2.0E-6|0.061214|0.031472|0.052435|0.070943|0.044588|0.045414|0.067967|0.029553|0.070392|0.048269|0.028004| 0.03253|0.064156|0.125376|0.054909| 0.07365|0.098646|   0.075|0.023761|0.036863|0.060119|0.043731|0.018477|  2.0E-6|0.060861| 0.04444|0.098631|0.097677|0.086571|0.052243|0.065625|0.098592|0.053205|0.021397|0.040602|0.025961| 0.05615|0.064544|0.119653|0.046503|0.079709|0.043171|0.036125|0.032128|0.020837|0.020543|0.006208|  2.0E-6|0.022654|0.055623|0.049722|0.078768|0.057194|0.066409|0.063731|0.083778|0.066703|0.077243|0.065498|0.030305|0.029871| 0.08727|0.078905| 0.05101|0.056085|0.040972|0.037331|0.048975|0.045312|0.024983|0.013512|  2.0E-6|0.043645|0.064494|0.054507|0.117334|0.081793|0.036325|0.096451|0.082884| 0.02793|0.033206|0.039813|0.063836|0.027714| 0.07459|  0.0496| 0.04733|0.029328|0.036683|0.032356| 0.01728|0.059638|0.029681|0.010546|  2.0E-6|0.071916|0.121198|0.235888| 0.12748|0.069897| 0.07123|0.049643|0.086341|0.090952|0.044831|0.053442|0.036756| 0.04781|0.084517| 0.13443|0.156703|0.108107|0.058316| 0.05839|0.019755|0.043194| 0.02834|0.004986|  2.0E-6|0.108207|0.131484|0.179212|0.093699|0.101655|0.194302|0.075354|0.172785|0.037896|0.073521|0.067182| 0.05417|0.062865|0.163199|0.141891|0.188604|0.131623| 0.09256|0.121953|0.071571|0.051958|0.042389|0.030045|  2.0E-6|0.039409|0.072105|0.055265|0.077518|0.092787| 0.10212|0.096742|0.081674|0.030906|0.055064|0.033162|0.133038|0.058326|0.083464|0.077765|0.053859|0.040972|0.060656|0.056902|0.046516|0.048618| 0.05177| 0.02084|  2.0E-6|  0.0221|0.043593|0.073849|0.048165|0.061313|0.037398|0.037791|0.061874|0.046596|0.052341|0.039434|0.056641|0.067163|0.049225|0.037383| 0.03859|0.071013|0.037827|0.047885| 0.02956|0.030599| 0.02684|0.010364|  2.0E-6| 0.06342|0.047337| 0.05211|0.107642|0.046287|0.082563|0.073874|0.042389|0.042012|0.049739|0.040102|0.049378|0.051842|0.058803|0.097151|0.063446|0.023395|0.047538|0.026564|0.013908|0.017751|0.014133|0.003073|  2.0E-6|0.076704|0.082514|0.043591|0.051906| 0.05422|0.028663|0.054441|0.046468|0.047409|0.034584|0.021716|0.033463|0.066436|0.037722|0.032955|0.040236|0.064861|0.027633|0.015408|0.028364|0.035411|0.013425|0.007886|  2.0E-6|0.051075|0.059509|0.065368| 0.04971|0.026861|0.040039|0.071354|0.037892|0.018223|0.063445|0.028246|0.043724|0.017576|0.044156|0.053453| 0.04726|0.050253|0.040428|0.021376|0.023131| 0.03127|0.017263|0.006296|  2.0E-6|0.030188|0.041269| 0.04237|0.047191|0.057505|0.046591|0.050745|0.019497|0.035702|0.024125|0.019168|0.034759|0.031268|0.025585|0.032184|0.059917| 0.03444|0.018504| 0.02306|0.021947|0.035472|0.019125|0.004366|  2.0E-6|0.076129|0.073872|0.089663|0.086505|0.038717|0.054965|0.042789|0.040376|0.044402|0.070247| 0.01732|0.040553|0.057697|0.027309|0.053123|0.072398| 0.02917|0.022105|0.018493|0.010906|0.030547|0.015034|  0.0034|  2.0E-6|0.060557|0.061735| 0.04325|  0.0418|0.020748|0.074004|0.029447|0.046528|0.051521|0.043889| 0.04675|0.082313|0.074972|0.044045|0.053965|0.033319|0.020303|0.030735|0.035561|0.015233|0.028383|0.014529|0.007962|  2.0E-6|0.048034| 0.04669|0.056848|0.033361|0.030469|0.068195|0.070006|0.051696|0.051121|0.043143| 0.03188|0.041034| 0.04875|0.034921|0.047836|0.068022|0.059104|0.025029|0.030994| 0.01461|0.027327|0.020224| 0.01323|  2.0E-6|0.023528|0.051367|0.072489| 0.01927|0.043074|0.028211|0.057524|0.035863|0.046971|0.049454| 0.01844|0.041091|0.033069|0.046825|0.048463|0.038205| 0.01793|0.027347|0.017842|0.016936|0.020689|0.018003|0.008065|  2.0E-6|0.048236|0.040234|0.016686|0.028244|0.064328|0.046223|0.052333|0.023977|0.047065|0.023477|0.016397|0.040225|0.018784|0.036192|0.043047|0.060615|0.045019|0.024024|0.022631|0.017748|0.028026| 0.01109|0.008672|  2.0E-6|0.026132| 0.02919| 0.06729| 0.05287|0.020011| 0.03342|0.055474|0.028968|0.035899|0.052307|0.035519|0.041189|0.041336|0.013439|0.050354|0.047426|0.056954|0.025332|0.026595|0.026971|0.020395|0.013901|0.008019|  2.0E-6|0.034078|0.044962|0.050272|0.030165|0.050263|0.047627|0.044296|0.042648|0.027618|0.046804|0.051671|0.070535|0.059654|0.068612|0.020486|0.043337|0.030333|0.027432|0.032606|0.021945|0.037904|0.023563|0.016619|  2.0E-6|0.014764|0.055423|0.071196|0.082301| 0.04043|0.055983|0.024584|0.017531|0.008716|0.021564|0.015473|0.039098| 0.04512|0.030843|0.026865|0.016498|0.018535|0.021015|0.045461|0.040411|0.027176|0.025412|0.014377|  2.0E-6|0.026664|0.061645|0.148689|0.016076| 0.03745|0.021765|0.067715|0.029964|0.037393|0.033536|0.029033|0.045992|0.027122|0.048642| 0.01916|0.035803|0.024681| 0.02132|0.044648|0.030525|0.030911|0.018368|0.014288|  2.0E-6|0.021618| 0.08661|0.051658|0.033066|0.031153|0.046326|0.031163|0.025885|0.035589|0.035193|0.042235|0.026942|0.056478|0.035775|0.027164|0.032833|0.037426|0.025376|0.025054|0.021183|0.019124|0.009684|0.008792|  2.0E-6|0.040697|0.043242|0.068601|0.020406|0.031811| 0.03049|0.045514|0.037315|0.026522|0.030593|0.012819|0.029621|0.019428|0.036269|0.050385|0.038799|0.032159|0.023103|0.015887|0.015298|0.014002| 0.01076|0.006838|  2.0E-6|0.064314|0.035497|0.027105|0.028256|0.023487|0.053595|0.054958| 0.03228|0.031068|0.042583|0.023104|0.037317|0.042375|0.008584|0.023155|0.027229|0.016452|0.012323|0.023554|0.018068|0.017828|0.008234|0.006277|  2.0E-6|0.017424|0.048707|0.053094| 0.05105|0.056369|0.033626|0.034353|0.016416| 0.00596|0.014745|0.031934| 0.03437|0.020275|0.028044|0.036823|0.044095|0.026613| 0.01865|0.020775|0.013315| 0.01917|0.009575|0.005469|  2.0E-6|0.042933|0.037118|0.030278|0.031268|0.020839|0.062141|0.019822|0.037834|0.021212|0.045109|0.025853|0.022807|0.017786|0.043204|0.025547|0.029429|0.040299|0.014163|0.016391|0.018243|0.014546|0.006293|0.004687|  2.0E-6|0.038678|0.041171|0.078368|0.031292|0.042631|0.030762|0.018488|0.023904|0.004398|0.018131|0.016763|0.041826|0.027145|0.048117|0.048686|0.047335|0.019902| 0.02046|0.023027|0.004583|0.018462|0.009737|0.003604|  2.0E-6| 0.07179|0.029691|0.113898|0.045966|0.020245|0.026881|0.024669|0.026066|0.015935|0.025463|0.019876|0.039721|0.037782|0.042435|0.037052|0.010383|0.025832|0.025816|0.019847|0.017424|0.023388|0.015089|0.008929|  2.0E-6|0.051241|0.025333|0.050707|0.014683|0.034487|0.053503|0.034878|0.008739|0.019125| 0.02698|0.024166|0.014247|0.016645|0.019969|0.018177|0.039426|0.031493|0.032416|0.015003|0.027024|0.005961|0.012024|0.005363|  2.0E-6|0.018884|0.046404|0.029354|0.016638| 0.02858|0.024888|0.039688|0.017061|0.019327|0.018606|  0.0222|0.049402|0.014911|0.032203|0.036286|0.022403|0.038212|0.013722|0.010371|0.012944|0.014624|0.005827|0.003249|  2.0E-6|0.027121|0.030751|0.064862|0.028504|0.027992|0.050361|0.015773|0.025013| 0.02553|0.021787|0.020442|0.030556|0.023744| 0.03467|0.027809|0.033153|0.024057|0.017458|0.010298|0.005313|0.003434|0.004821|0.004092|  2.0E-6|0.031148|0.049417|0.056515|0.019107|0.017256|0.034592|0.023078|0.034262|0.036851|0.018999|0.010596|0.017461|0.020256|0.053253|0.039892| 0.01825|0.014281|0.023748| 0.02619|0.005545|0.012876|0.002745|0.003438|  1.0E-6|0.039348| 0.03902|0.047485|0.026768|  0.0367|0.031852|0.026602|0.011044|0.016955|0.015446|0.022968|0.036237|0.025598|0.008446|0.026685|0.009619| 0.01629|0.020428|0.012014|0.007324|0.009725|0.006558|0.004452|  1.0E-6|0.050467|0.053251|0.102569|0.044795|0.053553|0.025167|0.030935| 0.02899|0.036055|0.023436|0.007866|0.034317|0.030928|0.035972|0.037843|0.029883|0.029219|0.018322|0.011982| 0.00987|0.016851|0.008943| 0.00427|  1.0E-6|0.035233|0.023954| 0.03299|0.041241|0.040187|0.032426|0.021624|0.021139|0.024251|0.009052|0.029247|0.023804|0.052687|0.047342|0.009588|0.019158|0.021777|0.030838|0.015913|0.017806|0.018164| 0.01437|0.007849|  1.0E-6|0.083211|0.077916|0.069341|0.049612|0.067702|0.031885|0.066337|0.013697|0.022195|0.030098|0.021532|0.035498|0.025989|0.091168|0.073147|0.027453|0.017317|0.033406|0.022561|0.006079|0.007488| 0.00261|0.002452|  1.0E-6|TRKBNOF12903C9A1D0|\n",
      "|0.030123|0.029823|0.017036|0.010914|0.009533|0.033847|0.046585|0.045769|0.032532|0.028118|0.026621|0.040689| 0.01662|0.017245| 0.02768|0.043015|0.042142|0.036623| 0.01107|0.007424|0.009833|0.010124|0.005116|    0.0|0.054014| 0.03346|0.018582|0.048512|0.014387|0.023933|0.020039|0.030944|0.026681|0.016798|0.012092|0.035977|0.029857| 0.02073|0.043162|0.053962| 0.02319|0.040688|0.022738|0.012534|0.006441|0.008029|0.004057|     0.0|0.100536|0.100371|0.057038| 0.06491|0.049764|0.043316|0.021426|0.040403|0.047159|0.064143|0.017155|0.036171|0.067095|0.060093|0.136395|0.114292|0.133082|0.108624|0.060517|0.014102|0.011505|0.013042|0.003506|  1.0E-6| 0.07906|0.127774|0.033595|0.066481|0.016974|0.069341| 0.07723|0.079278|0.028619|0.067611|0.057635|0.051587|0.064501|0.020149|0.082172|0.121021|0.122744|0.110626|0.039865| 0.00763| 0.00786|0.009252|0.004033| 1.0E-6|0.074421|0.040288|0.064897|0.038824|0.068193|0.085995|0.039726|0.126576|0.056334|0.067667|0.033175|0.058642|0.052364|0.089486|0.077538|0.047391|0.068023|  0.0825|0.047634|0.011669|0.019311|0.010411|0.008548|  1.0E-6|0.147955| 0.13484|0.077267|0.056276|0.037182|0.061573|0.154194| 0.13016|0.117333|0.109616|0.065563|0.061029|0.075934|0.068877|0.157945|0.112755|0.130058| 0.11005|0.078054|0.018375|0.022285|0.023956|0.010164|  1.0E-6|0.121852|0.135124| 0.10619|0.104199|0.061619|0.118888|0.031542|0.084024|0.145322|0.043385|0.090468|0.053016| 0.09906|0.149613|0.134584|0.073201|0.116682|0.122468|0.098829|0.019123|0.040105|0.042412| 0.01556|  1.0E-6|0.125478|0.078727|0.145874|0.135725|0.104766|0.096587|0.204544|  0.2043|0.111595|0.071289|0.121687|0.037674|0.042119|0.092751|0.130945|0.113695|  0.1239|0.110379|0.108087|0.019762|0.062166|0.032587|0.020295|  1.0E-6|0.100888|0.104971|0.070293|0.095675|0.036389|0.034276|0.092111|0.147841| 0.13617|  0.0326|0.104563|0.084868|0.094536|0.137674|0.097778|0.181031| 0.12654| 0.12433|0.025791|0.051816|0.034616|0.042139| 0.01606|  1.0E-6|0.066483|0.076657|0.124398|0.046444|0.065122|0.146952|0.191116|0.271435|0.093945|0.095863|0.122136|0.071169|0.078172|0.054102|0.116276|0.132038|0.139005|0.104452|0.064084|0.043789|0.019576|0.013697|0.020696|  1.0E-6|0.037258|0.078383|0.085331|0.138031|0.100318|0.172641|0.211477|0.134143|0.149689|0.122945|0.109229|0.045266|0.199731| 0.08675|0.255331|0.217069|0.272804|0.263933|0.205049|0.168746|0.121163|0.108072|0.057652|  2.0E-6|0.071545|0.045668|0.063199|0.016487|0.164655|0.031221| 0.12533|0.156964|0.118717|0.049993|0.059011|0.144259|0.067679|0.086018| 0.05048|0.054748|0.065991|0.023368|0.036351|0.044889|0.039026|0.041039|0.013204| 2.0E-6|0.073545|0.092818|0.143199|0.220971|0.059598|0.184298|0.152419|0.150822|0.111618|0.039175|0.075511| 0.07751|0.070734|0.133433|0.076689|0.104034|0.086428|0.052039|0.031295|0.056175|0.046953|0.020632| 0.02034|  2.0E-6|0.063691|0.079552| 0.08633|0.092973|0.054472|0.084147|0.104337|0.151726|0.136626|0.036479| 0.08936|0.068953|0.120798|0.062413|0.083442|0.155518|0.114332|0.108436|0.058861|0.050504|0.039604|0.040179|0.013848|  2.0E-6|0.102477|0.110728|0.030669|0.066365|0.113102|0.147469|0.212778|0.131035|0.135112|0.107684|0.096414|0.036364|0.067132|0.070235|0.063343|0.100428|0.109597|0.040474|0.041917|0.035701|0.035369|0.023577|0.013901|  2.0E-6|0.055735|0.089622| 0.15883|0.143349|0.088252| 0.19824|0.154654|0.229306| 0.09675|0.139309|0.052566|0.078965|0.051049|0.097423|0.031821|0.112568|0.094421|0.053817|0.059154|0.064786|0.082261|0.054982| 0.02969|  2.0E-6|0.046706|0.049272| 0.04579|0.119135|0.045836| 0.03799|0.091093|0.106394|0.077959|0.110937|0.078808|0.047543|0.089726|0.120912| 0.11738|0.131224|0.094057|0.066578|0.068373|0.026628|0.042637|0.050545|0.019039|  2.0E-6|0.050097|0.086005| 0.02185|0.129825|0.064361|0.126116|0.119711|0.117872|0.081433|0.113467| 0.07131|0.077412| 0.05773|0.072905|0.100885| 0.11685|0.118263|0.101177|0.048381|0.045719| 0.02724|0.031055| 0.00417|  2.0E-6|0.021784|0.055849|0.110891|0.082328|0.042467|0.125044|0.081802|0.098849|0.085659|0.063902|0.057216|0.109558|0.049012|0.054259|0.076328|  0.1063|0.081433|0.041472|0.033547|0.020198|0.039795|0.035802|0.017961| 2.0E-6| 0.03431|0.061678|0.049411|0.044879|0.047948|0.111818|0.103201|0.157175|0.078535|0.046988|0.072433|0.054372|0.051114| 0.05188|0.057704| 0.08161|0.070343|0.063934|0.018024|0.032675|0.026572|0.015413|0.010661|  2.0E-6|0.053995|0.071077|0.085068|0.064498|0.050079|0.093416|0.121633|0.154533|0.069387|0.076295|0.056999|0.086407|0.066957|0.094834|0.084973| 0.11993|0.078998|0.076623|0.087207|0.059946|0.082773|  0.0633|0.027737| 2.0E-6|0.068317|0.066135|0.087491|0.081307|0.102004|0.199505|0.288525|0.208388|0.155062|0.130793|0.122358|0.108089|0.150874|0.182235|0.204344|0.311232|0.255114|0.217048|0.252939|0.214085|0.161684|0.128626|0.051836|  2.0E-6|0.064718|0.080464|0.043145|0.085541|0.038386|0.119633|0.129708|0.108172|0.103078|0.027306|0.023158|0.139064|0.146416|0.164452|0.205269|0.214187|0.097166|0.048299|0.055768|0.031592|0.047011|0.067016|0.020571| 2.0E-6|0.056426|0.024721| 0.06746|0.056034|0.040676|0.150904|0.115587|0.144363|0.092264|0.029977|0.053815|0.136423|0.093403|0.113604|0.133551|0.105071|0.056765|0.039921|0.043832|0.042724|0.025683|0.044987|0.015723|  2.0E-6|0.065785|0.091781|0.075259|0.136027|0.042111|0.066079|0.131546|0.135686|0.138833|0.047831|0.042672|0.093159|0.119899|0.065064|0.100173|0.077775|0.129314|0.047871|0.032981|0.040313|0.029095| 0.05699|0.012571|  2.0E-6|0.056799|0.077908|0.074378|0.029249|0.050349|0.077835|0.200267|0.061364|0.068813|0.040641|0.048463| 0.07658|0.062339|0.090043| 0.09265|0.058767|0.070035|0.055443|0.063621|0.030377|0.019155|0.038962|0.018208|  2.0E-6|0.086099|0.069983|0.080782|0.132321|0.056599|0.120031|0.140123|0.033723|0.068846|0.045157|0.056247|0.067137|0.034948|0.058117|0.061665|0.122749|0.071103|0.054851|0.040226|0.053238|0.037146|0.043467| 0.00898|  2.0E-6| 0.08283|0.089913|0.080029|0.033292| 0.08153|0.093164|0.141495|0.067893|0.039217|0.043693|0.044403|0.070819|0.049574|0.060684|0.067182| 0.04917|0.064869|0.046466|0.015815|0.039506|0.013187|0.022966|0.018915|  2.0E-6|0.096593|0.112864|0.031012|0.096283|0.048987|0.124477|0.129872|0.054849|0.059498|0.027049| 0.00911|0.029491|0.051164| 0.06768|0.083137|0.059243|0.078537|0.064904|0.050649| 0.03727|0.037497| 0.02107|0.016397|  2.0E-6|0.067066|0.113651|0.089498|0.041239|0.039859|0.048498|0.119674|0.086379|0.041389|0.034288|0.058028|0.074297| 0.11704|0.098443|0.074054|0.056147|0.099123|0.074611|0.043778|0.040146|0.051368| 0.04803|0.023786|  2.0E-6|0.085528|0.079667|0.061455|0.111297| 0.07078|0.072339| 0.03361|0.087872|0.053022|0.033205|0.037749|0.067051|0.054576|0.061519|0.086289|0.052445|0.055338|0.034022|0.034561|0.027485|0.026491|0.027114|0.016939|  2.0E-6|0.095521|0.073682|0.024095|0.094124|0.055623|0.039603|  0.0942|  0.0589|0.084971|0.038443|0.016749|0.046148| 0.05092|0.067305|0.071163|0.074252|0.094232|0.068216|0.084442|0.073213|0.061973|0.063001|0.033331|  2.0E-6|0.044274|0.051685|0.054416|0.085691|0.052421|0.120991|0.058328|0.098031|0.113042|0.079797|0.065586|0.061361|0.145984|0.119423|0.085253|0.142158|0.132666|0.113734|0.195619|0.181205|0.151025|0.141379|0.091806|  2.0E-6|0.066674|  0.0711|0.058103|0.051317|0.056723|0.071523|0.079979| 0.03426|0.037655|0.056587|0.027218|0.069493|0.046995|0.051731|0.024668|0.057509|0.031979|0.077243|0.079027|0.081215|0.054407|0.052738|0.033515|  2.0E-6|0.054544|0.047638|0.066686|0.055611|0.020136| 0.07259|0.102428| 0.08229|0.097299|0.038127|0.037639|0.016429|0.067008|0.060786|0.059724|0.108549|0.064612|0.051137|0.062147|0.067164|0.050336|0.031877|0.017114|  2.0E-6| 0.06756|0.034274|0.040781|0.053227|0.074257|0.035774|0.069111|0.058683|0.048762|0.039365|0.020928|0.027035|0.064001|0.033847|0.035895|0.068073|0.082227|0.056526|0.045757|0.057472|0.033642| 0.03481|0.016239|  2.0E-6|0.062158| 0.07406|0.044418| 0.06716|0.028206|0.081219|0.079829|0.098665|0.061472|0.017148|0.022242|0.032235|0.037805|0.025344|0.040594|0.054286| 0.05154|0.042766|0.057042|0.013424|0.024293|0.015747|0.006968|  2.0E-6|0.049358|0.042767|0.031357|0.093164|0.043984|0.055173|0.088511|0.104444|0.040017|0.019656|0.036699|0.033742|0.041135|  0.0306|0.061065|0.037104|0.074351|0.031009|0.043354|0.037183|0.018679|0.025355|0.018392|  2.0E-6|0.039518|0.040877|0.027788|0.076848| 0.04819|0.084545|0.077116|0.033839|0.047275|0.051144|0.023567|0.033201|0.030874|0.027038|0.032435|0.027108|0.040707|0.023163|0.019336|0.028006|0.014973|0.019576|0.010798|  2.0E-6|0.046863|0.024671|0.048201|0.036705|  0.0691|0.048189|0.127244|0.031049|0.021103|0.073793|0.021627|0.026602|0.037802|0.048905|0.038213|0.052643|0.072737|0.055576|0.021992|0.042299|0.029057|0.023429|0.009125|  2.0E-6|0.038038|0.035639|0.039392|0.063052|0.067357|0.074746|0.048617|0.078707|0.029768|0.012044|0.008988|0.020915|0.052385|0.046839|0.027004|0.032094|0.031739|0.042199|0.026337|0.016773|0.041468|0.043744|0.016924|  2.0E-6|0.045519|0.031337|0.044505|0.050679|0.036859|0.040449|0.048206|0.032794|0.023125|0.015936|0.018903|0.040231|0.044914|0.038193|0.088137|0.089326|0.072712|0.051661|0.075725|0.044251| 0.03953|0.045293|0.026157|  2.0E-6|0.032413|0.038041| 0.02937|0.046727|0.068688|0.018293|0.071982|0.048759|0.040132|0.029754|0.018432|0.035221|0.069635|0.008776|0.051024|0.049673|0.068631|0.074638|0.076986|0.082334|0.065285|0.069236|0.042465|  2.0E-6|0.018835| 0.04615|0.035452|0.053287|0.024311|0.055471|0.061382|0.041265| 0.03699| 0.01861| 0.01723|0.061924|0.042651|0.059766|0.058169|0.094797|0.066268|0.066439|0.108594|0.149095|0.087435|0.098571|0.062964|  2.0E-6|0.037865|0.033764|0.024282|0.068837|0.045333|0.047914|0.053029|0.079652|0.068784|0.030321| 0.02289| 0.06038|0.046605|0.042564|0.036773|0.076859|0.061559|0.047143|0.047749|0.062511|0.034148|0.040617|0.034256|  2.0E-6|0.006279|0.052261|0.032587|0.040148|0.037797| 0.07226|0.031567|0.058294|0.032929|0.037793|0.010502|0.028243|0.045287|0.049237|0.030816| 0.02569|0.022753|0.020761|0.026408|0.041707|0.033237|0.017316|0.017917|  2.0E-6|0.015377|0.034126| 0.04555|0.061626|0.063582|0.025507|0.051597|0.017649| 0.00387|0.029297|0.033502|0.018396|0.029862|0.057976|0.025408|0.021209|0.026915|0.030452|0.027184|0.024658|0.018378|0.008916| 0.00827|  2.0E-6|0.017113|0.023842|0.032391|0.050205|0.070248|0.020231|0.053948| 0.03888|0.029834|  0.0213| 0.00714|0.025616|0.006296|0.035517|0.016971|0.023124|0.028259| 0.04799|0.029037|0.018154|0.011916|0.016784|0.010147|  2.0E-6|0.014381| 0.03385|0.035786| 0.07514|0.052912|0.024829|0.060432|0.043609|0.030161|0.029553|0.008547|0.022039|0.013152|0.031444|0.027481|0.055769| 0.03756|0.033027|0.030061|0.024697|0.018006|0.028057| 0.00691|  2.0E-6|0.017668|0.029456|0.022585|0.054584|0.009175|0.031635|0.054279|0.032127|0.032211|0.023033| 0.01502|0.010721|0.012131|0.027318|0.023026|0.034318|0.018606|0.023079|0.028396|0.017194|0.015863|0.012337|0.009438|  2.0E-6|0.013688|0.034085|0.043347|0.059395|0.044286|0.027124|0.077066|  0.0619|0.040002|0.005823|0.037991|0.040581|0.030108|0.016177|0.018952|0.018687|0.029508|0.024966| 0.04472|0.024753|0.028254|0.024775|0.009974|  2.0E-6|0.007006|0.007525|0.042774|0.048644|0.041821|0.037268|0.070572|0.052343|0.014928|0.023452|0.021631|0.028487|0.021429|0.031768|0.016596|0.032035|0.034061|0.022443| 0.02608|0.015547|0.017777|0.009337|0.006356|  2.0E-6|0.012663|0.044607|0.026166|0.024809|0.068604|0.059172|0.043006|0.019093| 0.02305|0.018145|0.017528|0.026037|0.026507|0.028255|0.022819|0.032348|0.022092|0.020376|0.013624|0.019001|0.022933|0.017196|0.011691|  2.0E-6|0.025354|0.017118|0.058911|0.022573|0.024624|0.031676|0.055424|0.053138| 0.01924|0.020582|0.021739|0.006733|0.033833|0.013856|0.027686|0.036007|0.027088|0.040254|0.017717| 0.01691|0.021586|0.015684| 0.01086|  2.0E-6|0.027247|0.036031|0.024368|0.049174|0.047622|0.059203|0.027852|0.023698|0.018264|0.015755|0.019798|0.021588|0.019886|0.033701| 0.04174|0.042593| 0.04128|0.029978|0.016911|0.017677|0.013277|0.015085|0.008757|  2.0E-6|0.018669|0.027706|0.026781|0.026703|0.029413|0.074871| 0.03144|0.026024|0.013823|0.013837|0.017375|0.034401|0.026335|0.010151|0.021911|0.028924|0.039198|0.019223|0.026664|0.014481|0.022441|0.009889|0.005763|  1.0E-6|0.017633|0.037838|0.046204|0.055554|0.011202|0.020363|0.044803|0.045276|0.016856|0.011216|0.011572|0.023504| 0.04152|0.025979|0.025599|0.028628|0.028198|0.015654|0.016753|0.007324|0.019323|0.013547|0.006692|  1.0E-6|0.024671|0.030185|0.039875|0.055774|0.047797|0.021882|0.014118|0.039933|0.017536| 0.02949|0.021229|0.013144|0.033983|0.020294|0.026655|0.022148|0.017752|0.023166|0.013805|0.015402| 0.01046|0.009447|0.006258|  1.0E-6|0.022123|0.031461|0.020783|0.036658| 0.02648|0.035387|0.039805|0.017119|0.011018|0.005733|0.019609|0.015409|0.022052|0.023036|0.015428|0.020258|0.032069|0.017385|0.029634|0.016538|0.014709|0.012906|0.006883|  1.0E-6|0.039434|0.035389|0.029605|0.042989| 0.04014|0.050052|0.058332|0.049049|0.028466|0.013715|0.014536|0.014992|0.010435|0.017888|0.010194|0.039497|0.046678|0.021754|0.019527|0.028064|0.025103|0.014041|0.005553|  1.0E-6|TRRKOTO128F427F068|\n",
      "|0.012157|0.028668|0.031598|0.041904|0.025031|0.037941| 0.01048|0.016895|0.014114|0.011265|0.011422|0.018768|0.014386|0.005057|0.019074| 0.02054|0.015206|0.022547|0.017213|0.015493| 0.00802|0.006706|0.004242| 1.0E-5|0.019755|0.064797|0.061088|0.057588|0.034695|0.084134|0.031647|0.026784| 0.02103|0.027095|0.041401|0.036505|0.026407|0.022791|0.037774|0.031532|0.035373|0.039867|0.029146|0.021827|0.008269|0.007617|0.004346|  1.9E-5|0.014883|0.056852|  0.0833|0.065732|0.049653|0.061472|0.016324|0.038602|0.034856| 0.02266| 0.03158|0.031669|0.053846|  0.0442|0.064928|0.034705|0.024792|0.021667|0.018805|0.030019|0.015494|0.010939|0.006976|  3.3E-5|0.020005|0.085272|0.050793| 0.07541|0.042371|0.076261|0.039216|0.047841|0.040695|0.022045|0.044645| 0.04195|0.052427|0.020464|0.051877|0.045588|0.032362|0.059396|0.036867|0.025652|0.015744|0.015518|0.007728| 3.5E-5|0.014417|0.064882| 0.06361| 0.14602|0.086976|0.110055|0.022195|0.067366|0.037749|0.047865|0.054994|0.055914|0.068852|0.027242|0.024892|0.052326|0.030364|0.066958|0.021653| 0.02582|0.013786|0.009598|0.006722|  4.1E-5|0.022114|0.105134|0.106488|0.167328| 0.08336|0.155088|0.045213|0.067093|0.048359|0.038593|0.044891|0.064601|0.089911|0.075641|0.088952|0.078967|0.052977|0.058435|0.044828|0.032448|0.021966|0.014326|0.007479|  5.7E-5|0.023499|0.082305|0.090122|0.087935|0.065395|0.134127|  0.0569|0.043285|0.059187|0.040803|0.043778|0.042779|0.034748|0.027713|0.033967|0.051596|0.042603|0.055585|0.034279|0.046516|0.023032|0.019257| 0.01108|  5.1E-5|0.024434|0.081862|0.076243|0.087129|0.050541|0.122768|0.035247| 0.04336|0.046232|0.030849|0.035635|0.046908|0.074215|0.031208| 0.07391|0.037313|0.044082|0.063898|0.041719|0.040101|0.016437|0.015039|0.013186|  6.0E-5|0.011481|0.061173|0.077086|0.087809|0.119043|0.162867|0.087424|0.084712|0.061738|0.049108|0.051216|0.082016|0.111369|0.074427|0.111361|0.079709|0.076334|0.091318|0.094437|0.072392|0.039657|  0.0371|0.016209|  8.0E-5|0.037892|0.069235|0.099345|0.072215|0.084079|0.066673|0.037212|0.038532|0.034096|0.020653|0.028969|0.044261|0.046963|0.035028|0.055137|0.046761|0.051452|0.038635|0.024314|0.030371|0.022074|0.017832|0.017887|  7.0E-5|0.023518| 0.07543|0.142904|0.083964|0.066506| 0.12484|0.057156|0.084077|0.056108|0.079508| 0.05935|0.070114|0.040081|0.037456|0.065871|0.070423| 0.04936|0.076241|0.029627|0.038312|0.020695|0.016904|0.014028|  7.8E-5|0.093329|  0.1567|0.199482|0.093727|0.097842|0.084701|0.076271|0.067395|0.055756|0.049185|0.050334|0.063135|0.063183|0.091737|0.081769|0.067412|0.091793|0.068986| 0.07999|0.093916| 0.05307|0.037472|0.017706| 9.6E-5|0.066365|0.138135|0.100333| 0.09558|0.082176|0.103808|0.042716|0.072682|0.054555|0.061224|0.036846|0.077856|0.070996|0.055734|0.070999|0.070394|0.060178|0.076758|0.037677|0.044366|  0.0227|0.026321|0.020733|  7.5E-5|0.039765|0.088619|0.089181|0.096115|0.071782| 0.07307|0.059624|0.048718|0.053427|0.039498|0.066649|0.101088|0.055183|0.053096|0.064189|0.042629|0.029785| 0.03576|0.048214| 0.06906|0.033219| 0.03256|0.016647|  7.2E-5|0.017421| 0.06731|0.114079|0.044644|0.065898|0.053292| 0.04577|0.055932|0.030712|0.036519|0.034674|0.060198|0.024727|0.039642|  0.0304| 0.04349|0.040101|0.049303| 0.07859|0.082873|0.040778| 0.03468|0.022136|  8.5E-5|0.060173| 0.08606|0.068572| 0.10018|0.071009|0.068686|0.033586|0.083792|0.050798|0.032746|0.027519|0.047692|0.089017|0.041526|0.040557|0.034956|0.057106|0.051276|0.051557|0.061689|0.032878|0.035057|0.023917|  5.7E-5| 0.03134| 0.06221| 0.05542|0.069849|0.050249|0.042862|0.044322| 0.03897|0.024295|0.031404|0.030633|0.039235|0.047585|0.030932|0.029079| 0.03013|0.035653|0.046556|0.044423|0.050772|0.017485| 0.01703|0.020493|  5.8E-5|0.027768|0.101438|0.092429|0.061003|0.109195|0.048827|0.040241|0.048443|0.012095|0.042711|0.022659|0.051367|0.041082|0.027123|0.050037|0.032673|0.039002|0.043729|  0.0815|0.061633|0.035003|0.021726|0.020264|  7.4E-5|0.019299|0.055637|0.181557|0.071461|0.072266|0.055502|0.040457| 0.03278|0.043656|0.017744| 0.03653|0.048047|0.052664|0.035256|0.042135|0.034273|0.033147|0.029098|0.037914|0.045217| 0.01705|0.014936|0.007846| 4.9E-5| 0.02852|0.090623| 0.10106|0.092408|0.069135|0.060921| 0.04102|0.032311|0.031598|0.034752|0.020506|0.032198|0.031872|0.034954|0.039527|0.032624|0.029583|0.031106|0.045915|0.054262|0.023697|0.031377|0.013979|  5.7E-5| 0.03484|0.031801|0.047107|0.071741| 0.09141|0.070531|0.024002|0.026988|0.035585| 0.01422|0.016174|0.038653|0.030681|0.020931|0.052113| 0.03002|0.011729|0.024037|0.042392|0.051994|0.027959|0.026788|0.010074| 7.2E-5|0.053286|0.098716|0.112942|0.067771|0.040119| 0.05597|0.055627|0.032517|0.044375|0.035792|0.027774|0.028235|0.056291|0.052982| 0.07044|0.065418|0.050513|0.050099|0.048584|0.037948|0.028992|0.015354|0.009547|  4.4E-5|0.040822|0.060254|0.085923|0.048618|0.041396|0.043352|0.035667| 0.02331|0.019314|0.014477|0.011761|0.024202|0.014448|0.038112|0.025808|0.027313|0.018002|0.043842|0.042923|0.063847|0.027815|0.020859|0.010856| 4.5E-5|0.037037|0.062692|0.096215|0.028417|0.043182|0.047085|0.041649|0.024523|0.032019|0.035013|0.030859|0.036243|0.015642|0.024344|0.053264|0.061011|0.040839|0.069124|0.062762|0.089845| 0.03817|0.024457|0.017298|  5.8E-5|0.082543|0.204979|0.226914|0.080986|0.048492|0.043506|0.061873| 0.04436|0.032927|0.047632|0.035677|0.060825|0.064889|0.084991|0.106617|0.115517|0.077662|0.051191|0.064152|0.065471|0.042477|0.036526|0.018003|  4.3E-5|0.024892|0.049581|0.061549|0.048423|0.019628|0.043152|0.024857|0.017866|0.025112| 0.01969|0.023031|0.028326|0.028319|0.028274|0.030157|0.028882|0.013502| 0.03121|0.038334|0.037243|0.019842|0.010963|0.008436|  4.2E-5|0.027781|0.054566|0.058294|0.043944|0.031344|0.066085|0.022788| 0.01776|0.018901|0.017379|0.011688|0.034991| 0.02915|0.039589|0.048156|0.038904|0.034036|0.030864|0.030225|0.034966|0.021685|0.018765|0.012314|  4.1E-5|0.027855|0.069997|0.061251|0.046192|0.029662|0.033961|0.030092|0.020444| 0.01049|0.019228|0.021407|0.018324|0.041226|0.020472|0.036726|0.035898|0.015122|0.017353|0.027968|0.038609|0.018927|0.021304|0.013728|  3.9E-5|0.020029|0.040412|0.041561|0.055542|0.034868|0.030438|0.017822|0.018552|0.006596|0.012991|0.007366|0.034945|0.018478|0.031305|0.036117|0.016137|0.010287|0.014932|0.020089|0.027847|0.014007|0.010948|0.005499|  3.8E-5|0.009589|0.054357| 0.04987|0.060844|0.046113|0.044975|0.021252|0.028898| 0.01011|0.018011|0.015735|0.020619|0.019085|0.025286|0.018199|0.018305|0.018188|0.033023|0.029101|0.024633|0.014648|0.012211|0.005266|  3.8E-5|0.010835|0.042276|0.054239|0.065472|0.032504|0.031166|0.018689|0.020589|0.025684|0.018676|0.016738|0.027084|0.035037|0.028954|0.033114|0.040752|0.030949|0.032743|0.034236|0.028937|0.018567|0.018555|0.007389|  3.8E-5|0.021008|0.022861|0.061254|0.041687|0.041931|0.020969|0.022604|0.015682|0.020447|0.013066|0.019482|0.032382|0.013811|0.025906|0.013563|0.026883|0.022907|0.019894|0.020396|0.018698|0.015215|0.014278|  0.0067|  3.9E-5|0.021107|0.030255| 0.03599|0.036853|0.033552|0.026601|0.022873|0.009272|  0.0118|0.018121|0.009864|0.024799|0.028422|0.018656|0.030965|0.020426|0.030585|0.037515|0.039428|0.034556|0.019616|0.015762|0.007429|  3.9E-5|0.013896|0.043131|  0.0798|0.027568|0.033314|0.041899|   0.015|0.023808| 0.01519|0.026614|0.016656|0.035303|0.031069|0.032212|0.033921|0.028754|0.027292|0.046265|0.025556|0.020927|0.013947|0.011869|0.009037|  4.0E-5|0.026288|0.039708|0.055012| 0.03428|0.035452|0.027344|0.009657|0.008853|0.008535|0.014475|0.010117| 0.02693|0.028632|0.024357|0.024144|0.020369|0.011327|0.029696|0.024166|0.037008|0.016098|0.015662|0.005917|  3.9E-5|0.013785|0.032767|0.060263|0.024543|0.023248| 0.03535|0.024331|0.018317|0.014551|0.015469|0.010369|0.022877|0.028584| 0.02464|0.015416|0.024019|0.012582|0.017453|0.019448|0.031076|0.018183|0.012346|0.006358|  3.8E-5|0.036605|0.077895|0.101239|0.041756|0.032905| 0.02706|0.015436| 0.02767|0.026778|0.022158|0.015999|0.020934|0.056648|0.042355|0.038905|0.041041|0.029501|0.040407|0.039089|0.030425|0.025698|0.023637|0.010245|  5.0E-5|0.023622|0.042434|0.041634|0.031759|0.035166|0.031381|0.020412|0.015321|0.009156|0.011711| 0.01273|0.016173|0.026502|0.017446|0.028969|0.015707|0.018082|0.012758|0.018849|0.028679|0.013717|0.011398|0.004214|  3.6E-5|0.016659|0.033717|0.038478| 0.05653|0.019207|0.027511|  0.0244|0.020841|  0.0075|0.013411|0.022735|0.024104|0.028479|0.024301|0.027547|0.023733|0.011736| 0.01442|0.020378|0.019626|0.011495|0.012638|0.005441|  4.2E-5|0.018958| 0.02524|0.048227|0.043706|  0.0198|0.028646| 0.01789|0.009639|0.008637|0.013444|0.020422|0.011984|0.028447| 0.02621|0.012393|0.023678|0.008016|0.005543|0.018281|0.023239|0.010882|0.009979|0.005016|  6.2E-5|0.020745|0.049291| 0.04775|0.027548|0.026922|0.019205| 0.02297|0.018214|0.013288|0.009256|0.018614|0.022617|0.027154|0.026685|0.022158|0.025562|0.019699|0.028972|0.020062| 0.01827|0.013907|0.010711|0.003631|  4.5E-5|0.005437|0.035108|0.037815| 0.04418|0.026387|0.008947|0.018797|0.016516|0.010269|0.012161|0.010247|0.012674|0.025375|0.011012|0.016065|0.018594|  0.0147|0.015442|0.030127|0.021386|0.012691|0.009836|0.004332|  3.9E-5|0.009143|0.046791|0.020724|0.021952|0.024548|  0.0323| 0.02103|0.021658|0.011723|0.007898|0.014424|0.010373|0.036266|0.014094|0.022071|0.012762|0.016872|0.013024|0.019459| 0.01646|0.010757|0.008878|0.003797|  5.7E-5|0.008487|0.051076|0.048319|0.031714|0.016269|0.012019|0.011051|0.011992|0.006313| 0.00847|0.008817|0.015099|0.019429| 0.02166|0.018408|0.019452| 0.00865|0.018244|0.019939|0.024312| 0.01186|0.008023|0.008501|  3.9E-5|0.006702| 0.01773|  0.0172|0.027426|0.030497|0.023294|0.029789| 0.01027|0.011243|0.008599|0.012328|  0.0108|0.022999|0.013004|0.012713|0.011304|0.020901|0.009346|0.019422|0.018882| 0.01151|0.008507|0.006606|  4.0E-5|0.009538|0.029665|0.029177|0.016418|0.018651|0.009876| 0.01372|0.016246| 0.00784|0.009576|0.009945|0.009759|0.016931|0.008337|0.014171|0.013241|0.012796|0.009552|0.014285| 0.01346| 0.01217|0.011958| 0.00793|  6.0E-5|0.019425|0.042473|0.053603|0.020512| 0.02147|0.013739|0.007364| 0.01126|0.006598|0.010158|0.011741|0.016918|0.012848|0.015133|0.017014|0.014697|0.007457|0.007299|0.016605| 0.01437|0.008284|0.007592|0.003454|  4.5E-5|0.013947|0.017989|0.043317| 0.02826|0.023211|0.018553|0.013752|0.010337|0.012369|0.011199|0.013512| 0.00908|0.018312|0.016648|0.011639|0.015709|0.010669|0.011495|0.017633|0.011841|0.009486|0.008084|0.002491|  4.7E-5|0.013775|0.039232|0.044973|0.020812|0.009855|0.017401|0.023809|0.015755|0.012236|0.013781|0.015439|0.018142|0.032237|0.018153|0.025367|0.027911|0.021148|0.022743|0.023223|0.017846|0.010013|0.007282|0.003731|  3.8E-5|0.016131|0.043153|0.045438|  0.0267|0.029867|0.019012|0.012999|0.009644|0.011886| 0.00427|0.004273|0.019812|0.007872| 0.01493|0.021461|0.028222|0.013092|0.011306|0.018028|0.015607|0.010842|0.009502|0.004761|  3.3E-5|0.005505| 0.02663|0.032054|0.020303|0.023551|0.007161|0.005449| 0.01231|0.013444|0.010917|0.007305|0.016108|0.024489|0.007522|0.018984|0.018897|0.012491|0.018196|0.011958|0.013379|0.005356|  0.0061|0.002355|  3.2E-5|0.007173|0.015434| 0.04842|0.024223|0.009572|0.015579|0.009106|0.009476|0.011101|0.009408|0.014113|0.016731| 0.01651|0.010903| 0.01863|0.018505| 0.01651|0.015198|0.013044| 0.01388|0.005202|0.004533|0.003407|  2.9E-5| 0.01587|0.032326|0.036882|0.018052|0.026333|0.016742|0.009947| 0.01209|0.007474|0.012938|0.009946|0.021389|0.014878|0.013677|0.007232|0.013333|0.007205|0.014107|0.013518|0.018417|0.005806|0.004999|0.002725|  3.2E-5|0.009854|0.021179|0.030833|0.017696|0.004423|0.015274| 0.01031|0.009405|0.008278| 0.00648|0.014138|0.024813|0.030522|0.011949|0.006565|0.014177|0.012326|0.013696| 0.01174|0.007348|0.004175|0.004523|0.003354|  3.0E-5|0.007665|0.015539|0.019623|0.020389| 0.02589|0.014889|0.008715|0.008954|0.005794|0.007208|0.013438|0.012927|0.011818|0.008734|0.007963|0.013267|0.012412|0.015863|0.010355|0.010182|0.002025| 0.00306|0.001072|  3.0E-5|0.004876|0.022751|0.032241|0.015905|0.013465|0.007426|0.010433|0.008551|0.005891|0.004418|0.006693|0.014223|0.013999| 0.01391|0.008895|0.011527|0.008924|0.009365|0.009073|0.010418|0.006864| 0.00297|0.002299|  2.7E-5|0.010096|0.024773| 0.02953|0.011667|0.011665|0.009422|0.012137|0.006296|0.005647|0.005324|0.007847|0.017204|0.014025|0.007698|0.011337|0.012268|0.008299|0.008954|0.003313|  0.0085|0.002699| 0.00369|0.002267|  2.6E-5|0.009015|0.026716|0.032595|0.023565|0.008961|0.011833|0.007004|0.010345|0.007146|0.005655|0.008657|0.013491|0.003243|0.012254|0.008599|0.016582|0.005002|0.010296|0.010021|0.006132|0.004784|0.005991|0.003894|  2.4E-5| 0.00826|0.032862|0.038154|0.019011|0.014499|0.013286|0.007037|0.007758|0.007687|0.006614|0.006085| 0.01121|  0.0118|0.016244|0.016189|0.014595|0.013848|0.013941|0.011288|0.006201|0.006538| 0.00397|0.003247|  2.4E-5|0.007116|0.010464|0.016562|0.013465|0.009455|0.010122|0.007365|0.005287|0.005696|0.007929|0.005097|0.010432|0.008997|0.011766|0.014237|0.014447|0.008175|0.012875|0.006476|0.012686|0.004745|0.002044|0.001856|  2.4E-5|TRSXPJU128F429B580|\n",
      "|0.005166| 0.00921|0.020146|0.012968|0.034602|0.031521|0.028261|0.027158|0.031296|0.022515|0.015294|0.010402|0.023554|0.039405|0.038035|0.035672|0.038739|0.030299|0.013235|0.011979|0.014218| 0.01321|0.004941|    0.0|0.016134|0.028068|0.042381|0.018085|0.046203|0.019146|0.045486|0.056687|0.040668|0.032848|0.016671|0.024714|0.035564|0.020483| 0.02431|0.031119|0.038524|0.027699|0.006561|0.009958|0.020114|0.010262| 0.00796|     0.0|0.030241|0.043259|0.062707|0.039941|0.065465|0.051372|0.033252|0.038047|0.063221|0.034956|0.034211|0.036689|0.040188|0.012569|0.033435|0.025829|0.045632| 0.03313|0.022558|0.032365|0.028887|0.024879|0.012714|  1.0E-6|0.032182|0.110878|0.050745|0.068714|0.083793|0.097502|0.111283|0.102485|0.091463|0.096456|0.073471|0.095495| 0.08377|0.033456|0.075864| 0.11047|0.092324|0.069697|0.055791|0.048434|0.046783|0.049132|0.020286| 1.0E-6|0.029562|0.037202|0.052569|  0.0449| 0.08215|0.083397|  0.0633|0.037618|0.012994|0.079875|0.013145| 0.06237|0.066572|0.034127|0.031849|0.044062|0.060019| 0.03149|0.031947|0.024667| 0.03352|0.032089|0.017744|  1.0E-6|0.033574|0.027187|0.048561| 0.05873| 0.06079|0.094748|0.027394|0.031988|0.044024|0.018513|0.049002|0.057267|0.057714|0.036255|0.063733| 0.10724|0.115459|0.050464| 0.04453| 0.04384|0.039782|0.016523|0.012594|  1.0E-6|0.091897|0.077762|0.045156|0.121592|0.109544|0.091251|0.057478|0.154376|0.052911|0.061431|0.056766|0.112252| 0.13302|0.128835|0.164694|0.123326|0.112074|0.135843|0.103129| 0.10969|0.100206|0.082202|0.046393|  1.0E-6|0.116851|0.132297|0.085801|0.217687|0.167343|0.042361|0.168639|  0.0879|0.088496|0.083491|0.141391|0.131821|0.133066|0.097874|0.165225|0.184148|0.109502|0.105516|0.120838|0.097107|0.098803|0.081406|0.037338|  1.0E-6|0.032652|0.085888|0.113471|0.078171|0.119288|0.069907|0.038817|0.028862|0.039765|0.062418|0.029584|0.051116|0.084372|0.066164|0.100573|0.098305|0.086689|0.094136|0.040086|0.043992|0.058942|0.043397|0.023193|  1.0E-6|0.026207| 0.09556|0.049063|0.106622|0.100397|0.150835|0.056945|0.048377|0.057977|0.057408|0.030987|0.041833| 0.06839|0.076673|0.045021|0.019791|0.068408|0.062973|0.052552|0.043974|0.039221|0.041504|0.020766|  1.0E-6| 0.06603|0.157815|0.090916|0.099696|0.060961|0.188958|0.116939|0.133139| 0.05073|0.117772|0.049862|0.078098| 0.05713|0.036942|0.178136|0.056526|0.082489|0.113564|0.042801|0.036386|0.033367|0.038492|0.020029|  2.0E-6|0.036863|0.162382|0.078802| 0.23566|0.076254| 0.10616|0.084212|0.097395|0.086821|0.049788|0.048193|0.047509|0.028211|0.031432|0.096871|0.054366|0.054589|0.061361|0.027073|0.035449|0.025713|0.035291|0.021665| 2.0E-6|0.022801|0.102513|0.041222|0.122697|0.041947| 0.08616|0.089125|0.068517|0.060457| 0.02712|0.040047|0.048641|0.032262|0.034855|0.047489|0.050018|0.052838| 0.04353|0.044831|0.054598| 0.05708|0.059553|0.028401|  2.0E-6|0.014292|0.063935| 0.07095|0.051605|0.087305|0.139409|0.038833|0.173575|0.041218| 0.04294|0.084879|0.074147|0.048989|0.046861|0.137936|0.081034|0.077458|0.092153|0.051159|0.031529|0.047715|0.074326|0.042515|  2.0E-6|0.086479|0.101185|0.103937|0.209718|0.068644|0.071163|0.063042|0.076566| 0.07225|0.054394|0.166444|0.100516|0.226425|0.176076|0.250641|0.388199|0.219478|0.256346|0.230522| 0.24197| 0.21666|0.168825|0.073987|  2.0E-6|0.022073|0.138443|0.107574|0.137102| 0.11391|0.075283|0.074544|0.131723|0.090757|0.042621|0.082754|0.069469|0.019605|0.071483|0.130463|0.117262|0.099065|0.018618|0.076254|0.072425| 0.05541|0.056531|0.024728|  2.0E-6|0.012777|  0.0545|0.016032|0.068275|0.088007|0.082767|0.069409| 0.09073|0.079972|0.069994|0.057227|0.051762|0.055921| 0.04287|0.126148|  0.0682|0.072942|0.071364|  0.0574|0.032578|0.036062|0.052926|0.026459|  2.0E-6|0.030354|0.069725|0.078005|0.066257|0.108629|0.139171|0.068817|0.091328|0.013155|0.081247|0.045724|0.036807|0.029265| 0.02855|0.034141| 0.08984|0.059271|0.039747|0.038826|0.027254|0.026062|0.042035|0.019125|  2.0E-6|0.063656|0.065076|0.039491|0.169227|0.037797|0.126537|0.040513|0.079431|0.022334|0.076674|0.069605|0.103573|0.064416|0.064522|0.086003| 0.07855| 0.05757|0.074978|0.053417| 0.03726|0.050599|0.024708| 0.01824| 2.0E-6|0.020576|0.059145|0.121984|0.080164|0.078114|0.079733|0.055167|0.059153|0.052273|0.052354|0.024713|0.042642| 0.05676|0.038232|0.091494|0.080672|0.097224| 0.06149|0.044568|0.021898| 0.02566| 0.01276|0.022439|  2.0E-6|0.034337|0.095671|0.082236|0.027461|0.031796|0.073197|0.056853|0.064602|0.030003|0.047898|0.057103|0.030412|0.044666|0.048063|0.061658|0.027453|0.037982|0.074049|0.038509|0.045348|0.046886|0.049925|0.020637| 2.0E-6|0.087056| 0.13102|0.081927|0.029157|0.081691|0.065222|0.078448|0.060031|0.042108|0.053969|0.025288| 0.04093|0.080731|  0.0647|0.034038|0.079908| 0.06617|0.026938|0.038236|0.041665|0.043222|0.036066|0.012608|  2.0E-6|0.059885|0.073864|0.116273| 0.12652|0.110027|0.094123| 0.06433|0.034717|0.021506|0.073034|0.041476|0.049435|0.024896| 0.03493|0.047698|0.128544|0.065657|0.036688|0.056588|0.046314|0.058911|0.049861|0.027858| 2.0E-6|0.017515|0.019744|0.063455|0.110707|0.066322|0.068003|0.017431| 0.04749|0.031737|0.025338|0.046642|0.049346|0.027696|0.034973| 0.07314|0.036708|0.037458|0.045795|0.016444|0.023986|0.053552|0.034379|0.018431|  2.0E-6|0.013358|0.064061|0.113839|0.060107|0.041223|0.091824|0.031379|0.020834|0.044977|0.035679|0.071086|0.044883|0.062609| 0.04031|0.034342|0.064468|0.056069|0.055859| 0.03168| 0.02612|0.037538|0.037262|0.021856|  2.0E-6|0.031634|0.040257|0.051501|0.055359|0.039646| 0.07861|0.037064|0.044823|0.039289|0.020626|0.086643|0.028276|0.016453|0.027056| 0.05992|0.037045|  0.0569|0.033715|0.047376|0.057987| 0.04937|0.018946|0.007354|  2.0E-6|0.029559|0.098203|0.043573| 0.01914|0.051083|0.057037|0.062768|0.038211|0.031612|0.030588|0.063823| 0.03881|0.034244|0.028751|0.073228|0.039167|0.031873|0.028532|0.010247|0.015172|0.032375|0.017237|0.011922|  2.0E-6|0.028117|0.055787|0.067035|0.064225|0.101974|0.067714|0.031049| 0.01836|0.032498|0.054001|0.049067|0.046506|0.019282|0.016845|0.036566|0.047032| 0.06071| 0.04371|0.027064|0.026823|0.025419|0.037435|0.021096|  2.0E-6|0.049496|0.061873|0.094313|0.038486| 0.01707|0.032791|0.074036|0.063917|0.035225|0.030555| 0.05178|0.026483|0.071288|0.064788|0.058354|0.104512| 0.10649|0.077509|0.061965|0.054172|0.054508|0.048083|0.023426|  2.0E-6|0.048881|0.093731|0.110911|0.183886|0.032601|0.124677|0.074304|0.065313|0.088272|0.089027|0.101313|0.083281|0.081527|0.096292| 0.15833|0.244991|0.243899|0.235374|0.195432|0.217118|0.213602|0.181608|0.093909|  2.0E-6|0.037406|0.066688|0.094866|0.065084|0.032743|0.074218|0.068098|0.024871|0.023248|0.033147|0.050783| 0.05512|0.054516|0.055437| 0.06017|0.126836|0.102267|0.098861|0.072694|0.083017|0.073795|0.058584|0.030748|  2.0E-6|0.036052| 0.03713|0.045506|0.057068|0.039923|0.061511|0.061968|0.051315|0.037208|0.058718|0.047645| 0.05293|0.055451|0.057038|0.049104|0.091033|0.037316|0.085052|0.071256|0.044441| 0.05707|0.030463|0.007431|  2.0E-6|0.022584|0.097798|0.117992| 0.06255|0.020099|0.044232|0.058624|0.033061|0.021845|0.018757|0.030624| 0.02944|0.060836|0.032509|0.080621|0.110639|0.054466|0.054079|0.018654|0.034338|0.047055|0.032302|0.019845|  2.0E-6|0.021355|0.037174|0.035426|  0.0282|0.048032|0.051887|0.037417|0.022589|0.026797|0.039026|0.026239|0.031086|0.015523|0.013998|0.015064|0.060946|0.021319|0.033416|0.021086| 0.03379| 0.02429| 0.03518|0.014785|  2.0E-6|0.017569|0.035973|0.050292| 0.04272|0.073923|0.054892|0.042275|0.037085|0.032439|0.049915|0.019961| 0.04532|0.030898|0.023496|0.042141|0.064459|0.041795|0.068008|0.047212|0.035469|0.041854|0.038421|0.026058|  2.0E-6|0.029729|0.035817|0.019591|0.043099|0.036614|0.061846|0.047833|0.028046|0.029274|0.021945| 0.02761| 0.03036|0.036206| 0.01579|0.028575|0.043607|0.058437|0.039098|0.040582|0.025972|0.040336|0.022756|0.011423|  2.0E-6|0.031448|0.036916|0.049391|0.056394|0.038366|0.042248|0.057713|0.054938|0.037471|0.060207|0.023585|0.023447|0.021222|0.040295|0.030452|0.085625|0.046518|0.040732|0.054997|0.067613|0.061342|0.029549|0.022497|  2.0E-6|0.025933| 0.02943|0.024619|0.060007|0.085379|0.055457|0.029559|0.054989|0.020577|0.054052|0.019847|0.034027|0.025591|0.011544|0.050838|0.060975|0.046746|0.023784| 0.02089|0.032086|0.036536|0.027125|0.013878|  2.0E-6|0.026639|0.029792|0.029468|0.039387|0.015866|0.026805|0.031753|0.023766| 0.03655|0.025331|0.040986|0.034281|0.029462|0.026797|0.049405|0.041228|0.030783|0.035636|0.022837|0.030338|0.022326|0.023943| 0.01263|  2.0E-6|0.015722|0.036034|0.044853|0.037403|0.040824|0.035526|0.024083|0.021762|0.033339| 0.03496| 0.03298|0.012273|0.023957|0.026343|0.022413|0.021745|0.036875|0.034182|0.016382|0.023803|0.024467|0.022406|0.011108|  2.0E-6|0.011965|0.021375|0.040074|0.034859|0.033455|0.016222|0.045837|0.060301|0.060739|0.033603|0.045976| 0.03035|0.021872|0.031878|0.022187|0.069273|0.062994|0.033893|0.023058|0.020178|0.018729| 0.02347|0.016423|  2.0E-6|0.019534|0.026635|0.024523|0.037895|0.049872|0.022452|0.039966|0.046396|0.055276|0.026488|0.052566|0.018939|0.026786|0.012736|0.052053|0.006561|0.030297|0.015549|0.022638|0.029577|0.027606|0.022275|0.013434|  2.0E-6|0.018018|0.030806|0.028709|0.017235|0.049943|0.040292|0.017808| 0.02305|0.010119| 0.01881|0.012654|0.033515|0.019523|0.012222| 0.05137|0.046812|0.010671|0.018671|0.020699|0.023688|0.020444|  0.0181|0.008795|  2.0E-6|0.034438| 0.04611|0.041692|0.037708|0.041781|0.028732|0.030013|0.023614|0.020461|0.021033|0.035234|0.015636|  0.0225|0.028584|0.019681|0.060019|0.062457|0.039616|0.035358|0.034997|0.037374|0.029329|0.017825|  2.0E-6|0.024719|0.056945|0.066885|0.066366|0.032882|  0.0429| 0.02664|0.041046|0.029308| 0.04421|0.027211|0.025324|  0.0281|0.047927|0.025256|0.066434|0.051737|0.063601|0.064421|0.063517|0.077512|0.053283|0.025349|  2.0E-6|0.012985|0.049668|0.042431|0.037204|0.029577|0.045125|0.011328|0.022602|0.030601| 0.02847|0.030041|0.034234|0.017149|0.018895|0.036367|0.048656|0.021621|0.018145|0.039717|0.026664|0.028341|0.014946|0.007533|  2.0E-6|0.015628|0.065906|0.020466|0.044086|0.021022|0.042381| 0.01957|0.016375| 0.00888|0.016291|0.025772|0.029594|0.020075| 0.02542|0.046128|0.029966|0.051335|0.031606|0.022977| 0.01562|0.017316|0.022345|0.011058|  2.0E-6|0.008384|0.037882|0.035665|0.039863|0.033607|0.043406|0.026126|0.022053|0.014087|0.024811|0.034661|0.030207| 0.02781|0.014905|0.037774|0.025044|0.030952|0.024829|0.016182|0.010125|0.011429|0.012045|0.009072|  2.0E-6| 0.01553|0.040824|0.051624|0.049021|0.047594|0.025642|0.016165|0.015819|0.018482|0.029245|0.021992|0.027397|0.021559|0.016344|0.036729|0.016439|0.027027|0.017721|0.010721|0.009172|0.019746|0.011298|0.006278|  2.0E-6|0.009065| 0.01754|0.033925| 0.04187|0.025934|0.018317|0.013466|0.011064| 0.01557|0.020077|0.015766|0.015219|0.005828|0.009748|0.034688| 0.03996|0.023148|0.019708|0.012824|0.015919|0.020198|0.010738|0.004677|  2.0E-6|0.011111|0.037561|0.035644|0.043905| 0.03042|0.016993|0.029619|0.016824|0.013036|0.029963| 0.01354|0.025383|0.029624|0.029769|0.026097|0.025534|0.033425|0.039285|0.023548|0.017418|0.025227|0.019389|0.010698|  2.0E-6|0.034714|0.036347|0.027527|0.038354|0.028713|0.025359|0.022327|0.013783|0.030754|0.008237|0.016525|0.011929|0.023635|0.032474|0.011437|0.042958|0.046409|0.027218|0.023572|0.029764|0.041267|0.024631|0.014539|  2.0E-6|0.022723|0.053979|0.022039|0.035588|0.028733|0.032806|0.015408|0.011132|0.029454|0.020929|0.011618|0.020047|0.015555|0.029627|0.034447|0.037373|0.032633|0.019278|0.024798|0.018285|0.023538| 0.02477|0.012349|  2.0E-6|0.012526|0.020907|0.045875|0.027706|0.017734|0.020553|0.018191| 0.02568|0.014491|0.015254|0.019431|0.023873|0.015915|0.019217|0.031572|0.018618| 0.02675|0.008364|0.008824|0.014173|0.010019|0.008344|0.005831|  2.0E-6| 0.00887|0.033923|0.039105|0.039583|0.045807|0.018974|0.026294|0.016675|  0.0156|0.019149|0.015995|0.020931|0.026195|0.014027|0.026652|0.021724|0.027912|0.024168|0.014514|0.010833| 0.01514|0.010722|0.007572|  2.0E-6|0.004999|0.031021|0.027624|0.019515|0.018183|0.006918|0.023432|0.026186|0.022719|0.024341|0.028531|0.016549|0.022912|0.010175|0.025889|0.030269|0.019524| 0.01826|0.018738|0.014572| 0.02027|0.019179|0.005689|  1.0E-6|0.008614|0.033632|0.029746|0.014731|0.035112|0.016005|0.019253|0.018041|0.024641|0.007617|0.014154|0.020561|0.010679|0.015494|0.018669|0.019521|0.015377|0.022432|0.021453|0.023071|0.017662|0.007549|0.005286|  1.0E-6|0.015126|0.005853|0.029931| 0.01577|0.025795|0.016114|0.014965|0.014245|0.028719|0.017997|0.016194|0.017578|0.014256|0.019515|0.041475|0.025413|0.030845|0.020873|0.030729|0.020214|0.016928|0.012471|0.007279|  1.0E-6|0.023956|0.033981|0.014168|0.032281|0.025396|0.015123|0.024378|0.021554|0.020823|0.027594|0.023775|0.026827|0.022085|0.037443|0.045254|0.044886|0.033772|0.030677|0.033962|0.038253|0.039629|0.024574|0.012052|  1.0E-6|0.033217|0.053383|0.048025|0.033025|0.039485|0.026354|0.022404|0.019114|0.020458|0.025999|0.025026|0.030816|0.021737|0.032845|0.043016|0.057038| 0.06121|0.056427| 0.04061|0.039139|0.049079|0.035069|0.017533|  1.0E-6|TRFQFHW128F9334372|\n",
      "|0.011165|0.015923|0.019574|0.009199|0.020257|0.022547| 0.02416|0.022785|0.020751|0.021249|0.018463|0.012476|0.029089|0.016096|0.028726|0.019754|0.021969| 0.01878|0.010184|0.019645|0.011644|0.010563|0.003649|    0.0|0.016699| 0.01994| 0.04778|0.034184|0.023346|0.031579|0.049498|0.038656|0.044528|0.032752|0.037531|0.026879|0.047315|0.030145|0.027767|0.043149|0.045475|0.054732|0.026036|0.047805|0.026626|0.024668|0.008694|     0.0|0.029716|0.021532|0.027608|0.046704|0.045077|0.049113|0.056658|0.030663|0.052333|0.030774|0.047501|0.043758|0.079132|0.064624|0.084401|0.058968| 0.08244|0.070248|0.039214| 0.05807|0.051256| 0.03525|0.011899|  1.0E-6|0.038965|0.040108|0.034364|0.038555|0.043772|0.060025|0.092847|0.047994|0.059477|0.033101|0.048458|0.056863|0.111392|0.126238|0.132637|0.044352| 0.09469|0.050949|0.014011|0.048787|0.037153|0.031839|0.009919| 1.0E-6|0.048683| 0.03842|0.051424|0.032769|0.066706|0.079719|0.083756|0.084809|0.095099|0.067421|0.070665|  0.0228|0.040882|0.096423|0.094057|0.041428|0.071159|0.058997|0.035833|0.048298|0.044203|0.030046|0.014797|  1.0E-6|0.025736|0.042981|0.085496|0.071192|0.127039|0.095837|0.048456|0.107266|0.112313|0.134599|0.107764|0.060528| 0.12523|0.124408|0.132303|0.112068|0.134685|0.115291|0.056254|0.083412|0.064664| 0.05084|0.015308|  1.0E-6|0.078251|0.053361|0.061592| 0.05002|0.067039|0.079179|0.069421|0.082023|0.054505|0.049806|0.074675|0.053842|0.072483|0.088444|0.051773|0.069366|0.057047| 0.06379|0.066069|0.052887|0.071185|0.034926|0.015471|  1.0E-6|0.060227|0.068296|0.056479|0.047919|0.082798|0.108989|0.050435|0.072957|0.082455|0.071293|0.076896|0.064493|0.111046|0.119816|0.135947|0.075238|0.110015|0.067948|0.033779|0.045955|0.075145|0.056831|0.015729|  1.0E-6| 0.07587|0.052476|0.079134|0.045188|0.065818|0.104804|0.099164| 0.10117|0.064724| 0.07873|0.071194|0.066219|0.091003|0.097738|0.103047|0.087919|0.102292|0.140383|0.122013|0.097139|0.067886|0.040581|0.016652|  1.0E-6|0.045326|0.060432| 0.02831|0.052476|0.067171|0.080731|0.112263| 0.08012|0.056136|0.071212|0.114229|0.069196|0.111783|0.071986|0.029198|0.085103|0.061461|0.076007|0.058222|0.070493|0.079177|0.070852|0.016298|  1.0E-6| 0.07489|0.060985|0.068574|0.052879|0.075958|0.097392|0.091719|0.101622|  0.0841|0.117505|0.094992| 0.09933|0.095488|0.097099|0.103496|0.083936| 0.15607|0.103784|0.064944| 0.06877|0.071552|0.070177|0.024541|  2.0E-6|0.056722|0.096067|0.095744|0.048992|0.053352|0.104723|0.151352|0.120292|0.123474|0.108101|0.105498|0.065854|0.052055|0.086424|0.146377|0.143965| 0.14386|0.193978|0.167104|0.138021|0.127105|0.102433|0.048031| 2.0E-6|0.050857|0.056225|0.062171|0.053965|0.056307|0.057324|0.122009|0.175026|0.124798|0.059505|0.101437|0.078474|0.095898|0.054111|0.060836|0.071284|0.099702|0.074467|0.029965|0.052863| 0.04397|0.042983|0.017707|  2.0E-6|0.093268|0.091109|0.131302|0.041441| 0.11731| 0.06908|0.073769|0.056154|0.045394|0.070613|0.099317|0.065182|0.078681|0.083313|0.087453|0.090481|0.062839|0.055938|0.050278|0.048956| 0.05764|0.057932|0.021028|  2.0E-6|0.078505|0.057575|0.045009|0.046616|0.143612|0.113169|  0.1273|0.068946| 0.08833|0.098067|0.046573|0.095106|0.081623|0.128633|0.114843|0.158709|0.120642|0.077362|0.129371|0.106646|0.098865|0.081629| 0.02053|  2.0E-6|0.074174|0.037847|0.107107|0.037996|0.103188|0.073646|0.099654| 0.07053|0.071416|0.078237|0.095923| 0.09068|0.090331| 0.05002|0.136543|0.049155|0.044642|0.065311|0.040917|0.075546|0.051692|0.057696|0.022766|  2.0E-6|0.084285| 0.08661|0.113256|0.080462|0.123827|0.143145|0.172214|0.127304|0.076392|0.086199|0.047819|0.052618| 0.12257|0.061335|0.094057|0.077691|0.084311|0.048152|0.064489|0.062176|0.074425|0.061402|0.026439|  2.0E-6|0.056588|0.033852|0.052085|0.047872|0.056691|0.140143| 0.10815|0.064608|0.038059|0.072775|0.049732|0.062906|0.107984|0.091143|0.055279|0.084272|0.110116| 0.09943|0.072567|0.079971|0.093706|0.066523|0.022214|  2.0E-6|0.065789|0.056765|0.089431| 0.05293|0.114629|0.099752|0.098083|0.116134|0.082448|0.061422|0.056459| 0.07416|0.091292|0.049508|0.089913|0.073755|0.113743|0.048193|0.054195|0.053659|0.057009|0.053897|0.015634| 2.0E-6|0.052151|0.088617| 0.05262|0.045347|0.092157|0.082121|0.044669|0.079921|0.079525|0.094694|0.059227|0.060154|0.082707|0.049698|0.140207|0.086888|0.075829| 0.05814|0.040516|0.058466| 0.07586|0.035932|0.015246|  2.0E-6|0.037444| 0.10554|0.117981|0.059208|0.078688| 0.04146|0.115099| 0.09746| 0.06576| 0.05193|0.025345|0.048443|0.086918|0.085225|0.090458|0.089635|0.064134|0.040208|0.054166|0.050828|0.040242|0.032546|0.010096| 2.0E-6|0.036954| 0.04771|0.083162|0.054097|0.100238|0.077076|0.062584|0.034416|0.055838|0.068848|0.061814|0.045622| 0.04704|0.068469|0.059291|0.060022|0.044697|0.054393|  0.0508|0.053314|0.049771|0.040604|0.019649|  2.0E-6| 0.04008|0.043728|0.096886|0.035856|0.064101|0.098953|0.089829|0.080762|0.043122|0.074571|0.063248|0.087098|0.057113|0.046372|0.095359|0.079239|0.046278|0.085938|0.036269|0.053345|0.058457|0.043019|0.015667| 2.0E-6|0.072229| 0.15068|0.072884|0.055823|0.138751|0.134123|0.107928|0.066337|0.105273|0.058572|0.116897|0.078967|0.122094| 0.16768|0.141328|0.204956|0.158414|0.142418|0.135818|0.117627|0.128711|0.116301| 0.04815|  2.0E-6| 0.04798|0.100209|0.056435|0.056856|0.029693|0.112019|0.089551| 0.06369|0.082914|0.051092|0.066765|0.055255|0.057711|0.052639|0.089293|0.097579|0.074407|0.074334|0.073186|0.040602|0.033156|0.041419|0.011872|  2.0E-6|0.054169| 0.06066| 0.06122|0.024986|0.060961|0.051435|0.122123|0.085958|0.107065|0.064461| 0.04712|0.065739|0.060593|0.087298|0.047031|0.070399|0.055989|0.080898|0.051778| 0.08965|0.066517|0.047313|0.021023|  2.0E-6|0.069623| 0.11483|0.092278|0.032962|0.079377|0.060652|0.112664| 0.04597|0.057671|0.038147|0.045153|0.048309|0.072247|0.028934|0.048048|0.078265|0.077244|0.086501|0.033333|0.061044| 0.03797|0.033093|0.007045|  2.0E-6|0.062212|0.039931|0.052858|0.044157|  0.0544|0.063146|0.065637|0.088449|0.036828|0.030176|0.047773|0.035159|0.050166|  0.0637|0.081037|0.025523|0.036211|0.066936|0.038729|0.050382|  0.0304|0.015554|0.007243|  2.0E-6|0.038354|0.057584|  0.0477|0.036015|  0.0471|0.058365|0.056939|0.051098|0.075046|0.067422|0.048574|0.047392|0.035024|0.070033|0.021653|0.056619|0.046636|0.037014|0.028169|0.031322|0.028438|0.022652|0.008077|  2.0E-6|0.038333|0.071161|0.068708|0.046896|0.045318|0.086349|0.072183|0.053883|0.048655|0.083981|0.052053|0.068533|0.072906|0.064809|0.101658|0.099945|0.064233|0.072474|0.032454|0.040028|0.039499|0.023075|0.006701|  2.0E-6|0.035961|0.034631|0.070021|0.056036|0.028215|0.087987|0.089423|0.090777|0.055019|0.061933|0.035907|0.021585|0.044532|0.056406|0.057367|0.045251| 0.03647|0.044715|0.032812|0.028321|0.024866|0.016469|0.004167|  2.0E-6| 0.03447|0.054993|  0.0353|0.050831|0.056351|0.078998|0.082494|0.047915|0.070088|0.067542|0.056376|0.044857|0.087063|0.060935|0.086532|0.090806|0.034158| 0.02741|0.018964|0.027114|0.016107|0.016718|0.007981|  2.0E-6|0.045617|0.022741|0.064536|0.056323|0.073379|0.049171|0.077604|0.058174|0.036107| 0.04118|0.051821|0.040656| 0.02939|0.037251|0.053818| 0.05508|0.044492|0.043207|0.038157|0.042657| 0.03179|0.025176|0.017249|  2.0E-6|0.042124|0.066062|0.053982|0.146594|0.076194|0.058506|0.112316| 0.09315|0.046153|0.028914|0.037205|  0.0322| 0.05084|0.028263| 0.05531|0.045706|0.020368|0.029185|0.026767|0.015197|0.011125|0.016025| 0.00893|  2.0E-6|0.026476|0.028611|0.043671|0.056059| 0.06405|  0.0724|0.059962|0.043654|0.051496|0.046178|   0.043|0.037163|0.031374|0.038895|0.082167|  0.0407|0.029815|0.038218|0.010913| 0.02593|0.022466|0.011258|0.007169|  2.0E-6|0.029865|0.079774|0.050322|0.060989|0.074926|0.069269|0.070904|0.056928|0.048858|0.040621|0.086254|0.038561| 0.04871|0.017058|0.045894| 0.03915|0.049254|0.026418|0.042093| 0.04148|0.036729|  0.0408|0.013362|  2.0E-6|0.022187|0.032279|0.039068|0.035549|0.054219|0.066426|0.090691|0.041512|0.051541|0.044318|0.035402|0.022979|0.037971|0.066475|0.030498|0.051095|0.034218|0.050169|0.014822|0.031167|0.018972|0.017458|0.008715|  2.0E-6|0.032063|0.038196|0.049837| 0.04237|0.042557|0.022403|0.059557|0.038298|0.020865| 0.03763|0.038468|0.018966|0.043047| 0.05554|0.068759|0.055206| 0.03815|0.034135|0.016869|  0.0258|0.024812|0.021618|0.005448|  2.0E-6|0.030642|0.059314| 0.06614|0.059253|0.023836|0.027202|0.044982| 0.06404| 0.03782|0.019223|0.033199|0.024874|0.026783|0.041559|0.029269|0.025173| 0.02519| 0.02509| 0.02518|0.020667|0.016787|0.011215|0.005738|  2.0E-6|0.046321|0.020585|0.030205|0.036828|0.041801| 0.04993|0.047346| 0.05815|0.030888|0.026201|0.038286|0.041247|0.041899| 0.05077|0.045527|0.047743|0.026404|0.023056|0.024859|0.020862|0.011943|0.010673|0.004057|  2.0E-6|0.034005|0.049511|0.047191|0.033947|0.036753|0.026269|0.051515|0.031899|0.053755|0.023523|0.056232|0.029617|0.029082|0.060213|0.049073|0.026577|0.025403|0.029015| 0.01133|0.019311|0.011748|0.014912|0.005846|  2.0E-6|0.029633|0.056085|0.033066|0.028901|0.058799|0.077465|0.037417|0.047809|0.009112|0.027632|0.042208|0.032455|0.031315|0.053684| 0.04507|0.044328|0.052505|0.050243|0.026366|0.027163|0.021469|0.014316|0.005648|  2.0E-6|0.037955|0.040665|0.043342|0.016074|0.035082|0.041487|0.042616|0.036336|0.026364|0.029647|0.019499|0.016612|0.034034|0.056064|0.027564|0.038589|0.033092|0.039585| 0.02049|0.018514|0.015983| 0.01503|0.004739|  2.0E-6|0.019839|0.020682|0.035262|0.045767|0.027221|0.033656|0.028858|0.027599|0.043334|0.028789|0.042774|0.022537|0.034819|0.036948|0.050731|0.073766|0.014493|0.020153|0.014624|0.029124|0.014997|0.011616|0.006894|  2.0E-6|0.032379|0.016668|0.055047|0.032763|0.047061|0.026859|0.047754|0.042872|0.063555|0.042718|0.027768|0.029292|0.030525|0.053768|0.037631|0.026495|0.024399|0.027539|0.017149|0.016762|0.016778|  0.0115|0.007849|  2.0E-6|0.036134|0.026935|0.044255|0.037478|0.024618|0.040177|0.052953|0.015922| 0.03207|0.022947| 0.04258|0.019237|0.027802|0.041779|0.027793|0.030782|0.019878|0.030373|0.013648| 0.02085|0.018651|0.014142|0.004312|  2.0E-6|0.013527|0.040774|0.047617|0.022051|0.013236| 0.03067|0.030979|0.032392|0.015244|0.017473|0.029644|0.035424|0.031898|  0.0168|0.026747|0.018295|0.019439|0.019124|0.012107|0.012536|0.012653|0.007065|0.003601|  2.0E-6|0.059568|0.080188|0.041275|0.029981|0.021524|0.024977|0.031222|0.026418|0.029829|0.026094|0.012653|0.012103|0.052809|0.042041|0.047944| 0.03938|0.029732|0.047964|0.042434|0.025991|0.025391|  0.0238|0.006335|  2.0E-6|0.035153|0.056931|0.052452|0.015352|0.018699|0.027383|0.043948|0.026895|0.036823| 0.02951|0.025964|0.035817|0.032785|0.049889|0.022484|0.051046|0.044651| 0.04129|0.025189|0.019352|0.022062|0.018225|0.008748|  2.0E-6|0.014451|0.015526|0.038332|0.018147|0.024224|0.022561|0.032153|0.026284|0.031022|0.031728|0.014777|0.026497|0.028574|0.036606| 0.04176|0.037612|0.023009| 0.02928|0.022725| 0.02218|0.022298|0.014283|0.006358|  2.0E-6|0.050837|0.034625|0.040703|0.027727|0.033504|0.029683|0.025887|0.039662|0.015738| 0.01195|0.026514|0.020904|0.016131|0.034057| 0.02415|0.027695|0.031799|0.016022|0.014135|0.010205|0.013374| 0.00719|0.005719|  2.0E-6|0.019718|0.025379|0.037505|0.021886|0.029417|0.036234|0.033648|0.048937|0.031998|0.019504|0.013492|0.028665| 0.05826| 0.04088| 0.04064|0.021671|0.023068|0.022489|0.013367|0.016722|0.010712|0.013648|0.004114|  2.0E-6|0.021175| 0.01685|0.027997|0.024971|0.019552|0.020851| 0.03188|0.033474|0.024618|0.015939|0.021431|0.024031| 0.03336|0.033708|0.029706|0.018152|0.036241|0.021569|0.013227| 0.01079|0.008318|0.007622|0.005224|  2.0E-6|0.040272|0.061623|0.052087|0.016735|0.018831| 0.01637|0.028543|0.016428| 0.02244| 0.01882|0.018283|0.034807|0.024329|0.020373| 0.03531|0.040138|0.046005|0.038698|0.019144|0.013698|0.008315|0.007367|0.002451|  2.0E-6|0.012738|0.019316|0.051192|0.017236| 0.02052|0.029044|0.034643|0.028124|0.018332|0.024735|0.025988|0.030633|0.020968|0.030252| 0.02818|0.035417|0.028424|0.013212|0.012792|0.010095|0.008187|0.009004|  0.0055|  2.0E-6|0.016345|0.028741|0.036208|0.020313|0.027129|0.018367|0.037256|0.020241|0.008013| 0.01136|0.028062|0.017512| 0.03368|0.031326|0.043013|0.023956|0.016848|0.021141| 0.01126| 0.00778|0.011483|0.009362|0.004452|  1.0E-6|0.023386|0.024752|0.021107|0.018753|0.031169|0.029244|0.035504|0.028006| 0.01206|0.021373|0.024577|0.026978|0.030655|0.027203|0.020882|0.016788|0.026355| 0.01442| 0.01223|0.021802|0.013277|0.011596|0.005359|  1.0E-6|0.020129|0.027263|0.022474|0.027086|0.034331|0.029979|0.016068|0.020726|0.016895|0.014935|0.008977|0.018926|0.012403| 0.03757|0.029275| 0.03757|0.029045|0.022846|0.010785|0.010664|0.011284|0.010437|0.004356|  1.0E-6|0.011468|0.033669|0.014912| 0.02244|0.022477| 0.03026|0.034216|0.039094|0.017719|0.018667|0.021885| 0.01921|0.023859| 0.02966|0.023959|0.034171|0.021792|0.013797|0.015271|0.007916|0.011333|0.003899|0.003987|  1.0E-6|0.021292| 0.03446|0.041162|0.025605|0.026695|0.023332|0.029709|0.021872|0.023021|0.020282|0.020003|0.022394|0.010211|0.014225|0.026056|0.040683|0.033287|0.021351|0.022602|0.012404|0.012053|0.007244|0.002445|  1.0E-6|TRQPSBI128F14AFB5A|\n",
      "+--------+--------+--------+--------+--------+--------+--------+--------+--------+--------+--------+--------+--------+--------+--------+--------+--------+--------+--------+--------+--------+--------+--------+-------+--------+--------+--------+--------+--------+--------+--------+--------+--------+--------+--------+--------+--------+--------+--------+--------+--------+--------+--------+--------+--------+--------+--------+--------+--------+--------+--------+--------+--------+--------+--------+--------+--------+--------+--------+--------+--------+--------+--------+--------+--------+--------+--------+--------+--------+--------+--------+--------+--------+--------+--------+--------+--------+--------+--------+--------+--------+--------+--------+--------+--------+--------+--------+--------+--------+--------+--------+--------+--------+--------+--------+-------+--------+--------+--------+--------+--------+--------+--------+--------+--------+--------+--------+--------+--------+--------+--------+--------+--------+--------+--------+--------+--------+--------+--------+--------+--------+--------+--------+--------+--------+--------+--------+--------+--------+--------+--------+--------+--------+--------+--------+--------+--------+--------+--------+--------+--------+--------+--------+--------+--------+--------+--------+--------+--------+--------+--------+--------+--------+--------+--------+--------+--------+--------+--------+--------+--------+--------+--------+--------+--------+--------+--------+--------+--------+--------+--------+--------+--------+--------+--------+--------+--------+--------+--------+--------+--------+--------+--------+--------+--------+--------+--------+--------+--------+--------+--------+--------+--------+--------+--------+--------+--------+--------+--------+--------+--------+--------+--------+--------+--------+--------+--------+--------+--------+--------+--------+--------+--------+--------+--------+--------+--------+--------+--------+--------+--------+--------+--------+--------+--------+--------+--------+--------+--------+--------+--------+--------+--------+--------+--------+--------+--------+--------+--------+--------+--------+--------+--------+--------+--------+--------+--------+--------+--------+--------+--------+--------+--------+--------+--------+--------+--------+--------+--------+--------+--------+--------+--------+--------+--------+--------+--------+--------+--------+--------+--------+--------+--------+--------+--------+--------+--------+--------+--------+--------+--------+--------+--------+--------+--------+--------+--------+-------+--------+--------+--------+--------+--------+--------+--------+--------+--------+--------+--------+--------+--------+--------+--------+--------+--------+--------+--------+--------+--------+--------+--------+--------+--------+--------+--------+--------+--------+--------+--------+--------+--------+--------+--------+--------+--------+--------+--------+--------+--------+--------+--------+--------+--------+--------+--------+--------+--------+--------+--------+--------+--------+--------+--------+--------+--------+--------+--------+--------+--------+--------+--------+--------+--------+--------+--------+--------+--------+--------+--------+--------+--------+--------+--------+--------+--------+--------+--------+--------+--------+--------+--------+--------+--------+--------+--------+--------+--------+--------+--------+--------+--------+--------+--------+--------+--------+--------+--------+--------+--------+--------+--------+--------+--------+--------+--------+--------+--------+--------+--------+--------+--------+--------+--------+--------+--------+--------+--------+--------+--------+--------+--------+--------+--------+--------+--------+--------+--------+--------+--------+--------+--------+--------+--------+--------+--------+--------+--------+--------+--------+--------+--------+--------+--------+--------+--------+--------+--------+--------+--------+--------+--------+--------+--------+--------+--------+--------+--------+--------+--------+--------+--------+--------+--------+--------+--------+-------+--------+--------+--------+--------+--------+--------+--------+--------+--------+--------+--------+--------+--------+--------+--------+--------+--------+--------+--------+--------+--------+--------+--------+--------+--------+--------+--------+--------+--------+--------+--------+--------+--------+--------+--------+--------+--------+--------+--------+--------+--------+--------+--------+--------+--------+--------+--------+-------+--------+--------+--------+--------+--------+--------+--------+--------+--------+--------+--------+--------+--------+--------+--------+--------+--------+--------+--------+--------+--------+--------+--------+--------+--------+--------+--------+--------+--------+--------+--------+--------+--------+--------+--------+--------+--------+--------+--------+--------+--------+--------+--------+--------+--------+--------+--------+-------+--------+--------+--------+--------+--------+--------+--------+--------+--------+--------+--------+--------+--------+--------+--------+--------+--------+--------+--------+--------+--------+--------+--------+--------+--------+--------+--------+--------+--------+--------+--------+--------+--------+--------+--------+--------+--------+--------+--------+--------+--------+--------+--------+--------+--------+--------+--------+--------+--------+--------+--------+--------+--------+--------+--------+--------+--------+--------+--------+--------+--------+--------+--------+--------+--------+--------+--------+--------+--------+--------+--------+--------+--------+--------+--------+--------+--------+--------+--------+--------+--------+--------+--------+--------+--------+--------+--------+--------+--------+--------+--------+--------+--------+--------+--------+--------+--------+--------+--------+--------+--------+--------+--------+--------+--------+--------+--------+--------+--------+--------+--------+--------+--------+--------+--------+--------+--------+--------+--------+--------+--------+--------+--------+--------+--------+--------+--------+--------+--------+--------+--------+--------+--------+--------+--------+--------+--------+--------+--------+--------+--------+--------+--------+--------+--------+--------+--------+--------+--------+--------+--------+--------+--------+--------+--------+--------+--------+--------+--------+--------+--------+--------+--------+--------+--------+--------+--------+--------+--------+--------+--------+--------+--------+--------+--------+--------+--------+--------+--------+--------+--------+--------+--------+--------+--------+--------+--------+--------+--------+--------+--------+--------+--------+--------+--------+--------+--------+--------+--------+--------+--------+--------+--------+--------+--------+--------+--------+--------+--------+--------+--------+--------+--------+--------+--------+--------+--------+--------+--------+--------+--------+--------+--------+--------+--------+--------+--------+--------+--------+--------+--------+--------+--------+--------+--------+--------+--------+--------+--------+--------+--------+--------+--------+--------+--------+--------+--------+--------+--------+--------+--------+--------+--------+--------+--------+--------+--------+--------+--------+--------+--------+--------+--------+--------+--------+--------+--------+--------+--------+--------+--------+--------+--------+--------+--------+--------+--------+--------+--------+--------+--------+--------+--------+--------+--------+--------+--------+--------+--------+--------+--------+--------+--------+--------+--------+--------+--------+--------+--------+--------+--------+--------+--------+--------+--------+--------+--------+--------+--------+--------+--------+--------+--------+--------+--------+--------+--------+--------+--------+--------+--------+--------+--------+--------+--------+--------+--------+--------+--------+--------+--------+--------+--------+--------+--------+--------+--------+--------+--------+--------+--------+--------+--------+--------+--------+--------+--------+--------+--------+--------+--------+--------+--------+--------+--------+--------+--------+--------+--------+--------+--------+--------+--------+--------+--------+--------+--------+--------+--------+--------+--------+--------+--------+--------+--------+--------+--------+--------+--------+--------+--------+--------+--------+--------+--------+--------+--------+--------+--------+--------+--------+--------+--------+--------+--------+--------+--------+--------+--------+--------+--------+--------+--------+--------+--------+--------+--------+--------+--------+--------+--------+--------+--------+--------+--------+--------+--------+--------+--------+--------+--------+--------+--------+--------+--------+--------+--------+--------+--------+--------+--------+--------+--------+--------+--------+--------+--------+--------+--------+--------+--------+--------+--------+--------+--------+--------+--------+--------+--------+--------+--------+--------+--------+--------+--------+--------+--------+--------+--------+--------+--------+--------+--------+--------+--------+--------+--------+--------+--------+--------+--------+--------+--------+--------+--------+--------+--------+--------+--------+--------+--------+--------+--------+--------+--------+--------+--------+--------+--------+--------+--------+--------+--------+--------+--------+--------+--------+--------+--------+--------+--------+--------+--------+--------+--------+--------+--------+--------+--------+--------+--------+--------+--------+--------+--------+--------+--------+--------+--------+--------+--------+--------+--------+--------+--------+--------+--------+--------+--------+--------+--------+--------+--------+--------+--------+--------+--------+--------+--------+--------+--------+--------+--------+--------+--------+--------+--------+--------+--------+--------+--------+--------+--------+--------+--------+--------+--------+--------+--------+--------+--------+--------+--------+--------+--------+--------+--------+--------+--------+--------+--------+--------+--------+--------+--------+--------+--------+--------+--------+--------+--------+--------+--------+--------+--------+--------+--------+--------+--------+--------+--------+--------+--------+--------+--------+--------+--------+--------+--------+--------+--------+--------+--------+--------+--------+--------+--------+--------+--------+--------+--------+--------+--------+--------+--------+--------+--------+--------+--------+--------+--------+--------+--------+--------+--------+--------+--------+--------+--------+--------+--------+--------+--------+--------+--------+--------+--------+--------+--------+--------+--------+--------+--------+--------+--------+--------+--------+--------+--------+--------+--------+--------+--------+--------+--------+--------+--------+--------+--------+--------+--------+--------+--------+--------+--------+--------+--------+--------+--------+--------+--------+--------+--------+--------+--------+--------+--------+--------+--------+--------+--------+--------+--------+--------+--------+--------+--------+--------+--------+--------+--------+--------+--------+--------+--------+--------+--------+--------+--------+--------+--------+--------+--------+--------+--------+--------+--------+--------+--------+--------+--------+--------+--------+--------+--------+--------+--------+--------+--------+--------+--------+--------+--------+--------+--------+--------+--------+--------+--------+--------+--------+--------+--------+--------+--------+--------+--------+--------+--------+--------+--------+--------+--------+--------+--------+--------+--------+--------+--------+--------+--------+--------+--------+--------+--------+--------+--------+--------+--------+--------+--------+--------+--------+--------+--------+--------+--------+--------+--------+--------+--------+--------+--------+--------+--------+--------+--------+--------+--------+--------+--------+--------+--------+--------+--------+--------+--------+--------+--------+--------+--------+--------+--------+--------+--------+--------+--------+--------+--------+--------+--------+--------+--------+--------+--------+--------+--------+--------+--------+--------+--------+--------+--------+--------+--------+--------+--------+--------+--------+--------+--------+--------+--------+--------+--------+--------+--------+--------+--------+--------+--------+--------+--------+--------+--------+--------+--------+--------+--------+--------+--------+--------+--------+--------+--------+--------+--------+--------+--------+--------+--------+--------+--------+--------+--------+--------+--------+--------+--------+--------+--------+--------+--------+--------+--------+--------+--------+--------+--------+--------+--------+--------+--------+--------+--------+--------+--------+--------+--------+--------+--------+--------+--------+--------+--------+--------+--------+--------+------------------+\n",
      "only showing top 10 rows\n",
      "\n"
     ]
    },
    {
     "name": "stdout",
     "output_type": "stream",
     "text": [
      "Number of rows in Audio_Features: 12927867\n"
     ]
    }
   ],
   "source": [
    "Audio_Features = (\n",
    "    spark.read.format(\"com.databricks.spark.csv\")\n",
    "    .option(\"header\", \"false\")\n",
    "    .option(\"inferSchema\", \"true\")\n",
    "    .load(\"hdfs:///data/msd/audio/features/*.csv\")\n",
    ")\n",
    "Audio_Features.show(10)\n",
    "\n",
    "# Count the number of rows\n",
    "count = Audio_Features.count()\n",
    "\n",
    "print(f\"Number of rows in Audio_Features: {count}\")"
   ]
  },
  {
   "cell_type": "code",
   "execution_count": 22,
   "metadata": {},
   "outputs": [
    {
     "name": "stdout",
     "output_type": "stream",
     "text": [
      "Unique songs in 'Audio Features' is 994176.\n"
     ]
    }
   ],
   "source": [
    "# Calculate the number of unique songs\n",
    "num_track_unique_audio_features = Audio_Features.select(F.col('_c1440')).distinct().count()\n",
    "\n",
    "# Print the conclusion\n",
    "print(f\"Unique songs in 'Audio Features' is {num_track_unique_audio_features }.\")"
   ]
  },
  {
   "cell_type": "markdown",
   "metadata": {},
   "source": [
    "# Statistics Count"
   ]
  },
  {
   "cell_type": "code",
   "execution_count": 23,
   "metadata": {},
   "outputs": [
    {
     "name": "stdout",
     "output_type": "stream",
     "text": [
      "+------------------+--------------------+--------------------+---------+----------+--------------+-------------+-----------+-----------+--------------+--------+\n",
      "|          track_id|               title|         artist_name| duration|7digita_Id|sample_bitrate|sample_length|sample_rate|sample_mode|sample_version|filesize|\n",
      "+------------------+--------------------+--------------------+---------+----------+--------------+-------------+-----------+-----------+--------------+--------+\n",
      "|TRMMMYQ128F932D901|        Silent Night|    Faster Pussy cat|252.05506|   7032331|           128|60.1935770567|      22050|          1|             2|  960887|\n",
      "|TRMMMKD128F425225D|         Tanssi vaan|    Karkkiautomaatti|156.55138|   1514808|            64|30.2244270016|      22050|          1|             2|  242038|\n",
      "|TRMMMRX128F93187D9|   No One Could Ever|      Hudson Mohawke|138.97098|   6945353|           128|60.1935770567|      22050|          1|             2|  960887|\n",
      "|TRMMMCH128F425532C|       Si Vos Querés|         Yerba Brava|145.05751|   2168257|            64|30.2083516484|      22050|          1|             2|  240534|\n",
      "|TRMMMWA128F426B589|    Tangle Of Aspens|          Der Mystic|514.29832|   2264873|            64|60.3382103611|      22050|          1|             2|  480443|\n",
      "|TRMMMXN128F42936A5|\"Symphony No. 1 G...|    David Montgomery|816.53506|   3360982|           128|30.1360348456|      44100|          0|             1|  481070|\n",
      "|TRMMMLR128F1494097|    We Have Got Love|  Sasha / Turbulence|212.37506|    552626|            64|60.3542857143|      22050|          1|             2|  480686|\n",
      "|TRMMMBB12903CB7D21|   2 Da Beat Ch'yall|          Kris Kross|221.20444|   6435649|           128|30.1360348456|      44100|          0|             1|  481070|\n",
      "|TRMMMHY12903CB53F1|             Goodbye|        Joseph Locke|139.17995|   8376489|           128|60.2459472422|      22050|          1|             2|  961723|\n",
      "|TRMMMML128F4280EE9|Mama_ mama can't ...|The Sun Harbor's ...|104.48934|   1043208|           206|30.0408163265|      44100|          1|             1|  777413|\n",
      "+------------------+--------------------+--------------------+---------+----------+--------------+-------------+-----------+-----------+--------------+--------+\n",
      "only showing top 10 rows\n",
      "\n",
      "Number of rows in Audio_Statistics: 992865\n"
     ]
    }
   ],
   "source": [
    "Audio_Statistics = (\n",
    "    spark.read.format(\"com.databricks.spark.csv\")\n",
    "    .option(\"header\", \"true\")\n",
    "    .option(\"inferSchema\", \"true\")\n",
    "    .load(\"hdfs:///data/msd/audio/statistics/sample_properties.csv.gz\")\n",
    ")\n",
    "Audio_Statistics.show(10)\n",
    "Audio_Statistics.schema\n",
    "\n",
    "# Count the number of rows\n",
    "count = Audio_Statistics.count()\n",
    "\n",
    "print(f\"Number of rows in Audio_Statistics: {count}\")"
   ]
  },
  {
   "cell_type": "code",
   "execution_count": 24,
   "metadata": {},
   "outputs": [
    {
     "name": "stdout",
     "output_type": "stream",
     "text": [
      "Unique songs in 'Main_Summary' is 992865.\n"
     ]
    }
   ],
   "source": [
    "# Calculate the number of unique songs\n",
    "num_track_unique_audio_statistics = Audio_Statistics.select(F.col('track_id')).distinct().count()\n",
    "\n",
    "# Print the conclusion\n",
    "print(f\"Unique songs in 'Main_Summary' is {num_track_unique_audio_statistics}.\")"
   ]
  },
  {
   "cell_type": "code",
   "execution_count": 25,
   "metadata": {},
   "outputs": [
    {
     "name": "stdout",
     "output_type": "stream",
     "text": [
      "11625230  93001840  /data/msd/genre/msd-MAGD-genreAssignment.tsv\r\n",
      "8820054   70560432  /data/msd/genre/msd-MASD-styleAssignment.tsv\r\n",
      "11140605  89124840  /data/msd/genre/msd-topMAGD-genreAssignment.tsv\r\n"
     ]
    }
   ],
   "source": [
    "! hdfs dfs -du /data/msd/genre/"
   ]
  },
  {
   "cell_type": "markdown",
   "metadata": {},
   "source": [
    "# Genre Count"
   ]
  },
  {
   "cell_type": "markdown",
   "metadata": {},
   "source": [
    "## Genre Assignment Count"
   ]
  },
  {
   "cell_type": "code",
   "execution_count": 26,
   "metadata": {},
   "outputs": [
    {
     "name": "stdout",
     "output_type": "stream",
     "text": [
      "422714\r\n"
     ]
    }
   ],
   "source": [
    "!hdfs dfs -cat /data/msd/genre/msd-MAGD-genreAssignment.tsv* | wc -l"
   ]
  },
  {
   "cell_type": "code",
   "execution_count": 55,
   "metadata": {},
   "outputs": [
    {
     "name": "stdout",
     "output_type": "stream",
     "text": [
      "+------------------+--------------+\n",
      "|               _c0|           _c1|\n",
      "+------------------+--------------+\n",
      "|TRAAAAK128F9318786|      Pop_Rock|\n",
      "|TRAAAAV128F421A322|      Pop_Rock|\n",
      "|TRAAAAW128F429D538|           Rap|\n",
      "|TRAAABD128F429CF47|      Pop_Rock|\n",
      "|TRAAACV128F423E09E|      Pop_Rock|\n",
      "|TRAAADT12903CCC339|Easy_Listening|\n",
      "|TRAAAED128E0783FAB|         Vocal|\n",
      "|TRAAAEF128F4273421|      Pop_Rock|\n",
      "|TRAAAEM128F93347B9|    Electronic|\n",
      "|TRAAAFD128F92F423A|      Pop_Rock|\n",
      "|TRAAAFP128F931B4E3|           Rap|\n",
      "|TRAAAGR128F425B14B|      Pop_Rock|\n",
      "|TRAAAGW12903CC1049|         Blues|\n",
      "|TRAAAHD128F42635A5|      Pop_Rock|\n",
      "|TRAAAHE12903C9669C|      Pop_Rock|\n",
      "|TRAAAHJ128F931194C|      Pop_Rock|\n",
      "|TRAAAHZ128E0799171|           Rap|\n",
      "|TRAAAIR128F1480971|           RnB|\n",
      "|TRAAAJG128F9308A25|          Folk|\n",
      "|TRAAAMO128F1481E7F|     Religious|\n",
      "+------------------+--------------+\n",
      "only showing top 20 rows\n",
      "\n",
      "Unique songs in 'Genre_Assignment' is 422714.\n"
     ]
    }
   ],
   "source": [
    "Genre_Assignment = (\n",
    "    spark.read\n",
    "    .option(\"header\", \"false\")\n",
    "    .option(\"inferSchema\", \"true\")\n",
    "    .option(\"delimiter\", \"\\t\")\n",
    "    .csv(\"hdfs:///data/msd/genre/msd-MAGD-genreAssignment.tsv\")\n",
    ")\n",
    "\n",
    "Genre_Assignment.show()\n",
    "\n",
    "# Calculate the number of unique songs\n",
    "num_song_unique_Genre_Assignment = Genre_Assignment.select(F.col('_c0')).distinct().count()\n",
    "\n",
    "# Print the conclusion\n",
    "print(f\"Unique songs in 'Genre_Assignment' is {num_song_unique_Genre_Assignment}.\")"
   ]
  },
  {
   "cell_type": "markdown",
   "metadata": {},
   "source": [
    "## Style Assignment Count"
   ]
  },
  {
   "cell_type": "code",
   "execution_count": 27,
   "metadata": {},
   "outputs": [
    {
     "name": "stdout",
     "output_type": "stream",
     "text": [
      "273936\r\n"
     ]
    }
   ],
   "source": [
    "!hdfs dfs -cat /data/msd/genre/msd-MASD-styleAssignment.tsv*| wc -l"
   ]
  },
  {
   "cell_type": "code",
   "execution_count": 53,
   "metadata": {},
   "outputs": [
    {
     "name": "stdout",
     "output_type": "stream",
     "text": [
      "+------------------+--------------------+\n",
      "|               _c0|                 _c1|\n",
      "+------------------+--------------------+\n",
      "|TRAAAAK128F9318786|   Metal_Alternative|\n",
      "|TRAAAAV128F421A322|                Punk|\n",
      "|TRAAAAW128F429D538|         Hip_Hop_Rap|\n",
      "|TRAAACV128F423E09E|Rock_Neo_Psychedelia|\n",
      "|TRAAAEF128F4273421|           Pop_Indie|\n",
      "|TRAAAFP128F931B4E3|         Hip_Hop_Rap|\n",
      "|TRAAAGR128F425B14B|    Pop_Contemporary|\n",
      "|TRAAAHD128F42635A5|           Rock_Hard|\n",
      "|TRAAAHJ128F931194C|           Pop_Indie|\n",
      "|TRAAAHZ128E0799171|         Hip_Hop_Rap|\n",
      "|TRAAAIR128F1480971|    Pop_Contemporary|\n",
      "|TRAAAJG128F9308A25| Country_Traditional|\n",
      "|TRAAAMO128F1481E7F|              Gospel|\n",
      "|TRAAAMQ128F1460CD3|         Hip_Hop_Rap|\n",
      "|TRAAANK128F428B515|Rock_Neo_Psychedelia|\n",
      "|TRAAARJ128F9320760|    Pop_Contemporary|\n",
      "|TRAAAVO128F93133D4|Rock_Neo_Psychedelia|\n",
      "|TRAAAZU128F4226F7A|    Rock_Alternative|\n",
      "|TRAABAH128F423B788|           Pop_Indie|\n",
      "|TRAABBY128F930C3B5|Rock_Neo_Psychedelia|\n",
      "+------------------+--------------------+\n",
      "only showing top 20 rows\n",
      "\n",
      "Unique songs in 'Style_Assignment' is 273936.\n"
     ]
    }
   ],
   "source": [
    "Style_Assignment = (\n",
    "    spark.read\n",
    "    .option(\"header\", \"false\")\n",
    "    .option(\"inferSchema\", \"true\")\n",
    "    .option(\"delimiter\", \"\\t\")\n",
    "    .csv(\"hdfs:///data/msd/genre/msd-MASD-styleAssignment.tsv\")\n",
    ")\n",
    "\n",
    "Style_Assignment.show()\n",
    "\n",
    "# Calculate the number of unique songs\n",
    "num_song_unique_Style_Assignment = Style_Assignment.select(F.col('_c0')).distinct().count()\n",
    "\n",
    "# Print the conclusion\n",
    "print(f\"Unique songs in 'Style_Assignment' is {num_song_unique_Style_Assignment}.\")"
   ]
  },
  {
   "cell_type": "markdown",
   "metadata": {},
   "source": [
    "## TopMAGD-genreAssignment Count"
   ]
  },
  {
   "cell_type": "code",
   "execution_count": 28,
   "metadata": {},
   "outputs": [
    {
     "name": "stdout",
     "output_type": "stream",
     "text": [
      "406427\r\n"
     ]
    }
   ],
   "source": [
    "!hdfs dfs -cat /data/msd/genre/msd-topMAGD-genreAssignment.tsv*| wc -l"
   ]
  },
  {
   "cell_type": "code",
   "execution_count": 56,
   "metadata": {},
   "outputs": [
    {
     "name": "stdout",
     "output_type": "stream",
     "text": [
      "+------------------+----------+\n",
      "|               _c0|       _c1|\n",
      "+------------------+----------+\n",
      "|TRAAAAK128F9318786|  Pop_Rock|\n",
      "|TRAAAAV128F421A322|  Pop_Rock|\n",
      "|TRAAAAW128F429D538|       Rap|\n",
      "|TRAAABD128F429CF47|  Pop_Rock|\n",
      "|TRAAACV128F423E09E|  Pop_Rock|\n",
      "|TRAAAED128E0783FAB|     Vocal|\n",
      "|TRAAAEF128F4273421|  Pop_Rock|\n",
      "|TRAAAEM128F93347B9|Electronic|\n",
      "|TRAAAFD128F92F423A|  Pop_Rock|\n",
      "|TRAAAFP128F931B4E3|       Rap|\n",
      "|TRAAAGR128F425B14B|  Pop_Rock|\n",
      "|TRAAAGW12903CC1049|     Blues|\n",
      "|TRAAAHD128F42635A5|  Pop_Rock|\n",
      "|TRAAAHE12903C9669C|  Pop_Rock|\n",
      "|TRAAAHJ128F931194C|  Pop_Rock|\n",
      "|TRAAAHZ128E0799171|       Rap|\n",
      "|TRAAAIR128F1480971|       RnB|\n",
      "|TRAAAJG128F9308A25|      Folk|\n",
      "|TRAAAMQ128F1460CD3|       Rap|\n",
      "|TRAAANK128F428B515|  Pop_Rock|\n",
      "+------------------+----------+\n",
      "only showing top 20 rows\n",
      "\n",
      "Unique songs in 'Top_Genre_Assignment' is 406427.\n"
     ]
    }
   ],
   "source": [
    "Top_Genre_Assignment = (\n",
    "    spark.read\n",
    "    .option(\"header\", \"false\")\n",
    "    .option(\"inferSchema\", \"true\")\n",
    "    .option(\"delimiter\", \"\\t\")\n",
    "    .csv(\"hdfs:///data/msd/genre/msd-topMAGD-genreAssignment.tsv\")\n",
    ")\n",
    "\n",
    "Top_Genre_Assignment.show()\n",
    "\n",
    "# Calculate the number of unique songs\n",
    "num_song_unique_Top_Genre_Assignment = Top_Genre_Assignment.select(F.col('_c0')).distinct().count()\n",
    "\n",
    "# Print the conclusion\n",
    "print(f\"Unique songs in 'Top_Genre_Assignment' is {num_song_unique_Top_Genre_Assignment}.\")"
   ]
  },
  {
   "cell_type": "code",
   "execution_count": 29,
   "metadata": {},
   "outputs": [
    {
     "name": "stdout",
     "output_type": "stream",
     "text": [
      "58658141   469265128  /data/msd/main/summary/analysis.csv.gz\r\n",
      "124211304  993690432  /data/msd/main/summary/metadata.csv.gz\r\n"
     ]
    }
   ],
   "source": [
    "! hdfs dfs -du /data/msd/main/summary"
   ]
  },
  {
   "cell_type": "markdown",
   "metadata": {},
   "source": [
    "# main summary count"
   ]
  },
  {
   "cell_type": "code",
   "execution_count": 30,
   "metadata": {},
   "outputs": [
    {
     "name": "stdout",
     "output_type": "stream",
     "text": [
      "+----------------+-----------------+-------------------+-------------------+------------------+---------------+--------------------+----------------+--------------------+--------------------+---------------+-----+----------------+-------------------+--------------------+------------------+------------------+------------------+--------------------+----------------+\n",
      "|analyzer_version|artist_7digitalid| artist_familiarity|  artist_hotttnesss|         artist_id|artist_latitude|     artist_location|artist_longitude|         artist_mbid|         artist_name|artist_playmeid|genre|idx_artist_terms|idx_similar_artists|             release|release_7digitalid|   song_hotttnesss|           song_id|               title|track_7digitalid|\n",
      "+----------------+-----------------+-------------------+-------------------+------------------+---------------+--------------------+----------------+--------------------+--------------------+---------------+-----+----------------+-------------------+--------------------+------------------+------------------+------------------+--------------------+----------------+\n",
      "|            null|             4069| 0.6498221002008776| 0.3940318927141434|ARYZTJS1187B98C555|           null|                null|            null|357ff05d-848a-44c...|    Faster Pussy cat|          44895| null|               0|                  0|Monster Ballads X...|            633681|0.5428987432910862|SOQMMHC12AB0180CB8|        Silent Night|         7032331|\n",
      "|            null|           113480| 0.4396039666767154| 0.3569921077564064|ARMVN3U1187FB3A1EB|           null|                null|            null|8d7ef530-a6fd-4f8...|    Karkkiautomaatti|             -1| null|               0|                  0|         Karkuteillä|            145266|0.2998774882739778|SOVFVAK12A8C1350D9|         Tanssi vaan|         1514808|\n",
      "|            null|            63531| 0.6436805720579895| 0.4375038365946544|ARGEKB01187FB50750|        55.8578|   Glasgow, Scotland|        -4.24251|3d403d44-36ce-465...|      Hudson Mohawke|             -1| null|               0|                  0|              Butter|            625706|0.6178709693948196|SOGTUKN12AB017F4F1|   No One Could Ever|         6945353|\n",
      "|            null|            65051|0.44850115965646636|0.37234906851712235|ARNWYLR1187B9B2F9C|           null|                null|            null|12be7648-7094-495...|         Yerba Brava|          34000| null|               0|                  0|             De Culo|            199368|              null|SOBNYVR12A8C13558C|       Si Vos Querés|         2168257|\n",
      "|            null|           158279|                0.0|                0.0|AREQDTE1269FB37231|           null|                null|            null|                null|          Der Mystic|             -1| null|               0|                  0|Rene Ablaze Prese...|            209038|              null|SOHSBXH12A8C13B0DF|    Tangle Of Aspens|         2264873|\n",
      "|            null|           219281|  0.361286979627774|0.10962584705877759|AR2NS5Y1187FB5879D|           null|                null|            null|d087b377-bab7-46c...|    David Montgomery|             -1| null|               0|                  0|Berwald: Symphoni...|            299244|              null|SOZVAPQ12A8C13B63C|\"Symphony No. 1 G...|         3360982|\n",
      "|            null|             3736| 0.6929227305760355|  0.453731585998959|ARO41T51187FB397AB|           null| Mexico City, Mexico|            null|d2461c0a-5575-442...|  Sasha / Turbulence|           1396| null|               0|                  0|Strictly The Best...|             52968|              null|SOQVRHI12A6D4FB2D7|    We Have Got Love|          552626|\n",
      "|            null|            49941| 0.5881561876748532|0.40109242517712895|AR3Z9WY1187FB4CDC2|           null|                null|            null|bf61e8ff-7621-465...|          Kris Kross|           9594| null|               0|                  0|             Da Bomb|            580432|              null|SOEYRFT12AB018936C|   2 Da Beat Ch'yall|         6435649|\n",
      "|            null|            15202| 0.4084654634687691|0.28590119604546194|ARA04401187B991E6E|       54.99241|Londonderry, Nort...|        -7.31923|1a9bf859-1dc2-495...|        Joseph Locke|          61524| null|               0|                  0|           Danny Boy|            756677|              null|SOPMIYT12A6D4F851E|             Goodbye|         8376489|\n",
      "|            null|            76721|0.41994127477041937| 0.2491372295395512|ARCVMYS12454A51E6E|           null|                null|            null|                null|The Sun Harbor's ...|          50151| null|               0|                  0|March to cadence ...|             95069|              null|SOJCFMH12A8C13B0C2|Mama_ mama can't ...|         1043208|\n",
      "+----------------+-----------------+-------------------+-------------------+------------------+---------------+--------------------+----------------+--------------------+--------------------+---------------+-----+----------------+-------------------+--------------------+------------------+------------------+------------------+--------------------+----------------+\n",
      "only showing top 10 rows\n",
      "\n",
      "Number of rows in Main_Summary: 2000000\n"
     ]
    }
   ],
   "source": [
    " Main_Summary = (\n",
    "    spark.read.format(\"com.databricks.spark.csv\")\n",
    "    .option(\"header\", \"true\")\n",
    "    .option(\"inferSchema\", \"true\")\n",
    "    .load(\"hdfs:///data/msd/main/summary/*.csv.gz\")\n",
    ")\n",
    "Main_Summary.show(10)\n",
    "\n",
    "# Count the number of rows\n",
    "count = Main_Summary.count()\n",
    "\n",
    "print(f\"Number of rows in Main_Summary: {count}\")"
   ]
  },
  {
   "cell_type": "code",
   "execution_count": 31,
   "metadata": {},
   "outputs": [
    {
     "name": "stdout",
     "output_type": "stream",
     "text": [
      "Unique songs in 'Main_Summary' is 998964.\n"
     ]
    }
   ],
   "source": [
    "# Calculate the number of unique songs\n",
    "num_song_unique_main_summary = Main_Summary.select(F.col('song_id')).distinct().count()\n",
    "\n",
    "# Print the conclusion\n",
    "print(f\"Unique songs in 'Main_Summary' is {num_song_unique_main_summary}.\")"
   ]
  },
  {
   "cell_type": "code",
   "execution_count": 42,
   "metadata": {},
   "outputs": [
    {
     "name": "stdout",
     "output_type": "stream",
     "text": [
      "2.0 M    16.2 M  /data/msd/tasteprofile/mismatches\r\n",
      "488.4 M  3.8 G   /data/msd/tasteprofile/triplets.tsv\r\n"
     ]
    }
   ],
   "source": [
    "! hdfs dfs -du -h /data/msd/tasteprofile"
   ]
  },
  {
   "cell_type": "markdown",
   "metadata": {},
   "source": [
    "# Taste Profile Count"
   ]
  },
  {
   "cell_type": "markdown",
   "metadata": {},
   "source": [
    "## Triplets Count"
   ]
  },
  {
   "cell_type": "code",
   "execution_count": 33,
   "metadata": {},
   "outputs": [
    {
     "name": "stdout",
     "output_type": "stream",
     "text": [
      "48373586\r\n"
     ]
    }
   ],
   "source": [
    "!hdfs dfs -cat /data/msd/tasteprofile/triplets.tsv/* | gunzip | wc -l"
   ]
  },
  {
   "cell_type": "code",
   "execution_count": 34,
   "metadata": {},
   "outputs": [],
   "source": [
    "schema_routes = StructType([\n",
    "    StructField(\"user_id\", StringType(), True),\n",
    "    StructField(\"song_id\", StringType(), True),\n",
    "    StructField(\"play_count\", StringType(), True)])"
   ]
  },
  {
   "cell_type": "code",
   "execution_count": 35,
   "metadata": {},
   "outputs": [
    {
     "name": "stdout",
     "output_type": "stream",
     "text": [
      "+--------------------+------------------+----------+\n",
      "|             user_id|           song_id|play_count|\n",
      "+--------------------+------------------+----------+\n",
      "|f1bfc2a4597a3642f...|SOQEFDN12AB017C52B|         1|\n",
      "|f1bfc2a4597a3642f...|SOQOIUJ12A6701DAA7|         2|\n",
      "|f1bfc2a4597a3642f...|SOQOKKD12A6701F92E|         4|\n",
      "|f1bfc2a4597a3642f...|SOSDVHO12AB01882C7|         1|\n",
      "|f1bfc2a4597a3642f...|SOSKICX12A6701F932|         1|\n",
      "|f1bfc2a4597a3642f...|SOSNUPV12A8C13939B|         1|\n",
      "|f1bfc2a4597a3642f...|SOSVMII12A6701F92D|         1|\n",
      "|f1bfc2a4597a3642f...|SOTUNHI12B0B80AFE2|         1|\n",
      "|f1bfc2a4597a3642f...|SOTXLTZ12AB017C535|         1|\n",
      "|f1bfc2a4597a3642f...|SOTZDDX12A6701F935|         1|\n",
      "|f1bfc2a4597a3642f...|SOTZTVF12A58A79B9F|         1|\n",
      "|f1bfc2a4597a3642f...|SOUGTZZ12A8C13B8CC|         1|\n",
      "|f1bfc2a4597a3642f...|SOVDLVW12A6701F92F|         1|\n",
      "|f1bfc2a4597a3642f...|SOVKHBC12AF72A5DE7|         1|\n",
      "|f1bfc2a4597a3642f...|SOVKJMM12AF72AAF3C|         1|\n",
      "|f1bfc2a4597a3642f...|SOVMWUC12A8C13750B|         1|\n",
      "|f1bfc2a4597a3642f...|SOVQPUM12A6D4F8F18|         1|\n",
      "|f1bfc2a4597a3642f...|SOVVTJV12AB017B20E|         1|\n",
      "|f1bfc2a4597a3642f...|SOXREWC12A6D4FAD3C|         1|\n",
      "|f1bfc2a4597a3642f...|SOXTVVG12A6D4F8F16|         1|\n",
      "+--------------------+------------------+----------+\n",
      "only showing top 20 rows\n",
      "\n"
     ]
    }
   ],
   "source": [
    "taste_profile = (\n",
    "    spark.read\n",
    "    .option(\"header\", \"false\")\n",
    "    .option(\"inferSchema\", \"false\")\n",
    "    .schema(schema_routes)\n",
    "    .option(\"delimiter\", \"\\t\")\n",
    "    .csv(\"hdfs:///data/msd/tasteprofile/triplets.tsv\")\n",
    ")\n",
    "\n",
    "taste_profile.show()"
   ]
  },
  {
   "cell_type": "code",
   "execution_count": 43,
   "metadata": {},
   "outputs": [
    {
     "name": "stdout",
     "output_type": "stream",
     "text": [
      "rawcount 'triplets.tsv' is 48373586\n"
     ]
    }
   ],
   "source": [
    "rawcount = taste_profile.count()\n",
    "\n",
    "\n",
    "print(f\"rawcount 'triplets.tsv' is {rawcount}\")\n"
   ]
  },
  {
   "cell_type": "code",
   "execution_count": 44,
   "metadata": {},
   "outputs": [
    {
     "name": "stdout",
     "output_type": "stream",
     "text": [
      "Unique songs in 'triplets.tsv' is 384546.\n"
     ]
    }
   ],
   "source": [
    "# Calculate the number of unique songs\n",
    "raw_num_song_unique = taste_profile.select(F.col('song_id')).distinct().count()\n",
    "\n",
    "# Print the conclusion\n",
    "print(f\"Unique songs in 'triplets.tsv' is {raw_num_song_unique}.\")\n"
   ]
  },
  {
   "cell_type": "markdown",
   "metadata": {},
   "source": [
    "## Mismatches row count"
   ]
  },
  {
   "cell_type": "code",
   "execution_count": 47,
   "metadata": {},
   "outputs": [
    {
     "name": "stdout",
     "output_type": "stream",
     "text": [
      "root\n",
      " |-- song_id: string (nullable = true)\n",
      " |-- track_id: string (nullable = true)\n",
      "\n"
     ]
    },
    {
     "data": {
      "text/html": [
       "<div>\n",
       "<style scoped>\n",
       "    .dataframe tbody tr th:only-of-type {\n",
       "        vertical-align: middle;\n",
       "    }\n",
       "\n",
       "    .dataframe tbody tr th {\n",
       "        vertical-align: top;\n",
       "    }\n",
       "\n",
       "    .dataframe thead th {\n",
       "        text-align: right;\n",
       "    }\n",
       "</style>\n",
       "<table border=\"1\" class=\"dataframe\">\n",
       "  <thead>\n",
       "    <tr style=\"text-align: right;\">\n",
       "      <th></th>\n",
       "      <th>song_id</th>\n",
       "      <th>track_id</th>\n",
       "    </tr>\n",
       "  </thead>\n",
       "  <tbody>\n",
       "    <tr>\n",
       "      <th>0</th>\n",
       "      <td>SOSHAHT12A8AE498DF</td>\n",
       "      <td>TRGHCMN128F42422EB</td>\n",
       "    </tr>\n",
       "    <tr>\n",
       "      <th>1</th>\n",
       "      <td>SOTVIGC12CF5F87EFA</td>\n",
       "      <td>TRGLNBL128F9324F09</td>\n",
       "    </tr>\n",
       "    <tr>\n",
       "      <th>2</th>\n",
       "      <td>SOMIVVH12A58A7A4F3</td>\n",
       "      <td>TRBAYLZ128F933841B</td>\n",
       "    </tr>\n",
       "    <tr>\n",
       "      <th>3</th>\n",
       "      <td>SOLPMEO12A8C136EC2</td>\n",
       "      <td>TRBWLFD128F4261A6A</td>\n",
       "    </tr>\n",
       "    <tr>\n",
       "      <th>4</th>\n",
       "      <td>SOCVMRY12A8AE486A6</td>\n",
       "      <td>TRGEDPP128F428AE71</td>\n",
       "    </tr>\n",
       "  </tbody>\n",
       "</table>\n",
       "</div>"
      ],
      "text/plain": [
       "              song_id            track_id\n",
       "0  SOSHAHT12A8AE498DF  TRGHCMN128F42422EB\n",
       "1  SOTVIGC12CF5F87EFA  TRGLNBL128F9324F09\n",
       "2  SOMIVVH12A58A7A4F3  TRBAYLZ128F933841B\n",
       "3  SOLPMEO12A8C136EC2  TRBWLFD128F4261A6A\n",
       "4  SOCVMRY12A8AE486A6  TRGEDPP128F428AE71"
      ]
     },
     "metadata": {},
     "output_type": "display_data"
    },
    {
     "name": "stdout",
     "output_type": "stream",
     "text": [
      "\n",
      "\n",
      "The mismatches table has 19094 rows.\n"
     ]
    }
   ],
   "source": [
    "sid_mismatches = spark.read.text(\"hdfs:///data/msd/tasteprofile/mismatches/sid_mismatches.txt\").repartition(partitions)\n",
    "sid_mismatches = (sid_mismatches\n",
    "                 .select(\n",
    "                     F.substring(F.col('value'), 9,18).alias('song_id'),\n",
    "                     F.substring(F.col('value'), 28,18).alias('track_id') ,\n",
    "                     ))\n",
    "\n",
    "\n",
    "sid_mismatches.printSchema()\n",
    "show_as_html(sid_mismatches, 5)\n",
    "\n",
    "print('\\n')\n",
    "print(f'The mismatches table has {sid_mismatches.count()} rows.')"
   ]
  },
  {
   "cell_type": "markdown",
   "metadata": {},
   "source": [
    "## Mismatches unique songs count"
   ]
  },
  {
   "cell_type": "code",
   "execution_count": 48,
   "metadata": {},
   "outputs": [
    {
     "name": "stdout",
     "output_type": "stream",
     "text": [
      "Unique songs in 'sid_mismatches' is 18913.\n"
     ]
    }
   ],
   "source": [
    "# Calculate the number of unique songs\n",
    "raw_num_song_unique = sid_mismatches.select(F.col('song_id')).distinct().count()\n",
    "\n",
    "# Print the conclusion\n",
    "print(f\"Unique songs in 'sid_mismatches' is {raw_num_song_unique}.\")"
   ]
  },
  {
   "cell_type": "code",
   "execution_count": 57,
   "metadata": {},
   "outputs": [
    {
     "data": {
      "text/html": [
       "<p><b>Spark</b></p><p>The spark session is <b><span style=\"color:red\">stopped</span></b>, confirm that <code>uwi14 (jupyter)</code> is under the completed applications section in the Spark UI.</p><ul><li><a href=\"http://mathmadslinux2p.canterbury.ac.nz:8080/\" target=\"_blank\">Spark UI</a></li></ul>"
      ],
      "text/plain": [
       "<IPython.core.display.HTML object>"
      ]
     },
     "metadata": {},
     "output_type": "display_data"
    }
   ],
   "source": [
    "# Run this cell before closing the notebook or kill your spark application by hand using the link in the Spark UI\n",
    "\n",
    "stop_spark()"
   ]
  },
  {
   "cell_type": "code",
   "execution_count": null,
   "metadata": {},
   "outputs": [],
   "source": []
  }
 ],
 "metadata": {
  "kernelspec": {
   "display_name": "Python 3",
   "language": "python",
   "name": "python3"
  },
  "language_info": {
   "codemirror_mode": {
    "name": "ipython",
    "version": 3
   },
   "file_extension": ".py",
   "mimetype": "text/x-python",
   "name": "python",
   "nbconvert_exporter": "python",
   "pygments_lexer": "ipython3",
   "version": "3.7.0"
  }
 },
 "nbformat": 4,
 "nbformat_minor": 2
}
